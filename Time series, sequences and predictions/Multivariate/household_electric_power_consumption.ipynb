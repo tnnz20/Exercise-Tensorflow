{
  "nbformat": 4,
  "nbformat_minor": 0,
  "metadata": {
    "colab": {
      "name": "household_electric_power_consumption.ipynb",
      "provenance": [],
      "collapsed_sections": [],
      "include_colab_link": true
    },
    "kernelspec": {
      "name": "python3",
      "display_name": "Python 3"
    },
    "language_info": {
      "name": "python"
    },
    "accelerator": "GPU",
    "gpuClass": "standard"
  },
  "cells": [
    {
      "cell_type": "markdown",
      "metadata": {
        "id": "view-in-github",
        "colab_type": "text"
      },
      "source": [
        "<a href=\"https://colab.research.google.com/github/tnnz20/Exercise-Tensorflow/blob/master/Time%20series%2C%20sequences%20and%20predictions/Multivariate/household_electric_power_consumption.ipynb\" target=\"_parent\"><img src=\"https://colab.research.google.com/assets/colab-badge.svg\" alt=\"Open In Colab\"/></a>"
      ]
    },
    {
      "cell_type": "markdown",
      "source": [
        "# Time series, sequences and predictions\n",
        "Multivariate - Household Electric Power Consumption"
      ],
      "metadata": {
        "id": "idLxb_FZcBAG"
      }
    },
    {
      "cell_type": "markdown",
      "source": [
        "## Importing Module"
      ],
      "metadata": {
        "id": "gFVZLIYkcH40"
      }
    },
    {
      "cell_type": "code",
      "execution_count": 1,
      "metadata": {
        "colab": {
          "base_uri": "https://localhost:8080/"
        },
        "id": "fCrVDo6ibTOl",
        "outputId": "91b4e1aa-e565-4909-9d13-7e6e08f86b12"
      },
      "outputs": [
        {
          "output_type": "stream",
          "name": "stdout",
          "text": [
            "Tensorflow version: 2.8.2\n"
          ]
        }
      ],
      "source": [
        "import os\n",
        "import csv\n",
        "import urllib\n",
        "import zipfile\n",
        "import pandas as pd\n",
        "import numpy as np\n",
        "import tensorflow as tf\n",
        "\n",
        "from matplotlib import pyplot as plt\n",
        "\n",
        "%matplotlib inline\n",
        "plt.style.use('seaborn')\n",
        "print(f'Tensorflow version: {tf.__version__}')"
      ]
    },
    {
      "cell_type": "markdown",
      "source": [
        "## Problem\n",
        "\n",
        "- Build and train a neural network to predict time indexed variables of the multivariate house hold electric power consumption time series dataset\n",
        "- Using a window of past 24 observations of the 7 variables, the model should be trained to predict the next 24 observations of the 7 variables."
      ],
      "metadata": {
        "id": "89HPw6zbcc60"
      }
    },
    {
      "cell_type": "markdown",
      "source": [
        "### Preparing data"
      ],
      "metadata": {
        "id": "qlqIT9-9clVu"
      }
    },
    {
      "cell_type": "code",
      "source": [
        "data_url = 'https://storage.googleapis.com/download.tensorflow.org/data/certificate/household_power.zip'\n",
        "name_file = 'household_power.zip'\n",
        "\n",
        "target_path = 'data/'\n",
        "\n",
        "if os.path.isfile(name_file):\n",
        "    print(f'{name_file} Already exist')\n",
        "else:\n",
        "  # Download file\n",
        "  urllib.request.urlretrieve(data_url, name_file)\n",
        "\n",
        "  # Extract file\n",
        "  zip_ref = zipfile.ZipFile(name_file, 'r')\n",
        "  zip_ref.extractall(target_path)\n",
        "  zip_ref.close()\n",
        "  print(f'{name_file} Download and Extract finished')"
      ],
      "metadata": {
        "colab": {
          "base_uri": "https://localhost:8080/"
        },
        "id": "TSAvbXZScRo9",
        "outputId": "7c33bd99-181c-4ff8-d1a2-8f90592b9409"
      },
      "execution_count": 2,
      "outputs": [
        {
          "output_type": "stream",
          "name": "stdout",
          "text": [
            "household_power.zip Already exist\n"
          ]
        }
      ]
    },
    {
      "cell_type": "markdown",
      "source": [
        "#### Explore data"
      ],
      "metadata": {
        "id": "YHzG4dSycs_M"
      }
    },
    {
      "cell_type": "markdown",
      "source": [
        "Load data using pandas"
      ],
      "metadata": {
        "id": "jdCIHgBnc1rV"
      }
    },
    {
      "cell_type": "code",
      "source": [
        "df_name = 'data/household_power_consumption.csv'\n",
        "df = pd.read_csv(df_name, infer_datetime_format=True, index_col='datetime')"
      ],
      "metadata": {
        "id": "9sBKTg9KcqNN"
      },
      "execution_count": 3,
      "outputs": []
    },
    {
      "cell_type": "code",
      "source": [
        "print(f'Total Data : {df.shape[0]}')\n",
        "print(f'Total Columns : {df.shape[1]}')"
      ],
      "metadata": {
        "colab": {
          "base_uri": "https://localhost:8080/"
        },
        "id": "KJ3SVDMJcyjE",
        "outputId": "cccb1d66-0862-4812-d64c-f6906cdbc2b1"
      },
      "execution_count": 4,
      "outputs": [
        {
          "output_type": "stream",
          "name": "stdout",
          "text": [
            "Total Data : 86400\n",
            "Total Columns : 7\n"
          ]
        }
      ]
    },
    {
      "cell_type": "markdown",
      "source": [
        "First 10 from data"
      ],
      "metadata": {
        "id": "qzD6QixZdO1u"
      }
    },
    {
      "cell_type": "code",
      "source": [
        "df.head(10)"
      ],
      "metadata": {
        "colab": {
          "base_uri": "https://localhost:8080/",
          "height": 394
        },
        "id": "ugRcCTHudSho",
        "outputId": "14ba8798-6004-4dcb-aca1-70cf949499ef"
      },
      "execution_count": 5,
      "outputs": [
        {
          "output_type": "execute_result",
          "data": {
            "text/plain": [
              "                     Global_active_power  Global_reactive_power  Voltage  \\\n",
              "datetime                                                                   \n",
              "2006-12-16 17:24:00                4.216                  0.418   234.84   \n",
              "2006-12-16 17:25:00                5.360                  0.436   233.63   \n",
              "2006-12-16 17:26:00                5.374                  0.498   233.29   \n",
              "2006-12-16 17:27:00                5.388                  0.502   233.74   \n",
              "2006-12-16 17:28:00                3.666                  0.528   235.68   \n",
              "2006-12-16 17:29:00                3.520                  0.522   235.02   \n",
              "2006-12-16 17:30:00                3.702                  0.520   235.09   \n",
              "2006-12-16 17:31:00                3.700                  0.520   235.22   \n",
              "2006-12-16 17:32:00                3.668                  0.510   233.99   \n",
              "2006-12-16 17:33:00                3.662                  0.510   233.86   \n",
              "\n",
              "                     Global_intensity  Sub_metering_1  Sub_metering_2  \\\n",
              "datetime                                                                \n",
              "2006-12-16 17:24:00              18.4             0.0             1.0   \n",
              "2006-12-16 17:25:00              23.0             0.0             1.0   \n",
              "2006-12-16 17:26:00              23.0             0.0             2.0   \n",
              "2006-12-16 17:27:00              23.0             0.0             1.0   \n",
              "2006-12-16 17:28:00              15.8             0.0             1.0   \n",
              "2006-12-16 17:29:00              15.0             0.0             2.0   \n",
              "2006-12-16 17:30:00              15.8             0.0             1.0   \n",
              "2006-12-16 17:31:00              15.8             0.0             1.0   \n",
              "2006-12-16 17:32:00              15.8             0.0             1.0   \n",
              "2006-12-16 17:33:00              15.8             0.0             2.0   \n",
              "\n",
              "                     Sub_metering_3  \n",
              "datetime                             \n",
              "2006-12-16 17:24:00            17.0  \n",
              "2006-12-16 17:25:00            16.0  \n",
              "2006-12-16 17:26:00            17.0  \n",
              "2006-12-16 17:27:00            17.0  \n",
              "2006-12-16 17:28:00            17.0  \n",
              "2006-12-16 17:29:00            17.0  \n",
              "2006-12-16 17:30:00            17.0  \n",
              "2006-12-16 17:31:00            17.0  \n",
              "2006-12-16 17:32:00            17.0  \n",
              "2006-12-16 17:33:00            16.0  "
            ],
            "text/html": [
              "\n",
              "  <div id=\"df-68467e03-f5a3-4b9f-80c5-d08f5b5f83ba\">\n",
              "    <div class=\"colab-df-container\">\n",
              "      <div>\n",
              "<style scoped>\n",
              "    .dataframe tbody tr th:only-of-type {\n",
              "        vertical-align: middle;\n",
              "    }\n",
              "\n",
              "    .dataframe tbody tr th {\n",
              "        vertical-align: top;\n",
              "    }\n",
              "\n",
              "    .dataframe thead th {\n",
              "        text-align: right;\n",
              "    }\n",
              "</style>\n",
              "<table border=\"1\" class=\"dataframe\">\n",
              "  <thead>\n",
              "    <tr style=\"text-align: right;\">\n",
              "      <th></th>\n",
              "      <th>Global_active_power</th>\n",
              "      <th>Global_reactive_power</th>\n",
              "      <th>Voltage</th>\n",
              "      <th>Global_intensity</th>\n",
              "      <th>Sub_metering_1</th>\n",
              "      <th>Sub_metering_2</th>\n",
              "      <th>Sub_metering_3</th>\n",
              "    </tr>\n",
              "    <tr>\n",
              "      <th>datetime</th>\n",
              "      <th></th>\n",
              "      <th></th>\n",
              "      <th></th>\n",
              "      <th></th>\n",
              "      <th></th>\n",
              "      <th></th>\n",
              "      <th></th>\n",
              "    </tr>\n",
              "  </thead>\n",
              "  <tbody>\n",
              "    <tr>\n",
              "      <th>2006-12-16 17:24:00</th>\n",
              "      <td>4.216</td>\n",
              "      <td>0.418</td>\n",
              "      <td>234.84</td>\n",
              "      <td>18.4</td>\n",
              "      <td>0.0</td>\n",
              "      <td>1.0</td>\n",
              "      <td>17.0</td>\n",
              "    </tr>\n",
              "    <tr>\n",
              "      <th>2006-12-16 17:25:00</th>\n",
              "      <td>5.360</td>\n",
              "      <td>0.436</td>\n",
              "      <td>233.63</td>\n",
              "      <td>23.0</td>\n",
              "      <td>0.0</td>\n",
              "      <td>1.0</td>\n",
              "      <td>16.0</td>\n",
              "    </tr>\n",
              "    <tr>\n",
              "      <th>2006-12-16 17:26:00</th>\n",
              "      <td>5.374</td>\n",
              "      <td>0.498</td>\n",
              "      <td>233.29</td>\n",
              "      <td>23.0</td>\n",
              "      <td>0.0</td>\n",
              "      <td>2.0</td>\n",
              "      <td>17.0</td>\n",
              "    </tr>\n",
              "    <tr>\n",
              "      <th>2006-12-16 17:27:00</th>\n",
              "      <td>5.388</td>\n",
              "      <td>0.502</td>\n",
              "      <td>233.74</td>\n",
              "      <td>23.0</td>\n",
              "      <td>0.0</td>\n",
              "      <td>1.0</td>\n",
              "      <td>17.0</td>\n",
              "    </tr>\n",
              "    <tr>\n",
              "      <th>2006-12-16 17:28:00</th>\n",
              "      <td>3.666</td>\n",
              "      <td>0.528</td>\n",
              "      <td>235.68</td>\n",
              "      <td>15.8</td>\n",
              "      <td>0.0</td>\n",
              "      <td>1.0</td>\n",
              "      <td>17.0</td>\n",
              "    </tr>\n",
              "    <tr>\n",
              "      <th>2006-12-16 17:29:00</th>\n",
              "      <td>3.520</td>\n",
              "      <td>0.522</td>\n",
              "      <td>235.02</td>\n",
              "      <td>15.0</td>\n",
              "      <td>0.0</td>\n",
              "      <td>2.0</td>\n",
              "      <td>17.0</td>\n",
              "    </tr>\n",
              "    <tr>\n",
              "      <th>2006-12-16 17:30:00</th>\n",
              "      <td>3.702</td>\n",
              "      <td>0.520</td>\n",
              "      <td>235.09</td>\n",
              "      <td>15.8</td>\n",
              "      <td>0.0</td>\n",
              "      <td>1.0</td>\n",
              "      <td>17.0</td>\n",
              "    </tr>\n",
              "    <tr>\n",
              "      <th>2006-12-16 17:31:00</th>\n",
              "      <td>3.700</td>\n",
              "      <td>0.520</td>\n",
              "      <td>235.22</td>\n",
              "      <td>15.8</td>\n",
              "      <td>0.0</td>\n",
              "      <td>1.0</td>\n",
              "      <td>17.0</td>\n",
              "    </tr>\n",
              "    <tr>\n",
              "      <th>2006-12-16 17:32:00</th>\n",
              "      <td>3.668</td>\n",
              "      <td>0.510</td>\n",
              "      <td>233.99</td>\n",
              "      <td>15.8</td>\n",
              "      <td>0.0</td>\n",
              "      <td>1.0</td>\n",
              "      <td>17.0</td>\n",
              "    </tr>\n",
              "    <tr>\n",
              "      <th>2006-12-16 17:33:00</th>\n",
              "      <td>3.662</td>\n",
              "      <td>0.510</td>\n",
              "      <td>233.86</td>\n",
              "      <td>15.8</td>\n",
              "      <td>0.0</td>\n",
              "      <td>2.0</td>\n",
              "      <td>16.0</td>\n",
              "    </tr>\n",
              "  </tbody>\n",
              "</table>\n",
              "</div>\n",
              "      <button class=\"colab-df-convert\" onclick=\"convertToInteractive('df-68467e03-f5a3-4b9f-80c5-d08f5b5f83ba')\"\n",
              "              title=\"Convert this dataframe to an interactive table.\"\n",
              "              style=\"display:none;\">\n",
              "        \n",
              "  <svg xmlns=\"http://www.w3.org/2000/svg\" height=\"24px\"viewBox=\"0 0 24 24\"\n",
              "       width=\"24px\">\n",
              "    <path d=\"M0 0h24v24H0V0z\" fill=\"none\"/>\n",
              "    <path d=\"M18.56 5.44l.94 2.06.94-2.06 2.06-.94-2.06-.94-.94-2.06-.94 2.06-2.06.94zm-11 1L8.5 8.5l.94-2.06 2.06-.94-2.06-.94L8.5 2.5l-.94 2.06-2.06.94zm10 10l.94 2.06.94-2.06 2.06-.94-2.06-.94-.94-2.06-.94 2.06-2.06.94z\"/><path d=\"M17.41 7.96l-1.37-1.37c-.4-.4-.92-.59-1.43-.59-.52 0-1.04.2-1.43.59L10.3 9.45l-7.72 7.72c-.78.78-.78 2.05 0 2.83L4 21.41c.39.39.9.59 1.41.59.51 0 1.02-.2 1.41-.59l7.78-7.78 2.81-2.81c.8-.78.8-2.07 0-2.86zM5.41 20L4 18.59l7.72-7.72 1.47 1.35L5.41 20z\"/>\n",
              "  </svg>\n",
              "      </button>\n",
              "      \n",
              "  <style>\n",
              "    .colab-df-container {\n",
              "      display:flex;\n",
              "      flex-wrap:wrap;\n",
              "      gap: 12px;\n",
              "    }\n",
              "\n",
              "    .colab-df-convert {\n",
              "      background-color: #E8F0FE;\n",
              "      border: none;\n",
              "      border-radius: 50%;\n",
              "      cursor: pointer;\n",
              "      display: none;\n",
              "      fill: #1967D2;\n",
              "      height: 32px;\n",
              "      padding: 0 0 0 0;\n",
              "      width: 32px;\n",
              "    }\n",
              "\n",
              "    .colab-df-convert:hover {\n",
              "      background-color: #E2EBFA;\n",
              "      box-shadow: 0px 1px 2px rgba(60, 64, 67, 0.3), 0px 1px 3px 1px rgba(60, 64, 67, 0.15);\n",
              "      fill: #174EA6;\n",
              "    }\n",
              "\n",
              "    [theme=dark] .colab-df-convert {\n",
              "      background-color: #3B4455;\n",
              "      fill: #D2E3FC;\n",
              "    }\n",
              "\n",
              "    [theme=dark] .colab-df-convert:hover {\n",
              "      background-color: #434B5C;\n",
              "      box-shadow: 0px 1px 3px 1px rgba(0, 0, 0, 0.15);\n",
              "      filter: drop-shadow(0px 1px 2px rgba(0, 0, 0, 0.3));\n",
              "      fill: #FFFFFF;\n",
              "    }\n",
              "  </style>\n",
              "\n",
              "      <script>\n",
              "        const buttonEl =\n",
              "          document.querySelector('#df-68467e03-f5a3-4b9f-80c5-d08f5b5f83ba button.colab-df-convert');\n",
              "        buttonEl.style.display =\n",
              "          google.colab.kernel.accessAllowed ? 'block' : 'none';\n",
              "\n",
              "        async function convertToInteractive(key) {\n",
              "          const element = document.querySelector('#df-68467e03-f5a3-4b9f-80c5-d08f5b5f83ba');\n",
              "          const dataTable =\n",
              "            await google.colab.kernel.invokeFunction('convertToInteractive',\n",
              "                                                     [key], {});\n",
              "          if (!dataTable) return;\n",
              "\n",
              "          const docLinkHtml = 'Like what you see? Visit the ' +\n",
              "            '<a target=\"_blank\" href=https://colab.research.google.com/notebooks/data_table.ipynb>data table notebook</a>'\n",
              "            + ' to learn more about interactive tables.';\n",
              "          element.innerHTML = '';\n",
              "          dataTable['output_type'] = 'display_data';\n",
              "          await google.colab.output.renderOutput(dataTable, element);\n",
              "          const docLink = document.createElement('div');\n",
              "          docLink.innerHTML = docLinkHtml;\n",
              "          element.appendChild(docLink);\n",
              "        }\n",
              "      </script>\n",
              "    </div>\n",
              "  </div>\n",
              "  "
            ]
          },
          "metadata": {},
          "execution_count": 5
        }
      ]
    },
    {
      "cell_type": "markdown",
      "source": [
        "More information about data"
      ],
      "metadata": {
        "id": "OZSZGCJydLJZ"
      }
    },
    {
      "cell_type": "code",
      "source": [
        "df.info()"
      ],
      "metadata": {
        "colab": {
          "base_uri": "https://localhost:8080/"
        },
        "id": "hsROgx-UdCgV",
        "outputId": "e3084771-223e-4e7c-e2d7-9d9184b34f33"
      },
      "execution_count": 6,
      "outputs": [
        {
          "output_type": "stream",
          "name": "stdout",
          "text": [
            "<class 'pandas.core.frame.DataFrame'>\n",
            "Index: 86400 entries, 2006-12-16 17:24:00 to 2007-02-14 17:23:00\n",
            "Data columns (total 7 columns):\n",
            " #   Column                 Non-Null Count  Dtype  \n",
            "---  ------                 --------------  -----  \n",
            " 0   Global_active_power    86400 non-null  float64\n",
            " 1   Global_reactive_power  86400 non-null  float64\n",
            " 2   Voltage                86400 non-null  float64\n",
            " 3   Global_intensity       86400 non-null  float64\n",
            " 4   Sub_metering_1         86400 non-null  float64\n",
            " 5   Sub_metering_2         86400 non-null  float64\n",
            " 6   Sub_metering_3         86400 non-null  float64\n",
            "dtypes: float64(7)\n",
            "memory usage: 5.3+ MB\n"
          ]
        }
      ]
    },
    {
      "cell_type": "markdown",
      "source": [
        "### Preparing Model"
      ],
      "metadata": {
        "id": "8CUgtD5yePhg"
      }
    },
    {
      "cell_type": "markdown",
      "source": [
        "Usefull Function"
      ],
      "metadata": {
        "id": "tBxs-o3qM_J_"
      }
    },
    {
      "cell_type": "code",
      "source": [
        "def normalize_series(data, min, max):\n",
        "  \"\"\"\n",
        "  This function normalizes the dataset using min max scaling.\n",
        "  \"\"\"\n",
        "  data = data - min\n",
        "  data = data / max\n",
        "  return data"
      ],
      "metadata": {
        "id": "wAahz_IZM9zh"
      },
      "execution_count": 7,
      "outputs": []
    },
    {
      "cell_type": "code",
      "source": [
        "def windowed_dataset(series, batch_size, n_past=24, n_future=24, shift=1):\n",
        "  \"\"\"\n",
        "  This function is used to map the time series dataset into windows of\n",
        "  features and respective targets, to prepare it for training and\n",
        "  validation. First element of the first window will be the first element of\n",
        "  the dataset. Consecutive windows are constructed by shifting\n",
        "  the starting position of the first window forward, one at a time (indicated\n",
        "  by shift=1). For a window of n_past number of observations of all the time\n",
        "  indexed variables in the dataset, the target for the window\n",
        "  is the next n_future number of observations of these variables, after the\n",
        "  end of the window.\n",
        "  \"\"\"\n",
        "  ds = tf.data.Dataset.from_tensor_slices(series)\n",
        "  ds = ds.window(size=n_past + n_future, shift=shift, drop_remainder=True)\n",
        "  ds = ds.flat_map(lambda w: w.batch(n_past + n_future))\n",
        "  ds = ds.map(lambda w: (w[:n_past], w[n_past:]))\n",
        "  return ds.batch(batch_size).prefetch(1)"
      ],
      "metadata": {
        "id": "5R1JJBx0NQzI"
      },
      "execution_count": 8,
      "outputs": []
    },
    {
      "cell_type": "markdown",
      "source": [
        "Set Paramters"
      ],
      "metadata": {
        "id": "_yT9lezzeVcY"
      }
    },
    {
      "cell_type": "code",
      "source": [
        "N_FEATURES = len(df.columns)\n",
        "SPLIT_TIME = int(len(df.values) * 0.5)\n",
        "BATCH_SIZE = 32\n",
        "N_PAST = 24\n",
        "N_FUTURE = 24\n",
        "SHIFT = 1"
      ],
      "metadata": {
        "id": "A5ck4jy8ePB5"
      },
      "execution_count": 9,
      "outputs": []
    },
    {
      "cell_type": "markdown",
      "source": [
        "Normalize data"
      ],
      "metadata": {
        "id": "cZ4BfmPFOS3L"
      }
    },
    {
      "cell_type": "code",
      "source": [
        "data = df.values\n",
        "data = normalize_series(data, data.min(axis=0), data.max(axis=0))"
      ],
      "metadata": {
        "id": "AMIiSWCpOQfe"
      },
      "execution_count": 10,
      "outputs": []
    },
    {
      "cell_type": "markdown",
      "source": [
        "Fixed Partition"
      ],
      "metadata": {
        "id": "AFtW-nZJetbJ"
      }
    },
    {
      "cell_type": "code",
      "source": [
        "x_train = data[:SPLIT_TIME]\n",
        "x_valid = data[SPLIT_TIME:]"
      ],
      "metadata": {
        "id": "qnQ9pMcsewI4"
      },
      "execution_count": 11,
      "outputs": []
    },
    {
      "cell_type": "markdown",
      "source": [
        "Windowing datasets"
      ],
      "metadata": {
        "id": "QWL5st9xOpZT"
      }
    },
    {
      "cell_type": "code",
      "source": [
        "train_set = windowed_dataset(series=x_train, batch_size=BATCH_SIZE,\n",
        "                             n_past=N_PAST, n_future=N_FUTURE,\n",
        "                             shift=SHIFT)\n",
        "\n",
        "valid_set = windowed_dataset(series=x_valid, batch_size=BATCH_SIZE,\n",
        "                             n_past=N_PAST, n_future=N_FUTURE,\n",
        "                             shift=SHIFT)"
      ],
      "metadata": {
        "id": "dvlekWylfEEp"
      },
      "execution_count": 12,
      "outputs": []
    },
    {
      "cell_type": "markdown",
      "source": [
        "#### Build Model"
      ],
      "metadata": {
        "id": "izqkUpf6fbnT"
      }
    },
    {
      "cell_type": "code",
      "source": [
        "def build_model(N_PAST, N_FEATURES, lr=1e-8):\n",
        "  \"\"\"\n",
        "  Creates a model forecasting time, series\n",
        "  \n",
        "  Args:\n",
        "      WINDOW_SIZE (int): the number of time steps to include in the feature\n",
        "      lr (float): the number of learning rate optimizer\n",
        "\n",
        "  Returns:\n",
        "      model (tf.keras Model): the time, series model\n",
        "  \"\"\"\n",
        "\n",
        "  tf.keras.backend.clear_session()\n",
        "  tf.random.set_seed(42)\n",
        "\n",
        "  # Define Params  \n",
        "  adam = tf.keras.optimizers.Adam(learning_rate=lr) # Optimizer\n",
        "  losses = tf.keras.losses.Huber()\n",
        "\n",
        "  # Define Activation Function\n",
        "  relu = tf.nn.relu\n",
        "\n",
        "  # Define model sequential\n",
        "  model = tf.keras.Sequential()\n",
        "\n",
        "  # Define Convolutional 1D\n",
        "  model.add(tf.keras.layers.Conv1D(filters=60, kernel_size=5,\n",
        "                      strides=1, padding=\"causal\",\n",
        "                      activation=relu,\n",
        "                      input_shape=[N_PAST, N_FEATURES]))\n",
        "  \n",
        "  # Define layers LSTM\n",
        "  model.add(tf.keras.layers.Bidirectional(tf.keras.layers.LSTM(64, return_sequences=True)))\n",
        "  model.add(tf.keras.layers.Bidirectional(tf.keras.layers.LSTM(64, return_sequences=True)))\n",
        "\n",
        "  # Define Fully Connected layers\n",
        "  model.add(tf.keras.layers.Dense(32, activation=relu))\n",
        "  model.add(tf.keras.layers.Dense(10, activation=relu))\n",
        "  model.add(tf.keras.layers.Dense(N_FEATURES))\n",
        "\n",
        "\n",
        "  # Compile model\n",
        "  model.compile(optimizer=adam, loss=losses, metrics=['mae'])\n",
        "\n",
        "  # Check Summary Model\n",
        "  model.summary()\n",
        "\n",
        "  print('\\nModel Succesfully Create')\n",
        "  \n",
        "  return model"
      ],
      "metadata": {
        "id": "og9Ab77zf2Kj"
      },
      "execution_count": 13,
      "outputs": []
    },
    {
      "cell_type": "markdown",
      "source": [
        "#### Define Callbacks"
      ],
      "metadata": {
        "id": "vE2r4g6Pfzpu"
      }
    },
    {
      "cell_type": "code",
      "source": [
        "model_checkpoint = tf.keras.callbacks.ModelCheckpoint(\"model.h5\", \n",
        "                                                      monitor=\"val_mae\",\n",
        "                                                      save_best_only=True,\n",
        "                                                      verbose=1)\n",
        "\n",
        "early_stopping = tf.keras.callbacks.EarlyStopping(monitor=\"val_mae\", \n",
        "                                                  patience=15, \n",
        "                                                  mode =\"min\", \n",
        "                                                  verbose=2, \n",
        "                                                  restore_best_weights=True)\n",
        "\n",
        "lr_schedule = tf.keras.callbacks.LearningRateScheduler(lambda epoch: 1e-8 * 10**(epoch / 20))"
      ],
      "metadata": {
        "id": "0g1i6rHUfNzQ"
      },
      "execution_count": 14,
      "outputs": []
    },
    {
      "cell_type": "markdown",
      "source": [
        "### Train Model"
      ],
      "metadata": {
        "id": "oc9s1Iwohk34"
      }
    },
    {
      "cell_type": "markdown",
      "source": [
        "#### Train model with learning rate schedule"
      ],
      "metadata": {
        "id": "WQvL6zkthtah"
      }
    },
    {
      "cell_type": "code",
      "source": [
        "model = build_model(N_PAST, N_FEATURES)"
      ],
      "metadata": {
        "colab": {
          "base_uri": "https://localhost:8080/"
        },
        "id": "a_dv1FWDhjQW",
        "outputId": "d93a0fa0-4810-4ba3-b8c7-ae2b71416807"
      },
      "execution_count": 15,
      "outputs": [
        {
          "output_type": "stream",
          "name": "stdout",
          "text": [
            "Model: \"sequential\"\n",
            "_________________________________________________________________\n",
            " Layer (type)                Output Shape              Param #   \n",
            "=================================================================\n",
            " conv1d (Conv1D)             (None, 24, 60)            2160      \n",
            "                                                                 \n",
            " bidirectional (Bidirectiona  (None, 24, 128)          64000     \n",
            " l)                                                              \n",
            "                                                                 \n",
            " bidirectional_1 (Bidirectio  (None, 24, 128)          98816     \n",
            " nal)                                                            \n",
            "                                                                 \n",
            " dense (Dense)               (None, 24, 32)            4128      \n",
            "                                                                 \n",
            " dense_1 (Dense)             (None, 24, 10)            330       \n",
            "                                                                 \n",
            " dense_2 (Dense)             (None, 24, 7)             77        \n",
            "                                                                 \n",
            "=================================================================\n",
            "Total params: 169,511\n",
            "Trainable params: 169,511\n",
            "Non-trainable params: 0\n",
            "_________________________________________________________________\n",
            "\n",
            "Model Succesfully Create\n"
          ]
        }
      ]
    },
    {
      "cell_type": "code",
      "source": [
        "history_lr = model.fit(train_set ,epochs=100, validation_data=valid_set, callbacks=[lr_schedule])"
      ],
      "metadata": {
        "colab": {
          "base_uri": "https://localhost:8080/"
        },
        "id": "qg06l5GaiDTw",
        "outputId": "6fcf439e-2e37-48dd-c3a0-61e3957f5285"
      },
      "execution_count": 16,
      "outputs": [
        {
          "output_type": "stream",
          "name": "stdout",
          "text": [
            "Epoch 1/100\n",
            "1349/1349 [==============================] - 61s 33ms/step - loss: 0.0319 - mae: 0.1380 - val_loss: 0.0321 - val_mae: 0.1349 - lr: 1.0000e-08\n",
            "Epoch 2/100\n",
            "1349/1349 [==============================] - 35s 26ms/step - loss: 0.0318 - mae: 0.1379 - val_loss: 0.0320 - val_mae: 0.1348 - lr: 1.1220e-08\n",
            "Epoch 3/100\n",
            "1349/1349 [==============================] - 33s 24ms/step - loss: 0.0318 - mae: 0.1379 - val_loss: 0.0320 - val_mae: 0.1347 - lr: 1.2589e-08\n",
            "Epoch 4/100\n",
            "1349/1349 [==============================] - 33s 25ms/step - loss: 0.0317 - mae: 0.1378 - val_loss: 0.0319 - val_mae: 0.1346 - lr: 1.4125e-08\n",
            "Epoch 5/100\n",
            "1349/1349 [==============================] - 32s 23ms/step - loss: 0.0316 - mae: 0.1377 - val_loss: 0.0318 - val_mae: 0.1345 - lr: 1.5849e-08\n",
            "Epoch 6/100\n",
            "1349/1349 [==============================] - 33s 24ms/step - loss: 0.0316 - mae: 0.1376 - val_loss: 0.0317 - val_mae: 0.1344 - lr: 1.7783e-08\n",
            "Epoch 7/100\n",
            "1349/1349 [==============================] - 32s 24ms/step - loss: 0.0315 - mae: 0.1375 - val_loss: 0.0316 - val_mae: 0.1343 - lr: 1.9953e-08\n",
            "Epoch 8/100\n",
            "1349/1349 [==============================] - 33s 25ms/step - loss: 0.0314 - mae: 0.1373 - val_loss: 0.0315 - val_mae: 0.1341 - lr: 2.2387e-08\n",
            "Epoch 9/100\n",
            "1349/1349 [==============================] - 32s 24ms/step - loss: 0.0312 - mae: 0.1372 - val_loss: 0.0314 - val_mae: 0.1339 - lr: 2.5119e-08\n",
            "Epoch 10/100\n",
            "1349/1349 [==============================] - 34s 25ms/step - loss: 0.0311 - mae: 0.1370 - val_loss: 0.0312 - val_mae: 0.1338 - lr: 2.8184e-08\n",
            "Epoch 11/100\n",
            "1349/1349 [==============================] - 34s 25ms/step - loss: 0.0310 - mae: 0.1368 - val_loss: 0.0311 - val_mae: 0.1336 - lr: 3.1623e-08\n",
            "Epoch 12/100\n",
            "1349/1349 [==============================] - 33s 24ms/step - loss: 0.0308 - mae: 0.1366 - val_loss: 0.0309 - val_mae: 0.1334 - lr: 3.5481e-08\n",
            "Epoch 13/100\n",
            "1349/1349 [==============================] - 33s 24ms/step - loss: 0.0306 - mae: 0.1364 - val_loss: 0.0307 - val_mae: 0.1331 - lr: 3.9811e-08\n",
            "Epoch 14/100\n",
            "1349/1349 [==============================] - 34s 25ms/step - loss: 0.0304 - mae: 0.1362 - val_loss: 0.0305 - val_mae: 0.1329 - lr: 4.4668e-08\n",
            "Epoch 15/100\n",
            "1349/1349 [==============================] - 33s 24ms/step - loss: 0.0302 - mae: 0.1360 - val_loss: 0.0302 - val_mae: 0.1326 - lr: 5.0119e-08\n",
            "Epoch 16/100\n",
            "1349/1349 [==============================] - 33s 25ms/step - loss: 0.0300 - mae: 0.1357 - val_loss: 0.0299 - val_mae: 0.1323 - lr: 5.6234e-08\n",
            "Epoch 17/100\n",
            "1349/1349 [==============================] - 34s 25ms/step - loss: 0.0297 - mae: 0.1354 - val_loss: 0.0296 - val_mae: 0.1320 - lr: 6.3096e-08\n",
            "Epoch 18/100\n",
            "1349/1349 [==============================] - 33s 24ms/step - loss: 0.0294 - mae: 0.1351 - val_loss: 0.0293 - val_mae: 0.1317 - lr: 7.0795e-08\n",
            "Epoch 19/100\n",
            "1349/1349 [==============================] - 35s 26ms/step - loss: 0.0290 - mae: 0.1348 - val_loss: 0.0289 - val_mae: 0.1313 - lr: 7.9433e-08\n",
            "Epoch 20/100\n",
            "1349/1349 [==============================] - 33s 24ms/step - loss: 0.0286 - mae: 0.1344 - val_loss: 0.0285 - val_mae: 0.1309 - lr: 8.9125e-08\n",
            "Epoch 21/100\n",
            "1349/1349 [==============================] - 33s 25ms/step - loss: 0.0282 - mae: 0.1340 - val_loss: 0.0280 - val_mae: 0.1304 - lr: 1.0000e-07\n",
            "Epoch 22/100\n",
            "1349/1349 [==============================] - 32s 24ms/step - loss: 0.0277 - mae: 0.1335 - val_loss: 0.0274 - val_mae: 0.1298 - lr: 1.1220e-07\n",
            "Epoch 23/100\n",
            "1349/1349 [==============================] - 33s 25ms/step - loss: 0.0271 - mae: 0.1329 - val_loss: 0.0268 - val_mae: 0.1290 - lr: 1.2589e-07\n",
            "Epoch 24/100\n",
            "1349/1349 [==============================] - 32s 24ms/step - loss: 0.0265 - mae: 0.1322 - val_loss: 0.0261 - val_mae: 0.1281 - lr: 1.4125e-07\n",
            "Epoch 25/100\n",
            "1349/1349 [==============================] - 33s 25ms/step - loss: 0.0258 - mae: 0.1312 - val_loss: 0.0254 - val_mae: 0.1269 - lr: 1.5849e-07\n",
            "Epoch 26/100\n",
            "1349/1349 [==============================] - 32s 24ms/step - loss: 0.0251 - mae: 0.1300 - val_loss: 0.0245 - val_mae: 0.1256 - lr: 1.7783e-07\n",
            "Epoch 27/100\n",
            "1349/1349 [==============================] - 33s 25ms/step - loss: 0.0242 - mae: 0.1287 - val_loss: 0.0236 - val_mae: 0.1241 - lr: 1.9953e-07\n",
            "Epoch 28/100\n",
            "1349/1349 [==============================] - 32s 24ms/step - loss: 0.0232 - mae: 0.1272 - val_loss: 0.0226 - val_mae: 0.1225 - lr: 2.2387e-07\n",
            "Epoch 29/100\n",
            "1349/1349 [==============================] - 32s 24ms/step - loss: 0.0222 - mae: 0.1256 - val_loss: 0.0214 - val_mae: 0.1208 - lr: 2.5119e-07\n",
            "Epoch 30/100\n",
            "1349/1349 [==============================] - 33s 25ms/step - loss: 0.0210 - mae: 0.1239 - val_loss: 0.0202 - val_mae: 0.1191 - lr: 2.8184e-07\n",
            "Epoch 31/100\n",
            "1349/1349 [==============================] - 32s 24ms/step - loss: 0.0198 - mae: 0.1221 - val_loss: 0.0189 - val_mae: 0.1175 - lr: 3.1623e-07\n",
            "Epoch 32/100\n",
            "1349/1349 [==============================] - 33s 25ms/step - loss: 0.0186 - mae: 0.1205 - val_loss: 0.0176 - val_mae: 0.1158 - lr: 3.5481e-07\n",
            "Epoch 33/100\n",
            "1349/1349 [==============================] - 32s 24ms/step - loss: 0.0173 - mae: 0.1187 - val_loss: 0.0164 - val_mae: 0.1141 - lr: 3.9811e-07\n",
            "Epoch 34/100\n",
            "1349/1349 [==============================] - 33s 24ms/step - loss: 0.0162 - mae: 0.1168 - val_loss: 0.0152 - val_mae: 0.1120 - lr: 4.4668e-07\n",
            "Epoch 35/100\n",
            "1349/1349 [==============================] - 33s 24ms/step - loss: 0.0151 - mae: 0.1143 - val_loss: 0.0142 - val_mae: 0.1094 - lr: 5.0119e-07\n",
            "Epoch 36/100\n",
            "1349/1349 [==============================] - 33s 24ms/step - loss: 0.0142 - mae: 0.1110 - val_loss: 0.0134 - val_mae: 0.1061 - lr: 5.6234e-07\n",
            "Epoch 37/100\n",
            "1349/1349 [==============================] - 33s 24ms/step - loss: 0.0134 - mae: 0.1073 - val_loss: 0.0127 - val_mae: 0.1025 - lr: 6.3096e-07\n",
            "Epoch 38/100\n",
            "1349/1349 [==============================] - 33s 24ms/step - loss: 0.0128 - mae: 0.1032 - val_loss: 0.0121 - val_mae: 0.0988 - lr: 7.0795e-07\n",
            "Epoch 39/100\n",
            "1349/1349 [==============================] - 32s 24ms/step - loss: 0.0122 - mae: 0.0993 - val_loss: 0.0117 - val_mae: 0.0953 - lr: 7.9433e-07\n",
            "Epoch 40/100\n",
            "1349/1349 [==============================] - 33s 24ms/step - loss: 0.0118 - mae: 0.0957 - val_loss: 0.0113 - val_mae: 0.0921 - lr: 8.9125e-07\n",
            "Epoch 41/100\n",
            "1349/1349 [==============================] - 32s 24ms/step - loss: 0.0115 - mae: 0.0924 - val_loss: 0.0110 - val_mae: 0.0891 - lr: 1.0000e-06\n",
            "Epoch 42/100\n",
            "1349/1349 [==============================] - 32s 24ms/step - loss: 0.0112 - mae: 0.0894 - val_loss: 0.0107 - val_mae: 0.0865 - lr: 1.1220e-06\n",
            "Epoch 43/100\n",
            "1349/1349 [==============================] - 32s 24ms/step - loss: 0.0110 - mae: 0.0870 - val_loss: 0.0105 - val_mae: 0.0843 - lr: 1.2589e-06\n",
            "Epoch 44/100\n",
            "1349/1349 [==============================] - 32s 24ms/step - loss: 0.0108 - mae: 0.0851 - val_loss: 0.0104 - val_mae: 0.0827 - lr: 1.4125e-06\n",
            "Epoch 45/100\n",
            "1349/1349 [==============================] - 32s 24ms/step - loss: 0.0106 - mae: 0.0838 - val_loss: 0.0102 - val_mae: 0.0816 - lr: 1.5849e-06\n",
            "Epoch 46/100\n",
            "1349/1349 [==============================] - 32s 23ms/step - loss: 0.0105 - mae: 0.0828 - val_loss: 0.0101 - val_mae: 0.0808 - lr: 1.7783e-06\n",
            "Epoch 47/100\n",
            "1349/1349 [==============================] - 32s 24ms/step - loss: 0.0103 - mae: 0.0821 - val_loss: 0.0099 - val_mae: 0.0801 - lr: 1.9953e-06\n",
            "Epoch 48/100\n",
            "1349/1349 [==============================] - 32s 24ms/step - loss: 0.0102 - mae: 0.0814 - val_loss: 0.0098 - val_mae: 0.0794 - lr: 2.2387e-06\n",
            "Epoch 49/100\n",
            "1349/1349 [==============================] - 33s 25ms/step - loss: 0.0101 - mae: 0.0807 - val_loss: 0.0097 - val_mae: 0.0786 - lr: 2.5119e-06\n",
            "Epoch 50/100\n",
            "1349/1349 [==============================] - 32s 24ms/step - loss: 0.0099 - mae: 0.0798 - val_loss: 0.0095 - val_mae: 0.0777 - lr: 2.8184e-06\n",
            "Epoch 51/100\n",
            "1349/1349 [==============================] - 33s 24ms/step - loss: 0.0098 - mae: 0.0788 - val_loss: 0.0093 - val_mae: 0.0766 - lr: 3.1623e-06\n",
            "Epoch 52/100\n",
            "1349/1349 [==============================] - 32s 24ms/step - loss: 0.0096 - mae: 0.0778 - val_loss: 0.0092 - val_mae: 0.0756 - lr: 3.5481e-06\n",
            "Epoch 53/100\n",
            "1349/1349 [==============================] - 33s 24ms/step - loss: 0.0095 - mae: 0.0769 - val_loss: 0.0090 - val_mae: 0.0746 - lr: 3.9811e-06\n",
            "Epoch 54/100\n",
            "1349/1349 [==============================] - 32s 24ms/step - loss: 0.0093 - mae: 0.0760 - val_loss: 0.0088 - val_mae: 0.0739 - lr: 4.4668e-06\n",
            "Epoch 55/100\n",
            "1349/1349 [==============================] - 33s 24ms/step - loss: 0.0091 - mae: 0.0753 - val_loss: 0.0087 - val_mae: 0.0732 - lr: 5.0119e-06\n",
            "Epoch 56/100\n",
            "1349/1349 [==============================] - 32s 24ms/step - loss: 0.0090 - mae: 0.0746 - val_loss: 0.0086 - val_mae: 0.0724 - lr: 5.6234e-06\n",
            "Epoch 57/100\n",
            "1349/1349 [==============================] - 34s 25ms/step - loss: 0.0089 - mae: 0.0739 - val_loss: 0.0084 - val_mae: 0.0717 - lr: 6.3096e-06\n",
            "Epoch 58/100\n",
            "1349/1349 [==============================] - 32s 24ms/step - loss: 0.0087 - mae: 0.0731 - val_loss: 0.0083 - val_mae: 0.0710 - lr: 7.0795e-06\n",
            "Epoch 59/100\n",
            "1349/1349 [==============================] - 33s 24ms/step - loss: 0.0086 - mae: 0.0723 - val_loss: 0.0081 - val_mae: 0.0702 - lr: 7.9433e-06\n",
            "Epoch 60/100\n",
            "1349/1349 [==============================] - 32s 24ms/step - loss: 0.0084 - mae: 0.0714 - val_loss: 0.0080 - val_mae: 0.0693 - lr: 8.9125e-06\n",
            "Epoch 61/100\n",
            "1349/1349 [==============================] - 33s 24ms/step - loss: 0.0082 - mae: 0.0704 - val_loss: 0.0078 - val_mae: 0.0682 - lr: 1.0000e-05\n",
            "Epoch 62/100\n",
            "1349/1349 [==============================] - 33s 24ms/step - loss: 0.0081 - mae: 0.0693 - val_loss: 0.0077 - val_mae: 0.0670 - lr: 1.1220e-05\n",
            "Epoch 63/100\n",
            "1349/1349 [==============================] - 32s 24ms/step - loss: 0.0079 - mae: 0.0682 - val_loss: 0.0076 - val_mae: 0.0657 - lr: 1.2589e-05\n",
            "Epoch 64/100\n",
            "1349/1349 [==============================] - 33s 24ms/step - loss: 0.0077 - mae: 0.0672 - val_loss: 0.0074 - val_mae: 0.0645 - lr: 1.4125e-05\n",
            "Epoch 65/100\n",
            "1349/1349 [==============================] - 33s 24ms/step - loss: 0.0076 - mae: 0.0663 - val_loss: 0.0073 - val_mae: 0.0635 - lr: 1.5849e-05\n",
            "Epoch 66/100\n",
            "1349/1349 [==============================] - 33s 25ms/step - loss: 0.0075 - mae: 0.0655 - val_loss: 0.0072 - val_mae: 0.0627 - lr: 1.7783e-05\n",
            "Epoch 67/100\n",
            "1349/1349 [==============================] - 32s 24ms/step - loss: 0.0074 - mae: 0.0648 - val_loss: 0.0072 - val_mae: 0.0619 - lr: 1.9953e-05\n",
            "Epoch 68/100\n",
            "1349/1349 [==============================] - 33s 24ms/step - loss: 0.0074 - mae: 0.0641 - val_loss: 0.0071 - val_mae: 0.0612 - lr: 2.2387e-05\n",
            "Epoch 69/100\n",
            "1349/1349 [==============================] - 32s 24ms/step - loss: 0.0073 - mae: 0.0634 - val_loss: 0.0070 - val_mae: 0.0606 - lr: 2.5119e-05\n",
            "Epoch 70/100\n",
            "1349/1349 [==============================] - 33s 24ms/step - loss: 0.0072 - mae: 0.0628 - val_loss: 0.0070 - val_mae: 0.0599 - lr: 2.8184e-05\n",
            "Epoch 71/100\n",
            "1349/1349 [==============================] - 32s 24ms/step - loss: 0.0072 - mae: 0.0622 - val_loss: 0.0069 - val_mae: 0.0592 - lr: 3.1623e-05\n",
            "Epoch 72/100\n",
            "1349/1349 [==============================] - 32s 24ms/step - loss: 0.0071 - mae: 0.0616 - val_loss: 0.0068 - val_mae: 0.0587 - lr: 3.5481e-05\n",
            "Epoch 73/100\n",
            "1349/1349 [==============================] - 32s 23ms/step - loss: 0.0071 - mae: 0.0612 - val_loss: 0.0068 - val_mae: 0.0581 - lr: 3.9811e-05\n",
            "Epoch 74/100\n",
            "1349/1349 [==============================] - 32s 24ms/step - loss: 0.0070 - mae: 0.0607 - val_loss: 0.0067 - val_mae: 0.0577 - lr: 4.4668e-05\n",
            "Epoch 75/100\n",
            "1349/1349 [==============================] - 32s 24ms/step - loss: 0.0070 - mae: 0.0603 - val_loss: 0.0067 - val_mae: 0.0574 - lr: 5.0119e-05\n",
            "Epoch 76/100\n",
            "1349/1349 [==============================] - 32s 23ms/step - loss: 0.0069 - mae: 0.0599 - val_loss: 0.0066 - val_mae: 0.0572 - lr: 5.6234e-05\n",
            "Epoch 77/100\n",
            "1349/1349 [==============================] - 33s 24ms/step - loss: 0.0069 - mae: 0.0595 - val_loss: 0.0066 - val_mae: 0.0570 - lr: 6.3096e-05\n",
            "Epoch 78/100\n",
            "1349/1349 [==============================] - 32s 24ms/step - loss: 0.0068 - mae: 0.0591 - val_loss: 0.0066 - val_mae: 0.0567 - lr: 7.0795e-05\n",
            "Epoch 79/100\n",
            "1349/1349 [==============================] - 33s 24ms/step - loss: 0.0068 - mae: 0.0586 - val_loss: 0.0065 - val_mae: 0.0559 - lr: 7.9433e-05\n",
            "Epoch 80/100\n",
            "1349/1349 [==============================] - 32s 24ms/step - loss: 0.0068 - mae: 0.0582 - val_loss: 0.0065 - val_mae: 0.0555 - lr: 8.9125e-05\n",
            "Epoch 81/100\n",
            "1349/1349 [==============================] - 33s 24ms/step - loss: 0.0068 - mae: 0.0582 - val_loss: 0.0065 - val_mae: 0.0553 - lr: 1.0000e-04\n",
            "Epoch 82/100\n",
            "1349/1349 [==============================] - 32s 24ms/step - loss: 0.0067 - mae: 0.0579 - val_loss: 0.0065 - val_mae: 0.0552 - lr: 1.1220e-04\n",
            "Epoch 83/100\n",
            "1349/1349 [==============================] - 32s 24ms/step - loss: 0.0067 - mae: 0.0579 - val_loss: 0.0064 - val_mae: 0.0565 - lr: 1.2589e-04\n",
            "Epoch 84/100\n",
            "1349/1349 [==============================] - 33s 24ms/step - loss: 0.0068 - mae: 0.0584 - val_loss: 0.0065 - val_mae: 0.0586 - lr: 1.4125e-04\n",
            "Epoch 85/100\n",
            "1349/1349 [==============================] - 32s 23ms/step - loss: 0.0066 - mae: 0.0575 - val_loss: 0.0063 - val_mae: 0.0539 - lr: 1.5849e-04\n",
            "Epoch 86/100\n",
            "1349/1349 [==============================] - 33s 24ms/step - loss: 0.0066 - mae: 0.0575 - val_loss: 0.0065 - val_mae: 0.0550 - lr: 1.7783e-04\n",
            "Epoch 87/100\n",
            "1349/1349 [==============================] - 32s 24ms/step - loss: 0.0066 - mae: 0.0573 - val_loss: 0.0064 - val_mae: 0.0558 - lr: 1.9953e-04\n",
            "Epoch 88/100\n",
            "1349/1349 [==============================] - 33s 24ms/step - loss: 0.0067 - mae: 0.0578 - val_loss: 0.0064 - val_mae: 0.0545 - lr: 2.2387e-04\n",
            "Epoch 89/100\n",
            "1349/1349 [==============================] - 32s 24ms/step - loss: 0.0069 - mae: 0.0593 - val_loss: 0.0065 - val_mae: 0.0560 - lr: 2.5119e-04\n",
            "Epoch 90/100\n",
            "1349/1349 [==============================] - 33s 25ms/step - loss: 0.0067 - mae: 0.0573 - val_loss: 0.0073 - val_mae: 0.0622 - lr: 2.8184e-04\n",
            "Epoch 91/100\n",
            "1349/1349 [==============================] - 32s 24ms/step - loss: 0.0069 - mae: 0.0593 - val_loss: 0.0068 - val_mae: 0.0599 - lr: 3.1623e-04\n",
            "Epoch 92/100\n",
            "1349/1349 [==============================] - 33s 25ms/step - loss: 0.0068 - mae: 0.0590 - val_loss: 0.0064 - val_mae: 0.0552 - lr: 3.5481e-04\n",
            "Epoch 93/100\n",
            "1349/1349 [==============================] - 32s 24ms/step - loss: 0.0067 - mae: 0.0577 - val_loss: 0.0063 - val_mae: 0.0554 - lr: 3.9811e-04\n",
            "Epoch 94/100\n",
            "1349/1349 [==============================] - 33s 24ms/step - loss: 0.0066 - mae: 0.0573 - val_loss: 0.0070 - val_mae: 0.0620 - lr: 4.4668e-04\n",
            "Epoch 95/100\n",
            "1349/1349 [==============================] - 32s 24ms/step - loss: 0.0069 - mae: 0.0590 - val_loss: 0.0065 - val_mae: 0.0560 - lr: 5.0119e-04\n",
            "Epoch 96/100\n",
            "1349/1349 [==============================] - 33s 24ms/step - loss: 0.0068 - mae: 0.0583 - val_loss: 0.0063 - val_mae: 0.0542 - lr: 5.6234e-04\n",
            "Epoch 97/100\n",
            "1349/1349 [==============================] - 32s 24ms/step - loss: 0.0065 - mae: 0.0563 - val_loss: 0.0063 - val_mae: 0.0538 - lr: 6.3096e-04\n",
            "Epoch 98/100\n",
            "1349/1349 [==============================] - 32s 24ms/step - loss: 0.0066 - mae: 0.0568 - val_loss: 0.0063 - val_mae: 0.0544 - lr: 7.0795e-04\n",
            "Epoch 99/100\n",
            "1349/1349 [==============================] - 32s 24ms/step - loss: 0.0067 - mae: 0.0571 - val_loss: 0.0072 - val_mae: 0.0637 - lr: 7.9433e-04\n",
            "Epoch 100/100\n",
            "1349/1349 [==============================] - 32s 24ms/step - loss: 0.0085 - mae: 0.0680 - val_loss: 0.0068 - val_mae: 0.0586 - lr: 8.9125e-04\n"
          ]
        }
      ]
    },
    {
      "cell_type": "markdown",
      "source": [
        "Plot result of learning rate schedule"
      ],
      "metadata": {
        "id": "9dQ8fp7ViRP5"
      }
    },
    {
      "cell_type": "code",
      "source": [
        "# Define the learning rate array\n",
        "lrs = 1e-8 * (10 ** (np.arange(100) / 20))\n",
        "\n",
        "# Set the figure size\n",
        "plt.figure(figsize=(10, 6))\n",
        "\n",
        "# Set the grid\n",
        "plt.grid(True)\n",
        "\n",
        "# Plot the loss in log scale\n",
        "plt.semilogx(lrs, history_lr.history[\"loss\"])\n",
        "\n",
        "# Increase the tickmarks size\n",
        "plt.tick_params('both', length=10, width=1, which='both')\n",
        "\n",
        "# Set the plot boundaries\n",
        "plt.axis([1e-8, 1e-3, 0, .2])\n",
        "plt.show()"
      ],
      "metadata": {
        "colab": {
          "base_uri": "https://localhost:8080/",
          "height": 392
        },
        "id": "LUYW3w_2iHDh",
        "outputId": "d2bd6222-7314-4585-822b-99349a83a15a"
      },
      "execution_count": 17,
      "outputs": [
        {
          "output_type": "display_data",
          "data": {
            "text/plain": [
              "<Figure size 720x432 with 1 Axes>"
            ],
            "image/png": "[encoded data removed]"
          },
          "metadata": {}
        }
      ]
    },
    {
      "cell_type": "markdown",
      "source": [
        "#### Train model with learning rate 1e-4"
      ],
      "metadata": {
        "id": "Nna6ZCLwmMXu"
      }
    },
    {
      "cell_type": "code",
      "source": [
        "model = build_model(N_PAST, N_FEATURES, lr=6e-4)"
      ],
      "metadata": {
        "colab": {
          "base_uri": "https://localhost:8080/"
        },
        "id": "BqXHbWMfm12X",
        "outputId": "da4e0eb2-aa03-47ed-fdf8-445cd465677a"
      },
      "execution_count": 20,
      "outputs": [
        {
          "output_type": "stream",
          "name": "stdout",
          "text": [
            "Model: \"sequential\"\n",
            "_________________________________________________________________\n",
            " Layer (type)                Output Shape              Param #   \n",
            "=================================================================\n",
            " conv1d (Conv1D)             (None, 24, 60)            2160      \n",
            "                                                                 \n",
            " bidirectional (Bidirectiona  (None, 24, 128)          64000     \n",
            " l)                                                              \n",
            "                                                                 \n",
            " bidirectional_1 (Bidirectio  (None, 24, 128)          98816     \n",
            " nal)                                                            \n",
            "                                                                 \n",
            " dense (Dense)               (None, 24, 32)            4128      \n",
            "                                                                 \n",
            " dense_1 (Dense)             (None, 24, 10)            330       \n",
            "                                                                 \n",
            " dense_2 (Dense)             (None, 24, 7)             77        \n",
            "                                                                 \n",
            "=================================================================\n",
            "Total params: 169,511\n",
            "Trainable params: 169,511\n",
            "Non-trainable params: 0\n",
            "_________________________________________________________________\n",
            "\n",
            "Model Succesfully Create\n"
          ]
        }
      ]
    },
    {
      "cell_type": "code",
      "source": [
        "history = model.fit(train_set ,epochs=100, validation_data=valid_set, \n",
        "                    callbacks=[model_checkpoint, early_stopping])"
      ],
      "metadata": {
        "colab": {
          "base_uri": "https://localhost:8080/"
        },
        "id": "g1Dm93iqlXCT",
        "outputId": "e2121653-8f1f-4b43-d4ae-14da9819c04b"
      },
      "execution_count": 21,
      "outputs": [
        {
          "output_type": "stream",
          "name": "stdout",
          "text": [
            "Epoch 1/100\n",
            "   1347/Unknown - 35s 21ms/step - loss: 0.0103 - mae: 0.0822\n",
            "Epoch 1: val_mae improved from 0.09921 to 0.06768, saving model to model.h5\n",
            "1349/1349 [==============================] - 57s 37ms/step - loss: 0.0103 - mae: 0.0822 - val_loss: 0.0079 - val_mae: 0.0677\n",
            "Epoch 2/100\n",
            "1348/1349 [============================>.] - ETA: 0s - loss: 0.0082 - mae: 0.0697\n",
            "Epoch 2: val_mae improved from 0.06768 to 0.06408, saving model to model.h5\n",
            "1349/1349 [==============================] - 34s 25ms/step - loss: 0.0082 - mae: 0.0697 - val_loss: 0.0075 - val_mae: 0.0641\n",
            "Epoch 3/100\n",
            "1346/1349 [============================>.] - ETA: 0s - loss: 0.0076 - mae: 0.0650\n",
            "Epoch 3: val_mae improved from 0.06408 to 0.06254, saving model to model.h5\n",
            "1349/1349 [==============================] - 33s 25ms/step - loss: 0.0076 - mae: 0.0650 - val_loss: 0.0075 - val_mae: 0.0625\n",
            "Epoch 4/100\n",
            "1349/1349 [==============================] - ETA: 0s - loss: 0.0073 - mae: 0.0624\n",
            "Epoch 4: val_mae improved from 0.06254 to 0.05878, saving model to model.h5\n",
            "1349/1349 [==============================] - 33s 24ms/step - loss: 0.0073 - mae: 0.0624 - val_loss: 0.0070 - val_mae: 0.0588\n",
            "Epoch 5/100\n",
            "1347/1349 [============================>.] - ETA: 0s - loss: 0.0072 - mae: 0.0606\n",
            "Epoch 5: val_mae improved from 0.05878 to 0.05673, saving model to model.h5\n",
            "1349/1349 [==============================] - 33s 25ms/step - loss: 0.0072 - mae: 0.0606 - val_loss: 0.0068 - val_mae: 0.0567\n",
            "Epoch 6/100\n",
            "1348/1349 [============================>.] - ETA: 0s - loss: 0.0070 - mae: 0.0592\n",
            "Epoch 6: val_mae did not improve from 0.05673\n",
            "1349/1349 [==============================] - 32s 24ms/step - loss: 0.0070 - mae: 0.0592 - val_loss: 0.0069 - val_mae: 0.0572\n",
            "Epoch 7/100\n",
            "1348/1349 [============================>.] - ETA: 0s - loss: 0.0079 - mae: 0.0658\n",
            "Epoch 7: val_mae did not improve from 0.05673\n",
            "1349/1349 [==============================] - 33s 25ms/step - loss: 0.0079 - mae: 0.0657 - val_loss: 0.0069 - val_mae: 0.0601\n",
            "Epoch 8/100\n",
            "1349/1349 [==============================] - ETA: 0s - loss: 0.0070 - mae: 0.0602\n",
            "Epoch 8: val_mae did not improve from 0.05673\n",
            "1349/1349 [==============================] - 33s 24ms/step - loss: 0.0070 - mae: 0.0602 - val_loss: 0.0069 - val_mae: 0.0568\n",
            "Epoch 9/100\n",
            "1346/1349 [============================>.] - ETA: 0s - loss: 0.0068 - mae: 0.0576\n",
            "Epoch 9: val_mae improved from 0.05673 to 0.05657, saving model to model.h5\n",
            "1349/1349 [==============================] - 32s 24ms/step - loss: 0.0068 - mae: 0.0576 - val_loss: 0.0070 - val_mae: 0.0566\n",
            "Epoch 10/100\n",
            "1349/1349 [==============================] - ETA: 0s - loss: 0.0067 - mae: 0.0565\n",
            "Epoch 10: val_mae did not improve from 0.05657\n",
            "1349/1349 [==============================] - 32s 24ms/step - loss: 0.0067 - mae: 0.0565 - val_loss: 0.0066 - val_mae: 0.0568\n",
            "Epoch 11/100\n",
            "1346/1349 [============================>.] - ETA: 0s - loss: 0.0066 - mae: 0.0565\n",
            "Epoch 11: val_mae improved from 0.05657 to 0.05502, saving model to model.h5\n",
            "1349/1349 [==============================] - 32s 24ms/step - loss: 0.0066 - mae: 0.0565 - val_loss: 0.0065 - val_mae: 0.0550\n",
            "Epoch 12/100\n",
            "1346/1349 [============================>.] - ETA: 0s - loss: 0.0066 - mae: 0.0560\n",
            "Epoch 12: val_mae improved from 0.05502 to 0.05488, saving model to model.h5\n",
            "1349/1349 [==============================] - 34s 25ms/step - loss: 0.0066 - mae: 0.0560 - val_loss: 0.0064 - val_mae: 0.0549\n",
            "Epoch 13/100\n",
            "1346/1349 [============================>.] - ETA: 0s - loss: 0.0067 - mae: 0.0565\n",
            "Epoch 13: val_mae improved from 0.05488 to 0.05328, saving model to model.h5\n",
            "1349/1349 [==============================] - 32s 24ms/step - loss: 0.0067 - mae: 0.0565 - val_loss: 0.0065 - val_mae: 0.0533\n",
            "Epoch 14/100\n",
            "1347/1349 [============================>.] - ETA: 0s - loss: 0.0065 - mae: 0.0552\n",
            "Epoch 14: val_mae did not improve from 0.05328\n",
            "1349/1349 [==============================] - 33s 25ms/step - loss: 0.0065 - mae: 0.0552 - val_loss: 0.0064 - val_mae: 0.0538\n",
            "Epoch 15/100\n",
            "1348/1349 [============================>.] - ETA: 0s - loss: 0.0064 - mae: 0.0549\n",
            "Epoch 15: val_mae did not improve from 0.05328\n",
            "1349/1349 [==============================] - 32s 24ms/step - loss: 0.0064 - mae: 0.0549 - val_loss: 0.0064 - val_mae: 0.0549\n",
            "Epoch 16/100\n",
            "1347/1349 [============================>.] - ETA: 0s - loss: 0.0065 - mae: 0.0548\n",
            "Epoch 16: val_mae did not improve from 0.05328\n",
            "1349/1349 [==============================] - 33s 24ms/step - loss: 0.0064 - mae: 0.0547 - val_loss: 0.0064 - val_mae: 0.0557\n",
            "Epoch 17/100\n",
            "1349/1349 [==============================] - ETA: 0s - loss: 0.0064 - mae: 0.0544\n",
            "Epoch 17: val_mae did not improve from 0.05328\n",
            "1349/1349 [==============================] - 33s 24ms/step - loss: 0.0064 - mae: 0.0544 - val_loss: 0.0065 - val_mae: 0.0551\n",
            "Epoch 18/100\n",
            "1347/1349 [============================>.] - ETA: 0s - loss: 0.0063 - mae: 0.0542\n",
            "Epoch 18: val_mae did not improve from 0.05328\n",
            "1349/1349 [==============================] - 33s 25ms/step - loss: 0.0063 - mae: 0.0541 - val_loss: 0.0063 - val_mae: 0.0542\n",
            "Epoch 19/100\n",
            "1346/1349 [============================>.] - ETA: 0s - loss: 0.0063 - mae: 0.0540\n",
            "Epoch 19: val_mae did not improve from 0.05328\n",
            "1349/1349 [==============================] - 33s 24ms/step - loss: 0.0063 - mae: 0.0540 - val_loss: 0.0063 - val_mae: 0.0537\n",
            "Epoch 20/100\n",
            "1348/1349 [============================>.] - ETA: 0s - loss: 0.0063 - mae: 0.0541\n",
            "Epoch 20: val_mae did not improve from 0.05328\n",
            "1349/1349 [==============================] - 33s 24ms/step - loss: 0.0063 - mae: 0.0541 - val_loss: 0.0063 - val_mae: 0.0538\n",
            "Epoch 21/100\n",
            "1348/1349 [============================>.] - ETA: 0s - loss: 0.0062 - mae: 0.0534\n",
            "Epoch 21: val_mae did not improve from 0.05328\n",
            "1349/1349 [==============================] - 34s 25ms/step - loss: 0.0062 - mae: 0.0534 - val_loss: 0.0063 - val_mae: 0.0535\n",
            "Epoch 22/100\n",
            "1347/1349 [============================>.] - ETA: 0s - loss: 0.0062 - mae: 0.0532\n",
            "Epoch 22: val_mae did not improve from 0.05328\n",
            "1349/1349 [==============================] - 34s 25ms/step - loss: 0.0062 - mae: 0.0531 - val_loss: 0.0062 - val_mae: 0.0535\n",
            "Epoch 23/100\n",
            "1346/1349 [============================>.] - ETA: 0s - loss: 0.0062 - mae: 0.0535\n",
            "Epoch 23: val_mae improved from 0.05328 to 0.05205, saving model to model.h5\n",
            "1349/1349 [==============================] - 34s 25ms/step - loss: 0.0062 - mae: 0.0535 - val_loss: 0.0062 - val_mae: 0.0520\n",
            "Epoch 24/100\n",
            "1349/1349 [==============================] - ETA: 0s - loss: 0.0061 - mae: 0.0527\n",
            "Epoch 24: val_mae did not improve from 0.05205\n",
            "1349/1349 [==============================] - 33s 24ms/step - loss: 0.0061 - mae: 0.0527 - val_loss: 0.0063 - val_mae: 0.0531\n",
            "Epoch 25/100\n",
            "1349/1349 [==============================] - ETA: 0s - loss: 0.0061 - mae: 0.0526\n",
            "Epoch 25: val_mae did not improve from 0.05205\n",
            "1349/1349 [==============================] - 33s 25ms/step - loss: 0.0061 - mae: 0.0526 - val_loss: 0.0061 - val_mae: 0.0524\n",
            "Epoch 26/100\n",
            "1349/1349 [==============================] - ETA: 0s - loss: 0.0060 - mae: 0.0519\n",
            "Epoch 26: val_mae did not improve from 0.05205\n",
            "1349/1349 [==============================] - 33s 24ms/step - loss: 0.0060 - mae: 0.0519 - val_loss: 0.0061 - val_mae: 0.0523\n",
            "Epoch 27/100\n",
            "1345/1349 [============================>.] - ETA: 0s - loss: 0.0060 - mae: 0.0517\n",
            "Epoch 27: val_mae improved from 0.05205 to 0.05192, saving model to model.h5\n",
            "1349/1349 [==============================] - 33s 24ms/step - loss: 0.0060 - mae: 0.0516 - val_loss: 0.0061 - val_mae: 0.0519\n",
            "Epoch 28/100\n",
            "1346/1349 [============================>.] - ETA: 0s - loss: 0.0059 - mae: 0.0512\n",
            "Epoch 28: val_mae did not improve from 0.05192\n",
            "1349/1349 [==============================] - 33s 24ms/step - loss: 0.0059 - mae: 0.0512 - val_loss: 0.0061 - val_mae: 0.0526\n",
            "Epoch 29/100\n",
            "1349/1349 [==============================] - ETA: 0s - loss: 0.0059 - mae: 0.0509\n",
            "Epoch 29: val_mae did not improve from 0.05192\n",
            "1349/1349 [==============================] - 33s 24ms/step - loss: 0.0059 - mae: 0.0509 - val_loss: 0.0061 - val_mae: 0.0519\n",
            "Epoch 30/100\n",
            "1349/1349 [==============================] - ETA: 0s - loss: 0.0072 - mae: 0.0585\n",
            "Epoch 30: val_mae did not improve from 0.05192\n",
            "1349/1349 [==============================] - 34s 25ms/step - loss: 0.0072 - mae: 0.0585 - val_loss: 0.0067 - val_mae: 0.0556\n",
            "Epoch 31/100\n",
            "1349/1349 [==============================] - ETA: 0s - loss: 0.0065 - mae: 0.0558\n",
            "Epoch 31: val_mae did not improve from 0.05192\n",
            "1349/1349 [==============================] - 33s 24ms/step - loss: 0.0065 - mae: 0.0558 - val_loss: 0.0063 - val_mae: 0.0534\n",
            "Epoch 32/100\n",
            "1349/1349 [==============================] - ETA: 0s - loss: 0.0061 - mae: 0.0525\n",
            "Epoch 32: val_mae did not improve from 0.05192\n",
            "1349/1349 [==============================] - 33s 25ms/step - loss: 0.0061 - mae: 0.0525 - val_loss: 0.0063 - val_mae: 0.0539\n",
            "Epoch 33/100\n",
            "1349/1349 [==============================] - ETA: 0s - loss: 0.0059 - mae: 0.0512\n",
            "Epoch 33: val_mae did not improve from 0.05192\n",
            "1349/1349 [==============================] - 32s 24ms/step - loss: 0.0059 - mae: 0.0512 - val_loss: 0.0061 - val_mae: 0.0529\n",
            "Epoch 34/100\n",
            "1346/1349 [============================>.] - ETA: 0s - loss: 0.0058 - mae: 0.0508\n",
            "Epoch 34: val_mae did not improve from 0.05192\n",
            "1349/1349 [==============================] - 33s 25ms/step - loss: 0.0058 - mae: 0.0508 - val_loss: 0.0062 - val_mae: 0.0527\n",
            "Epoch 35/100\n",
            "1346/1349 [============================>.] - ETA: 0s - loss: 0.0058 - mae: 0.0504\n",
            "Epoch 35: val_mae did not improve from 0.05192\n",
            "1349/1349 [==============================] - 33s 24ms/step - loss: 0.0058 - mae: 0.0504 - val_loss: 0.0062 - val_mae: 0.0522\n",
            "Epoch 36/100\n",
            "1347/1349 [============================>.] - ETA: 0s - loss: 0.0057 - mae: 0.0500\n",
            "Epoch 36: val_mae did not improve from 0.05192\n",
            "1349/1349 [==============================] - 33s 25ms/step - loss: 0.0057 - mae: 0.0500 - val_loss: 0.0062 - val_mae: 0.0527\n",
            "Epoch 37/100\n",
            "1347/1349 [============================>.] - ETA: 0s - loss: 0.0057 - mae: 0.0500\n",
            "Epoch 37: val_mae improved from 0.05192 to 0.05178, saving model to model.h5\n",
            "1349/1349 [==============================] - 33s 25ms/step - loss: 0.0057 - mae: 0.0499 - val_loss: 0.0061 - val_mae: 0.0518\n",
            "Epoch 38/100\n",
            "1347/1349 [============================>.] - ETA: 0s - loss: 0.0057 - mae: 0.0501\n",
            "Epoch 38: val_mae did not improve from 0.05178\n",
            "1349/1349 [==============================] - 33s 25ms/step - loss: 0.0057 - mae: 0.0501 - val_loss: 0.0061 - val_mae: 0.0519\n",
            "Epoch 39/100\n",
            "1347/1349 [============================>.] - ETA: 0s - loss: 0.0056 - mae: 0.0493\n",
            "Epoch 39: val_mae improved from 0.05178 to 0.05152, saving model to model.h5\n",
            "1349/1349 [==============================] - 34s 25ms/step - loss: 0.0056 - mae: 0.0493 - val_loss: 0.0061 - val_mae: 0.0515\n",
            "Epoch 40/100\n",
            "1348/1349 [============================>.] - ETA: 0s - loss: 0.0056 - mae: 0.0491\n",
            "Epoch 40: val_mae did not improve from 0.05152\n",
            "1349/1349 [==============================] - 33s 25ms/step - loss: 0.0056 - mae: 0.0491 - val_loss: 0.0061 - val_mae: 0.0516\n",
            "Epoch 41/100\n",
            "1348/1349 [============================>.] - ETA: 0s - loss: 0.0055 - mae: 0.0488\n",
            "Epoch 41: val_mae did not improve from 0.05152\n",
            "1349/1349 [==============================] - 34s 25ms/step - loss: 0.0055 - mae: 0.0488 - val_loss: 0.0061 - val_mae: 0.0518\n",
            "Epoch 42/100\n",
            "1347/1349 [============================>.] - ETA: 0s - loss: 0.0055 - mae: 0.0488\n",
            "Epoch 42: val_mae did not improve from 0.05152\n",
            "1349/1349 [==============================] - 34s 25ms/step - loss: 0.0055 - mae: 0.0487 - val_loss: 0.0062 - val_mae: 0.0515\n",
            "Epoch 43/100\n",
            "1346/1349 [============================>.] - ETA: 0s - loss: 0.0055 - mae: 0.0485\n",
            "Epoch 43: val_mae did not improve from 0.05152\n",
            "1349/1349 [==============================] - 34s 25ms/step - loss: 0.0055 - mae: 0.0484 - val_loss: 0.0119 - val_mae: 0.0686\n",
            "Epoch 44/100\n",
            "1346/1349 [============================>.] - ETA: 0s - loss: 0.0057 - mae: 0.0497\n",
            "Epoch 44: val_mae improved from 0.05152 to 0.05135, saving model to model.h5\n",
            "1349/1349 [==============================] - 34s 25ms/step - loss: 0.0057 - mae: 0.0497 - val_loss: 0.0061 - val_mae: 0.0513\n",
            "Epoch 45/100\n",
            "1347/1349 [============================>.] - ETA: 0s - loss: 0.0054 - mae: 0.0481\n",
            "Epoch 45: val_mae improved from 0.05135 to 0.05131, saving model to model.h5\n",
            "1349/1349 [==============================] - 34s 25ms/step - loss: 0.0054 - mae: 0.0480 - val_loss: 0.0062 - val_mae: 0.0513\n",
            "Epoch 46/100\n",
            "1349/1349 [==============================] - ETA: 0s - loss: 0.0054 - mae: 0.0481\n",
            "Epoch 46: val_mae improved from 0.05131 to 0.05121, saving model to model.h5\n",
            "1349/1349 [==============================] - 33s 25ms/step - loss: 0.0054 - mae: 0.0481 - val_loss: 0.0062 - val_mae: 0.0512\n",
            "Epoch 47/100\n",
            "1346/1349 [============================>.] - ETA: 0s - loss: 0.0054 - mae: 0.0478\n",
            "Epoch 47: val_mae did not improve from 0.05121\n",
            "1349/1349 [==============================] - 33s 24ms/step - loss: 0.0053 - mae: 0.0478 - val_loss: 0.0062 - val_mae: 0.0517\n",
            "Epoch 48/100\n",
            "1346/1349 [============================>.] - ETA: 0s - loss: 0.0053 - mae: 0.0476\n",
            "Epoch 48: val_mae did not improve from 0.05121\n",
            "1349/1349 [==============================] - 34s 25ms/step - loss: 0.0053 - mae: 0.0475 - val_loss: 0.0062 - val_mae: 0.0514\n",
            "Epoch 49/100\n",
            "1348/1349 [============================>.] - ETA: 0s - loss: 0.0052 - mae: 0.0473\n",
            "Epoch 49: val_mae did not improve from 0.05121\n",
            "1349/1349 [==============================] - 33s 24ms/step - loss: 0.0052 - mae: 0.0473 - val_loss: 0.0062 - val_mae: 0.0518\n",
            "Epoch 50/100\n",
            "1347/1349 [============================>.] - ETA: 0s - loss: 0.0052 - mae: 0.0472\n",
            "Epoch 50: val_mae did not improve from 0.05121\n",
            "1349/1349 [==============================] - 34s 25ms/step - loss: 0.0052 - mae: 0.0472 - val_loss: 0.0063 - val_mae: 0.0517\n",
            "Epoch 51/100\n",
            "1348/1349 [============================>.] - ETA: 0s - loss: 0.0052 - mae: 0.0471\n",
            "Epoch 51: val_mae did not improve from 0.05121\n",
            "1349/1349 [==============================] - 32s 24ms/step - loss: 0.0052 - mae: 0.0471 - val_loss: 0.0062 - val_mae: 0.0515\n",
            "Epoch 52/100\n",
            "1345/1349 [============================>.] - ETA: 0s - loss: 0.0051 - mae: 0.0469\n",
            "Epoch 52: val_mae did not improve from 0.05121\n",
            "1349/1349 [==============================] - 34s 25ms/step - loss: 0.0051 - mae: 0.0469 - val_loss: 0.0063 - val_mae: 0.0517\n",
            "Epoch 53/100\n",
            "1349/1349 [==============================] - ETA: 0s - loss: 0.0051 - mae: 0.0470\n",
            "Epoch 53: val_mae did not improve from 0.05121\n",
            "1349/1349 [==============================] - 33s 24ms/step - loss: 0.0051 - mae: 0.0470 - val_loss: 0.0063 - val_mae: 0.0522\n",
            "Epoch 54/100\n",
            "1347/1349 [============================>.] - ETA: 0s - loss: 0.0051 - mae: 0.0469\n",
            "Epoch 54: val_mae did not improve from 0.05121\n",
            "1349/1349 [==============================] - 33s 25ms/step - loss: 0.0051 - mae: 0.0468 - val_loss: 0.0064 - val_mae: 0.0529\n",
            "Epoch 55/100\n",
            "1346/1349 [============================>.] - ETA: 0s - loss: 0.0050 - mae: 0.0464\n",
            "Epoch 55: val_mae did not improve from 0.05121\n",
            "1349/1349 [==============================] - 33s 24ms/step - loss: 0.0050 - mae: 0.0464 - val_loss: 0.0063 - val_mae: 0.0520\n",
            "Epoch 56/100\n",
            "1345/1349 [============================>.] - ETA: 0s - loss: 0.0050 - mae: 0.0463\n",
            "Epoch 56: val_mae did not improve from 0.05121\n",
            "1349/1349 [==============================] - 33s 25ms/step - loss: 0.0050 - mae: 0.0463 - val_loss: 0.0064 - val_mae: 0.0522\n",
            "Epoch 57/100\n",
            "1349/1349 [==============================] - ETA: 0s - loss: 0.0049 - mae: 0.0461\n",
            "Epoch 57: val_mae did not improve from 0.05121\n",
            "1349/1349 [==============================] - 35s 26ms/step - loss: 0.0049 - mae: 0.0461 - val_loss: 0.0065 - val_mae: 0.0536\n",
            "Epoch 58/100\n",
            "1345/1349 [============================>.] - ETA: 0s - loss: 0.0050 - mae: 0.0464\n",
            "Epoch 58: val_mae did not improve from 0.05121\n",
            "1349/1349 [==============================] - 33s 25ms/step - loss: 0.0050 - mae: 0.0463 - val_loss: 0.0064 - val_mae: 0.0531\n",
            "Epoch 59/100\n",
            "1347/1349 [============================>.] - ETA: 0s - loss: 0.0049 - mae: 0.0461\n",
            "Epoch 59: val_mae did not improve from 0.05121\n",
            "1349/1349 [==============================] - 34s 25ms/step - loss: 0.0049 - mae: 0.0461 - val_loss: 0.0063 - val_mae: 0.0520\n",
            "Epoch 60/100\n",
            "1347/1349 [============================>.] - ETA: 0s - loss: 0.0049 - mae: 0.0459\n",
            "Epoch 60: val_mae did not improve from 0.05121\n",
            "1349/1349 [==============================] - 33s 24ms/step - loss: 0.0049 - mae: 0.0459 - val_loss: 0.0065 - val_mae: 0.0525\n",
            "Epoch 61/100\n",
            "1349/1349 [==============================] - ETA: 0s - loss: 0.0048 - mae: 0.0456\n",
            "Epoch 61: val_mae did not improve from 0.05121\n",
            "Restoring model weights from the end of the best epoch: 46.\n",
            "1349/1349 [==============================] - 34s 25ms/step - loss: 0.0048 - mae: 0.0456 - val_loss: 0.0066 - val_mae: 0.0540\n",
            "Epoch 61: early stopping\n"
          ]
        }
      ]
    },
    {
      "cell_type": "code",
      "source": [
        "def plot_series(x, y, format=\"-\", start=0, end=None, \n",
        "                title=None, xlabel=None, ylabel=None, legend=None ):\n",
        "    \"\"\"\n",
        "    Visualizes time series data\n",
        "\n",
        "    Args:\n",
        "      x (array of int) - contains values for the x-axis\n",
        "      y (array of int or tuple of arrays) - contains the values for the y-axis\n",
        "      format (string) - line style when plotting the graph\n",
        "      start (int) - first time step to plot\n",
        "      end (int) - last time step to plot\n",
        "      title (string) - title of the plot\n",
        "      xlabel (string) - label for the x-axis\n",
        "      ylabel (string) - label for the y-axis\n",
        "      legend (list of strings) - legend for the plot\n",
        "    \"\"\"\n",
        "\n",
        "    # Setup dimensions of the graph figure\n",
        "    plt.figure(figsize=(10, 6))\n",
        "    \n",
        "    # Check if there are more than two series to plot\n",
        "    if type(y) is tuple:\n",
        "\n",
        "      # Loop over the y elements\n",
        "      for y_curr in y:\n",
        "\n",
        "        # Plot the x and current y values\n",
        "        plt.plot(x[start:end], y_curr[start:end], format)\n",
        "\n",
        "    else:\n",
        "      # Plot the x and y values\n",
        "      plt.plot(x[start:end], y[start:end], format)\n",
        "\n",
        "    # Label the x-axis\n",
        "    plt.xlabel(xlabel)\n",
        "\n",
        "    # Label the y-axis\n",
        "    plt.ylabel(ylabel)\n",
        "\n",
        "    # Set the legend\n",
        "    if legend:\n",
        "      plt.legend(legend)\n",
        "\n",
        "    # Set the title\n",
        "    plt.title(title)\n",
        "\n",
        "    # Overlay a grid on the graph\n",
        "    plt.grid(True)\n",
        "\n",
        "    # Draw the graph on screen\n",
        "    plt.show()"
      ],
      "metadata": {
        "id": "d3iMjUpGnGeU"
      },
      "execution_count": 22,
      "outputs": []
    },
    {
      "cell_type": "code",
      "source": [
        "mae = history.history['mae']\n",
        "loss = history.history['loss']\n",
        "\n",
        "val_mae = history.history['val_mae']\n",
        "val_loss = history.history['val_loss']\n",
        "\n",
        "epochs=range(len(loss)) \n",
        "\n",
        "plot_series(x=epochs,\n",
        "            y=(mae, val_mae), \n",
        "            title='MAE and Loss', \n",
        "            xlabel='MAE',\n",
        "            ylabel='val_MAE',\n",
        "            legend=['MAE', 'val_MAE'])\n",
        "\n",
        "plot_series(x=epochs,\n",
        "            y=(loss, val_loss), \n",
        "            title='loss and val_Loss', \n",
        "            xlabel='loss',\n",
        "            ylabel='val_Loss',\n",
        "            legend=['loss', 'val_Loss'])\n"
      ],
      "metadata": {
        "colab": {
          "base_uri": "https://localhost:8080/",
          "height": 789
        },
        "id": "wDWBwi8ZsBo7",
        "outputId": "600a0bb7-fba1-4258-8dcf-635c0e9c1d2f"
      },
      "execution_count": 23,
      "outputs": [
        {
          "output_type": "display_data",
          "data": {
            "text/plain": [
              "<Figure size 720x432 with 1 Axes>"
            ],
            "image/png": "[encoded data removed]"
          },
          "metadata": {}
        },
        {
          "output_type": "display_data",
          "data": {
            "text/plain": [
              "<Figure size 720x432 with 1 Axes>"
            ],
            "image/png": "[encoded data removed]"
          },
          "metadata": {}
        }
      ]
    },
    {
      "cell_type": "markdown",
      "source": [
        "### Download Model"
      ],
      "metadata": {
        "id": "_GEUh7a4IZHi"
      }
    },
    {
      "cell_type": "code",
      "source": [
        "from google.colab import files\n",
        "files.download('model.h5')"
      ],
      "metadata": {
        "id": "n6pmd7PxIa10"
      },
      "execution_count": null,
      "outputs": []
    }
  ]
}