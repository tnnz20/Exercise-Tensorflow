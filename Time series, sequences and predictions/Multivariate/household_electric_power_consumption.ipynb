{
  "nbformat": 4,
  "nbformat_minor": 0,
  "metadata": {
    "colab": {
      "name": "household_electric_power_consumption.ipynb",
      "provenance": [],
      "collapsed_sections": []
    },
    "kernelspec": {
      "name": "python3",
      "display_name": "Python 3"
    },
    "language_info": {
      "name": "python"
    },
    "accelerator": "GPU",
    "gpuClass": "standard"
  },
  "cells": [
    {
      "cell_type": "markdown",
      "source": [
        "# Time series, sequences and predictions\n",
        "Multivariate - Household Electric Power Consumption"
      ],
      "metadata": {
        "id": "idLxb_FZcBAG"
      }
    },
    {
      "cell_type": "markdown",
      "source": [
        "## Importing Module"
      ],
      "metadata": {
        "id": "gFVZLIYkcH40"
      }
    },
    {
      "cell_type": "code",
      "execution_count": 2,
      "metadata": {
        "colab": {
          "base_uri": "https://localhost:8080/"
        },
        "id": "fCrVDo6ibTOl",
        "outputId": "b001f65c-788a-48de-8cde-00089e78bc11"
      },
      "outputs": [
        {
          "output_type": "stream",
          "name": "stdout",
          "text": [
            "Tensorflow version: 2.8.2\n"
          ]
        }
      ],
      "source": [
        "import os\n",
        "import csv\n",
        "import urllib\n",
        "import zipfile\n",
        "import pandas as pd\n",
        "import numpy as np\n",
        "import tensorflow as tf\n",
        "\n",
        "from matplotlib import pyplot as plt\n",
        "\n",
        "%matplotlib inline\n",
        "plt.style.use('seaborn')\n",
        "print(f'Tensorflow version: {tf.__version__}')"
      ]
    },
    {
      "cell_type": "markdown",
      "source": [
        "## Problem\n",
        "\n",
        "- Build and train a neural network to predict time indexed variables of the multivariate house hold electric power consumption time series dataset\n",
        "- Using a window of past 24 observations of the 7 variables, the model should be trained to predict the next 24 observations of the 7 variables."
      ],
      "metadata": {
        "id": "89HPw6zbcc60"
      }
    },
    {
      "cell_type": "markdown",
      "source": [
        "### Preparing data"
      ],
      "metadata": {
        "id": "qlqIT9-9clVu"
      }
    },
    {
      "cell_type": "code",
      "source": [
        "data_url = 'https://storage.googleapis.com/download.tensorflow.org/data/certificate/household_power.zip'\n",
        "name_file = 'household_power.zip'\n",
        "\n",
        "target_path = 'data/'\n",
        "\n",
        "if os.path.isfile(name_file):\n",
        "    print(f'{name_file} Already exist')\n",
        "else:\n",
        "  # Download file\n",
        "  urllib.request.urlretrieve(data_url, name_file)\n",
        "\n",
        "  # Extract file\n",
        "  zip_ref = zipfile.ZipFile(name_file, 'r')\n",
        "  zip_ref.extractall(target_path)\n",
        "  zip_ref.close()\n",
        "  print(f'{name_file} Download and Extract finished')"
      ],
      "metadata": {
        "colab": {
          "base_uri": "https://localhost:8080/"
        },
        "id": "TSAvbXZScRo9",
        "outputId": "a176e55b-4e23-4ca5-fe02-da14b5be0aa8"
      },
      "execution_count": 3,
      "outputs": [
        {
          "output_type": "stream",
          "name": "stdout",
          "text": [
            "household_power.zip Already exist\n"
          ]
        }
      ]
    },
    {
      "cell_type": "markdown",
      "source": [
        "#### Explore data"
      ],
      "metadata": {
        "id": "YHzG4dSycs_M"
      }
    },
    {
      "cell_type": "markdown",
      "source": [
        "Load data using pandas"
      ],
      "metadata": {
        "id": "jdCIHgBnc1rV"
      }
    },
    {
      "cell_type": "code",
      "source": [
        "df_name = 'data/household_power_consumption.csv'\n",
        "df = pd.read_csv(df_name, infer_datetime_format=True, index_col='datetime')"
      ],
      "metadata": {
        "id": "9sBKTg9KcqNN"
      },
      "execution_count": 4,
      "outputs": []
    },
    {
      "cell_type": "code",
      "source": [
        "print(f'Total Data : {df.shape[0]}')\n",
        "print(f'Total Columns : {df.shape[1]}')"
      ],
      "metadata": {
        "colab": {
          "base_uri": "https://localhost:8080/"
        },
        "id": "KJ3SVDMJcyjE",
        "outputId": "f577bfbf-490f-463b-bb3a-1743a31bb5c7"
      },
      "execution_count": 4,
      "outputs": [
        {
          "output_type": "stream",
          "name": "stdout",
          "text": [
            "Total Data : 86400\n",
            "Total Columns : 7\n"
          ]
        }
      ]
    },
    {
      "cell_type": "markdown",
      "source": [
        "First 10 from data"
      ],
      "metadata": {
        "id": "qzD6QixZdO1u"
      }
    },
    {
      "cell_type": "code",
      "source": [
        "df.head(10)"
      ],
      "metadata": {
        "colab": {
          "base_uri": "https://localhost:8080/",
          "height": 394
        },
        "id": "ugRcCTHudSho",
        "outputId": "8c643bb6-4bd9-486f-937d-0454d46fb502"
      },
      "execution_count": 5,
      "outputs": [
        {
          "output_type": "execute_result",
          "data": {
            "text/plain": [
              "                     Global_active_power  Global_reactive_power  Voltage  \\\n",
              "datetime                                                                   \n",
              "2006-12-16 17:24:00                4.216                  0.418   234.84   \n",
              "2006-12-16 17:25:00                5.360                  0.436   233.63   \n",
              "2006-12-16 17:26:00                5.374                  0.498   233.29   \n",
              "2006-12-16 17:27:00                5.388                  0.502   233.74   \n",
              "2006-12-16 17:28:00                3.666                  0.528   235.68   \n",
              "2006-12-16 17:29:00                3.520                  0.522   235.02   \n",
              "2006-12-16 17:30:00                3.702                  0.520   235.09   \n",
              "2006-12-16 17:31:00                3.700                  0.520   235.22   \n",
              "2006-12-16 17:32:00                3.668                  0.510   233.99   \n",
              "2006-12-16 17:33:00                3.662                  0.510   233.86   \n",
              "\n",
              "                     Global_intensity  Sub_metering_1  Sub_metering_2  \\\n",
              "datetime                                                                \n",
              "2006-12-16 17:24:00              18.4             0.0             1.0   \n",
              "2006-12-16 17:25:00              23.0             0.0             1.0   \n",
              "2006-12-16 17:26:00              23.0             0.0             2.0   \n",
              "2006-12-16 17:27:00              23.0             0.0             1.0   \n",
              "2006-12-16 17:28:00              15.8             0.0             1.0   \n",
              "2006-12-16 17:29:00              15.0             0.0             2.0   \n",
              "2006-12-16 17:30:00              15.8             0.0             1.0   \n",
              "2006-12-16 17:31:00              15.8             0.0             1.0   \n",
              "2006-12-16 17:32:00              15.8             0.0             1.0   \n",
              "2006-12-16 17:33:00              15.8             0.0             2.0   \n",
              "\n",
              "                     Sub_metering_3  \n",
              "datetime                             \n",
              "2006-12-16 17:24:00            17.0  \n",
              "2006-12-16 17:25:00            16.0  \n",
              "2006-12-16 17:26:00            17.0  \n",
              "2006-12-16 17:27:00            17.0  \n",
              "2006-12-16 17:28:00            17.0  \n",
              "2006-12-16 17:29:00            17.0  \n",
              "2006-12-16 17:30:00            17.0  \n",
              "2006-12-16 17:31:00            17.0  \n",
              "2006-12-16 17:32:00            17.0  \n",
              "2006-12-16 17:33:00            16.0  "
            ],
            "text/html": [
              "\n",
              "  <div id=\"df-95775782-358d-4943-b667-ab3fbce15260\">\n",
              "    <div class=\"colab-df-container\">\n",
              "      <div>\n",
              "<style scoped>\n",
              "    .dataframe tbody tr th:only-of-type {\n",
              "        vertical-align: middle;\n",
              "    }\n",
              "\n",
              "    .dataframe tbody tr th {\n",
              "        vertical-align: top;\n",
              "    }\n",
              "\n",
              "    .dataframe thead th {\n",
              "        text-align: right;\n",
              "    }\n",
              "</style>\n",
              "<table border=\"1\" class=\"dataframe\">\n",
              "  <thead>\n",
              "    <tr style=\"text-align: right;\">\n",
              "      <th></th>\n",
              "      <th>Global_active_power</th>\n",
              "      <th>Global_reactive_power</th>\n",
              "      <th>Voltage</th>\n",
              "      <th>Global_intensity</th>\n",
              "      <th>Sub_metering_1</th>\n",
              "      <th>Sub_metering_2</th>\n",
              "      <th>Sub_metering_3</th>\n",
              "    </tr>\n",
              "    <tr>\n",
              "      <th>datetime</th>\n",
              "      <th></th>\n",
              "      <th></th>\n",
              "      <th></th>\n",
              "      <th></th>\n",
              "      <th></th>\n",
              "      <th></th>\n",
              "      <th></th>\n",
              "    </tr>\n",
              "  </thead>\n",
              "  <tbody>\n",
              "    <tr>\n",
              "      <th>2006-12-16 17:24:00</th>\n",
              "      <td>4.216</td>\n",
              "      <td>0.418</td>\n",
              "      <td>234.84</td>\n",
              "      <td>18.4</td>\n",
              "      <td>0.0</td>\n",
              "      <td>1.0</td>\n",
              "      <td>17.0</td>\n",
              "    </tr>\n",
              "    <tr>\n",
              "      <th>2006-12-16 17:25:00</th>\n",
              "      <td>5.360</td>\n",
              "      <td>0.436</td>\n",
              "      <td>233.63</td>\n",
              "      <td>23.0</td>\n",
              "      <td>0.0</td>\n",
              "      <td>1.0</td>\n",
              "      <td>16.0</td>\n",
              "    </tr>\n",
              "    <tr>\n",
              "      <th>2006-12-16 17:26:00</th>\n",
              "      <td>5.374</td>\n",
              "      <td>0.498</td>\n",
              "      <td>233.29</td>\n",
              "      <td>23.0</td>\n",
              "      <td>0.0</td>\n",
              "      <td>2.0</td>\n",
              "      <td>17.0</td>\n",
              "    </tr>\n",
              "    <tr>\n",
              "      <th>2006-12-16 17:27:00</th>\n",
              "      <td>5.388</td>\n",
              "      <td>0.502</td>\n",
              "      <td>233.74</td>\n",
              "      <td>23.0</td>\n",
              "      <td>0.0</td>\n",
              "      <td>1.0</td>\n",
              "      <td>17.0</td>\n",
              "    </tr>\n",
              "    <tr>\n",
              "      <th>2006-12-16 17:28:00</th>\n",
              "      <td>3.666</td>\n",
              "      <td>0.528</td>\n",
              "      <td>235.68</td>\n",
              "      <td>15.8</td>\n",
              "      <td>0.0</td>\n",
              "      <td>1.0</td>\n",
              "      <td>17.0</td>\n",
              "    </tr>\n",
              "    <tr>\n",
              "      <th>2006-12-16 17:29:00</th>\n",
              "      <td>3.520</td>\n",
              "      <td>0.522</td>\n",
              "      <td>235.02</td>\n",
              "      <td>15.0</td>\n",
              "      <td>0.0</td>\n",
              "      <td>2.0</td>\n",
              "      <td>17.0</td>\n",
              "    </tr>\n",
              "    <tr>\n",
              "      <th>2006-12-16 17:30:00</th>\n",
              "      <td>3.702</td>\n",
              "      <td>0.520</td>\n",
              "      <td>235.09</td>\n",
              "      <td>15.8</td>\n",
              "      <td>0.0</td>\n",
              "      <td>1.0</td>\n",
              "      <td>17.0</td>\n",
              "    </tr>\n",
              "    <tr>\n",
              "      <th>2006-12-16 17:31:00</th>\n",
              "      <td>3.700</td>\n",
              "      <td>0.520</td>\n",
              "      <td>235.22</td>\n",
              "      <td>15.8</td>\n",
              "      <td>0.0</td>\n",
              "      <td>1.0</td>\n",
              "      <td>17.0</td>\n",
              "    </tr>\n",
              "    <tr>\n",
              "      <th>2006-12-16 17:32:00</th>\n",
              "      <td>3.668</td>\n",
              "      <td>0.510</td>\n",
              "      <td>233.99</td>\n",
              "      <td>15.8</td>\n",
              "      <td>0.0</td>\n",
              "      <td>1.0</td>\n",
              "      <td>17.0</td>\n",
              "    </tr>\n",
              "    <tr>\n",
              "      <th>2006-12-16 17:33:00</th>\n",
              "      <td>3.662</td>\n",
              "      <td>0.510</td>\n",
              "      <td>233.86</td>\n",
              "      <td>15.8</td>\n",
              "      <td>0.0</td>\n",
              "      <td>2.0</td>\n",
              "      <td>16.0</td>\n",
              "    </tr>\n",
              "  </tbody>\n",
              "</table>\n",
              "</div>\n",
              "      <button class=\"colab-df-convert\" onclick=\"convertToInteractive('df-95775782-358d-4943-b667-ab3fbce15260')\"\n",
              "              title=\"Convert this dataframe to an interactive table.\"\n",
              "              style=\"display:none;\">\n",
              "        \n",
              "  <svg xmlns=\"http://www.w3.org/2000/svg\" height=\"24px\"viewBox=\"0 0 24 24\"\n",
              "       width=\"24px\">\n",
              "    <path d=\"M0 0h24v24H0V0z\" fill=\"none\"/>\n",
              "    <path d=\"M18.56 5.44l.94 2.06.94-2.06 2.06-.94-2.06-.94-.94-2.06-.94 2.06-2.06.94zm-11 1L8.5 8.5l.94-2.06 2.06-.94-2.06-.94L8.5 2.5l-.94 2.06-2.06.94zm10 10l.94 2.06.94-2.06 2.06-.94-2.06-.94-.94-2.06-.94 2.06-2.06.94z\"/><path d=\"M17.41 7.96l-1.37-1.37c-.4-.4-.92-.59-1.43-.59-.52 0-1.04.2-1.43.59L10.3 9.45l-7.72 7.72c-.78.78-.78 2.05 0 2.83L4 21.41c.39.39.9.59 1.41.59.51 0 1.02-.2 1.41-.59l7.78-7.78 2.81-2.81c.8-.78.8-2.07 0-2.86zM5.41 20L4 18.59l7.72-7.72 1.47 1.35L5.41 20z\"/>\n",
              "  </svg>\n",
              "      </button>\n",
              "      \n",
              "  <style>\n",
              "    .colab-df-container {\n",
              "      display:flex;\n",
              "      flex-wrap:wrap;\n",
              "      gap: 12px;\n",
              "    }\n",
              "\n",
              "    .colab-df-convert {\n",
              "      background-color: #E8F0FE;\n",
              "      border: none;\n",
              "      border-radius: 50%;\n",
              "      cursor: pointer;\n",
              "      display: none;\n",
              "      fill: #1967D2;\n",
              "      height: 32px;\n",
              "      padding: 0 0 0 0;\n",
              "      width: 32px;\n",
              "    }\n",
              "\n",
              "    .colab-df-convert:hover {\n",
              "      background-color: #E2EBFA;\n",
              "      box-shadow: 0px 1px 2px rgba(60, 64, 67, 0.3), 0px 1px 3px 1px rgba(60, 64, 67, 0.15);\n",
              "      fill: #174EA6;\n",
              "    }\n",
              "\n",
              "    [theme=dark] .colab-df-convert {\n",
              "      background-color: #3B4455;\n",
              "      fill: #D2E3FC;\n",
              "    }\n",
              "\n",
              "    [theme=dark] .colab-df-convert:hover {\n",
              "      background-color: #434B5C;\n",
              "      box-shadow: 0px 1px 3px 1px rgba(0, 0, 0, 0.15);\n",
              "      filter: drop-shadow(0px 1px 2px rgba(0, 0, 0, 0.3));\n",
              "      fill: #FFFFFF;\n",
              "    }\n",
              "  </style>\n",
              "\n",
              "      <script>\n",
              "        const buttonEl =\n",
              "          document.querySelector('#df-95775782-358d-4943-b667-ab3fbce15260 button.colab-df-convert');\n",
              "        buttonEl.style.display =\n",
              "          google.colab.kernel.accessAllowed ? 'block' : 'none';\n",
              "\n",
              "        async function convertToInteractive(key) {\n",
              "          const element = document.querySelector('#df-95775782-358d-4943-b667-ab3fbce15260');\n",
              "          const dataTable =\n",
              "            await google.colab.kernel.invokeFunction('convertToInteractive',\n",
              "                                                     [key], {});\n",
              "          if (!dataTable) return;\n",
              "\n",
              "          const docLinkHtml = 'Like what you see? Visit the ' +\n",
              "            '<a target=\"_blank\" href=https://colab.research.google.com/notebooks/data_table.ipynb>data table notebook</a>'\n",
              "            + ' to learn more about interactive tables.';\n",
              "          element.innerHTML = '';\n",
              "          dataTable['output_type'] = 'display_data';\n",
              "          await google.colab.output.renderOutput(dataTable, element);\n",
              "          const docLink = document.createElement('div');\n",
              "          docLink.innerHTML = docLinkHtml;\n",
              "          element.appendChild(docLink);\n",
              "        }\n",
              "      </script>\n",
              "    </div>\n",
              "  </div>\n",
              "  "
            ]
          },
          "metadata": {},
          "execution_count": 5
        }
      ]
    },
    {
      "cell_type": "markdown",
      "source": [
        "More information about data"
      ],
      "metadata": {
        "id": "OZSZGCJydLJZ"
      }
    },
    {
      "cell_type": "code",
      "source": [
        "df.info()"
      ],
      "metadata": {
        "colab": {
          "base_uri": "https://localhost:8080/"
        },
        "id": "hsROgx-UdCgV",
        "outputId": "21329c51-1220-452b-df16-0439ef2468ed"
      },
      "execution_count": 6,
      "outputs": [
        {
          "output_type": "stream",
          "name": "stdout",
          "text": [
            "<class 'pandas.core.frame.DataFrame'>\n",
            "Index: 86400 entries, 2006-12-16 17:24:00 to 2007-02-14 17:23:00\n",
            "Data columns (total 7 columns):\n",
            " #   Column                 Non-Null Count  Dtype  \n",
            "---  ------                 --------------  -----  \n",
            " 0   Global_active_power    86400 non-null  float64\n",
            " 1   Global_reactive_power  86400 non-null  float64\n",
            " 2   Voltage                86400 non-null  float64\n",
            " 3   Global_intensity       86400 non-null  float64\n",
            " 4   Sub_metering_1         86400 non-null  float64\n",
            " 5   Sub_metering_2         86400 non-null  float64\n",
            " 6   Sub_metering_3         86400 non-null  float64\n",
            "dtypes: float64(7)\n",
            "memory usage: 5.3+ MB\n"
          ]
        }
      ]
    },
    {
      "cell_type": "markdown",
      "source": [
        "### Preparing Model"
      ],
      "metadata": {
        "id": "8CUgtD5yePhg"
      }
    },
    {
      "cell_type": "markdown",
      "source": [
        "Usefull Function"
      ],
      "metadata": {
        "id": "tBxs-o3qM_J_"
      }
    },
    {
      "cell_type": "code",
      "source": [
        "def normalize_series(data, min, max):\n",
        "  \"\"\"\n",
        "  This function normalizes the dataset using min max scaling.\n",
        "  \"\"\"\n",
        "  data = data - min\n",
        "  data = data / max\n",
        "  return data"
      ],
      "metadata": {
        "id": "wAahz_IZM9zh"
      },
      "execution_count": 9,
      "outputs": []
    },
    {
      "cell_type": "code",
      "source": [
        "def windowed_dataset(series, batch_size, n_past=24, n_future=24, shift=1):\n",
        "  \"\"\"\n",
        "  This function is used to map the time series dataset into windows of\n",
        "  features and respective targets, to prepare it for training and\n",
        "  validation. First element of the first window will be the first element of\n",
        "  the dataset. Consecutive windows are constructed by shifting\n",
        "  the starting position of the first window forward, one at a time (indicated\n",
        "  by shift=1). For a window of n_past number of observations of all the time\n",
        "  indexed variables in the dataset, the target for the window\n",
        "  is the next n_future number of observations of these variables, after the\n",
        "  end of the window.\n",
        "  \"\"\"\n",
        "  ds = tf.data.Dataset.from_tensor_slices(series)\n",
        "  ds = ds.window(size=n_past + n_future, shift=shift, drop_remainder=True)\n",
        "  ds = ds.flat_map(lambda w: w.batch(n_past + n_future))\n",
        "  ds = ds.map(lambda w: (w[:n_past], w[n_past:]))\n",
        "  return ds.batch(batch_size).prefetch(1)"
      ],
      "metadata": {
        "id": "5R1JJBx0NQzI"
      },
      "execution_count": 8,
      "outputs": []
    },
    {
      "cell_type": "markdown",
      "source": [
        "Set Paramters"
      ],
      "metadata": {
        "id": "_yT9lezzeVcY"
      }
    },
    {
      "cell_type": "code",
      "source": [
        "N_FEATURES = len(df.columns)\n",
        "SPLIT_TIME = int(len(df.values) * 0.5)\n",
        "BATCH_SIZE = 32\n",
        "N_PAST = 24\n",
        "N_FUTURE = 24\n",
        "SHIFT = 1"
      ],
      "metadata": {
        "id": "A5ck4jy8ePB5"
      },
      "execution_count": 5,
      "outputs": []
    },
    {
      "cell_type": "markdown",
      "source": [
        "Normalize data"
      ],
      "metadata": {
        "id": "cZ4BfmPFOS3L"
      }
    },
    {
      "cell_type": "code",
      "source": [
        "data = df.values\n",
        "data = normalize_series(data, data.min(axis=0), data.max(axis=0))"
      ],
      "metadata": {
        "id": "AMIiSWCpOQfe"
      },
      "execution_count": 10,
      "outputs": []
    },
    {
      "cell_type": "markdown",
      "source": [
        "Fixed Partition"
      ],
      "metadata": {
        "id": "AFtW-nZJetbJ"
      }
    },
    {
      "cell_type": "code",
      "source": [
        "x_train = data[:SPLIT_TIME]\n",
        "x_valid = data[SPLIT_TIME:]"
      ],
      "metadata": {
        "id": "qnQ9pMcsewI4"
      },
      "execution_count": 11,
      "outputs": []
    },
    {
      "cell_type": "markdown",
      "source": [
        "Windowing datasets"
      ],
      "metadata": {
        "id": "QWL5st9xOpZT"
      }
    },
    {
      "cell_type": "code",
      "source": [
        "train_set = windowed_dataset(series=x_train, batch_size=BATCH_SIZE,\n",
        "                             n_past=N_PAST, n_future=N_FUTURE,\n",
        "                             shift=SHIFT)\n",
        "\n",
        "valid_set = windowed_dataset(series=x_valid, batch_size=BATCH_SIZE,\n",
        "                             n_past=N_PAST, n_future=N_FUTURE,\n",
        "                             shift=SHIFT)"
      ],
      "metadata": {
        "id": "dvlekWylfEEp"
      },
      "execution_count": 12,
      "outputs": []
    },
    {
      "cell_type": "markdown",
      "source": [
        "#### Build Model"
      ],
      "metadata": {
        "id": "izqkUpf6fbnT"
      }
    },
    {
      "cell_type": "code",
      "source": [
        "def build_model(N_PAST, N_FEATURES, lr=1e-8):\n",
        "  \"\"\"\n",
        "  Creates a model forecasting time, series\n",
        "  \n",
        "  Args:\n",
        "      WINDOW_SIZE (int): the number of time steps to include in the feature\n",
        "      lr (float): the number of learning rate optimizer\n",
        "\n",
        "  Returns:\n",
        "      model (tf.keras Model): the time, series model\n",
        "  \"\"\"\n",
        "\n",
        "  tf.keras.backend.clear_session()\n",
        "  tf.random.set_seed(42)\n",
        "\n",
        "  # Define Params  \n",
        "  adam = tf.keras.optimizers.Adam(learning_rate=lr) # Optimizer\n",
        "  losses = tf.keras.losses.Huber()\n",
        "\n",
        "  # Define Activation Function\n",
        "  relu = tf.nn.relu\n",
        "\n",
        "  # Define model sequential\n",
        "  model = tf.keras.Sequential()\n",
        "\n",
        "  # Define Convolutional 1D\n",
        "  model.add(tf.keras.layers.Conv1D(filters=60, kernel_size=5,\n",
        "                      strides=1, padding=\"causal\",\n",
        "                      activation=relu,\n",
        "                      input_shape=[N_PAST, N_FEATURES]))\n",
        "  \n",
        "  # Define layers LSTM\n",
        "  model.add(tf.keras.layers.LSTM(64, return_sequences=True))\n",
        "  model.add(tf.keras.layers.LSTM(64, return_sequences=True))\n",
        "\n",
        "  # Define Fully Connected layers\n",
        "  model.add(tf.keras.layers.Dense(10, activation=relu))\n",
        "  model.add(tf.keras.layers.Dense(10, activation=relu))\n",
        "  model.add(tf.keras.layers.Dense(1))\n",
        "\n",
        "\n",
        "  # Compile model\n",
        "  model.compile(optimizer=adam, loss=losses, metrics=['mae'])\n",
        "\n",
        "  # Check Summary Model\n",
        "  model.summary()\n",
        "\n",
        "  print('\\nModel Succesfully Create')\n",
        "  \n",
        "  return model"
      ],
      "metadata": {
        "id": "og9Ab77zf2Kj"
      },
      "execution_count": 13,
      "outputs": []
    },
    {
      "cell_type": "markdown",
      "source": [
        "#### Define Callbacks"
      ],
      "metadata": {
        "id": "vE2r4g6Pfzpu"
      }
    },
    {
      "cell_type": "code",
      "source": [
        "model_checkpoint = tf.keras.callbacks.ModelCheckpoint(\"model.h5\", \n",
        "                                                      monitor=\"val_mae\",\n",
        "                                                      save_best_only=True,\n",
        "                                                      verbose=1)\n",
        "\n",
        "early_stopping = tf.keras.callbacks.EarlyStopping(monitor=\"val_mae\", \n",
        "                                                  patience=10, \n",
        "                                                  mode =\"min\", \n",
        "                                                  verbose=2, \n",
        "                                                  restore_best_weights=True)\n",
        "\n",
        "lr_schedule = tf.keras.callbacks.LearningRateScheduler(lambda epoch: 1e-8 * 10**(epoch / 20))"
      ],
      "metadata": {
        "id": "0g1i6rHUfNzQ"
      },
      "execution_count": 14,
      "outputs": []
    },
    {
      "cell_type": "markdown",
      "source": [
        "### Train Model"
      ],
      "metadata": {
        "id": "oc9s1Iwohk34"
      }
    },
    {
      "cell_type": "markdown",
      "source": [
        "#### Train model with learning rate schedule"
      ],
      "metadata": {
        "id": "WQvL6zkthtah"
      }
    },
    {
      "cell_type": "code",
      "source": [
        "model = build_model(N_PAST, N_FEATURES)"
      ],
      "metadata": {
        "colab": {
          "base_uri": "https://localhost:8080/"
        },
        "id": "a_dv1FWDhjQW",
        "outputId": "50e4d77d-c607-4399-ff5d-59f402162855"
      },
      "execution_count": 21,
      "outputs": [
        {
          "output_type": "stream",
          "name": "stdout",
          "text": [
            "Model: \"sequential\"\n",
            "_________________________________________________________________\n",
            " Layer (type)                Output Shape              Param #   \n",
            "=================================================================\n",
            " conv1d (Conv1D)             (None, 24, 60)            2160      \n",
            "                                                                 \n",
            " lstm (LSTM)                 (None, 24, 64)            32000     \n",
            "                                                                 \n",
            " lstm_1 (LSTM)               (None, 24, 64)            33024     \n",
            "                                                                 \n",
            " dense (Dense)               (None, 24, 10)            650       \n",
            "                                                                 \n",
            " dense_1 (Dense)             (None, 24, 10)            110       \n",
            "                                                                 \n",
            " dense_2 (Dense)             (None, 24, 1)             11        \n",
            "                                                                 \n",
            "=================================================================\n",
            "Total params: 67,955\n",
            "Trainable params: 67,955\n",
            "Non-trainable params: 0\n",
            "_________________________________________________________________\n",
            "\n",
            "Model Succesfully Create\n"
          ]
        }
      ]
    },
    {
      "cell_type": "code",
      "source": [
        "history_lr = model.fit(train_set ,epochs=100, validation_data=valid_set, callbacks=[lr_schedule])"
      ],
      "metadata": {
        "colab": {
          "base_uri": "https://localhost:8080/"
        },
        "id": "qg06l5GaiDTw",
        "outputId": "8bb66da5-bf9f-476c-b516-5a36d112ad60"
      },
      "execution_count": 22,
      "outputs": [
        {
          "output_type": "stream",
          "name": "stdout",
          "text": [
            "Epoch 1/100\n",
            "1349/1349 [==============================] - 28s 18ms/step - loss: 0.0339 - mae: 0.1353 - val_loss: 0.0343 - val_mae: 0.1324 - lr: 1.0000e-08\n",
            "Epoch 2/100\n",
            "1349/1349 [==============================] - 25s 19ms/step - loss: 0.0339 - mae: 0.1353 - val_loss: 0.0343 - val_mae: 0.1324 - lr: 1.1220e-08\n",
            "Epoch 3/100\n",
            "1349/1349 [==============================] - 25s 19ms/step - loss: 0.0339 - mae: 0.1353 - val_loss: 0.0343 - val_mae: 0.1323 - lr: 1.2589e-08\n",
            "Epoch 4/100\n",
            "1349/1349 [==============================] - 26s 19ms/step - loss: 0.0339 - mae: 0.1352 - val_loss: 0.0343 - val_mae: 0.1323 - lr: 1.4125e-08\n",
            "Epoch 5/100\n",
            "1349/1349 [==============================] - 25s 18ms/step - loss: 0.0339 - mae: 0.1352 - val_loss: 0.0343 - val_mae: 0.1323 - lr: 1.5849e-08\n",
            "Epoch 6/100\n",
            "1349/1349 [==============================] - 24s 18ms/step - loss: 0.0339 - mae: 0.1352 - val_loss: 0.0343 - val_mae: 0.1323 - lr: 1.7783e-08\n",
            "Epoch 7/100\n",
            "1349/1349 [==============================] - 25s 19ms/step - loss: 0.0339 - mae: 0.1352 - val_loss: 0.0343 - val_mae: 0.1322 - lr: 1.9953e-08\n",
            "Epoch 8/100\n",
            "1349/1349 [==============================] - 24s 18ms/step - loss: 0.0339 - mae: 0.1351 - val_loss: 0.0343 - val_mae: 0.1322 - lr: 2.2387e-08\n",
            "Epoch 9/100\n",
            "1349/1349 [==============================] - 25s 18ms/step - loss: 0.0338 - mae: 0.1351 - val_loss: 0.0343 - val_mae: 0.1322 - lr: 2.5119e-08\n",
            "Epoch 10/100\n",
            "1349/1349 [==============================] - 24s 18ms/step - loss: 0.0338 - mae: 0.1350 - val_loss: 0.0343 - val_mae: 0.1321 - lr: 2.8184e-08\n",
            "Epoch 11/100\n",
            "1349/1349 [==============================] - 25s 19ms/step - loss: 0.0338 - mae: 0.1350 - val_loss: 0.0342 - val_mae: 0.1321 - lr: 3.1623e-08\n",
            "Epoch 12/100\n",
            "1349/1349 [==============================] - 24s 18ms/step - loss: 0.0338 - mae: 0.1349 - val_loss: 0.0342 - val_mae: 0.1321 - lr: 3.5481e-08\n",
            "Epoch 13/100\n",
            "1349/1349 [==============================] - 24s 18ms/step - loss: 0.0338 - mae: 0.1349 - val_loss: 0.0342 - val_mae: 0.1320 - lr: 3.9811e-08\n",
            "Epoch 14/100\n",
            "1349/1349 [==============================] - 24s 18ms/step - loss: 0.0338 - mae: 0.1348 - val_loss: 0.0342 - val_mae: 0.1320 - lr: 4.4668e-08\n",
            "Epoch 15/100\n",
            "1349/1349 [==============================] - 25s 19ms/step - loss: 0.0337 - mae: 0.1348 - val_loss: 0.0342 - val_mae: 0.1319 - lr: 5.0119e-08\n",
            "Epoch 16/100\n",
            "1349/1349 [==============================] - 24s 18ms/step - loss: 0.0337 - mae: 0.1347 - val_loss: 0.0341 - val_mae: 0.1318 - lr: 5.6234e-08\n",
            "Epoch 17/100\n",
            "1349/1349 [==============================] - 24s 18ms/step - loss: 0.0337 - mae: 0.1346 - val_loss: 0.0341 - val_mae: 0.1318 - lr: 6.3096e-08\n",
            "Epoch 18/100\n",
            "1349/1349 [==============================] - 24s 18ms/step - loss: 0.0336 - mae: 0.1345 - val_loss: 0.0341 - val_mae: 0.1317 - lr: 7.0795e-08\n",
            "Epoch 19/100\n",
            "1349/1349 [==============================] - 25s 18ms/step - loss: 0.0336 - mae: 0.1344 - val_loss: 0.0340 - val_mae: 0.1316 - lr: 7.9433e-08\n",
            "Epoch 20/100\n",
            "1349/1349 [==============================] - 24s 18ms/step - loss: 0.0335 - mae: 0.1343 - val_loss: 0.0340 - val_mae: 0.1315 - lr: 8.9125e-08\n",
            "Epoch 21/100\n",
            "1349/1349 [==============================] - 24s 18ms/step - loss: 0.0335 - mae: 0.1342 - val_loss: 0.0339 - val_mae: 0.1314 - lr: 1.0000e-07\n",
            "Epoch 22/100\n",
            "1349/1349 [==============================] - 24s 18ms/step - loss: 0.0334 - mae: 0.1340 - val_loss: 0.0338 - val_mae: 0.1312 - lr: 1.1220e-07\n",
            "Epoch 23/100\n",
            "1349/1349 [==============================] - 24s 18ms/step - loss: 0.0333 - mae: 0.1338 - val_loss: 0.0337 - val_mae: 0.1310 - lr: 1.2589e-07\n",
            "Epoch 24/100\n",
            "1349/1349 [==============================] - 24s 18ms/step - loss: 0.0331 - mae: 0.1335 - val_loss: 0.0335 - val_mae: 0.1307 - lr: 1.4125e-07\n",
            "Epoch 25/100\n",
            "1349/1349 [==============================] - 24s 18ms/step - loss: 0.0328 - mae: 0.1331 - val_loss: 0.0332 - val_mae: 0.1303 - lr: 1.5849e-07\n",
            "Epoch 26/100\n",
            "1349/1349 [==============================] - 24s 18ms/step - loss: 0.0325 - mae: 0.1326 - val_loss: 0.0328 - val_mae: 0.1297 - lr: 1.7783e-07\n",
            "Epoch 27/100\n",
            "1349/1349 [==============================] - 25s 18ms/step - loss: 0.0319 - mae: 0.1318 - val_loss: 0.0320 - val_mae: 0.1286 - lr: 1.9953e-07\n",
            "Epoch 28/100\n",
            "1349/1349 [==============================] - 24s 18ms/step - loss: 0.0311 - mae: 0.1306 - val_loss: 0.0312 - val_mae: 0.1274 - lr: 2.2387e-07\n",
            "Epoch 29/100\n",
            "1349/1349 [==============================] - 24s 18ms/step - loss: 0.0303 - mae: 0.1295 - val_loss: 0.0304 - val_mae: 0.1264 - lr: 2.5119e-07\n",
            "Epoch 30/100\n",
            "1349/1349 [==============================] - 24s 18ms/step - loss: 0.0295 - mae: 0.1286 - val_loss: 0.0296 - val_mae: 0.1257 - lr: 2.8184e-07\n",
            "Epoch 31/100\n",
            "1349/1349 [==============================] - 24s 18ms/step - loss: 0.0287 - mae: 0.1281 - val_loss: 0.0288 - val_mae: 0.1254 - lr: 3.1623e-07\n",
            "Epoch 32/100\n",
            "1349/1349 [==============================] - 26s 19ms/step - loss: 0.0279 - mae: 0.1280 - val_loss: 0.0280 - val_mae: 0.1255 - lr: 3.5481e-07\n",
            "Epoch 33/100\n",
            "1349/1349 [==============================] - 24s 18ms/step - loss: 0.0271 - mae: 0.1283 - val_loss: 0.0272 - val_mae: 0.1260 - lr: 3.9811e-07\n",
            "Epoch 34/100\n",
            "1349/1349 [==============================] - 24s 18ms/step - loss: 0.0263 - mae: 0.1290 - val_loss: 0.0265 - val_mae: 0.1270 - lr: 4.4668e-07\n",
            "Epoch 35/100\n",
            "1349/1349 [==============================] - 24s 18ms/step - loss: 0.0256 - mae: 0.1304 - val_loss: 0.0258 - val_mae: 0.1290 - lr: 5.0119e-07\n",
            "Epoch 36/100\n",
            "1349/1349 [==============================] - 24s 18ms/step - loss: 0.0250 - mae: 0.1325 - val_loss: 0.0253 - val_mae: 0.1316 - lr: 5.6234e-07\n",
            "Epoch 37/100\n",
            "1349/1349 [==============================] - 24s 18ms/step - loss: 0.0246 - mae: 0.1350 - val_loss: 0.0250 - val_mae: 0.1344 - lr: 6.3096e-07\n",
            "Epoch 38/100\n",
            "1349/1349 [==============================] - 24s 18ms/step - loss: 0.0244 - mae: 0.1373 - val_loss: 0.0248 - val_mae: 0.1367 - lr: 7.0795e-07\n",
            "Epoch 39/100\n",
            "1349/1349 [==============================] - 24s 18ms/step - loss: 0.0242 - mae: 0.1390 - val_loss: 0.0247 - val_mae: 0.1382 - lr: 7.9433e-07\n",
            "Epoch 40/100\n",
            "1349/1349 [==============================] - 25s 18ms/step - loss: 0.0241 - mae: 0.1401 - val_loss: 0.0246 - val_mae: 0.1391 - lr: 8.9125e-07\n",
            "Epoch 41/100\n",
            "1349/1349 [==============================] - 24s 18ms/step - loss: 0.0241 - mae: 0.1407 - val_loss: 0.0245 - val_mae: 0.1396 - lr: 1.0000e-06\n",
            "Epoch 42/100\n",
            "1349/1349 [==============================] - 24s 18ms/step - loss: 0.0240 - mae: 0.1410 - val_loss: 0.0244 - val_mae: 0.1399 - lr: 1.1220e-06\n",
            "Epoch 43/100\n",
            "1349/1349 [==============================] - 24s 18ms/step - loss: 0.0239 - mae: 0.1411 - val_loss: 0.0244 - val_mae: 0.1400 - lr: 1.2589e-06\n",
            "Epoch 44/100\n",
            "1349/1349 [==============================] - 24s 18ms/step - loss: 0.0238 - mae: 0.1412 - val_loss: 0.0243 - val_mae: 0.1401 - lr: 1.4125e-06\n",
            "Epoch 45/100\n",
            "1349/1349 [==============================] - 24s 18ms/step - loss: 0.0237 - mae: 0.1413 - val_loss: 0.0242 - val_mae: 0.1402 - lr: 1.5849e-06\n",
            "Epoch 46/100\n",
            "1349/1349 [==============================] - 24s 18ms/step - loss: 0.0236 - mae: 0.1413 - val_loss: 0.0241 - val_mae: 0.1403 - lr: 1.7783e-06\n",
            "Epoch 47/100\n",
            "1349/1349 [==============================] - 24s 18ms/step - loss: 0.0235 - mae: 0.1413 - val_loss: 0.0240 - val_mae: 0.1404 - lr: 1.9953e-06\n",
            "Epoch 48/100\n",
            "1349/1349 [==============================] - 24s 18ms/step - loss: 0.0234 - mae: 0.1412 - val_loss: 0.0239 - val_mae: 0.1403 - lr: 2.2387e-06\n",
            "Epoch 49/100\n",
            "1349/1349 [==============================] - 24s 18ms/step - loss: 0.0233 - mae: 0.1411 - val_loss: 0.0238 - val_mae: 0.1403 - lr: 2.5119e-06\n",
            "Epoch 50/100\n",
            "1349/1349 [==============================] - 24s 18ms/step - loss: 0.0232 - mae: 0.1410 - val_loss: 0.0237 - val_mae: 0.1403 - lr: 2.8184e-06\n",
            "Epoch 51/100\n",
            "1349/1349 [==============================] - 24s 18ms/step - loss: 0.0231 - mae: 0.1409 - val_loss: 0.0236 - val_mae: 0.1402 - lr: 3.1623e-06\n",
            "Epoch 52/100\n",
            "1349/1349 [==============================] - 24s 18ms/step - loss: 0.0230 - mae: 0.1407 - val_loss: 0.0235 - val_mae: 0.1401 - lr: 3.5481e-06\n",
            "Epoch 53/100\n",
            "1349/1349 [==============================] - 25s 18ms/step - loss: 0.0229 - mae: 0.1406 - val_loss: 0.0234 - val_mae: 0.1401 - lr: 3.9811e-06\n",
            "Epoch 54/100\n",
            "1349/1349 [==============================] - 24s 18ms/step - loss: 0.0229 - mae: 0.1405 - val_loss: 0.0234 - val_mae: 0.1401 - lr: 4.4668e-06\n",
            "Epoch 55/100\n",
            "1349/1349 [==============================] - 24s 18ms/step - loss: 0.0228 - mae: 0.1403 - val_loss: 0.0233 - val_mae: 0.1400 - lr: 5.0119e-06\n",
            "Epoch 56/100\n",
            "1349/1349 [==============================] - 24s 18ms/step - loss: 0.0227 - mae: 0.1402 - val_loss: 0.0232 - val_mae: 0.1400 - lr: 5.6234e-06\n",
            "Epoch 57/100\n",
            "1349/1349 [==============================] - 24s 18ms/step - loss: 0.0227 - mae: 0.1401 - val_loss: 0.0232 - val_mae: 0.1401 - lr: 6.3096e-06\n",
            "Epoch 58/100\n",
            "1349/1349 [==============================] - 25s 18ms/step - loss: 0.0226 - mae: 0.1400 - val_loss: 0.0231 - val_mae: 0.1401 - lr: 7.0795e-06\n",
            "Epoch 59/100\n",
            "1349/1349 [==============================] - 24s 18ms/step - loss: 0.0226 - mae: 0.1400 - val_loss: 0.0231 - val_mae: 0.1402 - lr: 7.9433e-06\n",
            "Epoch 60/100\n",
            "1349/1349 [==============================] - 24s 18ms/step - loss: 0.0225 - mae: 0.1399 - val_loss: 0.0230 - val_mae: 0.1403 - lr: 8.9125e-06\n",
            "Epoch 61/100\n",
            "1349/1349 [==============================] - 24s 18ms/step - loss: 0.0225 - mae: 0.1399 - val_loss: 0.0230 - val_mae: 0.1404 - lr: 1.0000e-05\n",
            "Epoch 62/100\n",
            "1349/1349 [==============================] - 24s 18ms/step - loss: 0.0224 - mae: 0.1398 - val_loss: 0.0230 - val_mae: 0.1405 - lr: 1.1220e-05\n",
            "Epoch 63/100\n",
            "1349/1349 [==============================] - 24s 18ms/step - loss: 0.0224 - mae: 0.1398 - val_loss: 0.0229 - val_mae: 0.1406 - lr: 1.2589e-05\n",
            "Epoch 64/100\n",
            "1349/1349 [==============================] - 24s 18ms/step - loss: 0.0224 - mae: 0.1397 - val_loss: 0.0229 - val_mae: 0.1407 - lr: 1.4125e-05\n",
            "Epoch 65/100\n",
            "1349/1349 [==============================] - 24s 18ms/step - loss: 0.0224 - mae: 0.1397 - val_loss: 0.0229 - val_mae: 0.1407 - lr: 1.5849e-05\n",
            "Epoch 66/100\n",
            "1349/1349 [==============================] - 25s 18ms/step - loss: 0.0223 - mae: 0.1396 - val_loss: 0.0229 - val_mae: 0.1408 - lr: 1.7783e-05\n",
            "Epoch 67/100\n",
            "1349/1349 [==============================] - 24s 18ms/step - loss: 0.0223 - mae: 0.1396 - val_loss: 0.0229 - val_mae: 0.1408 - lr: 1.9953e-05\n",
            "Epoch 68/100\n",
            "1349/1349 [==============================] - 24s 18ms/step - loss: 0.0223 - mae: 0.1395 - val_loss: 0.0228 - val_mae: 0.1408 - lr: 2.2387e-05\n",
            "Epoch 69/100\n",
            "1349/1349 [==============================] - 24s 18ms/step - loss: 0.0223 - mae: 0.1394 - val_loss: 0.0228 - val_mae: 0.1408 - lr: 2.5119e-05\n",
            "Epoch 70/100\n",
            "1349/1349 [==============================] - 25s 18ms/step - loss: 0.0223 - mae: 0.1394 - val_loss: 0.0228 - val_mae: 0.1408 - lr: 2.8184e-05\n",
            "Epoch 71/100\n",
            "1349/1349 [==============================] - 24s 18ms/step - loss: 0.0223 - mae: 0.1393 - val_loss: 0.0228 - val_mae: 0.1409 - lr: 3.1623e-05\n",
            "Epoch 72/100\n",
            "1349/1349 [==============================] - 24s 18ms/step - loss: 0.0222 - mae: 0.1392 - val_loss: 0.0228 - val_mae: 0.1410 - lr: 3.5481e-05\n",
            "Epoch 73/100\n",
            "1349/1349 [==============================] - 24s 18ms/step - loss: 0.0222 - mae: 0.1392 - val_loss: 0.0228 - val_mae: 0.1411 - lr: 3.9811e-05\n",
            "Epoch 74/100\n",
            "1349/1349 [==============================] - 24s 18ms/step - loss: 0.0222 - mae: 0.1391 - val_loss: 0.0227 - val_mae: 0.1412 - lr: 4.4668e-05\n",
            "Epoch 75/100\n",
            "1349/1349 [==============================] - 24s 18ms/step - loss: 0.0222 - mae: 0.1391 - val_loss: 0.0227 - val_mae: 0.1412 - lr: 5.0119e-05\n",
            "Epoch 76/100\n",
            "1349/1349 [==============================] - 24s 18ms/step - loss: 0.0222 - mae: 0.1390 - val_loss: 0.0227 - val_mae: 0.1411 - lr: 5.6234e-05\n",
            "Epoch 77/100\n",
            "1349/1349 [==============================] - 24s 18ms/step - loss: 0.0222 - mae: 0.1389 - val_loss: 0.0227 - val_mae: 0.1410 - lr: 6.3096e-05\n",
            "Epoch 78/100\n",
            "1349/1349 [==============================] - 25s 18ms/step - loss: 0.0221 - mae: 0.1388 - val_loss: 0.0227 - val_mae: 0.1410 - lr: 7.0795e-05\n",
            "Epoch 79/100\n",
            "1349/1349 [==============================] - 24s 18ms/step - loss: 0.0221 - mae: 0.1388 - val_loss: 0.0226 - val_mae: 0.1405 - lr: 7.9433e-05\n",
            "Epoch 80/100\n",
            "1349/1349 [==============================] - 24s 18ms/step - loss: 0.0221 - mae: 0.1387 - val_loss: 0.0227 - val_mae: 0.1406 - lr: 8.9125e-05\n",
            "Epoch 81/100\n",
            "1349/1349 [==============================] - 24s 18ms/step - loss: 0.0221 - mae: 0.1388 - val_loss: 0.0226 - val_mae: 0.1405 - lr: 1.0000e-04\n",
            "Epoch 82/100\n",
            "1349/1349 [==============================] - 25s 18ms/step - loss: 0.0221 - mae: 0.1387 - val_loss: 0.0226 - val_mae: 0.1409 - lr: 1.1220e-04\n",
            "Epoch 83/100\n",
            "1349/1349 [==============================] - 24s 18ms/step - loss: 0.0221 - mae: 0.1387 - val_loss: 0.0226 - val_mae: 0.1409 - lr: 1.2589e-04\n",
            "Epoch 84/100\n",
            "1349/1349 [==============================] - 24s 18ms/step - loss: 0.0221 - mae: 0.1387 - val_loss: 0.0226 - val_mae: 0.1411 - lr: 1.4125e-04\n",
            "Epoch 85/100\n",
            "1349/1349 [==============================] - 24s 18ms/step - loss: 0.0221 - mae: 0.1387 - val_loss: 0.0226 - val_mae: 0.1414 - lr: 1.5849e-04\n",
            "Epoch 86/100\n",
            "1349/1349 [==============================] - 24s 18ms/step - loss: 0.0221 - mae: 0.1386 - val_loss: 0.0227 - val_mae: 0.1418 - lr: 1.7783e-04\n",
            "Epoch 87/100\n",
            "1349/1349 [==============================] - 24s 18ms/step - loss: 0.0221 - mae: 0.1386 - val_loss: 0.0226 - val_mae: 0.1403 - lr: 1.9953e-04\n",
            "Epoch 88/100\n",
            "1349/1349 [==============================] - 24s 18ms/step - loss: 0.0221 - mae: 0.1387 - val_loss: 0.0227 - val_mae: 0.1408 - lr: 2.2387e-04\n",
            "Epoch 89/100\n",
            "1349/1349 [==============================] - 24s 18ms/step - loss: 0.0221 - mae: 0.1386 - val_loss: 0.0227 - val_mae: 0.1405 - lr: 2.5119e-04\n",
            "Epoch 90/100\n",
            "1349/1349 [==============================] - 25s 18ms/step - loss: 0.0221 - mae: 0.1387 - val_loss: 0.0227 - val_mae: 0.1402 - lr: 2.8184e-04\n",
            "Epoch 91/100\n",
            "1349/1349 [==============================] - 24s 18ms/step - loss: 0.0221 - mae: 0.1387 - val_loss: 0.0226 - val_mae: 0.1395 - lr: 3.1623e-04\n",
            "Epoch 92/100\n",
            "1349/1349 [==============================] - 24s 18ms/step - loss: 0.0221 - mae: 0.1388 - val_loss: 0.0227 - val_mae: 0.1412 - lr: 3.5481e-04\n",
            "Epoch 93/100\n",
            "1349/1349 [==============================] - 24s 18ms/step - loss: 0.0221 - mae: 0.1388 - val_loss: 0.0227 - val_mae: 0.1395 - lr: 3.9811e-04\n",
            "Epoch 94/100\n",
            "1349/1349 [==============================] - 24s 18ms/step - loss: 0.0221 - mae: 0.1389 - val_loss: 0.0227 - val_mae: 0.1389 - lr: 4.4668e-04\n",
            "Epoch 95/100\n",
            "1349/1349 [==============================] - 24s 18ms/step - loss: 0.0221 - mae: 0.1389 - val_loss: 0.0227 - val_mae: 0.1381 - lr: 5.0119e-04\n",
            "Epoch 96/100\n",
            "1349/1349 [==============================] - 24s 18ms/step - loss: 0.0221 - mae: 0.1390 - val_loss: 0.0227 - val_mae: 0.1383 - lr: 5.6234e-04\n",
            "Epoch 97/100\n",
            "1349/1349 [==============================] - 24s 18ms/step - loss: 0.0222 - mae: 0.1394 - val_loss: 0.0247 - val_mae: 0.1592 - lr: 6.3096e-04\n",
            "Epoch 98/100\n",
            "1349/1349 [==============================] - 24s 18ms/step - loss: 0.0222 - mae: 0.1393 - val_loss: 0.0227 - val_mae: 0.1385 - lr: 7.0795e-04\n",
            "Epoch 99/100\n",
            "1349/1349 [==============================] - 24s 18ms/step - loss: 0.0222 - mae: 0.1391 - val_loss: 0.0228 - val_mae: 0.1380 - lr: 7.9433e-04\n",
            "Epoch 100/100\n",
            "1349/1349 [==============================] - 24s 18ms/step - loss: 0.0222 - mae: 0.1390 - val_loss: 0.0228 - val_mae: 0.1392 - lr: 8.9125e-04\n"
          ]
        }
      ]
    },
    {
      "cell_type": "markdown",
      "source": [
        "Plot result of learning rate schedule"
      ],
      "metadata": {
        "id": "9dQ8fp7ViRP5"
      }
    },
    {
      "cell_type": "code",
      "source": [
        "# Define the learning rate array\n",
        "lrs = 1e-8 * (10 ** (np.arange(100) / 20))\n",
        "\n",
        "# Set the figure size\n",
        "plt.figure(figsize=(10, 6))\n",
        "\n",
        "# Set the grid\n",
        "plt.grid(True)\n",
        "\n",
        "# Plot the loss in log scale\n",
        "plt.semilogx(lrs, history_lr.history[\"loss\"])\n",
        "\n",
        "# Increase the tickmarks size\n",
        "plt.tick_params('both', length=10, width=1, which='both')\n",
        "\n",
        "# Set the plot boundaries\n",
        "plt.axis([1e-8, 1e-3, 0, .2])\n",
        "plt.show()"
      ],
      "metadata": {
        "colab": {
          "base_uri": "https://localhost:8080/",
          "height": 392
        },
        "id": "LUYW3w_2iHDh",
        "outputId": "aeccb222-8523-4cdb-9513-0dd71ff06f1c"
      },
      "execution_count": 23,
      "outputs": [
        {
          "output_type": "display_data",
          "data": {
            "text/plain": [
              "<Figure size 720x432 with 1 Axes>"
            ],
            "image/png": "[encoded data removed]"
          },
          "metadata": {
            "needs_background": "light"
          }
        }
      ]
    },
    {
      "cell_type": "markdown",
      "source": [
        "#### Train model with learning rate 1e-4"
      ],
      "metadata": {
        "id": "Nna6ZCLwmMXu"
      }
    },
    {
      "cell_type": "code",
      "source": [
        "3e-7"
      ],
      "metadata": {
        "colab": {
          "base_uri": "https://localhost:8080/"
        },
        "id": "5CRJHKF_is98",
        "outputId": "0b246565-db37-4b19-8fc5-e5b762e0560c"
      },
      "execution_count": 15,
      "outputs": [
        {
          "output_type": "execute_result",
          "data": {
            "text/plain": [
              "3e-07"
            ]
          },
          "metadata": {},
          "execution_count": 15
        }
      ]
    },
    {
      "cell_type": "code",
      "source": [
        "model = build_model(N_PAST, N_FEATURES, lr=3e-7)"
      ],
      "metadata": {
        "colab": {
          "base_uri": "https://localhost:8080/"
        },
        "id": "BqXHbWMfm12X",
        "outputId": "ff6850c7-ac9a-461c-886b-4690fcc89633"
      },
      "execution_count": 19,
      "outputs": [
        {
          "output_type": "stream",
          "name": "stdout",
          "text": [
            "Model: \"sequential\"\n",
            "_________________________________________________________________\n",
            " Layer (type)                Output Shape              Param #   \n",
            "=================================================================\n",
            " conv1d (Conv1D)             (None, 24, 60)            2160      \n",
            "                                                                 \n",
            " lstm (LSTM)                 (None, 24, 64)            32000     \n",
            "                                                                 \n",
            " lstm_1 (LSTM)               (None, 24, 64)            33024     \n",
            "                                                                 \n",
            " dense (Dense)               (None, 24, 10)            650       \n",
            "                                                                 \n",
            " dense_1 (Dense)             (None, 24, 10)            110       \n",
            "                                                                 \n",
            " dense_2 (Dense)             (None, 24, 1)             11        \n",
            "                                                                 \n",
            "=================================================================\n",
            "Total params: 67,955\n",
            "Trainable params: 67,955\n",
            "Non-trainable params: 0\n",
            "_________________________________________________________________\n",
            "\n",
            "Model Succesfully Create\n"
          ]
        }
      ]
    },
    {
      "cell_type": "code",
      "source": [
        "history = model.fit(train_set ,epochs=100, validation_data=valid_set, \n",
        "                    callbacks=[model_checkpoint, early_stopping])"
      ],
      "metadata": {
        "colab": {
          "base_uri": "https://localhost:8080/"
        },
        "id": "g1Dm93iqlXCT",
        "outputId": "1e68870e-b80e-4734-a6a1-6e09b51f3061"
      },
      "execution_count": 20,
      "outputs": [
        {
          "output_type": "stream",
          "name": "stdout",
          "text": [
            "Epoch 1/100\n",
            "   1346/Unknown - 20s 11ms/step - loss: 0.0338 - mae: 0.1349\n",
            "Epoch 1: mae improved from inf to 0.13505, saving model to model.h5\n",
            "1349/1349 [==============================] - 30s 19ms/step - loss: 0.0338 - mae: 0.1351 - val_loss: 0.0342 - val_mae: 0.1320\n",
            "Epoch 2/100\n",
            "1346/1349 [============================>.] - ETA: 0s - loss: 0.0336 - mae: 0.1345\n",
            "Epoch 2: mae improved from 0.13505 to 0.13463, saving model to model.h5\n",
            "1349/1349 [==============================] - 24s 18ms/step - loss: 0.0337 - mae: 0.1346 - val_loss: 0.0340 - val_mae: 0.1316\n",
            "Epoch 3/100\n",
            "1347/1349 [============================>.] - ETA: 0s - loss: 0.0334 - mae: 0.1341\n",
            "Epoch 3: mae improved from 0.13463 to 0.13420, saving model to model.h5\n",
            "1349/1349 [==============================] - 25s 18ms/step - loss: 0.0335 - mae: 0.1342 - val_loss: 0.0338 - val_mae: 0.1312\n",
            "Epoch 4/100\n",
            "1345/1349 [============================>.] - ETA: 0s - loss: 0.0330 - mae: 0.1334\n",
            "Epoch 4: mae improved from 0.13420 to 0.13360, saving model to model.h5\n",
            "1349/1349 [==============================] - 24s 18ms/step - loss: 0.0331 - mae: 0.1336 - val_loss: 0.0334 - val_mae: 0.1306\n",
            "Epoch 5/100\n",
            "1345/1349 [============================>.] - ETA: 0s - loss: 0.0324 - mae: 0.1324\n",
            "Epoch 5: mae improved from 0.13360 to 0.13260, saving model to model.h5\n",
            "1349/1349 [==============================] - 24s 18ms/step - loss: 0.0325 - mae: 0.1326 - val_loss: 0.0325 - val_mae: 0.1293\n",
            "Epoch 6/100\n",
            "1344/1349 [============================>.] - ETA: 0s - loss: 0.0312 - mae: 0.1307\n",
            "Epoch 6: mae improved from 0.13260 to 0.13092, saving model to model.h5\n",
            "1349/1349 [==============================] - 24s 18ms/step - loss: 0.0313 - mae: 0.1309 - val_loss: 0.0312 - val_mae: 0.1274\n",
            "Epoch 7/100\n",
            "1346/1349 [============================>.] - ETA: 0s - loss: 0.0302 - mae: 0.1293\n",
            "Epoch 7: mae improved from 0.13092 to 0.12944, saving model to model.h5\n",
            "1349/1349 [==============================] - 24s 18ms/step - loss: 0.0302 - mae: 0.1294 - val_loss: 0.0303 - val_mae: 0.1263\n",
            "Epoch 8/100\n",
            "1345/1349 [============================>.] - ETA: 0s - loss: 0.0293 - mae: 0.1284\n",
            "Epoch 8: mae improved from 0.12944 to 0.12850, saving model to model.h5\n",
            "1349/1349 [==============================] - 24s 18ms/step - loss: 0.0293 - mae: 0.1285 - val_loss: 0.0294 - val_mae: 0.1256\n",
            "Epoch 9/100\n",
            "1347/1349 [============================>.] - ETA: 0s - loss: 0.0285 - mae: 0.1280\n",
            "Epoch 9: mae improved from 0.12850 to 0.12805, saving model to model.h5\n",
            "1349/1349 [==============================] - 24s 18ms/step - loss: 0.0286 - mae: 0.1280 - val_loss: 0.0287 - val_mae: 0.1253\n",
            "Epoch 10/100\n",
            "1347/1349 [============================>.] - ETA: 0s - loss: 0.0278 - mae: 0.1279\n",
            "Epoch 10: mae improved from 0.12805 to 0.12799, saving model to model.h5\n",
            "1349/1349 [==============================] - 24s 18ms/step - loss: 0.0279 - mae: 0.1280 - val_loss: 0.0280 - val_mae: 0.1255\n",
            "Epoch 11/100\n",
            "1348/1349 [============================>.] - ETA: 0s - loss: 0.0272 - mae: 0.1282\n",
            "Epoch 11: mae did not improve from 0.12799\n",
            "1349/1349 [==============================] - 24s 18ms/step - loss: 0.0272 - mae: 0.1282 - val_loss: 0.0274 - val_mae: 0.1258\n",
            "Epoch 12/100\n",
            "1346/1349 [============================>.] - ETA: 0s - loss: 0.0266 - mae: 0.1285\n",
            "Epoch 12: mae did not improve from 0.12799\n",
            "1349/1349 [==============================] - 24s 18ms/step - loss: 0.0266 - mae: 0.1286 - val_loss: 0.0269 - val_mae: 0.1264\n",
            "Epoch 13/100\n",
            "1346/1349 [============================>.] - ETA: 0s - loss: 0.0261 - mae: 0.1292\n",
            "Epoch 13: mae did not improve from 0.12799\n",
            "1349/1349 [==============================] - 24s 18ms/step - loss: 0.0261 - mae: 0.1293 - val_loss: 0.0264 - val_mae: 0.1272\n",
            "Epoch 14/100\n",
            "1347/1349 [============================>.] - ETA: 0s - loss: 0.0256 - mae: 0.1302\n",
            "Epoch 14: mae did not improve from 0.12799\n",
            "1349/1349 [==============================] - 24s 18ms/step - loss: 0.0257 - mae: 0.1302 - val_loss: 0.0260 - val_mae: 0.1284\n",
            "Epoch 15/100\n",
            "1347/1349 [============================>.] - ETA: 0s - loss: 0.0253 - mae: 0.1313\n",
            "Epoch 15: mae did not improve from 0.12799\n",
            "1349/1349 [==============================] - 24s 18ms/step - loss: 0.0253 - mae: 0.1314 - val_loss: 0.0256 - val_mae: 0.1297\n",
            "Epoch 16/100\n",
            "1346/1349 [============================>.] - ETA: 0s - loss: 0.0250 - mae: 0.1325\n",
            "Epoch 16: mae did not improve from 0.12799\n",
            "1349/1349 [==============================] - 24s 18ms/step - loss: 0.0250 - mae: 0.1326 - val_loss: 0.0254 - val_mae: 0.1312\n",
            "Epoch 17/100\n",
            "1347/1349 [============================>.] - ETA: 0s - loss: 0.0247 - mae: 0.1339\n",
            "Epoch 17: mae did not improve from 0.12799\n",
            "1349/1349 [==============================] - 25s 18ms/step - loss: 0.0248 - mae: 0.1339 - val_loss: 0.0252 - val_mae: 0.1327\n",
            "Epoch 18/100\n",
            "1344/1349 [============================>.] - ETA: 0s - loss: 0.0245 - mae: 0.1350\n",
            "Epoch 18: mae did not improve from 0.12799\n",
            "1349/1349 [==============================] - 24s 18ms/step - loss: 0.0246 - mae: 0.1352 - val_loss: 0.0250 - val_mae: 0.1340\n",
            "Epoch 19/100\n",
            "1349/1349 [==============================] - ETA: 0s - loss: 0.0245 - mae: 0.1364\n",
            "Epoch 19: mae did not improve from 0.12799\n",
            "1349/1349 [==============================] - 24s 18ms/step - loss: 0.0245 - mae: 0.1364 - val_loss: 0.0249 - val_mae: 0.1352\n",
            "Epoch 20/100\n",
            "1345/1349 [============================>.] - ETA: 0s - loss: 0.0243 - mae: 0.1372\n",
            "Epoch 20: mae did not improve from 0.12799\n",
            "Restoring model weights from the end of the best epoch: 10.\n",
            "1349/1349 [==============================] - 24s 18ms/step - loss: 0.0244 - mae: 0.1373 - val_loss: 0.0249 - val_mae: 0.1362\n",
            "Epoch 20: early stopping\n"
          ]
        }
      ]
    },
    {
      "cell_type": "code",
      "source": [
        "def plot_series(x, y, format=\"-\", start=0, end=None, \n",
        "                title=None, xlabel=None, ylabel=None, legend=None ):\n",
        "    \"\"\"\n",
        "    Visualizes time series data\n",
        "\n",
        "    Args:\n",
        "      x (array of int) - contains values for the x-axis\n",
        "      y (array of int or tuple of arrays) - contains the values for the y-axis\n",
        "      format (string) - line style when plotting the graph\n",
        "      start (int) - first time step to plot\n",
        "      end (int) - last time step to plot\n",
        "      title (string) - title of the plot\n",
        "      xlabel (string) - label for the x-axis\n",
        "      ylabel (string) - label for the y-axis\n",
        "      legend (list of strings) - legend for the plot\n",
        "    \"\"\"\n",
        "\n",
        "    # Setup dimensions of the graph figure\n",
        "    plt.figure(figsize=(10, 6))\n",
        "    \n",
        "    # Check if there are more than two series to plot\n",
        "    if type(y) is tuple:\n",
        "\n",
        "      # Loop over the y elements\n",
        "      for y_curr in y:\n",
        "\n",
        "        # Plot the x and current y values\n",
        "        plt.plot(x[start:end], y_curr[start:end], format)\n",
        "\n",
        "    else:\n",
        "      # Plot the x and y values\n",
        "      plt.plot(x[start:end], y[start:end], format)\n",
        "\n",
        "    # Label the x-axis\n",
        "    plt.xlabel(xlabel)\n",
        "\n",
        "    # Label the y-axis\n",
        "    plt.ylabel(ylabel)\n",
        "\n",
        "    # Set the legend\n",
        "    if legend:\n",
        "      plt.legend(legend)\n",
        "\n",
        "    # Set the title\n",
        "    plt.title(title)\n",
        "\n",
        "    # Overlay a grid on the graph\n",
        "    plt.grid(True)\n",
        "\n",
        "    # Draw the graph on screen\n",
        "    plt.show()"
      ],
      "metadata": {
        "id": "d3iMjUpGnGeU"
      },
      "execution_count": 23,
      "outputs": []
    },
    {
      "cell_type": "code",
      "source": [
        "mae = history.history['mae']\n",
        "loss = history.history['loss']\n",
        "\n",
        "val_mae = history.history['val_mae']\n",
        "val_loss = history.history['val_loss']\n",
        "\n",
        "epochs=range(len(loss)) \n",
        "\n",
        "plot_series(x=epochs,\n",
        "            y=(mae, val_mae), \n",
        "            title='MAE and Loss', \n",
        "            xlabel='MAE',\n",
        "            ylabel='val_MAE',\n",
        "            legend=['MAE', 'val_MAE'])\n",
        "\n",
        "plot_series(x=epochs,\n",
        "            y=(loss, val_loss), \n",
        "            title='loss and val_Loss', \n",
        "            xlabel='loss',\n",
        "            ylabel='val_Loss',\n",
        "            legend=['loss', 'val_Loss'])\n"
      ],
      "metadata": {
        "colab": {
          "base_uri": "https://localhost:8080/",
          "height": 789
        },
        "id": "wDWBwi8ZsBo7",
        "outputId": "13cfc4e9-8154-463c-9dc8-453f49863bd9"
      },
      "execution_count": 25,
      "outputs": [
        {
          "output_type": "display_data",
          "data": {
            "text/plain": [
              "<Figure size 720x432 with 1 Axes>"
            ],
            "image/png": "[encoded data removed]"
          },
          "metadata": {}
        },
        {
          "output_type": "display_data",
          "data": {
            "text/plain": [
              "<Figure size 720x432 with 1 Axes>"
            ],
            "image/png": "[encoded data removed]"
          },
          "metadata": {}
        }
      ]
    },
    {
      "cell_type": "markdown",
      "source": [
        "### Download Model"
      ],
      "metadata": {
        "id": "_GEUh7a4IZHi"
      }
    },
    {
      "cell_type": "code",
      "source": [
        "from google.colab import files\n",
        "files.download('model.h5')"
      ],
      "metadata": {
        "id": "n6pmd7PxIa10"
      },
      "execution_count": null,
      "outputs": []
    }
  ]
}