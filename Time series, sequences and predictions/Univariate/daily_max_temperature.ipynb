{
  "nbformat": 4,
  "nbformat_minor": 0,
  "metadata": {
    "colab": {
      "name": "daily_max_temperature.ipynb",
      "provenance": []
    },
    "kernelspec": {
      "name": "python3",
      "display_name": "Python 3"
    },
    "language_info": {
      "name": "python"
    }
  },
  "cells": [
    {
      "cell_type": "markdown",
      "source": [
        "# Time series, sequences and predictions\n",
        "Daily Max Temperature"
      ],
      "metadata": {
        "id": "idLxb_FZcBAG"
      }
    },
    {
      "cell_type": "markdown",
      "source": [
        "## Importing Module"
      ],
      "metadata": {
        "id": "gFVZLIYkcH40"
      }
    },
    {
      "cell_type": "code",
      "execution_count": 1,
      "metadata": {
        "colab": {
          "base_uri": "https://localhost:8080/"
        },
        "id": "fCrVDo6ibTOl",
        "outputId": "8828fdd1-72c4-4a17-f433-67c2424aa2d8"
      },
      "outputs": [
        {
          "output_type": "stream",
          "name": "stdout",
          "text": [
            "Tensorflow version: 2.8.2\n"
          ]
        }
      ],
      "source": [
        "import os\n",
        "import csv\n",
        "import urllib\n",
        "\n",
        "import pandas as pd\n",
        "import numpy as np\n",
        "import tensorflow as tf\n",
        "\n",
        "from matplotlib import pyplot as plt\n",
        "\n",
        "%matplotlib inline\n",
        "plt.style.use('seaborn')\n",
        "print(f'Tensorflow version: {tf.__version__}')"
      ]
    },
    {
      "cell_type": "markdown",
      "source": [
        "## Problem\n",
        "\n",
        "- Build and train a neural network model using the Daily Max Temperature.csv dataset.\n",
        "- Use MAE as the metrics of your neural network model.\n",
        "- We provided code for normalizing the data. Please do not change the code.\n",
        "- Do not use lambda layers in your model.\n",
        "- The dataset used in this problem is downloaded from https://github.com/jbrownlee/Datasets\n",
        "- Desired MAE < `0.2` on the normalized dataset."
      ],
      "metadata": {
        "id": "89HPw6zbcc60"
      }
    },
    {
      "cell_type": "markdown",
      "source": [
        "### Preparing data"
      ],
      "metadata": {
        "id": "qlqIT9-9clVu"
      }
    },
    {
      "cell_type": "code",
      "source": [
        "data_url = 'https://raw.githubusercontent.com/jbrownlee/Datasets/master/daily-max-temperatures.csv'\n",
        "name_file = 'daily-max-temperatures.csv'\n",
        "\n",
        "if os.path.isfile(name_file) == False:\n",
        "  urllib.request.urlretrieve(data_url, name_file)\n",
        "  print(f'{name_file} Downloaded')\n",
        "else:\n",
        "  print(f'{name_file} Already exist')"
      ],
      "metadata": {
        "colab": {
          "base_uri": "https://localhost:8080/"
        },
        "id": "TSAvbXZScRo9",
        "outputId": "1a87858a-7183-4deb-d614-00af09c9c699"
      },
      "execution_count": 2,
      "outputs": [
        {
          "output_type": "stream",
          "name": "stdout",
          "text": [
            "daily-max-temperatures.csv Already exist\n"
          ]
        }
      ]
    },
    {
      "cell_type": "markdown",
      "source": [
        "#### Explore data"
      ],
      "metadata": {
        "id": "YHzG4dSycs_M"
      }
    },
    {
      "cell_type": "markdown",
      "source": [
        "Load data using pandas"
      ],
      "metadata": {
        "id": "jdCIHgBnc1rV"
      }
    },
    {
      "cell_type": "code",
      "source": [
        "df = pd.read_csv(name_file)"
      ],
      "metadata": {
        "id": "9sBKTg9KcqNN"
      },
      "execution_count": 3,
      "outputs": []
    },
    {
      "cell_type": "code",
      "source": [
        "print(f'Total Data : {df.shape[0]}')\n",
        "print(f'Total Columns : {df.shape[1]}')"
      ],
      "metadata": {
        "colab": {
          "base_uri": "https://localhost:8080/"
        },
        "id": "KJ3SVDMJcyjE",
        "outputId": "2e4e1f7a-7110-45c4-b2f9-f14f23b0abc8"
      },
      "execution_count": 4,
      "outputs": [
        {
          "output_type": "stream",
          "name": "stdout",
          "text": [
            "Total Data : 3650\n",
            "Total Columns : 2\n"
          ]
        }
      ]
    },
    {
      "cell_type": "markdown",
      "source": [
        "First 10 from data"
      ],
      "metadata": {
        "id": "qzD6QixZdO1u"
      }
    },
    {
      "cell_type": "code",
      "source": [
        "df.head(10)"
      ],
      "metadata": {
        "colab": {
          "base_uri": "https://localhost:8080/",
          "height": 363
        },
        "id": "ugRcCTHudSho",
        "outputId": "8574bec7-b7f5-4a35-c591-d553ebc4be6f"
      },
      "execution_count": 5,
      "outputs": [
        {
          "output_type": "execute_result",
          "data": {
            "text/plain": [
              "         Date  Temperature\n",
              "0  1981-01-01         38.1\n",
              "1  1981-01-02         32.4\n",
              "2  1981-01-03         34.5\n",
              "3  1981-01-04         20.7\n",
              "4  1981-01-05         21.5\n",
              "5  1981-01-06         23.1\n",
              "6  1981-01-07         29.7\n",
              "7  1981-01-08         36.6\n",
              "8  1981-01-09         36.1\n",
              "9  1981-01-10         20.6"
            ],
            "text/html": [
              "\n",
              "  <div id=\"df-ca5d39c7-8f39-4c04-8a75-91294f54f5e7\">\n",
              "    <div class=\"colab-df-container\">\n",
              "      <div>\n",
              "<style scoped>\n",
              "    .dataframe tbody tr th:only-of-type {\n",
              "        vertical-align: middle;\n",
              "    }\n",
              "\n",
              "    .dataframe tbody tr th {\n",
              "        vertical-align: top;\n",
              "    }\n",
              "\n",
              "    .dataframe thead th {\n",
              "        text-align: right;\n",
              "    }\n",
              "</style>\n",
              "<table border=\"1\" class=\"dataframe\">\n",
              "  <thead>\n",
              "    <tr style=\"text-align: right;\">\n",
              "      <th></th>\n",
              "      <th>Date</th>\n",
              "      <th>Temperature</th>\n",
              "    </tr>\n",
              "  </thead>\n",
              "  <tbody>\n",
              "    <tr>\n",
              "      <th>0</th>\n",
              "      <td>1981-01-01</td>\n",
              "      <td>38.1</td>\n",
              "    </tr>\n",
              "    <tr>\n",
              "      <th>1</th>\n",
              "      <td>1981-01-02</td>\n",
              "      <td>32.4</td>\n",
              "    </tr>\n",
              "    <tr>\n",
              "      <th>2</th>\n",
              "      <td>1981-01-03</td>\n",
              "      <td>34.5</td>\n",
              "    </tr>\n",
              "    <tr>\n",
              "      <th>3</th>\n",
              "      <td>1981-01-04</td>\n",
              "      <td>20.7</td>\n",
              "    </tr>\n",
              "    <tr>\n",
              "      <th>4</th>\n",
              "      <td>1981-01-05</td>\n",
              "      <td>21.5</td>\n",
              "    </tr>\n",
              "    <tr>\n",
              "      <th>5</th>\n",
              "      <td>1981-01-06</td>\n",
              "      <td>23.1</td>\n",
              "    </tr>\n",
              "    <tr>\n",
              "      <th>6</th>\n",
              "      <td>1981-01-07</td>\n",
              "      <td>29.7</td>\n",
              "    </tr>\n",
              "    <tr>\n",
              "      <th>7</th>\n",
              "      <td>1981-01-08</td>\n",
              "      <td>36.6</td>\n",
              "    </tr>\n",
              "    <tr>\n",
              "      <th>8</th>\n",
              "      <td>1981-01-09</td>\n",
              "      <td>36.1</td>\n",
              "    </tr>\n",
              "    <tr>\n",
              "      <th>9</th>\n",
              "      <td>1981-01-10</td>\n",
              "      <td>20.6</td>\n",
              "    </tr>\n",
              "  </tbody>\n",
              "</table>\n",
              "</div>\n",
              "      <button class=\"colab-df-convert\" onclick=\"convertToInteractive('df-ca5d39c7-8f39-4c04-8a75-91294f54f5e7')\"\n",
              "              title=\"Convert this dataframe to an interactive table.\"\n",
              "              style=\"display:none;\">\n",
              "        \n",
              "  <svg xmlns=\"http://www.w3.org/2000/svg\" height=\"24px\"viewBox=\"0 0 24 24\"\n",
              "       width=\"24px\">\n",
              "    <path d=\"M0 0h24v24H0V0z\" fill=\"none\"/>\n",
              "    <path d=\"M18.56 5.44l.94 2.06.94-2.06 2.06-.94-2.06-.94-.94-2.06-.94 2.06-2.06.94zm-11 1L8.5 8.5l.94-2.06 2.06-.94-2.06-.94L8.5 2.5l-.94 2.06-2.06.94zm10 10l.94 2.06.94-2.06 2.06-.94-2.06-.94-.94-2.06-.94 2.06-2.06.94z\"/><path d=\"M17.41 7.96l-1.37-1.37c-.4-.4-.92-.59-1.43-.59-.52 0-1.04.2-1.43.59L10.3 9.45l-7.72 7.72c-.78.78-.78 2.05 0 2.83L4 21.41c.39.39.9.59 1.41.59.51 0 1.02-.2 1.41-.59l7.78-7.78 2.81-2.81c.8-.78.8-2.07 0-2.86zM5.41 20L4 18.59l7.72-7.72 1.47 1.35L5.41 20z\"/>\n",
              "  </svg>\n",
              "      </button>\n",
              "      \n",
              "  <style>\n",
              "    .colab-df-container {\n",
              "      display:flex;\n",
              "      flex-wrap:wrap;\n",
              "      gap: 12px;\n",
              "    }\n",
              "\n",
              "    .colab-df-convert {\n",
              "      background-color: #E8F0FE;\n",
              "      border: none;\n",
              "      border-radius: 50%;\n",
              "      cursor: pointer;\n",
              "      display: none;\n",
              "      fill: #1967D2;\n",
              "      height: 32px;\n",
              "      padding: 0 0 0 0;\n",
              "      width: 32px;\n",
              "    }\n",
              "\n",
              "    .colab-df-convert:hover {\n",
              "      background-color: #E2EBFA;\n",
              "      box-shadow: 0px 1px 2px rgba(60, 64, 67, 0.3), 0px 1px 3px 1px rgba(60, 64, 67, 0.15);\n",
              "      fill: #174EA6;\n",
              "    }\n",
              "\n",
              "    [theme=dark] .colab-df-convert {\n",
              "      background-color: #3B4455;\n",
              "      fill: #D2E3FC;\n",
              "    }\n",
              "\n",
              "    [theme=dark] .colab-df-convert:hover {\n",
              "      background-color: #434B5C;\n",
              "      box-shadow: 0px 1px 3px 1px rgba(0, 0, 0, 0.15);\n",
              "      filter: drop-shadow(0px 1px 2px rgba(0, 0, 0, 0.3));\n",
              "      fill: #FFFFFF;\n",
              "    }\n",
              "  </style>\n",
              "\n",
              "      <script>\n",
              "        const buttonEl =\n",
              "          document.querySelector('#df-ca5d39c7-8f39-4c04-8a75-91294f54f5e7 button.colab-df-convert');\n",
              "        buttonEl.style.display =\n",
              "          google.colab.kernel.accessAllowed ? 'block' : 'none';\n",
              "\n",
              "        async function convertToInteractive(key) {\n",
              "          const element = document.querySelector('#df-ca5d39c7-8f39-4c04-8a75-91294f54f5e7');\n",
              "          const dataTable =\n",
              "            await google.colab.kernel.invokeFunction('convertToInteractive',\n",
              "                                                     [key], {});\n",
              "          if (!dataTable) return;\n",
              "\n",
              "          const docLinkHtml = 'Like what you see? Visit the ' +\n",
              "            '<a target=\"_blank\" href=https://colab.research.google.com/notebooks/data_table.ipynb>data table notebook</a>'\n",
              "            + ' to learn more about interactive tables.';\n",
              "          element.innerHTML = '';\n",
              "          dataTable['output_type'] = 'display_data';\n",
              "          await google.colab.output.renderOutput(dataTable, element);\n",
              "          const docLink = document.createElement('div');\n",
              "          docLink.innerHTML = docLinkHtml;\n",
              "          element.appendChild(docLink);\n",
              "        }\n",
              "      </script>\n",
              "    </div>\n",
              "  </div>\n",
              "  "
            ]
          },
          "metadata": {},
          "execution_count": 5
        }
      ]
    },
    {
      "cell_type": "markdown",
      "source": [
        "More information about data"
      ],
      "metadata": {
        "id": "OZSZGCJydLJZ"
      }
    },
    {
      "cell_type": "code",
      "source": [
        "df.info()"
      ],
      "metadata": {
        "colab": {
          "base_uri": "https://localhost:8080/"
        },
        "id": "hsROgx-UdCgV",
        "outputId": "7b1ff647-15cc-4649-d84a-a48f5c2024f2"
      },
      "execution_count": 6,
      "outputs": [
        {
          "output_type": "stream",
          "name": "stdout",
          "text": [
            "<class 'pandas.core.frame.DataFrame'>\n",
            "RangeIndex: 3650 entries, 0 to 3649\n",
            "Data columns (total 2 columns):\n",
            " #   Column       Non-Null Count  Dtype  \n",
            "---  ------       --------------  -----  \n",
            " 0   Date         3650 non-null   object \n",
            " 1   Temperature  3650 non-null   float64\n",
            "dtypes: float64(1), object(1)\n",
            "memory usage: 57.2+ KB\n"
          ]
        }
      ]
    },
    {
      "cell_type": "code",
      "source": [
        "df.columns = ['date', 'temperature'] # rename column"
      ],
      "metadata": {
        "id": "PeLVR-Vc2H9u"
      },
      "execution_count": 7,
      "outputs": []
    },
    {
      "cell_type": "markdown",
      "source": [
        "Visualize data"
      ],
      "metadata": {
        "id": "ITrP9FETdh4X"
      }
    },
    {
      "cell_type": "code",
      "source": [
        "def plot_series(x, y, format=\"-\", start=0, end=None, \n",
        "                title=None, xlabel=None, ylabel=None, legend=None ):\n",
        "    \"\"\"\n",
        "    Visualizes time series data\n",
        "\n",
        "    Args:\n",
        "      x (array of int) - contains values for the x-axis\n",
        "      y (array of int or tuple of arrays) - contains the values for the y-axis\n",
        "      format (string) - line style when plotting the graph\n",
        "      start (int) - first time step to plot\n",
        "      end (int) - last time step to plot\n",
        "      title (string) - title of the plot\n",
        "      xlabel (string) - label for the x-axis\n",
        "      ylabel (string) - label for the y-axis\n",
        "      legend (list of strings) - legend for the plot\n",
        "    \"\"\"\n",
        "\n",
        "    # Setup dimensions of the graph figure\n",
        "    plt.figure(figsize=(10, 6))\n",
        "    \n",
        "    # Check if there are more than two series to plot\n",
        "    if type(y) is tuple:\n",
        "\n",
        "      # Loop over the y elements\n",
        "      for y_curr in y:\n",
        "\n",
        "        # Plot the x and current y values\n",
        "        plt.plot(x[start:end], y_curr[start:end], format)\n",
        "\n",
        "    else:\n",
        "      # Plot the x and y values\n",
        "      plt.plot(x[start:end], y[start:end], format)\n",
        "\n",
        "    # Label the x-axis\n",
        "    plt.xlabel(xlabel)\n",
        "\n",
        "    # Label the y-axis\n",
        "    plt.ylabel(ylabel)\n",
        "\n",
        "    # Set the legend\n",
        "    if legend:\n",
        "      plt.legend(legend)\n",
        "\n",
        "    # Set the title\n",
        "    plt.title(title)\n",
        "\n",
        "    # Overlay a grid on the graph\n",
        "    plt.grid(True)\n",
        "\n",
        "    # Draw the graph on screen\n",
        "    plt.show()"
      ],
      "metadata": {
        "id": "yKPcnTQ0vBeZ"
      },
      "execution_count": 8,
      "outputs": []
    },
    {
      "cell_type": "code",
      "source": [
        "x = df.index\n",
        "y = df['temperature']\n",
        "\n",
        "plot_series(x, y, xlabel='Month', ylabel='Temperature')"
      ],
      "metadata": {
        "colab": {
          "base_uri": "https://localhost:8080/",
          "height": 391
        },
        "id": "9E6K9bCpdZwj",
        "outputId": "63468bdf-976a-4da4-88ba-9a80f0e90cbc"
      },
      "execution_count": 9,
      "outputs": [
        {
          "output_type": "display_data",
          "data": {
            "text/plain": [
              "<Figure size 720x432 with 1 Axes>"
            ],
            "image/png": "[encoded data removed]"
          },
          "metadata": {
            "needs_background": "light"
          }
        }
      ]
    },
    {
      "cell_type": "markdown",
      "source": [
        "### Preparing Model"
      ],
      "metadata": {
        "id": "8CUgtD5yePhg"
      }
    },
    {
      "cell_type": "markdown",
      "source": [
        "Set Paramters"
      ],
      "metadata": {
        "id": "_yT9lezzeVcY"
      }
    },
    {
      "cell_type": "code",
      "source": [
        "window_size=64\n",
        "batch_size=256\n",
        "shuffle_buffer_size=1000\n",
        "split_time=2500"
      ],
      "metadata": {
        "id": "A5ck4jy8ePB5"
      },
      "execution_count": 10,
      "outputs": []
    },
    {
      "cell_type": "markdown",
      "source": [
        "Prepare Feature and label (time from index series from montly_mean)"
      ],
      "metadata": {
        "id": "LmabXwvYeXYg"
      }
    },
    {
      "cell_type": "code",
      "source": [
        "time = np.array(df.index)\n",
        "series = np.array(df['temperature'])"
      ],
      "metadata": {
        "id": "PItpMR_GelfS"
      },
      "execution_count": 11,
      "outputs": []
    },
    {
      "cell_type": "markdown",
      "source": [
        "Normalization Data"
      ],
      "metadata": {
        "id": "_FoLP9-mjNMR"
      }
    },
    {
      "cell_type": "code",
      "source": [
        "min = np.min(series)\n",
        "max = np.max(series)\n",
        "series -= min\n",
        "series /= max"
      ],
      "metadata": {
        "id": "kOkPdw06jLhJ"
      },
      "execution_count": 12,
      "outputs": []
    },
    {
      "cell_type": "markdown",
      "source": [
        "Fixed Partition"
      ],
      "metadata": {
        "id": "AFtW-nZJetbJ"
      }
    },
    {
      "cell_type": "code",
      "source": [
        "# Get the train set \n",
        "time_train = time[:split_time]\n",
        "x_train = series[:split_time]\n",
        "\n",
        "# Get the validation set\n",
        "time_valid = time[split_time:]\n",
        "x_valid = series[split_time:]"
      ],
      "metadata": {
        "id": "qnQ9pMcsewI4"
      },
      "execution_count": 13,
      "outputs": []
    },
    {
      "cell_type": "code",
      "source": [
        "plot_series(time_train, x_train, \n",
        "            xlabel='Month', ylabel='Temperature', \n",
        "            title='Data Train')\n",
        "plot_series(time_valid, x_valid, \n",
        "            xlabel='Month', ylabel='Temperature',\n",
        "            title='Data Validation')"
      ],
      "metadata": {
        "colab": {
          "base_uri": "https://localhost:8080/",
          "height": 789
        },
        "id": "DHnA3HwG2deB",
        "outputId": "bb398087-3048-476d-ba87-fca412c78d89"
      },
      "execution_count": 14,
      "outputs": [
        {
          "output_type": "display_data",
          "data": {
            "text/plain": [
              "<Figure size 720x432 with 1 Axes>"
            ],
            "image/png": "[encoded data removed]"
          },
          "metadata": {
            "needs_background": "light"
          }
        },
        {
          "output_type": "display_data",
          "data": {
            "text/plain": [
              "<Figure size 720x432 with 1 Axes>"
            ],
            "image/png": "[encoded data removed]"
          },
          "metadata": {
            "needs_background": "light"
          }
        }
      ]
    },
    {
      "cell_type": "markdown",
      "source": [
        "Windowing Data"
      ],
      "metadata": {
        "id": "DUPfE2K-e-bJ"
      }
    },
    {
      "cell_type": "code",
      "source": [
        "def windowed_dataset(series, window_size, batch_size, shuffle_buffer):\n",
        "    \"\"\"Generates dataset windows\n",
        "\n",
        "    Args:\n",
        "      series (array of float) - contains the values of the time series\n",
        "      window_size (int) - the number of time steps to include in the feature\n",
        "      batch_size (int) - the batch size\n",
        "      shuffle_buffer(int) - buffer size to use for the shuffle method\n",
        "\n",
        "    Returns:\n",
        "      dataset (TF Dataset) - TF Dataset containing time windows\n",
        "    \"\"\"\n",
        "  \n",
        "    # Generate a TF Dataset from the series values\n",
        "    dataset = tf.data.Dataset.from_tensor_slices(series)\n",
        "    \n",
        "    # Window the data but only take those with the specified size\n",
        "    dataset = dataset.window(window_size + 1, shift=1, drop_remainder=True)\n",
        "    \n",
        "    # Flatten the windows by putting its elements in a single batch\n",
        "    dataset = dataset.flat_map(lambda window: window.batch(window_size + 1))\n",
        "\n",
        "    # Create tuples with features and labels \n",
        "    dataset = dataset.map(lambda window: (window[:-1], window[-1]))\n",
        "\n",
        "    # Shuffle the windows\n",
        "    dataset = dataset.shuffle(shuffle_buffer)\n",
        "    \n",
        "    # Create batches of windows\n",
        "    dataset = dataset.batch(batch_size).prefetch(1)\n",
        "    \n",
        "    return dataset"
      ],
      "metadata": {
        "id": "55IZmTlue1wd"
      },
      "execution_count": 15,
      "outputs": []
    },
    {
      "cell_type": "code",
      "source": [
        "train_set=windowed_dataset(x_train, window_size=window_size,\n",
        "                           batch_size=batch_size, \n",
        "                           shuffle_buffer=shuffle_buffer_size)"
      ],
      "metadata": {
        "id": "dvlekWylfEEp"
      },
      "execution_count": 16,
      "outputs": []
    },
    {
      "cell_type": "markdown",
      "source": [
        "#### Build Model"
      ],
      "metadata": {
        "id": "izqkUpf6fbnT"
      }
    },
    {
      "cell_type": "code",
      "source": [
        "def build_model(WINDOW_SIZE, lr=1e-8):\n",
        "  \"\"\"\n",
        "  Creates a model with learning rate schedule \n",
        "  for finding best learning rate\n",
        "  \n",
        "  Args:\n",
        "      WINDOW_SIZE (int): the number of time steps to include in the feature\n",
        "      lr (float): the number of learning rate optimizer\n",
        "\n",
        "  Returns:\n",
        "      model (tf.keras Model): the time, series model\n",
        "  \"\"\"\n",
        "\n",
        "  # Define Params  \n",
        "  adam = tf.keras.optimizers.Adam(learning_rate=lr) # Optimizer\n",
        "  losses = tf.keras.losses.Huber()\n",
        "\n",
        "  # Define Activation Function\n",
        "  relu = tf.nn.relu\n",
        "\n",
        "  # Define model sequential\n",
        "  model = tf.keras.Sequential()\n",
        "\n",
        "  # Define Convolutional 1D\n",
        "  model.add(tf.keras.layers.Conv1D(filters=60, kernel_size=5,\n",
        "                      strides=1, padding=\"causal\",\n",
        "                      activation=relu,\n",
        "                      input_shape=[WINDOW_SIZE, 1]))\n",
        "  \n",
        "  # Define layers LSTM\n",
        "  model.add(tf.keras.layers.LSTM(64, return_sequences=True))\n",
        "  model.add(tf.keras.layers.LSTM(64))\n",
        "\n",
        "  # Define Fully Connected layers\n",
        "  model.add(tf.keras.layers.Dense(10, activation=relu))\n",
        "  model.add(tf.keras.layers.Dense(10, activation=relu))\n",
        "  model.add(tf.keras.layers.Dense(1))\n",
        "\n",
        "\n",
        "  # Compile model\n",
        "  model.compile(optimizer=adam, loss=losses, metrics=['mae'])\n",
        "\n",
        "  # Check Summary Model\n",
        "  model.summary()\n",
        "\n",
        "  print('\\nModel Succesfully Create')\n",
        "  \n",
        "  return model"
      ],
      "metadata": {
        "id": "og9Ab77zf2Kj"
      },
      "execution_count": 17,
      "outputs": []
    },
    {
      "cell_type": "markdown",
      "source": [
        "#### Define Callbacks"
      ],
      "metadata": {
        "id": "vE2r4g6Pfzpu"
      }
    },
    {
      "cell_type": "code",
      "source": [
        "model_checkpoint = tf.keras.callbacks.ModelCheckpoint(\"model.h5\", \n",
        "                                                      monitor=\"mae\",\n",
        "                                                      save_best_only=True,\n",
        "                                                      verbose=1)\n",
        "\n",
        "early_stopping = tf.keras.callbacks.EarlyStopping(monitor=\"mae\", \n",
        "                                                  patience=20, \n",
        "                                                  mode =\"min\", \n",
        "                                                  verbose=2, \n",
        "                                                  restore_best_weights=True)\n",
        "\n",
        "lr_schedule = tf.keras.callbacks.LearningRateScheduler(lambda epoch: 1e-8 * 10**(epoch / 20))"
      ],
      "metadata": {
        "id": "0g1i6rHUfNzQ"
      },
      "execution_count": 18,
      "outputs": []
    },
    {
      "cell_type": "markdown",
      "source": [
        "### Train Model"
      ],
      "metadata": {
        "id": "oc9s1Iwohk34"
      }
    },
    {
      "cell_type": "markdown",
      "source": [
        "#### Train model with learning rate schedule"
      ],
      "metadata": {
        "id": "WQvL6zkthtah"
      }
    },
    {
      "cell_type": "code",
      "source": [
        "model = build_model(window_size)"
      ],
      "metadata": {
        "colab": {
          "base_uri": "https://localhost:8080/"
        },
        "id": "a_dv1FWDhjQW",
        "outputId": "cee09f9a-1be7-47ed-ce37-d6ce6cba3fc5"
      },
      "execution_count": 19,
      "outputs": [
        {
          "output_type": "stream",
          "name": "stdout",
          "text": [
            "Model: \"sequential\"\n",
            "_________________________________________________________________\n",
            " Layer (type)                Output Shape              Param #   \n",
            "=================================================================\n",
            " conv1d (Conv1D)             (None, 64, 60)            360       \n",
            "                                                                 \n",
            " lstm (LSTM)                 (None, 64, 64)            32000     \n",
            "                                                                 \n",
            " lstm_1 (LSTM)               (None, 64)                33024     \n",
            "                                                                 \n",
            " dense (Dense)               (None, 10)                650       \n",
            "                                                                 \n",
            " dense_1 (Dense)             (None, 10)                110       \n",
            "                                                                 \n",
            " dense_2 (Dense)             (None, 1)                 11        \n",
            "                                                                 \n",
            "=================================================================\n",
            "Total params: 66,155\n",
            "Trainable params: 66,155\n",
            "Non-trainable params: 0\n",
            "_________________________________________________________________\n",
            "\n",
            "Model Succesfully Create\n"
          ]
        }
      ]
    },
    {
      "cell_type": "code",
      "source": [
        "history_lr = model.fit(train_set ,epochs=100, callbacks=[lr_schedule])"
      ],
      "metadata": {
        "colab": {
          "base_uri": "https://localhost:8080/"
        },
        "id": "qg06l5GaiDTw",
        "outputId": "2b7f2570-9884-493a-d3a1-e39de4375fde"
      },
      "execution_count": 20,
      "outputs": [
        {
          "output_type": "stream",
          "name": "stdout",
          "text": [
            "Epoch 1/100\n",
            "10/10 [==============================] - 12s 725ms/step - loss: 0.0501 - mae: 0.2856 - lr: 1.0000e-08\n",
            "Epoch 2/100\n",
            "10/10 [==============================] - 7s 635ms/step - loss: 0.0501 - mae: 0.2856 - lr: 1.1220e-08\n",
            "Epoch 3/100\n",
            "10/10 [==============================] - 7s 653ms/step - loss: 0.0501 - mae: 0.2856 - lr: 1.2589e-08\n",
            "Epoch 4/100\n",
            "10/10 [==============================] - 5s 369ms/step - loss: 0.0501 - mae: 0.2856 - lr: 1.4125e-08\n",
            "Epoch 5/100\n",
            "10/10 [==============================] - 4s 344ms/step - loss: 0.0501 - mae: 0.2856 - lr: 1.5849e-08\n",
            "Epoch 6/100\n",
            "10/10 [==============================] - 4s 425ms/step - loss: 0.0501 - mae: 0.2856 - lr: 1.7783e-08\n",
            "Epoch 7/100\n",
            "10/10 [==============================] - 4s 349ms/step - loss: 0.0501 - mae: 0.2856 - lr: 1.9953e-08\n",
            "Epoch 8/100\n",
            "10/10 [==============================] - 4s 355ms/step - loss: 0.0501 - mae: 0.2856 - lr: 2.2387e-08\n",
            "Epoch 9/100\n",
            "10/10 [==============================] - 4s 359ms/step - loss: 0.0501 - mae: 0.2856 - lr: 2.5119e-08\n",
            "Epoch 10/100\n",
            "10/10 [==============================] - 4s 345ms/step - loss: 0.0501 - mae: 0.2856 - lr: 2.8184e-08\n",
            "Epoch 11/100\n",
            "10/10 [==============================] - 4s 348ms/step - loss: 0.0501 - mae: 0.2856 - lr: 3.1623e-08\n",
            "Epoch 12/100\n",
            "10/10 [==============================] - 4s 345ms/step - loss: 0.0501 - mae: 0.2856 - lr: 3.5481e-08\n",
            "Epoch 13/100\n",
            "10/10 [==============================] - 4s 350ms/step - loss: 0.0501 - mae: 0.2856 - lr: 3.9811e-08\n",
            "Epoch 14/100\n",
            "10/10 [==============================] - 4s 347ms/step - loss: 0.0501 - mae: 0.2856 - lr: 4.4668e-08\n",
            "Epoch 15/100\n",
            "10/10 [==============================] - 4s 350ms/step - loss: 0.0501 - mae: 0.2856 - lr: 5.0119e-08\n",
            "Epoch 16/100\n",
            "10/10 [==============================] - 4s 349ms/step - loss: 0.0501 - mae: 0.2856 - lr: 5.6234e-08\n",
            "Epoch 17/100\n",
            "10/10 [==============================] - 4s 349ms/step - loss: 0.0501 - mae: 0.2856 - lr: 6.3096e-08\n",
            "Epoch 18/100\n",
            "10/10 [==============================] - 4s 351ms/step - loss: 0.0501 - mae: 0.2855 - lr: 7.0795e-08\n",
            "Epoch 19/100\n",
            "10/10 [==============================] - 4s 354ms/step - loss: 0.0501 - mae: 0.2855 - lr: 7.9433e-08\n",
            "Epoch 20/100\n",
            "10/10 [==============================] - 4s 353ms/step - loss: 0.0501 - mae: 0.2855 - lr: 8.9125e-08\n",
            "Epoch 21/100\n",
            "10/10 [==============================] - 4s 356ms/step - loss: 0.0501 - mae: 0.2855 - lr: 1.0000e-07\n",
            "Epoch 22/100\n",
            "10/10 [==============================] - 5s 529ms/step - loss: 0.0501 - mae: 0.2855 - lr: 1.1220e-07\n",
            "Epoch 23/100\n",
            "10/10 [==============================] - 4s 354ms/step - loss: 0.0500 - mae: 0.2855 - lr: 1.2589e-07\n",
            "Epoch 24/100\n",
            "10/10 [==============================] - 4s 354ms/step - loss: 0.0500 - mae: 0.2854 - lr: 1.4125e-07\n",
            "Epoch 25/100\n",
            "10/10 [==============================] - 4s 354ms/step - loss: 0.0500 - mae: 0.2854 - lr: 1.5849e-07\n",
            "Epoch 26/100\n",
            "10/10 [==============================] - 4s 351ms/step - loss: 0.0500 - mae: 0.2854 - lr: 1.7783e-07\n",
            "Epoch 27/100\n",
            "10/10 [==============================] - 4s 355ms/step - loss: 0.0500 - mae: 0.2853 - lr: 1.9953e-07\n",
            "Epoch 28/100\n",
            "10/10 [==============================] - 4s 353ms/step - loss: 0.0500 - mae: 0.2853 - lr: 2.2387e-07\n",
            "Epoch 29/100\n",
            "10/10 [==============================] - 4s 345ms/step - loss: 0.0500 - mae: 0.2853 - lr: 2.5119e-07\n",
            "Epoch 30/100\n",
            "10/10 [==============================] - 4s 351ms/step - loss: 0.0500 - mae: 0.2852 - lr: 2.8184e-07\n",
            "Epoch 31/100\n",
            "10/10 [==============================] - 4s 349ms/step - loss: 0.0499 - mae: 0.2851 - lr: 3.1623e-07\n",
            "Epoch 32/100\n",
            "10/10 [==============================] - 4s 348ms/step - loss: 0.0499 - mae: 0.2850 - lr: 3.5481e-07\n",
            "Epoch 33/100\n",
            "10/10 [==============================] - 4s 348ms/step - loss: 0.0499 - mae: 0.2849 - lr: 3.9811e-07\n",
            "Epoch 34/100\n",
            "10/10 [==============================] - 4s 345ms/step - loss: 0.0498 - mae: 0.2848 - lr: 4.4668e-07\n",
            "Epoch 35/100\n",
            "10/10 [==============================] - 4s 350ms/step - loss: 0.0498 - mae: 0.2847 - lr: 5.0119e-07\n",
            "Epoch 36/100\n",
            "10/10 [==============================] - 5s 402ms/step - loss: 0.0497 - mae: 0.2845 - lr: 5.6234e-07\n",
            "Epoch 37/100\n",
            "10/10 [==============================] - 4s 350ms/step - loss: 0.0497 - mae: 0.2842 - lr: 6.3096e-07\n",
            "Epoch 38/100\n",
            "10/10 [==============================] - 4s 353ms/step - loss: 0.0496 - mae: 0.2840 - lr: 7.0795e-07\n",
            "Epoch 39/100\n",
            "10/10 [==============================] - 4s 353ms/step - loss: 0.0495 - mae: 0.2837 - lr: 7.9433e-07\n",
            "Epoch 40/100\n",
            "10/10 [==============================] - 4s 348ms/step - loss: 0.0494 - mae: 0.2833 - lr: 8.9125e-07\n",
            "Epoch 41/100\n",
            "10/10 [==============================] - 4s 355ms/step - loss: 0.0493 - mae: 0.2829 - lr: 1.0000e-06\n",
            "Epoch 42/100\n",
            "10/10 [==============================] - 4s 352ms/step - loss: 0.0491 - mae: 0.2825 - lr: 1.1220e-06\n",
            "Epoch 43/100\n",
            "10/10 [==============================] - 4s 360ms/step - loss: 0.0490 - mae: 0.2820 - lr: 1.2589e-06\n",
            "Epoch 44/100\n",
            "10/10 [==============================] - 4s 355ms/step - loss: 0.0488 - mae: 0.2815 - lr: 1.4125e-06\n",
            "Epoch 45/100\n",
            "10/10 [==============================] - 4s 362ms/step - loss: 0.0487 - mae: 0.2810 - lr: 1.5849e-06\n",
            "Epoch 46/100\n",
            "10/10 [==============================] - 4s 344ms/step - loss: 0.0485 - mae: 0.2804 - lr: 1.7783e-06\n",
            "Epoch 47/100\n",
            "10/10 [==============================] - 4s 346ms/step - loss: 0.0483 - mae: 0.2798 - lr: 1.9953e-06\n",
            "Epoch 48/100\n",
            "10/10 [==============================] - 4s 348ms/step - loss: 0.0481 - mae: 0.2792 - lr: 2.2387e-06\n",
            "Epoch 49/100\n",
            "10/10 [==============================] - 4s 353ms/step - loss: 0.0479 - mae: 0.2785 - lr: 2.5119e-06\n",
            "Epoch 50/100\n",
            "10/10 [==============================] - 4s 355ms/step - loss: 0.0477 - mae: 0.2778 - lr: 2.8184e-06\n",
            "Epoch 51/100\n",
            "10/10 [==============================] - 4s 356ms/step - loss: 0.0475 - mae: 0.2769 - lr: 3.1623e-06\n",
            "Epoch 52/100\n",
            "10/10 [==============================] - 4s 347ms/step - loss: 0.0472 - mae: 0.2760 - lr: 3.5481e-06\n",
            "Epoch 53/100\n",
            "10/10 [==============================] - 4s 347ms/step - loss: 0.0469 - mae: 0.2750 - lr: 3.9811e-06\n",
            "Epoch 54/100\n",
            "10/10 [==============================] - 4s 343ms/step - loss: 0.0466 - mae: 0.2739 - lr: 4.4668e-06\n",
            "Epoch 55/100\n",
            "10/10 [==============================] - 4s 347ms/step - loss: 0.0462 - mae: 0.2726 - lr: 5.0119e-06\n",
            "Epoch 56/100\n",
            "10/10 [==============================] - 4s 351ms/step - loss: 0.0458 - mae: 0.2713 - lr: 5.6234e-06\n",
            "Epoch 57/100\n",
            "10/10 [==============================] - 4s 354ms/step - loss: 0.0454 - mae: 0.2698 - lr: 6.3096e-06\n",
            "Epoch 58/100\n",
            "10/10 [==============================] - 4s 350ms/step - loss: 0.0449 - mae: 0.2682 - lr: 7.0795e-06\n",
            "Epoch 59/100\n",
            "10/10 [==============================] - 4s 353ms/step - loss: 0.0444 - mae: 0.2663 - lr: 7.9433e-06\n",
            "Epoch 60/100\n",
            "10/10 [==============================] - 4s 350ms/step - loss: 0.0438 - mae: 0.2642 - lr: 8.9125e-06\n",
            "Epoch 61/100\n",
            "10/10 [==============================] - 4s 352ms/step - loss: 0.0431 - mae: 0.2617 - lr: 1.0000e-05\n",
            "Epoch 62/100\n",
            "10/10 [==============================] - 4s 347ms/step - loss: 0.0422 - mae: 0.2584 - lr: 1.1220e-05\n",
            "Epoch 63/100\n",
            "10/10 [==============================] - 4s 350ms/step - loss: 0.0408 - mae: 0.2532 - lr: 1.2589e-05\n",
            "Epoch 64/100\n",
            "10/10 [==============================] - 4s 349ms/step - loss: 0.0388 - mae: 0.2461 - lr: 1.4125e-05\n",
            "Epoch 65/100\n",
            "10/10 [==============================] - 4s 347ms/step - loss: 0.0366 - mae: 0.2375 - lr: 1.5849e-05\n",
            "Epoch 66/100\n",
            "10/10 [==============================] - 4s 347ms/step - loss: 0.0339 - mae: 0.2268 - lr: 1.7783e-05\n",
            "Epoch 67/100\n",
            "10/10 [==============================] - 5s 483ms/step - loss: 0.0307 - mae: 0.2132 - lr: 1.9953e-05\n",
            "Epoch 68/100\n",
            "10/10 [==============================] - 4s 346ms/step - loss: 0.0267 - mae: 0.1950 - lr: 2.2387e-05\n",
            "Epoch 69/100\n",
            "10/10 [==============================] - 4s 344ms/step - loss: 0.0217 - mae: 0.1700 - lr: 2.5119e-05\n",
            "Epoch 70/100\n",
            "10/10 [==============================] - 4s 349ms/step - loss: 0.0156 - mae: 0.1348 - lr: 2.8184e-05\n",
            "Epoch 71/100\n",
            "10/10 [==============================] - 4s 350ms/step - loss: 0.0093 - mae: 0.0944 - lr: 3.1623e-05\n",
            "Epoch 72/100\n",
            "10/10 [==============================] - 4s 350ms/step - loss: 0.0059 - mae: 0.0813 - lr: 3.5481e-05\n",
            "Epoch 73/100\n",
            "10/10 [==============================] - 4s 347ms/step - loss: 0.0060 - mae: 0.0893 - lr: 3.9811e-05\n",
            "Epoch 74/100\n",
            "10/10 [==============================] - 4s 346ms/step - loss: 0.0057 - mae: 0.0821 - lr: 4.4668e-05\n",
            "Epoch 75/100\n",
            "10/10 [==============================] - 4s 349ms/step - loss: 0.0057 - mae: 0.0799 - lr: 5.0119e-05\n",
            "Epoch 76/100\n",
            "10/10 [==============================] - 4s 350ms/step - loss: 0.0056 - mae: 0.0816 - lr: 5.6234e-05\n",
            "Epoch 77/100\n",
            "10/10 [==============================] - 4s 345ms/step - loss: 0.0056 - mae: 0.0822 - lr: 6.3096e-05\n",
            "Epoch 78/100\n",
            "10/10 [==============================] - 4s 349ms/step - loss: 0.0056 - mae: 0.0809 - lr: 7.0795e-05\n",
            "Epoch 79/100\n",
            "10/10 [==============================] - 4s 353ms/step - loss: 0.0056 - mae: 0.0813 - lr: 7.9433e-05\n",
            "Epoch 80/100\n",
            "10/10 [==============================] - 4s 352ms/step - loss: 0.0056 - mae: 0.0812 - lr: 8.9125e-05\n",
            "Epoch 81/100\n",
            "10/10 [==============================] - 4s 352ms/step - loss: 0.0056 - mae: 0.0810 - lr: 1.0000e-04\n",
            "Epoch 82/100\n",
            "10/10 [==============================] - 4s 355ms/step - loss: 0.0056 - mae: 0.0814 - lr: 1.1220e-04\n",
            "Epoch 83/100\n",
            "10/10 [==============================] - 4s 352ms/step - loss: 0.0055 - mae: 0.0807 - lr: 1.2589e-04\n",
            "Epoch 84/100\n",
            "10/10 [==============================] - 4s 361ms/step - loss: 0.0055 - mae: 0.0803 - lr: 1.4125e-04\n",
            "Epoch 85/100\n",
            "10/10 [==============================] - 4s 354ms/step - loss: 0.0055 - mae: 0.0817 - lr: 1.5849e-04\n",
            "Epoch 86/100\n",
            "10/10 [==============================] - 4s 350ms/step - loss: 0.0055 - mae: 0.0800 - lr: 1.7783e-04\n",
            "Epoch 87/100\n",
            "10/10 [==============================] - 4s 349ms/step - loss: 0.0055 - mae: 0.0811 - lr: 1.9953e-04\n",
            "Epoch 88/100\n",
            "10/10 [==============================] - 4s 350ms/step - loss: 0.0055 - mae: 0.0801 - lr: 2.2387e-04\n",
            "Epoch 89/100\n",
            "10/10 [==============================] - 4s 350ms/step - loss: 0.0055 - mae: 0.0802 - lr: 2.5119e-04\n",
            "Epoch 90/100\n",
            "10/10 [==============================] - 6s 622ms/step - loss: 0.0055 - mae: 0.0798 - lr: 2.8184e-04\n",
            "Epoch 91/100\n",
            "10/10 [==============================] - 4s 375ms/step - loss: 0.0055 - mae: 0.0808 - lr: 3.1623e-04\n",
            "Epoch 92/100\n",
            "10/10 [==============================] - 4s 349ms/step - loss: 0.0054 - mae: 0.0807 - lr: 3.5481e-04\n",
            "Epoch 93/100\n",
            "10/10 [==============================] - 4s 353ms/step - loss: 0.0054 - mae: 0.0793 - lr: 3.9811e-04\n",
            "Epoch 94/100\n",
            "10/10 [==============================] - 6s 596ms/step - loss: 0.0054 - mae: 0.0799 - lr: 4.4668e-04\n",
            "Epoch 95/100\n",
            "10/10 [==============================] - 4s 351ms/step - loss: 0.0054 - mae: 0.0798 - lr: 5.0119e-04\n",
            "Epoch 96/100\n",
            "10/10 [==============================] - 4s 347ms/step - loss: 0.0054 - mae: 0.0796 - lr: 5.6234e-04\n",
            "Epoch 97/100\n",
            "10/10 [==============================] - 5s 428ms/step - loss: 0.0054 - mae: 0.0795 - lr: 6.3096e-04\n",
            "Epoch 98/100\n",
            "10/10 [==============================] - 4s 348ms/step - loss: 0.0053 - mae: 0.0795 - lr: 7.0795e-04\n",
            "Epoch 99/100\n",
            "10/10 [==============================] - 4s 342ms/step - loss: 0.0054 - mae: 0.0791 - lr: 7.9433e-04\n",
            "Epoch 100/100\n",
            "10/10 [==============================] - 4s 347ms/step - loss: 0.0053 - mae: 0.0794 - lr: 8.9125e-04\n"
          ]
        }
      ]
    },
    {
      "cell_type": "markdown",
      "source": [
        "Plot result of learning rate schedule"
      ],
      "metadata": {
        "id": "9dQ8fp7ViRP5"
      }
    },
    {
      "cell_type": "code",
      "source": [
        "# Define the learning rate array\n",
        "lrs = 1e-8 * (10 ** (np.arange(100) / 20))\n",
        "\n",
        "# Set the figure size\n",
        "plt.figure(figsize=(10, 6))\n",
        "\n",
        "# Set the grid\n",
        "plt.grid(True)\n",
        "\n",
        "# Plot the loss in log scale\n",
        "plt.semilogx(lrs, history_lr.history[\"loss\"])\n",
        "\n",
        "# Increase the tickmarks size\n",
        "plt.tick_params('both', length=10, width=1, which='both')\n",
        "\n",
        "# Set the plot boundaries\n",
        "plt.axis([1e-8, 1e-3, 0, .2])\n",
        "plt.show()"
      ],
      "metadata": {
        "colab": {
          "base_uri": "https://localhost:8080/",
          "height": 392
        },
        "id": "LUYW3w_2iHDh",
        "outputId": "7cd19712-e60b-4f6f-f401-c4ac41a71178"
      },
      "execution_count": 21,
      "outputs": [
        {
          "output_type": "display_data",
          "data": {
            "text/plain": [
              "<Figure size 720x432 with 1 Axes>"
            ],
            "image/png": "[encoded data removed]"
          },
          "metadata": {
            "needs_background": "light"
          }
        }
      ]
    },
    {
      "cell_type": "markdown",
      "source": [
        "#### Train model with learning rate 1e-4"
      ],
      "metadata": {
        "id": "Nna6ZCLwmMXu"
      }
    },
    {
      "cell_type": "code",
      "source": [
        "model = build_model(window_size, lr=1e-4)"
      ],
      "metadata": {
        "colab": {
          "base_uri": "https://localhost:8080/"
        },
        "id": "BqXHbWMfm12X",
        "outputId": "5a92b1b8-4897-49a4-a719-93b6fbc77a53"
      },
      "execution_count": 22,
      "outputs": [
        {
          "output_type": "stream",
          "name": "stdout",
          "text": [
            "Model: \"sequential_1\"\n",
            "_________________________________________________________________\n",
            " Layer (type)                Output Shape              Param #   \n",
            "=================================================================\n",
            " conv1d_1 (Conv1D)           (None, 64, 60)            360       \n",
            "                                                                 \n",
            " lstm_2 (LSTM)               (None, 64, 64)            32000     \n",
            "                                                                 \n",
            " lstm_3 (LSTM)               (None, 64)                33024     \n",
            "                                                                 \n",
            " dense_3 (Dense)             (None, 10)                650       \n",
            "                                                                 \n",
            " dense_4 (Dense)             (None, 10)                110       \n",
            "                                                                 \n",
            " dense_5 (Dense)             (None, 1)                 11        \n",
            "                                                                 \n",
            "=================================================================\n",
            "Total params: 66,155\n",
            "Trainable params: 66,155\n",
            "Non-trainable params: 0\n",
            "_________________________________________________________________\n",
            "\n",
            "Model Succesfully Create\n"
          ]
        }
      ]
    },
    {
      "cell_type": "code",
      "source": [
        "history = model.fit(train_set,\n",
        "                    epochs=100, \n",
        "                    callbacks=[model_checkpoint, early_stopping])"
      ],
      "metadata": {
        "colab": {
          "base_uri": "https://localhost:8080/"
        },
        "id": "g1Dm93iqlXCT",
        "outputId": "7270982b-7aaf-4a62-ed6c-c01f3a5b5278"
      },
      "execution_count": 23,
      "outputs": [
        {
          "output_type": "stream",
          "name": "stdout",
          "text": [
            "Epoch 1/100\n",
            "     10/Unknown - 8s 347ms/step - loss: 0.0472 - mae: 0.2758\n",
            "Epoch 1: mae improved from inf to 0.27584, saving model to model.h5\n",
            "10/10 [==============================] - 8s 355ms/step - loss: 0.0472 - mae: 0.2758\n",
            "Epoch 2/100\n",
            "10/10 [==============================] - ETA: 0s - loss: 0.0420 - mae: 0.2577\n",
            "Epoch 2: mae improved from 0.27584 to 0.25766, saving model to model.h5\n",
            "10/10 [==============================] - 4s 353ms/step - loss: 0.0420 - mae: 0.2577\n",
            "Epoch 3/100\n",
            "10/10 [==============================] - ETA: 0s - loss: 0.0359 - mae: 0.2347\n",
            "Epoch 3: mae improved from 0.25766 to 0.23467, saving model to model.h5\n",
            "10/10 [==============================] - 4s 353ms/step - loss: 0.0359 - mae: 0.2347\n",
            "Epoch 4/100\n",
            "10/10 [==============================] - ETA: 0s - loss: 0.0278 - mae: 0.1999\n",
            "Epoch 4: mae improved from 0.23467 to 0.19991, saving model to model.h5\n",
            "10/10 [==============================] - 4s 356ms/step - loss: 0.0278 - mae: 0.1999\n",
            "Epoch 5/100\n",
            "10/10 [==============================] - ETA: 0s - loss: 0.0166 - mae: 0.1398\n",
            "Epoch 5: mae improved from 0.19991 to 0.13977, saving model to model.h5\n",
            "10/10 [==============================] - 4s 350ms/step - loss: 0.0166 - mae: 0.1398\n",
            "Epoch 6/100\n",
            "10/10 [==============================] - ETA: 0s - loss: 0.0069 - mae: 0.0874\n",
            "Epoch 6: mae improved from 0.13977 to 0.08735, saving model to model.h5\n",
            "10/10 [==============================] - 4s 428ms/step - loss: 0.0069 - mae: 0.0874\n",
            "Epoch 7/100\n",
            "10/10 [==============================] - ETA: 0s - loss: 0.0066 - mae: 0.0955\n",
            "Epoch 7: mae did not improve from 0.08735\n",
            "10/10 [==============================] - 4s 345ms/step - loss: 0.0066 - mae: 0.0955\n",
            "Epoch 8/100\n",
            "10/10 [==============================] - ETA: 0s - loss: 0.0058 - mae: 0.0797\n",
            "Epoch 8: mae improved from 0.08735 to 0.07972, saving model to model.h5\n",
            "10/10 [==============================] - 4s 355ms/step - loss: 0.0058 - mae: 0.0797\n",
            "Epoch 9/100\n",
            "10/10 [==============================] - ETA: 0s - loss: 0.0058 - mae: 0.0803\n",
            "Epoch 9: mae did not improve from 0.07972\n",
            "10/10 [==============================] - 4s 355ms/step - loss: 0.0058 - mae: 0.0803\n",
            "Epoch 10/100\n",
            "10/10 [==============================] - ETA: 0s - loss: 0.0057 - mae: 0.0835\n",
            "Epoch 10: mae did not improve from 0.07972\n",
            "10/10 [==============================] - 4s 350ms/step - loss: 0.0057 - mae: 0.0835\n",
            "Epoch 11/100\n",
            "10/10 [==============================] - ETA: 0s - loss: 0.0056 - mae: 0.0817\n",
            "Epoch 11: mae did not improve from 0.07972\n",
            "10/10 [==============================] - 4s 341ms/step - loss: 0.0056 - mae: 0.0817\n",
            "Epoch 12/100\n",
            "10/10 [==============================] - ETA: 0s - loss: 0.0056 - mae: 0.0810\n",
            "Epoch 12: mae did not improve from 0.07972\n",
            "10/10 [==============================] - 4s 344ms/step - loss: 0.0056 - mae: 0.0810\n",
            "Epoch 13/100\n",
            "10/10 [==============================] - ETA: 0s - loss: 0.0056 - mae: 0.0815\n",
            "Epoch 13: mae did not improve from 0.07972\n",
            "10/10 [==============================] - 4s 344ms/step - loss: 0.0056 - mae: 0.0815\n",
            "Epoch 14/100\n",
            "10/10 [==============================] - ETA: 0s - loss: 0.0056 - mae: 0.0820\n",
            "Epoch 14: mae did not improve from 0.07972\n",
            "10/10 [==============================] - 6s 615ms/step - loss: 0.0056 - mae: 0.0820\n",
            "Epoch 15/100\n",
            "10/10 [==============================] - ETA: 0s - loss: 0.0056 - mae: 0.0814\n",
            "Epoch 15: mae did not improve from 0.07972\n",
            "10/10 [==============================] - 4s 352ms/step - loss: 0.0056 - mae: 0.0814\n",
            "Epoch 16/100\n",
            "10/10 [==============================] - ETA: 0s - loss: 0.0056 - mae: 0.0808\n",
            "Epoch 16: mae did not improve from 0.07972\n",
            "10/10 [==============================] - 4s 341ms/step - loss: 0.0056 - mae: 0.0808\n",
            "Epoch 17/100\n",
            "10/10 [==============================] - ETA: 0s - loss: 0.0055 - mae: 0.0806\n",
            "Epoch 17: mae did not improve from 0.07972\n",
            "10/10 [==============================] - 4s 353ms/step - loss: 0.0055 - mae: 0.0806\n",
            "Epoch 18/100\n",
            "10/10 [==============================] - ETA: 0s - loss: 0.0055 - mae: 0.0813\n",
            "Epoch 18: mae did not improve from 0.07972\n",
            "10/10 [==============================] - 4s 349ms/step - loss: 0.0055 - mae: 0.0813\n",
            "Epoch 19/100\n",
            "10/10 [==============================] - ETA: 0s - loss: 0.0055 - mae: 0.0808\n",
            "Epoch 19: mae did not improve from 0.07972\n",
            "10/10 [==============================] - 4s 350ms/step - loss: 0.0055 - mae: 0.0808\n",
            "Epoch 20/100\n",
            "10/10 [==============================] - ETA: 0s - loss: 0.0055 - mae: 0.0806\n",
            "Epoch 20: mae did not improve from 0.07972\n",
            "10/10 [==============================] - 4s 359ms/step - loss: 0.0055 - mae: 0.0806\n",
            "Epoch 21/100\n",
            "10/10 [==============================] - ETA: 0s - loss: 0.0055 - mae: 0.0809\n",
            "Epoch 21: mae did not improve from 0.07972\n",
            "10/10 [==============================] - 4s 351ms/step - loss: 0.0055 - mae: 0.0809\n",
            "Epoch 22/100\n",
            "10/10 [==============================] - ETA: 0s - loss: 0.0055 - mae: 0.0807\n",
            "Epoch 22: mae did not improve from 0.07972\n",
            "10/10 [==============================] - 4s 345ms/step - loss: 0.0055 - mae: 0.0807\n",
            "Epoch 23/100\n",
            "10/10 [==============================] - ETA: 0s - loss: 0.0055 - mae: 0.0807\n",
            "Epoch 23: mae did not improve from 0.07972\n",
            "10/10 [==============================] - 4s 346ms/step - loss: 0.0055 - mae: 0.0807\n",
            "Epoch 24/100\n",
            "10/10 [==============================] - ETA: 0s - loss: 0.0055 - mae: 0.0797\n",
            "Epoch 24: mae improved from 0.07972 to 0.07972, saving model to model.h5\n",
            "10/10 [==============================] - 4s 357ms/step - loss: 0.0055 - mae: 0.0797\n",
            "Epoch 25/100\n",
            "10/10 [==============================] - ETA: 0s - loss: 0.0055 - mae: 0.0810\n",
            "Epoch 25: mae did not improve from 0.07972\n",
            "10/10 [==============================] - 4s 345ms/step - loss: 0.0055 - mae: 0.0810\n",
            "Epoch 26/100\n",
            "10/10 [==============================] - ETA: 0s - loss: 0.0055 - mae: 0.0801\n",
            "Epoch 26: mae did not improve from 0.07972\n",
            "10/10 [==============================] - 5s 465ms/step - loss: 0.0055 - mae: 0.0801\n",
            "Epoch 27/100\n",
            "10/10 [==============================] - ETA: 0s - loss: 0.0055 - mae: 0.0800\n",
            "Epoch 27: mae did not improve from 0.07972\n",
            "10/10 [==============================] - 4s 349ms/step - loss: 0.0055 - mae: 0.0800\n",
            "Epoch 28/100\n",
            "10/10 [==============================] - ETA: 0s - loss: 0.0055 - mae: 0.0807\n",
            "Epoch 28: mae did not improve from 0.07972\n",
            "10/10 [==============================] - 4s 348ms/step - loss: 0.0055 - mae: 0.0807\n",
            "Epoch 29/100\n",
            "10/10 [==============================] - ETA: 0s - loss: 0.0055 - mae: 0.0803\n",
            "Epoch 29: mae did not improve from 0.07972\n",
            "10/10 [==============================] - 4s 346ms/step - loss: 0.0055 - mae: 0.0803\n",
            "Epoch 30/100\n",
            "10/10 [==============================] - ETA: 0s - loss: 0.0055 - mae: 0.0803\n",
            "Epoch 30: mae did not improve from 0.07972\n",
            "10/10 [==============================] - 4s 346ms/step - loss: 0.0055 - mae: 0.0803\n",
            "Epoch 31/100\n",
            "10/10 [==============================] - ETA: 0s - loss: 0.0055 - mae: 0.0797\n",
            "Epoch 31: mae improved from 0.07972 to 0.07966, saving model to model.h5\n",
            "10/10 [==============================] - 4s 351ms/step - loss: 0.0055 - mae: 0.0797\n",
            "Epoch 32/100\n",
            "10/10 [==============================] - ETA: 0s - loss: 0.0054 - mae: 0.0802\n",
            "Epoch 32: mae did not improve from 0.07966\n",
            "10/10 [==============================] - 4s 348ms/step - loss: 0.0054 - mae: 0.0802\n",
            "Epoch 33/100\n",
            "10/10 [==============================] - ETA: 0s - loss: 0.0054 - mae: 0.0799\n",
            "Epoch 33: mae did not improve from 0.07966\n",
            "10/10 [==============================] - 4s 346ms/step - loss: 0.0054 - mae: 0.0799\n",
            "Epoch 34/100\n",
            "10/10 [==============================] - ETA: 0s - loss: 0.0054 - mae: 0.0801\n",
            "Epoch 34: mae did not improve from 0.07966\n",
            "10/10 [==============================] - 4s 350ms/step - loss: 0.0054 - mae: 0.0801\n",
            "Epoch 35/100\n",
            "10/10 [==============================] - ETA: 0s - loss: 0.0054 - mae: 0.0803\n",
            "Epoch 35: mae did not improve from 0.07966\n",
            "10/10 [==============================] - 4s 347ms/step - loss: 0.0054 - mae: 0.0803\n",
            "Epoch 36/100\n",
            "10/10 [==============================] - ETA: 0s - loss: 0.0054 - mae: 0.0800\n",
            "Epoch 36: mae did not improve from 0.07966\n",
            "10/10 [==============================] - 4s 348ms/step - loss: 0.0054 - mae: 0.0800\n",
            "Epoch 37/100\n",
            "10/10 [==============================] - ETA: 0s - loss: 0.0054 - mae: 0.0800\n",
            "Epoch 37: mae did not improve from 0.07966\n",
            "10/10 [==============================] - 4s 347ms/step - loss: 0.0054 - mae: 0.0800\n",
            "Epoch 38/100\n",
            "10/10 [==============================] - ETA: 0s - loss: 0.0054 - mae: 0.0796\n",
            "Epoch 38: mae improved from 0.07966 to 0.07956, saving model to model.h5\n",
            "10/10 [==============================] - 4s 406ms/step - loss: 0.0054 - mae: 0.0796\n",
            "Epoch 39/100\n",
            "10/10 [==============================] - ETA: 0s - loss: 0.0054 - mae: 0.0802\n",
            "Epoch 39: mae did not improve from 0.07956\n",
            "10/10 [==============================] - 5s 443ms/step - loss: 0.0054 - mae: 0.0802\n",
            "Epoch 40/100\n",
            "10/10 [==============================] - ETA: 0s - loss: 0.0054 - mae: 0.0798\n",
            "Epoch 40: mae did not improve from 0.07956\n",
            "10/10 [==============================] - 4s 347ms/step - loss: 0.0054 - mae: 0.0798\n",
            "Epoch 41/100\n",
            "10/10 [==============================] - ETA: 0s - loss: 0.0054 - mae: 0.0797\n",
            "Epoch 41: mae did not improve from 0.07956\n",
            "10/10 [==============================] - 4s 343ms/step - loss: 0.0054 - mae: 0.0797\n",
            "Epoch 42/100\n",
            "10/10 [==============================] - ETA: 0s - loss: 0.0054 - mae: 0.0796\n",
            "Epoch 42: mae did not improve from 0.07956\n",
            "10/10 [==============================] - 4s 352ms/step - loss: 0.0054 - mae: 0.0796\n",
            "Epoch 43/100\n",
            "10/10 [==============================] - ETA: 0s - loss: 0.0054 - mae: 0.0801\n",
            "Epoch 43: mae did not improve from 0.07956\n",
            "10/10 [==============================] - 4s 345ms/step - loss: 0.0054 - mae: 0.0801\n",
            "Epoch 44/100\n",
            "10/10 [==============================] - ETA: 0s - loss: 0.0054 - mae: 0.0796\n",
            "Epoch 44: mae improved from 0.07956 to 0.07955, saving model to model.h5\n",
            "10/10 [==============================] - 4s 354ms/step - loss: 0.0054 - mae: 0.0796\n",
            "Epoch 45/100\n",
            "10/10 [==============================] - ETA: 0s - loss: 0.0054 - mae: 0.0799\n",
            "Epoch 45: mae did not improve from 0.07955\n",
            "10/10 [==============================] - 4s 350ms/step - loss: 0.0054 - mae: 0.0799\n",
            "Epoch 46/100\n",
            "10/10 [==============================] - ETA: 0s - loss: 0.0054 - mae: 0.0795\n",
            "Epoch 46: mae improved from 0.07955 to 0.07952, saving model to model.h5\n",
            "10/10 [==============================] - 4s 356ms/step - loss: 0.0054 - mae: 0.0795\n",
            "Epoch 47/100\n",
            "10/10 [==============================] - ETA: 0s - loss: 0.0054 - mae: 0.0798\n",
            "Epoch 47: mae did not improve from 0.07952\n",
            "10/10 [==============================] - 4s 350ms/step - loss: 0.0054 - mae: 0.0798\n",
            "Epoch 48/100\n",
            "10/10 [==============================] - ETA: 0s - loss: 0.0054 - mae: 0.0798\n",
            "Epoch 48: mae did not improve from 0.07952\n",
            "10/10 [==============================] - 4s 345ms/step - loss: 0.0054 - mae: 0.0798\n",
            "Epoch 49/100\n",
            "10/10 [==============================] - ETA: 0s - loss: 0.0054 - mae: 0.0792\n",
            "Epoch 49: mae improved from 0.07952 to 0.07921, saving model to model.h5\n",
            "10/10 [==============================] - 4s 356ms/step - loss: 0.0054 - mae: 0.0792\n",
            "Epoch 50/100\n",
            "10/10 [==============================] - ETA: 0s - loss: 0.0054 - mae: 0.0799\n",
            "Epoch 50: mae did not improve from 0.07921\n",
            "10/10 [==============================] - 4s 346ms/step - loss: 0.0054 - mae: 0.0799\n",
            "Epoch 51/100\n",
            "10/10 [==============================] - ETA: 0s - loss: 0.0054 - mae: 0.0796\n",
            "Epoch 51: mae did not improve from 0.07921\n",
            "10/10 [==============================] - 4s 354ms/step - loss: 0.0054 - mae: 0.0796\n",
            "Epoch 52/100\n",
            "10/10 [==============================] - ETA: 0s - loss: 0.0054 - mae: 0.0794\n",
            "Epoch 52: mae did not improve from 0.07921\n",
            "10/10 [==============================] - 4s 358ms/step - loss: 0.0054 - mae: 0.0794\n",
            "Epoch 53/100\n",
            "10/10 [==============================] - ETA: 0s - loss: 0.0054 - mae: 0.0799\n",
            "Epoch 53: mae did not improve from 0.07921\n",
            "10/10 [==============================] - 4s 347ms/step - loss: 0.0054 - mae: 0.0799\n",
            "Epoch 54/100\n",
            "10/10 [==============================] - ETA: 0s - loss: 0.0054 - mae: 0.0795\n",
            "Epoch 54: mae did not improve from 0.07921\n",
            "10/10 [==============================] - 4s 348ms/step - loss: 0.0054 - mae: 0.0795\n",
            "Epoch 55/100\n",
            "10/10 [==============================] - ETA: 0s - loss: 0.0054 - mae: 0.0793\n",
            "Epoch 55: mae did not improve from 0.07921\n",
            "10/10 [==============================] - 4s 348ms/step - loss: 0.0054 - mae: 0.0793\n",
            "Epoch 56/100\n",
            "10/10 [==============================] - ETA: 0s - loss: 0.0054 - mae: 0.0795\n",
            "Epoch 56: mae did not improve from 0.07921\n",
            "10/10 [==============================] - 4s 350ms/step - loss: 0.0054 - mae: 0.0795\n",
            "Epoch 57/100\n",
            "10/10 [==============================] - ETA: 0s - loss: 0.0054 - mae: 0.0803\n",
            "Epoch 57: mae did not improve from 0.07921\n",
            "10/10 [==============================] - 4s 352ms/step - loss: 0.0054 - mae: 0.0803\n",
            "Epoch 58/100\n",
            "10/10 [==============================] - ETA: 0s - loss: 0.0054 - mae: 0.0782\n",
            "Epoch 58: mae improved from 0.07921 to 0.07822, saving model to model.h5\n",
            "10/10 [==============================] - 4s 358ms/step - loss: 0.0054 - mae: 0.0782\n",
            "Epoch 59/100\n",
            "10/10 [==============================] - ETA: 0s - loss: 0.0054 - mae: 0.0815\n",
            "Epoch 59: mae did not improve from 0.07822\n",
            "10/10 [==============================] - 4s 358ms/step - loss: 0.0054 - mae: 0.0815\n",
            "Epoch 60/100\n",
            "10/10 [==============================] - ETA: 0s - loss: 0.0054 - mae: 0.0780\n",
            "Epoch 60: mae improved from 0.07822 to 0.07798, saving model to model.h5\n",
            "10/10 [==============================] - 4s 356ms/step - loss: 0.0054 - mae: 0.0780\n",
            "Epoch 61/100\n",
            "10/10 [==============================] - ETA: 0s - loss: 0.0053 - mae: 0.0801\n",
            "Epoch 61: mae did not improve from 0.07798\n",
            "10/10 [==============================] - 4s 350ms/step - loss: 0.0053 - mae: 0.0801\n",
            "Epoch 62/100\n",
            "10/10 [==============================] - ETA: 0s - loss: 0.0054 - mae: 0.0788\n",
            "Epoch 62: mae did not improve from 0.07798\n",
            "10/10 [==============================] - 4s 350ms/step - loss: 0.0054 - mae: 0.0788\n",
            "Epoch 63/100\n",
            "10/10 [==============================] - ETA: 0s - loss: 0.0053 - mae: 0.0796\n",
            "Epoch 63: mae did not improve from 0.07798\n",
            "10/10 [==============================] - 4s 350ms/step - loss: 0.0053 - mae: 0.0796\n",
            "Epoch 64/100\n",
            "10/10 [==============================] - ETA: 0s - loss: 0.0053 - mae: 0.0794\n",
            "Epoch 64: mae did not improve from 0.07798\n",
            "10/10 [==============================] - 4s 351ms/step - loss: 0.0053 - mae: 0.0794\n",
            "Epoch 65/100\n",
            "10/10 [==============================] - ETA: 0s - loss: 0.0053 - mae: 0.0789\n",
            "Epoch 65: mae did not improve from 0.07798\n",
            "10/10 [==============================] - 4s 351ms/step - loss: 0.0053 - mae: 0.0789\n",
            "Epoch 66/100\n",
            "10/10 [==============================] - ETA: 0s - loss: 0.0053 - mae: 0.0796\n",
            "Epoch 66: mae did not improve from 0.07798\n",
            "10/10 [==============================] - 4s 351ms/step - loss: 0.0053 - mae: 0.0796\n",
            "Epoch 67/100\n",
            "10/10 [==============================] - ETA: 0s - loss: 0.0053 - mae: 0.0788\n",
            "Epoch 67: mae did not improve from 0.07798\n",
            "10/10 [==============================] - 4s 350ms/step - loss: 0.0053 - mae: 0.0788\n",
            "Epoch 68/100\n",
            "10/10 [==============================] - ETA: 0s - loss: 0.0053 - mae: 0.0794\n",
            "Epoch 68: mae did not improve from 0.07798\n",
            "10/10 [==============================] - 4s 347ms/step - loss: 0.0053 - mae: 0.0794\n",
            "Epoch 69/100\n",
            "10/10 [==============================] - ETA: 0s - loss: 0.0053 - mae: 0.0788\n",
            "Epoch 69: mae did not improve from 0.07798\n",
            "10/10 [==============================] - 4s 346ms/step - loss: 0.0053 - mae: 0.0788\n",
            "Epoch 70/100\n",
            "10/10 [==============================] - ETA: 0s - loss: 0.0053 - mae: 0.0796\n",
            "Epoch 70: mae did not improve from 0.07798\n",
            "10/10 [==============================] - 4s 342ms/step - loss: 0.0053 - mae: 0.0796\n",
            "Epoch 71/100\n",
            "10/10 [==============================] - ETA: 0s - loss: 0.0053 - mae: 0.0787\n",
            "Epoch 71: mae did not improve from 0.07798\n",
            "10/10 [==============================] - 4s 344ms/step - loss: 0.0053 - mae: 0.0787\n",
            "Epoch 72/100\n",
            "10/10 [==============================] - ETA: 0s - loss: 0.0053 - mae: 0.0792\n",
            "Epoch 72: mae did not improve from 0.07798\n",
            "10/10 [==============================] - 4s 353ms/step - loss: 0.0053 - mae: 0.0792\n",
            "Epoch 73/100\n",
            "10/10 [==============================] - ETA: 0s - loss: 0.0053 - mae: 0.0791\n",
            "Epoch 73: mae did not improve from 0.07798\n",
            "10/10 [==============================] - 4s 347ms/step - loss: 0.0053 - mae: 0.0791\n",
            "Epoch 74/100\n",
            "10/10 [==============================] - ETA: 0s - loss: 0.0053 - mae: 0.0790\n",
            "Epoch 74: mae did not improve from 0.07798\n",
            "10/10 [==============================] - 4s 350ms/step - loss: 0.0053 - mae: 0.0790\n",
            "Epoch 75/100\n",
            "10/10 [==============================] - ETA: 0s - loss: 0.0053 - mae: 0.0795\n",
            "Epoch 75: mae did not improve from 0.07798\n",
            "10/10 [==============================] - 4s 350ms/step - loss: 0.0053 - mae: 0.0795\n",
            "Epoch 76/100\n",
            "10/10 [==============================] - ETA: 0s - loss: 0.0053 - mae: 0.0790\n",
            "Epoch 76: mae did not improve from 0.07798\n",
            "10/10 [==============================] - 4s 355ms/step - loss: 0.0053 - mae: 0.0790\n",
            "Epoch 77/100\n",
            "10/10 [==============================] - ETA: 0s - loss: 0.0053 - mae: 0.0789\n",
            "Epoch 77: mae did not improve from 0.07798\n",
            "10/10 [==============================] - 4s 354ms/step - loss: 0.0053 - mae: 0.0789\n",
            "Epoch 78/100\n",
            "10/10 [==============================] - ETA: 0s - loss: 0.0053 - mae: 0.0800\n",
            "Epoch 78: mae did not improve from 0.07798\n",
            "10/10 [==============================] - 4s 351ms/step - loss: 0.0053 - mae: 0.0800\n",
            "Epoch 79/100\n",
            "10/10 [==============================] - ETA: 0s - loss: 0.0053 - mae: 0.0781\n",
            "Epoch 79: mae did not improve from 0.07798\n",
            "10/10 [==============================] - 4s 352ms/step - loss: 0.0053 - mae: 0.0781\n",
            "Epoch 80/100\n",
            "10/10 [==============================] - ETA: 0s - loss: 0.0053 - mae: 0.0801\n",
            "Epoch 80: mae did not improve from 0.07798\n",
            "Restoring model weights from the end of the best epoch: 60.\n",
            "10/10 [==============================] - 4s 355ms/step - loss: 0.0053 - mae: 0.0801\n",
            "Epoch 80: early stopping\n"
          ]
        }
      ]
    },
    {
      "cell_type": "code",
      "source": [
        "mae = history.history['mae']\n",
        "loss = history.history['loss']\n",
        "epochs=range(len(loss)) \n",
        "\n",
        "plot_series(x=epochs,\n",
        "            y=(mae, loss), \n",
        "            title='MAE and Loss', \n",
        "            xlabel='MAE',\n",
        "            ylabel='Loss',\n",
        "            legend=['MAE', 'Loss'])"
      ],
      "metadata": {
        "colab": {
          "base_uri": "https://localhost:8080/",
          "height": 403
        },
        "id": "wDWBwi8ZsBo7",
        "outputId": "5e375ffd-e4c7-4af8-d8c3-2ba586dca826"
      },
      "execution_count": 28,
      "outputs": [
        {
          "output_type": "display_data",
          "data": {
            "text/plain": [
              "<Figure size 720x432 with 1 Axes>"
            ],
            "image/png": "[encoded data removed]"
          },
          "metadata": {
            "needs_background": "light"
          }
        }
      ]
    },
    {
      "cell_type": "markdown",
      "source": [
        "### Model Prediction"
      ],
      "metadata": {
        "id": "fQvSbimSuvuf"
      }
    },
    {
      "cell_type": "code",
      "source": [
        "def model_forecast(model, series, window_size):\n",
        "    ds = tf.data.Dataset.from_tensor_slices(series)\n",
        "    ds = ds.window(window_size, shift=1, drop_remainder=True)\n",
        "    ds = ds.flat_map(lambda w: w.batch(window_size))\n",
        "    ds = ds.batch(32).prefetch(1)\n",
        "    forecast = model.predict(ds)\n",
        "    return forecast"
      ],
      "metadata": {
        "id": "y3bGcwpauplv"
      },
      "execution_count": 29,
      "outputs": []
    },
    {
      "cell_type": "code",
      "source": [
        "# Compute the forecast for all the series\n",
        "rnn_forecast = model_forecast(model, series, window_size).squeeze()\n",
        "\n",
        "# Slice the forecast to get only the predictions for the validation set\n",
        "rnn_forecast = rnn_forecast[split_time - window_size:-1]\n",
        "\n",
        "# Plot the forecast\n",
        "plt.figure(figsize=(10, 6))\n",
        "plot_series(time_valid, (x_valid,rnn_forecast))"
      ],
      "metadata": {
        "colab": {
          "base_uri": "https://localhost:8080/",
          "height": 392
        },
        "id": "RWnRqJDIuyFv",
        "outputId": "d7ed0f46-aa36-4555-84de-da812ad3dfb6"
      },
      "execution_count": 34,
      "outputs": [
        {
          "output_type": "display_data",
          "data": {
            "text/plain": [
              "<Figure size 720x432 with 0 Axes>"
            ]
          },
          "metadata": {}
        },
        {
          "output_type": "display_data",
          "data": {
            "text/plain": [
              "<Figure size 720x432 with 1 Axes>"
            ],
            "image/png": "[encoded data removed]"
          },
          "metadata": {
            "needs_background": "light"
          }
        }
      ]
    },
    {
      "cell_type": "code",
      "source": [
        "# Compute the MAE\n",
        "print(f'MAE: {tf.keras.metrics.mean_absolute_error(x_valid, rnn_forecast).numpy()}')"
      ],
      "metadata": {
        "colab": {
          "base_uri": "https://localhost:8080/"
        },
        "id": "H7MmVxr-wNT6",
        "outputId": "31969669-333d-4d3a-c009-35df98d5eeee"
      },
      "execution_count": 35,
      "outputs": [
        {
          "output_type": "stream",
          "name": "stdout",
          "text": [
            "MAE: 0.07887640595436096\n"
          ]
        }
      ]
    }
  ]
}