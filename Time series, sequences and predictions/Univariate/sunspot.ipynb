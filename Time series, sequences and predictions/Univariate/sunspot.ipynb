{
  "nbformat": 4,
  "nbformat_minor": 0,
  "metadata": {
    "colab": {
      "name": "sunspot.ipynb",
      "provenance": []
    },
    "kernelspec": {
      "name": "python3",
      "display_name": "Python 3"
    },
    "language_info": {
      "name": "python"
    }
  },
  "cells": [
    {
      "cell_type": "markdown",
      "source": [
        "# Time series, sequences and predictions\n",
        "Sunspots "
      ],
      "metadata": {
        "id": "idLxb_FZcBAG"
      }
    },
    {
      "cell_type": "markdown",
      "source": [
        "## Importing Module"
      ],
      "metadata": {
        "id": "gFVZLIYkcH40"
      }
    },
    {
      "cell_type": "code",
      "execution_count": 1,
      "metadata": {
        "colab": {
          "base_uri": "https://localhost:8080/"
        },
        "id": "fCrVDo6ibTOl",
        "outputId": "31d61ecd-ee22-4769-ade6-1d7fd3d76b31"
      },
      "outputs": [
        {
          "output_type": "stream",
          "name": "stdout",
          "text": [
            "Tensorflow version: 2.8.2\n"
          ]
        }
      ],
      "source": [
        "import os\n",
        "import csv\n",
        "import urllib\n",
        "\n",
        "import pandas as pd\n",
        "import numpy as np\n",
        "import tensorflow as tf\n",
        "\n",
        "from matplotlib import pyplot as plt\n",
        "\n",
        "%matplotlib inline\n",
        "plt.style.use('seaborn')\n",
        "print(f'Tensorflow version: {tf.__version__}')"
      ]
    },
    {
      "cell_type": "markdown",
      "source": [
        "## Problem\n",
        "\n",
        "- Build and train a neural network model using the Sunspots.csv dataset.\n",
        "- Use `MAE` as the metrics of your neural network model.\n",
        "- We provided code for normalizing the data. Please do not change the code.\n",
        "- Do not use lambda layers in your model.\n",
        "- The dataset used in this problem is downloaded from kaggle.com/robervalt/sunspots\n",
        "- Desired MAE < `0.15` on the normalized dataset."
      ],
      "metadata": {
        "id": "89HPw6zbcc60"
      }
    },
    {
      "cell_type": "markdown",
      "source": [
        "### Preparing data"
      ],
      "metadata": {
        "id": "qlqIT9-9clVu"
      }
    },
    {
      "cell_type": "code",
      "source": [
        "data_url = 'https://github.com/dicodingacademy/assets/raw/main/Simulation/machine_learning/sunspots.csv'\n",
        "name_file = 'sunspots.csv'\n",
        "\n",
        "if os.path.isfile(name_file) == False:\n",
        "  urllib.request.urlretrieve(data_url, name_file)\n",
        "  print(f'{name_file} Downloaded')\n",
        "else:\n",
        "  print(f'{name_file} Already exist')"
      ],
      "metadata": {
        "colab": {
          "base_uri": "https://localhost:8080/"
        },
        "id": "TSAvbXZScRo9",
        "outputId": "c3c95ee9-5264-40a8-b5d5-b6411dd2815f"
      },
      "execution_count": 2,
      "outputs": [
        {
          "output_type": "stream",
          "name": "stdout",
          "text": [
            "sunspots.csv Downloaded\n"
          ]
        }
      ]
    },
    {
      "cell_type": "markdown",
      "source": [
        "#### Explore data"
      ],
      "metadata": {
        "id": "YHzG4dSycs_M"
      }
    },
    {
      "cell_type": "markdown",
      "source": [
        "Load data using pandas"
      ],
      "metadata": {
        "id": "jdCIHgBnc1rV"
      }
    },
    {
      "cell_type": "code",
      "source": [
        "df = pd.read_csv(name_file, index_col=0)"
      ],
      "metadata": {
        "id": "9sBKTg9KcqNN"
      },
      "execution_count": 3,
      "outputs": []
    },
    {
      "cell_type": "code",
      "source": [
        "df.columns = ['date', 'monthly_mean'] # rename column\n",
        "\n",
        "print(f'Total Data : {df.shape[0]}')\n",
        "print(f'Total Columns : {df.shape[1]}')"
      ],
      "metadata": {
        "colab": {
          "base_uri": "https://localhost:8080/"
        },
        "id": "KJ3SVDMJcyjE",
        "outputId": "20d42f7b-1169-4d85-8ec4-0e088c9f02b4"
      },
      "execution_count": 4,
      "outputs": [
        {
          "output_type": "stream",
          "name": "stdout",
          "text": [
            "Total Data : 3265\n",
            "Total Columns : 2\n"
          ]
        }
      ]
    },
    {
      "cell_type": "markdown",
      "source": [
        "First 10 from data"
      ],
      "metadata": {
        "id": "qzD6QixZdO1u"
      }
    },
    {
      "cell_type": "code",
      "source": [
        "df.head(10)"
      ],
      "metadata": {
        "colab": {
          "base_uri": "https://localhost:8080/",
          "height": 363
        },
        "id": "ugRcCTHudSho",
        "outputId": "f32c3e07-90c9-4196-c196-a70ecb035e95"
      },
      "execution_count": 5,
      "outputs": [
        {
          "output_type": "execute_result",
          "data": {
            "text/plain": [
              "         date  monthly_mean\n",
              "0  1749-01-31          96.7\n",
              "1  1749-02-28         104.3\n",
              "2  1749-03-31         116.7\n",
              "3  1749-04-30          92.8\n",
              "4  1749-05-31         141.7\n",
              "5  1749-06-30         139.2\n",
              "6  1749-07-31         158.0\n",
              "7  1749-08-31         110.5\n",
              "8  1749-09-30         126.5\n",
              "9  1749-10-31         125.8"
            ],
            "text/html": [
              "\n",
              "  <div id=\"df-cb3e6afb-0c32-4046-8f02-edab5e54e5de\">\n",
              "    <div class=\"colab-df-container\">\n",
              "      <div>\n",
              "<style scoped>\n",
              "    .dataframe tbody tr th:only-of-type {\n",
              "        vertical-align: middle;\n",
              "    }\n",
              "\n",
              "    .dataframe tbody tr th {\n",
              "        vertical-align: top;\n",
              "    }\n",
              "\n",
              "    .dataframe thead th {\n",
              "        text-align: right;\n",
              "    }\n",
              "</style>\n",
              "<table border=\"1\" class=\"dataframe\">\n",
              "  <thead>\n",
              "    <tr style=\"text-align: right;\">\n",
              "      <th></th>\n",
              "      <th>date</th>\n",
              "      <th>monthly_mean</th>\n",
              "    </tr>\n",
              "  </thead>\n",
              "  <tbody>\n",
              "    <tr>\n",
              "      <th>0</th>\n",
              "      <td>1749-01-31</td>\n",
              "      <td>96.7</td>\n",
              "    </tr>\n",
              "    <tr>\n",
              "      <th>1</th>\n",
              "      <td>1749-02-28</td>\n",
              "      <td>104.3</td>\n",
              "    </tr>\n",
              "    <tr>\n",
              "      <th>2</th>\n",
              "      <td>1749-03-31</td>\n",
              "      <td>116.7</td>\n",
              "    </tr>\n",
              "    <tr>\n",
              "      <th>3</th>\n",
              "      <td>1749-04-30</td>\n",
              "      <td>92.8</td>\n",
              "    </tr>\n",
              "    <tr>\n",
              "      <th>4</th>\n",
              "      <td>1749-05-31</td>\n",
              "      <td>141.7</td>\n",
              "    </tr>\n",
              "    <tr>\n",
              "      <th>5</th>\n",
              "      <td>1749-06-30</td>\n",
              "      <td>139.2</td>\n",
              "    </tr>\n",
              "    <tr>\n",
              "      <th>6</th>\n",
              "      <td>1749-07-31</td>\n",
              "      <td>158.0</td>\n",
              "    </tr>\n",
              "    <tr>\n",
              "      <th>7</th>\n",
              "      <td>1749-08-31</td>\n",
              "      <td>110.5</td>\n",
              "    </tr>\n",
              "    <tr>\n",
              "      <th>8</th>\n",
              "      <td>1749-09-30</td>\n",
              "      <td>126.5</td>\n",
              "    </tr>\n",
              "    <tr>\n",
              "      <th>9</th>\n",
              "      <td>1749-10-31</td>\n",
              "      <td>125.8</td>\n",
              "    </tr>\n",
              "  </tbody>\n",
              "</table>\n",
              "</div>\n",
              "      <button class=\"colab-df-convert\" onclick=\"convertToInteractive('df-cb3e6afb-0c32-4046-8f02-edab5e54e5de')\"\n",
              "              title=\"Convert this dataframe to an interactive table.\"\n",
              "              style=\"display:none;\">\n",
              "        \n",
              "  <svg xmlns=\"http://www.w3.org/2000/svg\" height=\"24px\"viewBox=\"0 0 24 24\"\n",
              "       width=\"24px\">\n",
              "    <path d=\"M0 0h24v24H0V0z\" fill=\"none\"/>\n",
              "    <path d=\"M18.56 5.44l.94 2.06.94-2.06 2.06-.94-2.06-.94-.94-2.06-.94 2.06-2.06.94zm-11 1L8.5 8.5l.94-2.06 2.06-.94-2.06-.94L8.5 2.5l-.94 2.06-2.06.94zm10 10l.94 2.06.94-2.06 2.06-.94-2.06-.94-.94-2.06-.94 2.06-2.06.94z\"/><path d=\"M17.41 7.96l-1.37-1.37c-.4-.4-.92-.59-1.43-.59-.52 0-1.04.2-1.43.59L10.3 9.45l-7.72 7.72c-.78.78-.78 2.05 0 2.83L4 21.41c.39.39.9.59 1.41.59.51 0 1.02-.2 1.41-.59l7.78-7.78 2.81-2.81c.8-.78.8-2.07 0-2.86zM5.41 20L4 18.59l7.72-7.72 1.47 1.35L5.41 20z\"/>\n",
              "  </svg>\n",
              "      </button>\n",
              "      \n",
              "  <style>\n",
              "    .colab-df-container {\n",
              "      display:flex;\n",
              "      flex-wrap:wrap;\n",
              "      gap: 12px;\n",
              "    }\n",
              "\n",
              "    .colab-df-convert {\n",
              "      background-color: #E8F0FE;\n",
              "      border: none;\n",
              "      border-radius: 50%;\n",
              "      cursor: pointer;\n",
              "      display: none;\n",
              "      fill: #1967D2;\n",
              "      height: 32px;\n",
              "      padding: 0 0 0 0;\n",
              "      width: 32px;\n",
              "    }\n",
              "\n",
              "    .colab-df-convert:hover {\n",
              "      background-color: #E2EBFA;\n",
              "      box-shadow: 0px 1px 2px rgba(60, 64, 67, 0.3), 0px 1px 3px 1px rgba(60, 64, 67, 0.15);\n",
              "      fill: #174EA6;\n",
              "    }\n",
              "\n",
              "    [theme=dark] .colab-df-convert {\n",
              "      background-color: #3B4455;\n",
              "      fill: #D2E3FC;\n",
              "    }\n",
              "\n",
              "    [theme=dark] .colab-df-convert:hover {\n",
              "      background-color: #434B5C;\n",
              "      box-shadow: 0px 1px 3px 1px rgba(0, 0, 0, 0.15);\n",
              "      filter: drop-shadow(0px 1px 2px rgba(0, 0, 0, 0.3));\n",
              "      fill: #FFFFFF;\n",
              "    }\n",
              "  </style>\n",
              "\n",
              "      <script>\n",
              "        const buttonEl =\n",
              "          document.querySelector('#df-cb3e6afb-0c32-4046-8f02-edab5e54e5de button.colab-df-convert');\n",
              "        buttonEl.style.display =\n",
              "          google.colab.kernel.accessAllowed ? 'block' : 'none';\n",
              "\n",
              "        async function convertToInteractive(key) {\n",
              "          const element = document.querySelector('#df-cb3e6afb-0c32-4046-8f02-edab5e54e5de');\n",
              "          const dataTable =\n",
              "            await google.colab.kernel.invokeFunction('convertToInteractive',\n",
              "                                                     [key], {});\n",
              "          if (!dataTable) return;\n",
              "\n",
              "          const docLinkHtml = 'Like what you see? Visit the ' +\n",
              "            '<a target=\"_blank\" href=https://colab.research.google.com/notebooks/data_table.ipynb>data table notebook</a>'\n",
              "            + ' to learn more about interactive tables.';\n",
              "          element.innerHTML = '';\n",
              "          dataTable['output_type'] = 'display_data';\n",
              "          await google.colab.output.renderOutput(dataTable, element);\n",
              "          const docLink = document.createElement('div');\n",
              "          docLink.innerHTML = docLinkHtml;\n",
              "          element.appendChild(docLink);\n",
              "        }\n",
              "      </script>\n",
              "    </div>\n",
              "  </div>\n",
              "  "
            ]
          },
          "metadata": {},
          "execution_count": 5
        }
      ]
    },
    {
      "cell_type": "markdown",
      "source": [
        "More information about data"
      ],
      "metadata": {
        "id": "OZSZGCJydLJZ"
      }
    },
    {
      "cell_type": "code",
      "source": [
        "df.info()"
      ],
      "metadata": {
        "colab": {
          "base_uri": "https://localhost:8080/"
        },
        "id": "hsROgx-UdCgV",
        "outputId": "cba99876-3b54-4315-b626-af76f4ef1dbc"
      },
      "execution_count": 6,
      "outputs": [
        {
          "output_type": "stream",
          "name": "stdout",
          "text": [
            "<class 'pandas.core.frame.DataFrame'>\n",
            "Int64Index: 3265 entries, 0 to 3264\n",
            "Data columns (total 2 columns):\n",
            " #   Column        Non-Null Count  Dtype  \n",
            "---  ------        --------------  -----  \n",
            " 0   date          3265 non-null   object \n",
            " 1   monthly_mean  3265 non-null   float64\n",
            "dtypes: float64(1), object(1)\n",
            "memory usage: 76.5+ KB\n"
          ]
        }
      ]
    },
    {
      "cell_type": "markdown",
      "source": [
        "Visualize data"
      ],
      "metadata": {
        "id": "ITrP9FETdh4X"
      }
    },
    {
      "cell_type": "code",
      "source": [
        "def plot_series(x, y, format=\"-\", start=0, end=None, \n",
        "                title=None, xlabel=None, ylabel=None, legend=None ):\n",
        "    \"\"\"\n",
        "    Visualizes time series data\n",
        "\n",
        "    Args:\n",
        "      x (array of int) - contains values for the x-axis\n",
        "      y (array of int or tuple of arrays) - contains the values for the y-axis\n",
        "      format (string) - line style when plotting the graph\n",
        "      start (int) - first time step to plot\n",
        "      end (int) - last time step to plot\n",
        "      title (string) - title of the plot\n",
        "      xlabel (string) - label for the x-axis\n",
        "      ylabel (string) - label for the y-axis\n",
        "      legend (list of strings) - legend for the plot\n",
        "    \"\"\"\n",
        "\n",
        "    # Setup dimensions of the graph figure\n",
        "    plt.figure(figsize=(10, 6))\n",
        "    \n",
        "    # Check if there are more than two series to plot\n",
        "    if type(y) is tuple:\n",
        "\n",
        "      # Loop over the y elements\n",
        "      for y_curr in y:\n",
        "\n",
        "        # Plot the x and current y values\n",
        "        plt.plot(x[start:end], y_curr[start:end], format)\n",
        "\n",
        "    else:\n",
        "      # Plot the x and y values\n",
        "      plt.plot(x[start:end], y[start:end], format)\n",
        "\n",
        "    # Label the x-axis\n",
        "    plt.xlabel(xlabel)\n",
        "\n",
        "    # Label the y-axis\n",
        "    plt.ylabel(ylabel)\n",
        "\n",
        "    # Set the legend\n",
        "    if legend:\n",
        "      plt.legend(legend)\n",
        "\n",
        "    # Set the title\n",
        "    plt.title(title)\n",
        "\n",
        "    # Overlay a grid on the graph\n",
        "    plt.grid(True)\n",
        "\n",
        "    # Draw the graph on screen\n",
        "    plt.show()"
      ],
      "metadata": {
        "id": "yKPcnTQ0vBeZ"
      },
      "execution_count": 7,
      "outputs": []
    },
    {
      "cell_type": "code",
      "source": [
        "x = df.index\n",
        "y = df['monthly_mean']\n",
        "\n",
        "plot_series(x, y, xlabel='Month', ylabel='Monthly Mean Total Sunspot Number')"
      ],
      "metadata": {
        "colab": {
          "base_uri": "https://localhost:8080/",
          "height": 388
        },
        "id": "9E6K9bCpdZwj",
        "outputId": "88126822-26fc-42e1-d49d-f9e2d3c06319"
      },
      "execution_count": 8,
      "outputs": [
        {
          "output_type": "display_data",
          "data": {
            "text/plain": [
              "<Figure size 720x432 with 1 Axes>"
            ],
            "image/png": "[encoded data removed]"
          },
          "metadata": {
            "needs_background": "light"
          }
        }
      ]
    },
    {
      "cell_type": "markdown",
      "source": [
        "### Preparing Model"
      ],
      "metadata": {
        "id": "8CUgtD5yePhg"
      }
    },
    {
      "cell_type": "markdown",
      "source": [
        "Set Paramters"
      ],
      "metadata": {
        "id": "_yT9lezzeVcY"
      }
    },
    {
      "cell_type": "code",
      "source": [
        "split_time = 3000\n",
        "window_size = 30\n",
        "batch_size = 32\n",
        "shuffle_buffer_size = 1000"
      ],
      "metadata": {
        "id": "A5ck4jy8ePB5"
      },
      "execution_count": 9,
      "outputs": []
    },
    {
      "cell_type": "markdown",
      "source": [
        "Prepare Feature and label (time from index series from montly_mean)"
      ],
      "metadata": {
        "id": "LmabXwvYeXYg"
      }
    },
    {
      "cell_type": "code",
      "source": [
        "time = np.array(df.index)\n",
        "series = np.array(df['monthly_mean'])"
      ],
      "metadata": {
        "id": "PItpMR_GelfS"
      },
      "execution_count": 10,
      "outputs": []
    },
    {
      "cell_type": "markdown",
      "source": [
        "Normalization Data"
      ],
      "metadata": {
        "id": "_FoLP9-mjNMR"
      }
    },
    {
      "cell_type": "code",
      "source": [
        "min = np.min(series)\n",
        "max = np.max(series)\n",
        "series -= min\n",
        "series /= max"
      ],
      "metadata": {
        "id": "kOkPdw06jLhJ"
      },
      "execution_count": 11,
      "outputs": []
    },
    {
      "cell_type": "markdown",
      "source": [
        "Fixed Partition"
      ],
      "metadata": {
        "id": "AFtW-nZJetbJ"
      }
    },
    {
      "cell_type": "code",
      "source": [
        "# Get the train set \n",
        "time_train = time[:split_time]\n",
        "x_train = series[:split_time]\n",
        "\n",
        "# Get the validation set\n",
        "time_valid = time[split_time:]\n",
        "x_valid = series[split_time:]"
      ],
      "metadata": {
        "id": "qnQ9pMcsewI4"
      },
      "execution_count": 12,
      "outputs": []
    },
    {
      "cell_type": "markdown",
      "source": [
        "Windowing Data"
      ],
      "metadata": {
        "id": "DUPfE2K-e-bJ"
      }
    },
    {
      "cell_type": "code",
      "source": [
        "def windowed_dataset(series, window_size, batch_size, shuffle_buffer):\n",
        "    \"\"\"Generates dataset windows\n",
        "\n",
        "    Args:\n",
        "      series (array of float) - contains the values of the time series\n",
        "      window_size (int) - the number of time steps to include in the feature\n",
        "      batch_size (int) - the batch size\n",
        "      shuffle_buffer(int) - buffer size to use for the shuffle method\n",
        "\n",
        "    Returns:\n",
        "      dataset (TF Dataset) - TF Dataset containing time windows\n",
        "    \"\"\"\n",
        "  \n",
        "    # Generate a TF Dataset from the series values\n",
        "    dataset = tf.data.Dataset.from_tensor_slices(series)\n",
        "    \n",
        "    # Window the data but only take those with the specified size\n",
        "    dataset = dataset.window(window_size + 1, shift=1, drop_remainder=True)\n",
        "    \n",
        "    # Flatten the windows by putting its elements in a single batch\n",
        "    dataset = dataset.flat_map(lambda window: window.batch(window_size + 1))\n",
        "\n",
        "    # Create tuples with features and labels \n",
        "    dataset = dataset.map(lambda window: (window[:-1], window[-1]))\n",
        "\n",
        "    # Shuffle the windows\n",
        "    dataset = dataset.shuffle(shuffle_buffer)\n",
        "    \n",
        "    # Create batches of windows\n",
        "    dataset = dataset.batch(batch_size).prefetch(1)\n",
        "    \n",
        "    return dataset"
      ],
      "metadata": {
        "id": "55IZmTlue1wd"
      },
      "execution_count": 13,
      "outputs": []
    },
    {
      "cell_type": "code",
      "source": [
        "train_set=windowed_dataset(x_train, window_size=window_size,\n",
        "                           batch_size=batch_size, \n",
        "                           shuffle_buffer=shuffle_buffer_size)"
      ],
      "metadata": {
        "id": "dvlekWylfEEp"
      },
      "execution_count": 14,
      "outputs": []
    },
    {
      "cell_type": "markdown",
      "source": [
        "#### Build Model"
      ],
      "metadata": {
        "id": "izqkUpf6fbnT"
      }
    },
    {
      "cell_type": "code",
      "source": [
        "def build_model(WINDOW_SIZE, lr=1e-8):\n",
        "  \"\"\"\n",
        "  Creates a model with learning rate schedule \n",
        "  for finding best learning rate\n",
        "  \n",
        "  Args:\n",
        "      WINDOW_SIZE (int): the number of time steps to include in the feature\n",
        "      lr (float): the number of learning rate optimizer\n",
        "\n",
        "  Returns:\n",
        "      model (tf.keras Model): the time, series model\n",
        "  \"\"\"\n",
        "\n",
        "  # Define Params  \n",
        "  adam = tf.keras.optimizers.Adam(learning_rate=lr) # Optimizer\n",
        "  losses = tf.keras.losses.Huber()\n",
        "\n",
        "  # Define Activation Function\n",
        "  relu = tf.nn.relu\n",
        "\n",
        "  # Define model sequential\n",
        "  model = tf.keras.Sequential()\n",
        "\n",
        "  # Define Convolutional 1D\n",
        "  model.add(tf.keras.layers.Conv1D(filters=60, kernel_size=5,\n",
        "                      strides=1, padding=\"causal\",\n",
        "                      activation=relu,\n",
        "                      input_shape=[WINDOW_SIZE, 1]))\n",
        "  \n",
        "  # Define layers LSTM\n",
        "  model.add(tf.keras.layers.LSTM(64, return_sequences=True))\n",
        "  model.add(tf.keras.layers.LSTM(64))\n",
        "\n",
        "  # Define Fully Connected layers\n",
        "  model.add(tf.keras.layers.Dense(10, activation=relu))\n",
        "  model.add(tf.keras.layers.Dense(10, activation=relu))\n",
        "  model.add(tf.keras.layers.Dense(1))\n",
        "\n",
        "\n",
        "  # Compile model\n",
        "  model.compile(optimizer=adam, loss=losses, metrics=['mae'])\n",
        "\n",
        "  # Check Summary Model\n",
        "  model.summary()\n",
        "\n",
        "  print('\\nModel Succesfully Create')\n",
        "  \n",
        "  return model"
      ],
      "metadata": {
        "id": "og9Ab77zf2Kj"
      },
      "execution_count": 15,
      "outputs": []
    },
    {
      "cell_type": "markdown",
      "source": [
        "#### Define Callbacks"
      ],
      "metadata": {
        "id": "vE2r4g6Pfzpu"
      }
    },
    {
      "cell_type": "code",
      "source": [
        "model_checkpoint = tf.keras.callbacks.ModelCheckpoint(\"model.h5\", \n",
        "                                                      monitor=\"mae\",\n",
        "                                                      save_best_only=True,\n",
        "                                                      verbose=1)\n",
        "\n",
        "early_stopping = tf.keras.callbacks.EarlyStopping(monitor=\"mae\", \n",
        "                                                  patience=20, \n",
        "                                                  mode =\"min\", \n",
        "                                                  verbose=2, \n",
        "                                                  restore_best_weights=True)\n",
        "\n",
        "lr_schedule = tf.keras.callbacks.LearningRateScheduler(lambda epoch: 1e-8 * 10**(epoch / 20))"
      ],
      "metadata": {
        "id": "0g1i6rHUfNzQ"
      },
      "execution_count": 16,
      "outputs": []
    },
    {
      "cell_type": "markdown",
      "source": [
        "### Train Model"
      ],
      "metadata": {
        "id": "oc9s1Iwohk34"
      }
    },
    {
      "cell_type": "markdown",
      "source": [
        "#### Train model with learning rate schedule"
      ],
      "metadata": {
        "id": "WQvL6zkthtah"
      }
    },
    {
      "cell_type": "code",
      "source": [
        "model = build_model(window_size)"
      ],
      "metadata": {
        "colab": {
          "base_uri": "https://localhost:8080/"
        },
        "id": "a_dv1FWDhjQW",
        "outputId": "8077c9da-6311-43f7-c0a1-d121f04b87c4"
      },
      "execution_count": 17,
      "outputs": [
        {
          "output_type": "stream",
          "name": "stdout",
          "text": [
            "Model: \"sequential\"\n",
            "_________________________________________________________________\n",
            " Layer (type)                Output Shape              Param #   \n",
            "=================================================================\n",
            " conv1d (Conv1D)             (None, 30, 60)            360       \n",
            "                                                                 \n",
            " lstm (LSTM)                 (None, 30, 64)            32000     \n",
            "                                                                 \n",
            " lstm_1 (LSTM)               (None, 64)                33024     \n",
            "                                                                 \n",
            " dense (Dense)               (None, 10)                650       \n",
            "                                                                 \n",
            " dense_1 (Dense)             (None, 10)                110       \n",
            "                                                                 \n",
            " dense_2 (Dense)             (None, 1)                 11        \n",
            "                                                                 \n",
            "=================================================================\n",
            "Total params: 66,155\n",
            "Trainable params: 66,155\n",
            "Non-trainable params: 0\n",
            "_________________________________________________________________\n",
            "\n",
            "Model Succesfully Create\n"
          ]
        }
      ]
    },
    {
      "cell_type": "code",
      "source": [
        "history_lr = model.fit(train_set ,epochs=100, callbacks=[lr_schedule])"
      ],
      "metadata": {
        "colab": {
          "base_uri": "https://localhost:8080/"
        },
        "id": "qg06l5GaiDTw",
        "outputId": "25e26a13-7cb8-4a42-b470-b16509253071"
      },
      "execution_count": 18,
      "outputs": [
        {
          "output_type": "stream",
          "name": "stdout",
          "text": [
            "Epoch 1/100\n",
            "93/93 [==============================] - 7s 39ms/step - loss: 0.0374 - mae: 0.2111 - lr: 1.0000e-08\n",
            "Epoch 2/100\n",
            "93/93 [==============================] - 5s 52ms/step - loss: 0.0374 - mae: 0.2111 - lr: 1.1220e-08\n",
            "Epoch 3/100\n",
            "93/93 [==============================] - 5s 53ms/step - loss: 0.0374 - mae: 0.2111 - lr: 1.2589e-08\n",
            "Epoch 4/100\n",
            "93/93 [==============================] - 5s 54ms/step - loss: 0.0374 - mae: 0.2111 - lr: 1.4125e-08\n",
            "Epoch 5/100\n",
            "93/93 [==============================] - 3s 29ms/step - loss: 0.0374 - mae: 0.2110 - lr: 1.5849e-08\n",
            "Epoch 6/100\n",
            "93/93 [==============================] - 3s 29ms/step - loss: 0.0374 - mae: 0.2110 - lr: 1.7783e-08\n",
            "Epoch 7/100\n",
            "93/93 [==============================] - 3s 29ms/step - loss: 0.0374 - mae: 0.2110 - lr: 1.9953e-08\n",
            "Epoch 8/100\n",
            "93/93 [==============================] - 3s 29ms/step - loss: 0.0374 - mae: 0.2110 - lr: 2.2387e-08\n",
            "Epoch 9/100\n",
            "93/93 [==============================] - 3s 29ms/step - loss: 0.0374 - mae: 0.2110 - lr: 2.5119e-08\n",
            "Epoch 10/100\n",
            "93/93 [==============================] - 3s 29ms/step - loss: 0.0374 - mae: 0.2109 - lr: 2.8184e-08\n",
            "Epoch 11/100\n",
            "93/93 [==============================] - 3s 29ms/step - loss: 0.0374 - mae: 0.2109 - lr: 3.1623e-08\n",
            "Epoch 12/100\n",
            "93/93 [==============================] - 3s 29ms/step - loss: 0.0374 - mae: 0.2109 - lr: 3.5481e-08\n",
            "Epoch 13/100\n",
            "93/93 [==============================] - 3s 29ms/step - loss: 0.0374 - mae: 0.2108 - lr: 3.9811e-08\n",
            "Epoch 14/100\n",
            "93/93 [==============================] - 3s 29ms/step - loss: 0.0374 - mae: 0.2108 - lr: 4.4668e-08\n",
            "Epoch 15/100\n",
            "93/93 [==============================] - 3s 29ms/step - loss: 0.0373 - mae: 0.2107 - lr: 5.0119e-08\n",
            "Epoch 16/100\n",
            "93/93 [==============================] - 3s 29ms/step - loss: 0.0373 - mae: 0.2107 - lr: 5.6234e-08\n",
            "Epoch 17/100\n",
            "93/93 [==============================] - 3s 29ms/step - loss: 0.0373 - mae: 0.2106 - lr: 6.3096e-08\n",
            "Epoch 18/100\n",
            "93/93 [==============================] - 4s 44ms/step - loss: 0.0373 - mae: 0.2105 - lr: 7.0795e-08\n",
            "Epoch 19/100\n",
            "93/93 [==============================] - 3s 30ms/step - loss: 0.0373 - mae: 0.2105 - lr: 7.9433e-08\n",
            "Epoch 20/100\n",
            "93/93 [==============================] - 3s 30ms/step - loss: 0.0373 - mae: 0.2104 - lr: 8.9125e-08\n",
            "Epoch 21/100\n",
            "93/93 [==============================] - 3s 30ms/step - loss: 0.0372 - mae: 0.2103 - lr: 1.0000e-07\n",
            "Epoch 22/100\n",
            "93/93 [==============================] - 3s 29ms/step - loss: 0.0372 - mae: 0.2102 - lr: 1.1220e-07\n",
            "Epoch 23/100\n",
            "93/93 [==============================] - 3s 29ms/step - loss: 0.0372 - mae: 0.2100 - lr: 1.2589e-07\n",
            "Epoch 24/100\n",
            "93/93 [==============================] - 3s 29ms/step - loss: 0.0371 - mae: 0.2099 - lr: 1.4125e-07\n",
            "Epoch 25/100\n",
            "93/93 [==============================] - 3s 29ms/step - loss: 0.0371 - mae: 0.2097 - lr: 1.5849e-07\n",
            "Epoch 26/100\n",
            "93/93 [==============================] - 3s 30ms/step - loss: 0.0370 - mae: 0.2096 - lr: 1.7783e-07\n",
            "Epoch 27/100\n",
            "93/93 [==============================] - 3s 29ms/step - loss: 0.0370 - mae: 0.2094 - lr: 1.9953e-07\n",
            "Epoch 28/100\n",
            "93/93 [==============================] - 3s 29ms/step - loss: 0.0369 - mae: 0.2092 - lr: 2.2387e-07\n",
            "Epoch 29/100\n",
            "93/93 [==============================] - 3s 28ms/step - loss: 0.0369 - mae: 0.2089 - lr: 2.5119e-07\n",
            "Epoch 30/100\n",
            "93/93 [==============================] - 3s 29ms/step - loss: 0.0368 - mae: 0.2086 - lr: 2.8184e-07\n",
            "Epoch 31/100\n",
            "93/93 [==============================] - 3s 29ms/step - loss: 0.0367 - mae: 0.2083 - lr: 3.1623e-07\n",
            "Epoch 32/100\n",
            "93/93 [==============================] - 3s 29ms/step - loss: 0.0366 - mae: 0.2079 - lr: 3.5481e-07\n",
            "Epoch 33/100\n",
            "93/93 [==============================] - 3s 30ms/step - loss: 0.0365 - mae: 0.2075 - lr: 3.9811e-07\n",
            "Epoch 34/100\n",
            "93/93 [==============================] - 3s 29ms/step - loss: 0.0364 - mae: 0.2070 - lr: 4.4668e-07\n",
            "Epoch 35/100\n",
            "93/93 [==============================] - 3s 30ms/step - loss: 0.0363 - mae: 0.2065 - lr: 5.0119e-07\n",
            "Epoch 36/100\n",
            "93/93 [==============================] - 3s 30ms/step - loss: 0.0361 - mae: 0.2059 - lr: 5.6234e-07\n",
            "Epoch 37/100\n",
            "93/93 [==============================] - 3s 29ms/step - loss: 0.0360 - mae: 0.2052 - lr: 6.3096e-07\n",
            "Epoch 38/100\n",
            "93/93 [==============================] - 3s 33ms/step - loss: 0.0358 - mae: 0.2044 - lr: 7.0795e-07\n",
            "Epoch 39/100\n",
            "93/93 [==============================] - 3s 30ms/step - loss: 0.0355 - mae: 0.2033 - lr: 7.9433e-07\n",
            "Epoch 40/100\n",
            "93/93 [==============================] - 3s 30ms/step - loss: 0.0352 - mae: 0.2018 - lr: 8.9125e-07\n",
            "Epoch 41/100\n",
            "93/93 [==============================] - 3s 29ms/step - loss: 0.0345 - mae: 0.1993 - lr: 1.0000e-06\n",
            "Epoch 42/100\n",
            "93/93 [==============================] - 3s 30ms/step - loss: 0.0337 - mae: 0.1964 - lr: 1.1220e-06\n",
            "Epoch 43/100\n",
            "93/93 [==============================] - 3s 30ms/step - loss: 0.0329 - mae: 0.1935 - lr: 1.2589e-06\n",
            "Epoch 44/100\n",
            "93/93 [==============================] - 3s 30ms/step - loss: 0.0321 - mae: 0.1905 - lr: 1.4125e-06\n",
            "Epoch 45/100\n",
            "93/93 [==============================] - 3s 29ms/step - loss: 0.0310 - mae: 0.1859 - lr: 1.5849e-06\n",
            "Epoch 46/100\n",
            "93/93 [==============================] - 3s 30ms/step - loss: 0.0292 - mae: 0.1792 - lr: 1.7783e-06\n",
            "Epoch 47/100\n",
            "93/93 [==============================] - 3s 29ms/step - loss: 0.0275 - mae: 0.1727 - lr: 1.9953e-06\n",
            "Epoch 48/100\n",
            "93/93 [==============================] - 3s 30ms/step - loss: 0.0259 - mae: 0.1662 - lr: 2.2387e-06\n",
            "Epoch 49/100\n",
            "93/93 [==============================] - 3s 29ms/step - loss: 0.0240 - mae: 0.1588 - lr: 2.5119e-06\n",
            "Epoch 50/100\n",
            "93/93 [==============================] - 3s 29ms/step - loss: 0.0219 - mae: 0.1502 - lr: 2.8184e-06\n",
            "Epoch 51/100\n",
            "93/93 [==============================] - 3s 30ms/step - loss: 0.0194 - mae: 0.1401 - lr: 3.1623e-06\n",
            "Epoch 52/100\n",
            "93/93 [==============================] - 3s 30ms/step - loss: 0.0165 - mae: 0.1283 - lr: 3.5481e-06\n",
            "Epoch 53/100\n",
            "93/93 [==============================] - 3s 30ms/step - loss: 0.0134 - mae: 0.1157 - lr: 3.9811e-06\n",
            "Epoch 54/100\n",
            "93/93 [==============================] - 3s 29ms/step - loss: 0.0106 - mae: 0.1053 - lr: 4.4668e-06\n",
            "Epoch 55/100\n",
            "93/93 [==============================] - 3s 29ms/step - loss: 0.0088 - mae: 0.0998 - lr: 5.0119e-06\n",
            "Epoch 56/100\n",
            "93/93 [==============================] - 3s 29ms/step - loss: 0.0082 - mae: 0.0996 - lr: 5.6234e-06\n",
            "Epoch 57/100\n",
            "93/93 [==============================] - 3s 30ms/step - loss: 0.0081 - mae: 0.1000 - lr: 6.3096e-06\n",
            "Epoch 58/100\n",
            "93/93 [==============================] - 3s 29ms/step - loss: 0.0079 - mae: 0.0990 - lr: 7.0795e-06\n",
            "Epoch 59/100\n",
            "93/93 [==============================] - 3s 30ms/step - loss: 0.0078 - mae: 0.0982 - lr: 7.9433e-06\n",
            "Epoch 60/100\n",
            "93/93 [==============================] - 3s 30ms/step - loss: 0.0076 - mae: 0.0966 - lr: 8.9125e-06\n",
            "Epoch 61/100\n",
            "93/93 [==============================] - 3s 29ms/step - loss: 0.0074 - mae: 0.0948 - lr: 1.0000e-05\n",
            "Epoch 62/100\n",
            "93/93 [==============================] - 3s 30ms/step - loss: 0.0071 - mae: 0.0929 - lr: 1.1220e-05\n",
            "Epoch 63/100\n",
            "93/93 [==============================] - 3s 30ms/step - loss: 0.0068 - mae: 0.0907 - lr: 1.2589e-05\n",
            "Epoch 64/100\n",
            "93/93 [==============================] - 3s 30ms/step - loss: 0.0065 - mae: 0.0879 - lr: 1.4125e-05\n",
            "Epoch 65/100\n",
            "93/93 [==============================] - 3s 30ms/step - loss: 0.0060 - mae: 0.0839 - lr: 1.5849e-05\n",
            "Epoch 66/100\n",
            "93/93 [==============================] - 3s 29ms/step - loss: 0.0054 - mae: 0.0794 - lr: 1.7783e-05\n",
            "Epoch 67/100\n",
            "93/93 [==============================] - 3s 29ms/step - loss: 0.0048 - mae: 0.0741 - lr: 1.9953e-05\n",
            "Epoch 68/100\n",
            "93/93 [==============================] - 3s 29ms/step - loss: 0.0041 - mae: 0.0685 - lr: 2.2387e-05\n",
            "Epoch 69/100\n",
            "93/93 [==============================] - 3s 29ms/step - loss: 0.0034 - mae: 0.0624 - lr: 2.5119e-05\n",
            "Epoch 70/100\n",
            "93/93 [==============================] - 3s 29ms/step - loss: 0.0030 - mae: 0.0586 - lr: 2.8184e-05\n",
            "Epoch 71/100\n",
            "93/93 [==============================] - 3s 29ms/step - loss: 0.0028 - mae: 0.0560 - lr: 3.1623e-05\n",
            "Epoch 72/100\n",
            "93/93 [==============================] - 3s 30ms/step - loss: 0.0027 - mae: 0.0551 - lr: 3.5481e-05\n",
            "Epoch 73/100\n",
            "93/93 [==============================] - 3s 30ms/step - loss: 0.0026 - mae: 0.0538 - lr: 3.9811e-05\n",
            "Epoch 74/100\n",
            "93/93 [==============================] - 3s 30ms/step - loss: 0.0026 - mae: 0.0529 - lr: 4.4668e-05\n",
            "Epoch 75/100\n",
            "93/93 [==============================] - 3s 29ms/step - loss: 0.0026 - mae: 0.0527 - lr: 5.0119e-05\n",
            "Epoch 76/100\n",
            "93/93 [==============================] - 3s 32ms/step - loss: 0.0025 - mae: 0.0522 - lr: 5.6234e-05\n",
            "Epoch 77/100\n",
            "93/93 [==============================] - 3s 30ms/step - loss: 0.0025 - mae: 0.0520 - lr: 6.3096e-05\n",
            "Epoch 78/100\n",
            "93/93 [==============================] - 3s 29ms/step - loss: 0.0025 - mae: 0.0518 - lr: 7.0795e-05\n",
            "Epoch 79/100\n",
            "93/93 [==============================] - 3s 30ms/step - loss: 0.0024 - mae: 0.0511 - lr: 7.9433e-05\n",
            "Epoch 80/100\n",
            "93/93 [==============================] - 3s 31ms/step - loss: 0.0024 - mae: 0.0507 - lr: 8.9125e-05\n",
            "Epoch 81/100\n",
            "93/93 [==============================] - 3s 30ms/step - loss: 0.0024 - mae: 0.0510 - lr: 1.0000e-04\n",
            "Epoch 82/100\n",
            "93/93 [==============================] - 3s 29ms/step - loss: 0.0024 - mae: 0.0504 - lr: 1.1220e-04\n",
            "Epoch 83/100\n",
            "93/93 [==============================] - 3s 30ms/step - loss: 0.0024 - mae: 0.0506 - lr: 1.2589e-04\n",
            "Epoch 84/100\n",
            "93/93 [==============================] - 3s 29ms/step - loss: 0.0024 - mae: 0.0504 - lr: 1.4125e-04\n",
            "Epoch 85/100\n",
            "93/93 [==============================] - 3s 30ms/step - loss: 0.0024 - mae: 0.0501 - lr: 1.5849e-04\n",
            "Epoch 86/100\n",
            "93/93 [==============================] - 3s 30ms/step - loss: 0.0024 - mae: 0.0506 - lr: 1.7783e-04\n",
            "Epoch 87/100\n",
            "93/93 [==============================] - 3s 31ms/step - loss: 0.0024 - mae: 0.0500 - lr: 1.9953e-04\n",
            "Epoch 88/100\n",
            "93/93 [==============================] - 3s 30ms/step - loss: 0.0023 - mae: 0.0495 - lr: 2.2387e-04\n",
            "Epoch 89/100\n",
            "93/93 [==============================] - 3s 30ms/step - loss: 0.0023 - mae: 0.0495 - lr: 2.5119e-04\n",
            "Epoch 90/100\n",
            "93/93 [==============================] - 3s 29ms/step - loss: 0.0025 - mae: 0.0509 - lr: 2.8184e-04\n",
            "Epoch 91/100\n",
            "93/93 [==============================] - 3s 30ms/step - loss: 0.0023 - mae: 0.0494 - lr: 3.1623e-04\n",
            "Epoch 92/100\n",
            "93/93 [==============================] - 3s 30ms/step - loss: 0.0024 - mae: 0.0500 - lr: 3.5481e-04\n",
            "Epoch 93/100\n",
            "93/93 [==============================] - 3s 30ms/step - loss: 0.0023 - mae: 0.0491 - lr: 3.9811e-04\n",
            "Epoch 94/100\n",
            "93/93 [==============================] - 3s 30ms/step - loss: 0.0022 - mae: 0.0486 - lr: 4.4668e-04\n",
            "Epoch 95/100\n",
            "93/93 [==============================] - 3s 30ms/step - loss: 0.0022 - mae: 0.0484 - lr: 5.0119e-04\n",
            "Epoch 96/100\n",
            "93/93 [==============================] - 3s 30ms/step - loss: 0.0023 - mae: 0.0496 - lr: 5.6234e-04\n",
            "Epoch 97/100\n",
            "93/93 [==============================] - 3s 30ms/step - loss: 0.0021 - mae: 0.0469 - lr: 6.3096e-04\n",
            "Epoch 98/100\n",
            "93/93 [==============================] - 3s 30ms/step - loss: 0.0021 - mae: 0.0471 - lr: 7.0795e-04\n",
            "Epoch 99/100\n",
            "93/93 [==============================] - 3s 30ms/step - loss: 0.0022 - mae: 0.0484 - lr: 7.9433e-04\n",
            "Epoch 100/100\n",
            "93/93 [==============================] - 3s 30ms/step - loss: 0.0021 - mae: 0.0463 - lr: 8.9125e-04\n"
          ]
        }
      ]
    },
    {
      "cell_type": "markdown",
      "source": [
        "Plot result of learning rate schedule"
      ],
      "metadata": {
        "id": "9dQ8fp7ViRP5"
      }
    },
    {
      "cell_type": "code",
      "source": [
        "# Define the learning rate array\n",
        "lrs = 1e-8 * (10 ** (np.arange(100) / 20))\n",
        "\n",
        "# Set the figure size\n",
        "plt.figure(figsize=(10, 6))\n",
        "\n",
        "# Set the grid\n",
        "plt.grid(True)\n",
        "\n",
        "# Plot the loss in log scale\n",
        "plt.semilogx(lrs, history_lr.history[\"loss\"])\n",
        "\n",
        "# Increase the tickmarks size\n",
        "plt.tick_params('both', length=10, width=1, which='both')\n",
        "\n",
        "# Set the plot boundaries\n",
        "plt.axis([1e-8, 1e-3, 0, .2])\n",
        "plt.show()"
      ],
      "metadata": {
        "colab": {
          "base_uri": "https://localhost:8080/",
          "height": 392
        },
        "id": "LUYW3w_2iHDh",
        "outputId": "c7028daf-23cb-4b4f-94a9-01184aa0b369"
      },
      "execution_count": 19,
      "outputs": [
        {
          "output_type": "display_data",
          "data": {
            "text/plain": [
              "<Figure size 720x432 with 1 Axes>"
            ],
            "image/png": "[encoded data removed]"
          },
          "metadata": {
            "needs_background": "light"
          }
        }
      ]
    },
    {
      "cell_type": "markdown",
      "source": [
        "#### Train model with learning rate 8e-4"
      ],
      "metadata": {
        "id": "Nna6ZCLwmMXu"
      }
    },
    {
      "cell_type": "code",
      "source": [
        "model = build_model(window_size, lr=8e-4)"
      ],
      "metadata": {
        "colab": {
          "base_uri": "https://localhost:8080/"
        },
        "id": "BqXHbWMfm12X",
        "outputId": "99259e1f-2cad-4610-8cc8-97ea2954ca52"
      },
      "execution_count": 20,
      "outputs": [
        {
          "output_type": "stream",
          "name": "stdout",
          "text": [
            "Model: \"sequential_1\"\n",
            "_________________________________________________________________\n",
            " Layer (type)                Output Shape              Param #   \n",
            "=================================================================\n",
            " conv1d_1 (Conv1D)           (None, 30, 60)            360       \n",
            "                                                                 \n",
            " lstm_2 (LSTM)               (None, 30, 64)            32000     \n",
            "                                                                 \n",
            " lstm_3 (LSTM)               (None, 64)                33024     \n",
            "                                                                 \n",
            " dense_3 (Dense)             (None, 10)                650       \n",
            "                                                                 \n",
            " dense_4 (Dense)             (None, 10)                110       \n",
            "                                                                 \n",
            " dense_5 (Dense)             (None, 1)                 11        \n",
            "                                                                 \n",
            "=================================================================\n",
            "Total params: 66,155\n",
            "Trainable params: 66,155\n",
            "Non-trainable params: 0\n",
            "_________________________________________________________________\n",
            "\n",
            "Model Succesfully Create\n"
          ]
        }
      ]
    },
    {
      "cell_type": "code",
      "source": [
        "history = model.fit(train_set,\n",
        "                    epochs=100, \n",
        "                    callbacks=[model_checkpoint, early_stopping])"
      ],
      "metadata": {
        "colab": {
          "base_uri": "https://localhost:8080/"
        },
        "id": "g1Dm93iqlXCT",
        "outputId": "c0b1b4e1-475c-48e6-d538-1dc2a5b46392"
      },
      "execution_count": 21,
      "outputs": [
        {
          "output_type": "stream",
          "name": "stdout",
          "text": [
            "Epoch 1/100\n",
            "     93/Unknown - 6s 30ms/step - loss: 0.0094 - mae: 0.0912\n",
            "Epoch 1: mae improved from inf to 0.09121, saving model to model.h5\n",
            "93/93 [==============================] - 6s 30ms/step - loss: 0.0094 - mae: 0.0912\n",
            "Epoch 2/100\n",
            "93/93 [==============================] - ETA: 0s - loss: 0.0029 - mae: 0.0560\n",
            "Epoch 2: mae improved from 0.09121 to 0.05604, saving model to model.h5\n",
            "93/93 [==============================] - 3s 30ms/step - loss: 0.0029 - mae: 0.0560\n",
            "Epoch 3/100\n",
            "93/93 [==============================] - ETA: 0s - loss: 0.0027 - mae: 0.0536\n",
            "Epoch 3: mae improved from 0.05604 to 0.05360, saving model to model.h5\n",
            "93/93 [==============================] - 3s 30ms/step - loss: 0.0027 - mae: 0.0536\n",
            "Epoch 4/100\n",
            "93/93 [==============================] - ETA: 0s - loss: 0.0025 - mae: 0.0517\n",
            "Epoch 4: mae improved from 0.05360 to 0.05171, saving model to model.h5\n",
            "93/93 [==============================] - 3s 30ms/step - loss: 0.0025 - mae: 0.0517\n",
            "Epoch 5/100\n",
            "93/93 [==============================] - ETA: 0s - loss: 0.0025 - mae: 0.0510\n",
            "Epoch 5: mae improved from 0.05171 to 0.05103, saving model to model.h5\n",
            "93/93 [==============================] - 3s 30ms/step - loss: 0.0025 - mae: 0.0510\n",
            "Epoch 6/100\n",
            "93/93 [==============================] - ETA: 0s - loss: 0.0023 - mae: 0.0495\n",
            "Epoch 6: mae improved from 0.05103 to 0.04954, saving model to model.h5\n",
            "93/93 [==============================] - 3s 30ms/step - loss: 0.0023 - mae: 0.0495\n",
            "Epoch 7/100\n",
            "93/93 [==============================] - ETA: 0s - loss: 0.0023 - mae: 0.0488\n",
            "Epoch 7: mae improved from 0.04954 to 0.04877, saving model to model.h5\n",
            "93/93 [==============================] - 3s 30ms/step - loss: 0.0023 - mae: 0.0488\n",
            "Epoch 8/100\n",
            "93/93 [==============================] - ETA: 0s - loss: 0.0021 - mae: 0.0470\n",
            "Epoch 8: mae improved from 0.04877 to 0.04704, saving model to model.h5\n",
            "93/93 [==============================] - 3s 31ms/step - loss: 0.0021 - mae: 0.0470\n",
            "Epoch 9/100\n",
            "93/93 [==============================] - ETA: 0s - loss: 0.0021 - mae: 0.0463\n",
            "Epoch 9: mae improved from 0.04704 to 0.04633, saving model to model.h5\n",
            "93/93 [==============================] - 3s 30ms/step - loss: 0.0021 - mae: 0.0463\n",
            "Epoch 10/100\n",
            "93/93 [==============================] - ETA: 0s - loss: 0.0021 - mae: 0.0469\n",
            "Epoch 10: mae did not improve from 0.04633\n",
            "93/93 [==============================] - 3s 29ms/step - loss: 0.0021 - mae: 0.0469\n",
            "Epoch 11/100\n",
            "93/93 [==============================] - ETA: 0s - loss: 0.0021 - mae: 0.0467\n",
            "Epoch 11: mae did not improve from 0.04633\n",
            "93/93 [==============================] - 3s 29ms/step - loss: 0.0021 - mae: 0.0467\n",
            "Epoch 12/100\n",
            "93/93 [==============================] - ETA: 0s - loss: 0.0020 - mae: 0.0458\n",
            "Epoch 12: mae improved from 0.04633 to 0.04581, saving model to model.h5\n",
            "93/93 [==============================] - 3s 30ms/step - loss: 0.0020 - mae: 0.0458\n",
            "Epoch 13/100\n",
            "93/93 [==============================] - ETA: 0s - loss: 0.0021 - mae: 0.0462\n",
            "Epoch 13: mae did not improve from 0.04581\n",
            "93/93 [==============================] - 3s 31ms/step - loss: 0.0021 - mae: 0.0462\n",
            "Epoch 14/100\n",
            "93/93 [==============================] - ETA: 0s - loss: 0.0020 - mae: 0.0455\n",
            "Epoch 14: mae improved from 0.04581 to 0.04549, saving model to model.h5\n",
            "93/93 [==============================] - 3s 30ms/step - loss: 0.0020 - mae: 0.0455\n",
            "Epoch 15/100\n",
            "93/93 [==============================] - ETA: 0s - loss: 0.0020 - mae: 0.0458\n",
            "Epoch 15: mae did not improve from 0.04549\n",
            "93/93 [==============================] - 3s 30ms/step - loss: 0.0020 - mae: 0.0458\n",
            "Epoch 16/100\n",
            "93/93 [==============================] - ETA: 0s - loss: 0.0020 - mae: 0.0452\n",
            "Epoch 16: mae improved from 0.04549 to 0.04520, saving model to model.h5\n",
            "93/93 [==============================] - 3s 29ms/step - loss: 0.0020 - mae: 0.0452\n",
            "Epoch 17/100\n",
            "93/93 [==============================] - ETA: 0s - loss: 0.0020 - mae: 0.0452\n",
            "Epoch 17: mae improved from 0.04520 to 0.04515, saving model to model.h5\n",
            "93/93 [==============================] - 3s 30ms/step - loss: 0.0020 - mae: 0.0452\n",
            "Epoch 18/100\n",
            "93/93 [==============================] - ETA: 0s - loss: 0.0020 - mae: 0.0450\n",
            "Epoch 18: mae improved from 0.04515 to 0.04500, saving model to model.h5\n",
            "93/93 [==============================] - 3s 30ms/step - loss: 0.0020 - mae: 0.0450\n",
            "Epoch 19/100\n",
            "93/93 [==============================] - ETA: 0s - loss: 0.0020 - mae: 0.0451\n",
            "Epoch 19: mae did not improve from 0.04500\n",
            "93/93 [==============================] - 3s 30ms/step - loss: 0.0020 - mae: 0.0451\n",
            "Epoch 20/100\n",
            "93/93 [==============================] - ETA: 0s - loss: 0.0019 - mae: 0.0444\n",
            "Epoch 20: mae improved from 0.04500 to 0.04439, saving model to model.h5\n",
            "93/93 [==============================] - 3s 30ms/step - loss: 0.0019 - mae: 0.0444\n",
            "Epoch 21/100\n",
            "93/93 [==============================] - ETA: 0s - loss: 0.0020 - mae: 0.0457\n",
            "Epoch 21: mae did not improve from 0.04439\n",
            "93/93 [==============================] - 3s 30ms/step - loss: 0.0020 - mae: 0.0457\n",
            "Epoch 22/100\n",
            "93/93 [==============================] - ETA: 0s - loss: 0.0019 - mae: 0.0449\n",
            "Epoch 22: mae did not improve from 0.04439\n",
            "93/93 [==============================] - 3s 30ms/step - loss: 0.0019 - mae: 0.0449\n",
            "Epoch 23/100\n",
            "93/93 [==============================] - ETA: 0s - loss: 0.0019 - mae: 0.0444\n",
            "Epoch 23: mae improved from 0.04439 to 0.04439, saving model to model.h5\n",
            "93/93 [==============================] - 3s 30ms/step - loss: 0.0019 - mae: 0.0444\n",
            "Epoch 24/100\n",
            "93/93 [==============================] - ETA: 0s - loss: 0.0020 - mae: 0.0454\n",
            "Epoch 24: mae did not improve from 0.04439\n",
            "93/93 [==============================] - 3s 30ms/step - loss: 0.0020 - mae: 0.0454\n",
            "Epoch 25/100\n",
            "93/93 [==============================] - ETA: 0s - loss: 0.0020 - mae: 0.0452\n",
            "Epoch 25: mae did not improve from 0.04439\n",
            "93/93 [==============================] - 3s 29ms/step - loss: 0.0020 - mae: 0.0452\n",
            "Epoch 26/100\n",
            "93/93 [==============================] - ETA: 0s - loss: 0.0019 - mae: 0.0446\n",
            "Epoch 26: mae did not improve from 0.04439\n",
            "93/93 [==============================] - 3s 30ms/step - loss: 0.0019 - mae: 0.0446\n",
            "Epoch 27/100\n",
            "93/93 [==============================] - ETA: 0s - loss: 0.0019 - mae: 0.0449\n",
            "Epoch 27: mae did not improve from 0.04439\n",
            "93/93 [==============================] - 3s 30ms/step - loss: 0.0019 - mae: 0.0449\n",
            "Epoch 28/100\n",
            "93/93 [==============================] - ETA: 0s - loss: 0.0019 - mae: 0.0447\n",
            "Epoch 28: mae did not improve from 0.04439\n",
            "93/93 [==============================] - 3s 30ms/step - loss: 0.0019 - mae: 0.0447\n",
            "Epoch 29/100\n",
            "93/93 [==============================] - ETA: 0s - loss: 0.0020 - mae: 0.0453\n",
            "Epoch 29: mae did not improve from 0.04439\n",
            "93/93 [==============================] - 3s 30ms/step - loss: 0.0020 - mae: 0.0453\n",
            "Epoch 30/100\n",
            "93/93 [==============================] - ETA: 0s - loss: 0.0020 - mae: 0.0449\n",
            "Epoch 30: mae did not improve from 0.04439\n",
            "93/93 [==============================] - 3s 31ms/step - loss: 0.0020 - mae: 0.0449\n",
            "Epoch 31/100\n",
            "93/93 [==============================] - ETA: 0s - loss: 0.0019 - mae: 0.0444\n",
            "Epoch 31: mae did not improve from 0.04439\n",
            "93/93 [==============================] - 3s 30ms/step - loss: 0.0019 - mae: 0.0444\n",
            "Epoch 32/100\n",
            "93/93 [==============================] - ETA: 0s - loss: 0.0019 - mae: 0.0446\n",
            "Epoch 32: mae did not improve from 0.04439\n",
            "93/93 [==============================] - 3s 30ms/step - loss: 0.0019 - mae: 0.0446\n",
            "Epoch 33/100\n",
            "93/93 [==============================] - ETA: 0s - loss: 0.0019 - mae: 0.0451\n",
            "Epoch 33: mae did not improve from 0.04439\n",
            "93/93 [==============================] - 3s 30ms/step - loss: 0.0019 - mae: 0.0451\n",
            "Epoch 34/100\n",
            "93/93 [==============================] - ETA: 0s - loss: 0.0019 - mae: 0.0446\n",
            "Epoch 34: mae did not improve from 0.04439\n",
            "93/93 [==============================] - 3s 30ms/step - loss: 0.0019 - mae: 0.0446\n",
            "Epoch 35/100\n",
            "93/93 [==============================] - ETA: 0s - loss: 0.0019 - mae: 0.0441\n",
            "Epoch 35: mae improved from 0.04439 to 0.04415, saving model to model.h5\n",
            "93/93 [==============================] - 3s 31ms/step - loss: 0.0019 - mae: 0.0441\n",
            "Epoch 36/100\n",
            "93/93 [==============================] - ETA: 0s - loss: 0.0019 - mae: 0.0444\n",
            "Epoch 36: mae did not improve from 0.04415\n",
            "93/93 [==============================] - 3s 30ms/step - loss: 0.0019 - mae: 0.0444\n",
            "Epoch 37/100\n",
            "93/93 [==============================] - ETA: 0s - loss: 0.0019 - mae: 0.0439\n",
            "Epoch 37: mae improved from 0.04415 to 0.04392, saving model to model.h5\n",
            "93/93 [==============================] - 3s 30ms/step - loss: 0.0019 - mae: 0.0439\n",
            "Epoch 38/100\n",
            "93/93 [==============================] - ETA: 0s - loss: 0.0019 - mae: 0.0446\n",
            "Epoch 38: mae did not improve from 0.04392\n",
            "93/93 [==============================] - 3s 30ms/step - loss: 0.0019 - mae: 0.0446\n",
            "Epoch 39/100\n",
            "93/93 [==============================] - ETA: 0s - loss: 0.0019 - mae: 0.0444\n",
            "Epoch 39: mae did not improve from 0.04392\n",
            "93/93 [==============================] - 3s 30ms/step - loss: 0.0019 - mae: 0.0444\n",
            "Epoch 40/100\n",
            "93/93 [==============================] - ETA: 0s - loss: 0.0019 - mae: 0.0447\n",
            "Epoch 40: mae did not improve from 0.04392\n",
            "93/93 [==============================] - 3s 30ms/step - loss: 0.0019 - mae: 0.0447\n",
            "Epoch 41/100\n",
            "93/93 [==============================] - ETA: 0s - loss: 0.0020 - mae: 0.0453\n",
            "Epoch 41: mae did not improve from 0.04392\n",
            "93/93 [==============================] - 3s 29ms/step - loss: 0.0020 - mae: 0.0453\n",
            "Epoch 42/100\n",
            "93/93 [==============================] - ETA: 0s - loss: 0.0019 - mae: 0.0439\n",
            "Epoch 42: mae improved from 0.04392 to 0.04390, saving model to model.h5\n",
            "93/93 [==============================] - 3s 31ms/step - loss: 0.0019 - mae: 0.0439\n",
            "Epoch 43/100\n",
            "93/93 [==============================] - ETA: 0s - loss: 0.0019 - mae: 0.0443\n",
            "Epoch 43: mae did not improve from 0.04390\n",
            "93/93 [==============================] - 3s 30ms/step - loss: 0.0019 - mae: 0.0443\n",
            "Epoch 44/100\n",
            "93/93 [==============================] - ETA: 0s - loss: 0.0019 - mae: 0.0447\n",
            "Epoch 44: mae did not improve from 0.04390\n",
            "93/93 [==============================] - 3s 36ms/step - loss: 0.0019 - mae: 0.0447\n",
            "Epoch 45/100\n",
            "93/93 [==============================] - ETA: 0s - loss: 0.0019 - mae: 0.0439\n",
            "Epoch 45: mae did not improve from 0.04390\n",
            "93/93 [==============================] - 3s 30ms/step - loss: 0.0019 - mae: 0.0439\n",
            "Epoch 46/100\n",
            "93/93 [==============================] - ETA: 0s - loss: 0.0019 - mae: 0.0441\n",
            "Epoch 46: mae did not improve from 0.04390\n",
            "93/93 [==============================] - 3s 30ms/step - loss: 0.0019 - mae: 0.0441\n",
            "Epoch 47/100\n",
            "93/93 [==============================] - ETA: 0s - loss: 0.0019 - mae: 0.0443\n",
            "Epoch 47: mae did not improve from 0.04390\n",
            "93/93 [==============================] - 3s 30ms/step - loss: 0.0019 - mae: 0.0443\n",
            "Epoch 48/100\n",
            "93/93 [==============================] - ETA: 0s - loss: 0.0019 - mae: 0.0442\n",
            "Epoch 48: mae did not improve from 0.04390\n",
            "93/93 [==============================] - 3s 30ms/step - loss: 0.0019 - mae: 0.0442\n",
            "Epoch 49/100\n",
            "93/93 [==============================] - ETA: 0s - loss: 0.0019 - mae: 0.0441\n",
            "Epoch 49: mae did not improve from 0.04390\n",
            "93/93 [==============================] - 3s 31ms/step - loss: 0.0019 - mae: 0.0441\n",
            "Epoch 50/100\n",
            "93/93 [==============================] - ETA: 0s - loss: 0.0019 - mae: 0.0440\n",
            "Epoch 50: mae did not improve from 0.04390\n",
            "93/93 [==============================] - 3s 30ms/step - loss: 0.0019 - mae: 0.0440\n",
            "Epoch 51/100\n",
            "93/93 [==============================] - ETA: 0s - loss: 0.0019 - mae: 0.0443\n",
            "Epoch 51: mae did not improve from 0.04390\n",
            "93/93 [==============================] - 3s 30ms/step - loss: 0.0019 - mae: 0.0443\n",
            "Epoch 52/100\n",
            "93/93 [==============================] - ETA: 0s - loss: 0.0019 - mae: 0.0440\n",
            "Epoch 52: mae did not improve from 0.04390\n",
            "93/93 [==============================] - 3s 30ms/step - loss: 0.0019 - mae: 0.0440\n",
            "Epoch 53/100\n",
            "93/93 [==============================] - ETA: 0s - loss: 0.0019 - mae: 0.0443\n",
            "Epoch 53: mae did not improve from 0.04390\n",
            "93/93 [==============================] - 3s 30ms/step - loss: 0.0019 - mae: 0.0443\n",
            "Epoch 54/100\n",
            "93/93 [==============================] - ETA: 0s - loss: 0.0019 - mae: 0.0440\n",
            "Epoch 54: mae did not improve from 0.04390\n",
            "93/93 [==============================] - 3s 30ms/step - loss: 0.0019 - mae: 0.0440\n",
            "Epoch 55/100\n",
            "93/93 [==============================] - ETA: 0s - loss: 0.0019 - mae: 0.0448\n",
            "Epoch 55: mae did not improve from 0.04390\n",
            "93/93 [==============================] - 3s 31ms/step - loss: 0.0019 - mae: 0.0448\n",
            "Epoch 56/100\n",
            "93/93 [==============================] - ETA: 0s - loss: 0.0019 - mae: 0.0441\n",
            "Epoch 56: mae did not improve from 0.04390\n",
            "93/93 [==============================] - 3s 31ms/step - loss: 0.0019 - mae: 0.0441\n",
            "Epoch 57/100\n",
            "93/93 [==============================] - ETA: 0s - loss: 0.0019 - mae: 0.0442\n",
            "Epoch 57: mae did not improve from 0.04390\n",
            "93/93 [==============================] - 3s 31ms/step - loss: 0.0019 - mae: 0.0442\n",
            "Epoch 58/100\n",
            "93/93 [==============================] - ETA: 0s - loss: 0.0019 - mae: 0.0444\n",
            "Epoch 58: mae did not improve from 0.04390\n",
            "93/93 [==============================] - 3s 30ms/step - loss: 0.0019 - mae: 0.0444\n",
            "Epoch 59/100\n",
            "93/93 [==============================] - ETA: 0s - loss: 0.0019 - mae: 0.0439\n",
            "Epoch 59: mae improved from 0.04390 to 0.04389, saving model to model.h5\n",
            "93/93 [==============================] - 3s 31ms/step - loss: 0.0019 - mae: 0.0439\n",
            "Epoch 60/100\n",
            "93/93 [==============================] - ETA: 0s - loss: 0.0018 - mae: 0.0439\n",
            "Epoch 60: mae did not improve from 0.04389\n",
            "93/93 [==============================] - 3s 30ms/step - loss: 0.0018 - mae: 0.0439\n",
            "Epoch 61/100\n",
            "93/93 [==============================] - ETA: 0s - loss: 0.0019 - mae: 0.0444\n",
            "Epoch 61: mae did not improve from 0.04389\n",
            "93/93 [==============================] - 3s 30ms/step - loss: 0.0019 - mae: 0.0444\n",
            "Epoch 62/100\n",
            "93/93 [==============================] - ETA: 0s - loss: 0.0019 - mae: 0.0442\n",
            "Epoch 62: mae did not improve from 0.04389\n",
            "93/93 [==============================] - 3s 29ms/step - loss: 0.0019 - mae: 0.0442\n",
            "Epoch 63/100\n",
            "93/93 [==============================] - ETA: 0s - loss: 0.0019 - mae: 0.0443\n",
            "Epoch 63: mae did not improve from 0.04389\n",
            "93/93 [==============================] - 3s 30ms/step - loss: 0.0019 - mae: 0.0443\n",
            "Epoch 64/100\n",
            "93/93 [==============================] - ETA: 0s - loss: 0.0019 - mae: 0.0439\n",
            "Epoch 64: mae did not improve from 0.04389\n",
            "93/93 [==============================] - 3s 31ms/step - loss: 0.0019 - mae: 0.0439\n",
            "Epoch 65/100\n",
            "93/93 [==============================] - ETA: 0s - loss: 0.0019 - mae: 0.0437\n",
            "Epoch 65: mae improved from 0.04389 to 0.04372, saving model to model.h5\n",
            "93/93 [==============================] - 4s 38ms/step - loss: 0.0019 - mae: 0.0437\n",
            "Epoch 66/100\n",
            "93/93 [==============================] - ETA: 0s - loss: 0.0019 - mae: 0.0439\n",
            "Epoch 66: mae did not improve from 0.04372\n",
            "93/93 [==============================] - 4s 35ms/step - loss: 0.0019 - mae: 0.0439\n",
            "Epoch 67/100\n",
            "93/93 [==============================] - ETA: 0s - loss: 0.0019 - mae: 0.0440\n",
            "Epoch 67: mae did not improve from 0.04372\n",
            "93/93 [==============================] - 3s 30ms/step - loss: 0.0019 - mae: 0.0440\n",
            "Epoch 68/100\n",
            "93/93 [==============================] - ETA: 0s - loss: 0.0018 - mae: 0.0439\n",
            "Epoch 68: mae did not improve from 0.04372\n",
            "93/93 [==============================] - 5s 49ms/step - loss: 0.0018 - mae: 0.0439\n",
            "Epoch 69/100\n",
            "92/93 [============================>.] - ETA: 0s - loss: 0.0019 - mae: 0.0438\n",
            "Epoch 69: mae did not improve from 0.04372\n",
            "93/93 [==============================] - 4s 44ms/step - loss: 0.0019 - mae: 0.0438\n",
            "Epoch 70/100\n",
            "93/93 [==============================] - ETA: 0s - loss: 0.0019 - mae: 0.0437\n",
            "Epoch 70: mae did not improve from 0.04372\n",
            "93/93 [==============================] - 3s 31ms/step - loss: 0.0019 - mae: 0.0437\n",
            "Epoch 71/100\n",
            "93/93 [==============================] - ETA: 0s - loss: 0.0018 - mae: 0.0435\n",
            "Epoch 71: mae improved from 0.04372 to 0.04353, saving model to model.h5\n",
            "93/93 [==============================] - 3s 30ms/step - loss: 0.0018 - mae: 0.0435\n",
            "Epoch 72/100\n",
            "93/93 [==============================] - ETA: 0s - loss: 0.0019 - mae: 0.0447\n",
            "Epoch 72: mae did not improve from 0.04353\n",
            "93/93 [==============================] - 3s 30ms/step - loss: 0.0019 - mae: 0.0447\n",
            "Epoch 73/100\n",
            "93/93 [==============================] - ETA: 0s - loss: 0.0019 - mae: 0.0444\n",
            "Epoch 73: mae did not improve from 0.04353\n",
            "93/93 [==============================] - 3s 30ms/step - loss: 0.0019 - mae: 0.0444\n",
            "Epoch 74/100\n",
            "93/93 [==============================] - ETA: 0s - loss: 0.0018 - mae: 0.0436\n",
            "Epoch 74: mae did not improve from 0.04353\n",
            "93/93 [==============================] - 3s 30ms/step - loss: 0.0018 - mae: 0.0436\n",
            "Epoch 75/100\n",
            "93/93 [==============================] - ETA: 0s - loss: 0.0019 - mae: 0.0441\n",
            "Epoch 75: mae did not improve from 0.04353\n",
            "93/93 [==============================] - 3s 30ms/step - loss: 0.0019 - mae: 0.0441\n",
            "Epoch 76/100\n",
            "93/93 [==============================] - ETA: 0s - loss: 0.0019 - mae: 0.0439\n",
            "Epoch 76: mae did not improve from 0.04353\n",
            "93/93 [==============================] - 3s 32ms/step - loss: 0.0019 - mae: 0.0439\n",
            "Epoch 77/100\n",
            "93/93 [==============================] - ETA: 0s - loss: 0.0019 - mae: 0.0447\n",
            "Epoch 77: mae did not improve from 0.04353\n",
            "93/93 [==============================] - 3s 30ms/step - loss: 0.0019 - mae: 0.0447\n",
            "Epoch 78/100\n",
            "93/93 [==============================] - ETA: 0s - loss: 0.0018 - mae: 0.0438\n",
            "Epoch 78: mae did not improve from 0.04353\n",
            "93/93 [==============================] - 3s 30ms/step - loss: 0.0018 - mae: 0.0438\n",
            "Epoch 79/100\n",
            "93/93 [==============================] - ETA: 0s - loss: 0.0018 - mae: 0.0435\n",
            "Epoch 79: mae improved from 0.04353 to 0.04350, saving model to model.h5\n",
            "93/93 [==============================] - 3s 30ms/step - loss: 0.0018 - mae: 0.0435\n",
            "Epoch 80/100\n",
            "93/93 [==============================] - ETA: 0s - loss: 0.0018 - mae: 0.0438\n",
            "Epoch 80: mae did not improve from 0.04350\n",
            "93/93 [==============================] - 3s 29ms/step - loss: 0.0018 - mae: 0.0438\n",
            "Epoch 81/100\n",
            "93/93 [==============================] - ETA: 0s - loss: 0.0018 - mae: 0.0434\n",
            "Epoch 81: mae improved from 0.04350 to 0.04342, saving model to model.h5\n",
            "93/93 [==============================] - 3s 30ms/step - loss: 0.0018 - mae: 0.0434\n",
            "Epoch 82/100\n",
            "93/93 [==============================] - ETA: 0s - loss: 0.0019 - mae: 0.0439\n",
            "Epoch 82: mae did not improve from 0.04342\n",
            "93/93 [==============================] - 3s 30ms/step - loss: 0.0019 - mae: 0.0439\n",
            "Epoch 83/100\n",
            "93/93 [==============================] - ETA: 0s - loss: 0.0018 - mae: 0.0435\n",
            "Epoch 83: mae did not improve from 0.04342\n",
            "93/93 [==============================] - 3s 30ms/step - loss: 0.0018 - mae: 0.0435\n",
            "Epoch 84/100\n",
            "93/93 [==============================] - ETA: 0s - loss: 0.0018 - mae: 0.0435\n",
            "Epoch 84: mae did not improve from 0.04342\n",
            "93/93 [==============================] - 3s 30ms/step - loss: 0.0018 - mae: 0.0435\n",
            "Epoch 85/100\n",
            "93/93 [==============================] - ETA: 0s - loss: 0.0018 - mae: 0.0436\n",
            "Epoch 85: mae did not improve from 0.04342\n",
            "93/93 [==============================] - 3s 30ms/step - loss: 0.0018 - mae: 0.0436\n",
            "Epoch 86/100\n",
            "93/93 [==============================] - ETA: 0s - loss: 0.0019 - mae: 0.0439\n",
            "Epoch 86: mae did not improve from 0.04342\n",
            "93/93 [==============================] - 3s 30ms/step - loss: 0.0019 - mae: 0.0439\n",
            "Epoch 87/100\n",
            "93/93 [==============================] - ETA: 0s - loss: 0.0018 - mae: 0.0438\n",
            "Epoch 87: mae did not improve from 0.04342\n",
            "93/93 [==============================] - 3s 30ms/step - loss: 0.0018 - mae: 0.0438\n",
            "Epoch 88/100\n",
            "93/93 [==============================] - ETA: 0s - loss: 0.0018 - mae: 0.0439\n",
            "Epoch 88: mae did not improve from 0.04342\n",
            "93/93 [==============================] - 3s 30ms/step - loss: 0.0018 - mae: 0.0439\n",
            "Epoch 89/100\n",
            "93/93 [==============================] - ETA: 0s - loss: 0.0018 - mae: 0.0437\n",
            "Epoch 89: mae did not improve from 0.04342\n",
            "93/93 [==============================] - 3s 30ms/step - loss: 0.0018 - mae: 0.0437\n",
            "Epoch 90/100\n",
            "93/93 [==============================] - ETA: 0s - loss: 0.0018 - mae: 0.0439\n",
            "Epoch 90: mae did not improve from 0.04342\n",
            "93/93 [==============================] - 3s 30ms/step - loss: 0.0018 - mae: 0.0439\n",
            "Epoch 91/100\n",
            "93/93 [==============================] - ETA: 0s - loss: 0.0019 - mae: 0.0445\n",
            "Epoch 91: mae did not improve from 0.04342\n",
            "93/93 [==============================] - 3s 30ms/step - loss: 0.0019 - mae: 0.0445\n",
            "Epoch 92/100\n",
            "93/93 [==============================] - ETA: 0s - loss: 0.0018 - mae: 0.0435\n",
            "Epoch 92: mae did not improve from 0.04342\n",
            "93/93 [==============================] - 3s 30ms/step - loss: 0.0018 - mae: 0.0435\n",
            "Epoch 93/100\n",
            "93/93 [==============================] - ETA: 0s - loss: 0.0019 - mae: 0.0444\n",
            "Epoch 93: mae did not improve from 0.04342\n",
            "93/93 [==============================] - 3s 30ms/step - loss: 0.0019 - mae: 0.0444\n",
            "Epoch 94/100\n",
            "93/93 [==============================] - ETA: 0s - loss: 0.0020 - mae: 0.0450\n",
            "Epoch 94: mae did not improve from 0.04342\n",
            "93/93 [==============================] - 3s 30ms/step - loss: 0.0020 - mae: 0.0450\n",
            "Epoch 95/100\n",
            "93/93 [==============================] - ETA: 0s - loss: 0.0018 - mae: 0.0431\n",
            "Epoch 95: mae improved from 0.04342 to 0.04309, saving model to model.h5\n",
            "93/93 [==============================] - 3s 30ms/step - loss: 0.0018 - mae: 0.0431\n",
            "Epoch 96/100\n",
            "93/93 [==============================] - ETA: 0s - loss: 0.0018 - mae: 0.0433\n",
            "Epoch 96: mae did not improve from 0.04309\n",
            "93/93 [==============================] - 3s 30ms/step - loss: 0.0018 - mae: 0.0433\n",
            "Epoch 97/100\n",
            "93/93 [==============================] - ETA: 0s - loss: 0.0018 - mae: 0.0435\n",
            "Epoch 97: mae did not improve from 0.04309\n",
            "93/93 [==============================] - 3s 30ms/step - loss: 0.0018 - mae: 0.0435\n",
            "Epoch 98/100\n",
            "93/93 [==============================] - ETA: 0s - loss: 0.0018 - mae: 0.0432\n",
            "Epoch 98: mae did not improve from 0.04309\n",
            "93/93 [==============================] - 3s 30ms/step - loss: 0.0018 - mae: 0.0432\n",
            "Epoch 99/100\n",
            "93/93 [==============================] - ETA: 0s - loss: 0.0018 - mae: 0.0431\n",
            "Epoch 99: mae did not improve from 0.04309\n",
            "93/93 [==============================] - 3s 30ms/step - loss: 0.0018 - mae: 0.0431\n",
            "Epoch 100/100\n",
            "93/93 [==============================] - ETA: 0s - loss: 0.0018 - mae: 0.0437\n",
            "Epoch 100: mae did not improve from 0.04309\n",
            "93/93 [==============================] - 3s 30ms/step - loss: 0.0018 - mae: 0.0437\n"
          ]
        }
      ]
    },
    {
      "cell_type": "code",
      "source": [
        "mae = history.history['mae']\n",
        "loss = history.history['loss']\n",
        "epochs=range(len(loss)) \n",
        "\n",
        "plot_series(x=epochs,\n",
        "            y=(mae, loss), \n",
        "            title='MAE and Loss', \n",
        "            xlabel='MAE',\n",
        "            ylabel='Loss',\n",
        "            legend=['MAE', 'Loss'])"
      ],
      "metadata": {
        "colab": {
          "base_uri": "https://localhost:8080/",
          "height": 403
        },
        "id": "wDWBwi8ZsBo7",
        "outputId": "3f826926-8814-41d4-c516-6ed327650e86"
      },
      "execution_count": 22,
      "outputs": [
        {
          "output_type": "display_data",
          "data": {
            "text/plain": [
              "<Figure size 720x432 with 1 Axes>"
            ],
            "image/png": "[encoded data removed]"
          },
          "metadata": {
            "needs_background": "light"
          }
        }
      ]
    },
    {
      "cell_type": "markdown",
      "source": [
        "### Model Prediction"
      ],
      "metadata": {
        "id": "fQvSbimSuvuf"
      }
    },
    {
      "cell_type": "code",
      "source": [
        "def model_forecast(model, series, window_size, batch_size):\n",
        "    \"\"\"Uses an input model to generate predictions on data windows\n",
        "\n",
        "    Args:\n",
        "      model (TF Keras Model) - model that accepts data windows\n",
        "      series (array of float) - contains the values of the time series\n",
        "      window_size (int) - the number of time steps to include in the window\n",
        "      batch_size (int) - the batch size\n",
        "\n",
        "    Returns:\n",
        "      forecast (numpy array) - array containing predictions\n",
        "    \"\"\"\n",
        "\n",
        "    # Generate a TF Dataset from the series values\n",
        "    dataset = tf.data.Dataset.from_tensor_slices(series)\n",
        "\n",
        "    # Window the data but only take those with the specified size\n",
        "    dataset = dataset.window(window_size, shift=1, drop_remainder=True)\n",
        "\n",
        "    # Flatten the windows by putting its elements in a single batch\n",
        "    dataset = dataset.flat_map(lambda w: w.batch(window_size))\n",
        "    \n",
        "    # Create batches of windows\n",
        "    dataset = dataset.batch(batch_size).prefetch(1)\n",
        "    \n",
        "    # Get predictions on the entire dataset\n",
        "    forecast = model.predict(dataset)\n",
        "    \n",
        "    return forecast"
      ],
      "metadata": {
        "id": "y3bGcwpauplv"
      },
      "execution_count": 23,
      "outputs": []
    },
    {
      "cell_type": "code",
      "source": [
        "# Reduce the original series\n",
        "forecast_series = series[split_time-window_size:-1]\n",
        "\n",
        "# Use helper function to generate predictions\n",
        "forecast = model_forecast(model, forecast_series, window_size, batch_size)\n",
        "\n",
        "# Drop single dimensional axes\n",
        "results = forecast.squeeze()\n",
        "\n",
        "# Plot the results\n",
        "plot_series(time_valid, (x_valid, results), legend=['time_valid', 'forecast'])"
      ],
      "metadata": {
        "colab": {
          "base_uri": "https://localhost:8080/",
          "height": 374
        },
        "id": "RWnRqJDIuyFv",
        "outputId": "2bd13d2a-a651-40ae-fc09-19671d574cfc"
      },
      "execution_count": 24,
      "outputs": [
        {
          "output_type": "display_data",
          "data": {
            "text/plain": [
              "<Figure size 720x432 with 1 Axes>"
            ],
            "image/png": "[encoded data removed]"
          },
          "metadata": {
            "needs_background": "light"
          }
        }
      ]
    },
    {
      "cell_type": "code",
      "source": [
        "# Compute the MAE\n",
        "print(f'MAE: {tf.keras.metrics.mean_absolute_error(x_valid, results).numpy()}')"
      ],
      "metadata": {
        "id": "H7MmVxr-wNT6",
        "outputId": "7b414943-97dc-4938-9dcd-ffb32eb7298f",
        "colab": {
          "base_uri": "https://localhost:8080/"
        }
      },
      "execution_count": 25,
      "outputs": [
        {
          "output_type": "stream",
          "name": "stdout",
          "text": [
            "MAE: 0.033621035516262054\n"
          ]
        }
      ]
    },
    {
      "cell_type": "markdown",
      "source": [
        "### Download Model"
      ],
      "metadata": {
        "id": "DmxUVqkqBsPq"
      }
    },
    {
      "cell_type": "code",
      "source": [
        "from google.colab import files\n",
        "files.download('model.h5')"
      ],
      "metadata": {
        "id": "iuJUamt_Buk1"
      },
      "execution_count": null,
      "outputs": []
    }
  ]
}