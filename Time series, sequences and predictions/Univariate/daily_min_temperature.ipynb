{
  "nbformat": 4,
  "nbformat_minor": 0,
  "metadata": {
    "colab": {
      "name": "daily_min_temperature.ipynb",
      "provenance": []
    },
    "kernelspec": {
      "name": "python3",
      "display_name": "Python 3"
    },
    "language_info": {
      "name": "python"
    },
    "accelerator": "GPU",
    "gpuClass": "standard"
  },
  "cells": [
    {
      "cell_type": "markdown",
      "source": [
        "# Time series, sequences and predictions\n",
        "Daily Min Temperature"
      ],
      "metadata": {
        "id": "idLxb_FZcBAG"
      }
    },
    {
      "cell_type": "markdown",
      "source": [
        "## Importing Module"
      ],
      "metadata": {
        "id": "gFVZLIYkcH40"
      }
    },
    {
      "cell_type": "code",
      "execution_count": 1,
      "metadata": {
        "colab": {
          "base_uri": "https://localhost:8080/"
        },
        "id": "fCrVDo6ibTOl",
        "outputId": "0572340d-3dbe-4b1d-cbd0-427b913d0d09"
      },
      "outputs": [
        {
          "output_type": "stream",
          "name": "stdout",
          "text": [
            "Tensorflow version: 2.8.2\n"
          ]
        }
      ],
      "source": [
        "import os\n",
        "import csv\n",
        "import urllib\n",
        "\n",
        "import pandas as pd\n",
        "import numpy as np\n",
        "import tensorflow as tf\n",
        "\n",
        "from matplotlib import pyplot as plt\n",
        "\n",
        "%matplotlib inline\n",
        "plt.style.use('seaborn')\n",
        "print(f'Tensorflow version: {tf.__version__}')"
      ]
    },
    {
      "cell_type": "markdown",
      "source": [
        "## Problem\n",
        "\n",
        "- Build and train a neural network model using the Daily Min Temperature.csv dataset.\n",
        "- Use `MAE` as the metrics of your neural network model.\n",
        "- We provided code for normalizing the data. Please do not change the code.\n",
        "- Do not use lambda layers in your model.\n",
        "- The dataset used in this problem is downloaded from https://github.com/jbrownlee/Datasets\n",
        "- Desired MAE < `0.19` on the normalized dataset."
      ],
      "metadata": {
        "id": "89HPw6zbcc60"
      }
    },
    {
      "cell_type": "markdown",
      "source": [
        "### Preparing data"
      ],
      "metadata": {
        "id": "qlqIT9-9clVu"
      }
    },
    {
      "cell_type": "code",
      "source": [
        "data_url = 'https://raw.githubusercontent.com/jbrownlee/Datasets/master/daily-min-temperatures.csv'\n",
        "name_file = 'daily-min-temperatures.csv'\n",
        "\n",
        "if os.path.isfile(name_file) == False:\n",
        "  urllib.request.urlretrieve(data_url, name_file)\n",
        "  print(f'{name_file} Downloaded')\n",
        "else:\n",
        "  print(f'{name_file} Already exist')"
      ],
      "metadata": {
        "colab": {
          "base_uri": "https://localhost:8080/"
        },
        "id": "TSAvbXZScRo9",
        "outputId": "85a4117c-5f99-4e83-9823-5f1a3b7bfd94"
      },
      "execution_count": 2,
      "outputs": [
        {
          "output_type": "stream",
          "name": "stdout",
          "text": [
            "daily-min-temperatures.csv Downloaded\n"
          ]
        }
      ]
    },
    {
      "cell_type": "markdown",
      "source": [
        "#### Explore data"
      ],
      "metadata": {
        "id": "YHzG4dSycs_M"
      }
    },
    {
      "cell_type": "markdown",
      "source": [
        "Load data using pandas"
      ],
      "metadata": {
        "id": "jdCIHgBnc1rV"
      }
    },
    {
      "cell_type": "code",
      "source": [
        "df = pd.read_csv(name_file)"
      ],
      "metadata": {
        "id": "9sBKTg9KcqNN"
      },
      "execution_count": 3,
      "outputs": []
    },
    {
      "cell_type": "code",
      "source": [
        "print(f'Total Data : {df.shape[0]}')\n",
        "print(f'Total Columns : {df.shape[1]}')"
      ],
      "metadata": {
        "colab": {
          "base_uri": "https://localhost:8080/"
        },
        "id": "KJ3SVDMJcyjE",
        "outputId": "db40a300-6914-4808-d040-4b996b5c323d"
      },
      "execution_count": 4,
      "outputs": [
        {
          "output_type": "stream",
          "name": "stdout",
          "text": [
            "Total Data : 3650\n",
            "Total Columns : 2\n"
          ]
        }
      ]
    },
    {
      "cell_type": "markdown",
      "source": [
        "First 10 from data"
      ],
      "metadata": {
        "id": "qzD6QixZdO1u"
      }
    },
    {
      "cell_type": "code",
      "source": [
        "df.head(10)"
      ],
      "metadata": {
        "colab": {
          "base_uri": "https://localhost:8080/",
          "height": 363
        },
        "id": "ugRcCTHudSho",
        "outputId": "c4d11d12-dec8-449b-d2f1-50386a5910b5"
      },
      "execution_count": 5,
      "outputs": [
        {
          "output_type": "execute_result",
          "data": {
            "text/plain": [
              "         Date  Temp\n",
              "0  1981-01-01  20.7\n",
              "1  1981-01-02  17.9\n",
              "2  1981-01-03  18.8\n",
              "3  1981-01-04  14.6\n",
              "4  1981-01-05  15.8\n",
              "5  1981-01-06  15.8\n",
              "6  1981-01-07  15.8\n",
              "7  1981-01-08  17.4\n",
              "8  1981-01-09  21.8\n",
              "9  1981-01-10  20.0"
            ],
            "text/html": [
              "\n",
              "  <div id=\"df-12397409-5bae-4fe8-80d5-f2d587d9efe2\">\n",
              "    <div class=\"colab-df-container\">\n",
              "      <div>\n",
              "<style scoped>\n",
              "    .dataframe tbody tr th:only-of-type {\n",
              "        vertical-align: middle;\n",
              "    }\n",
              "\n",
              "    .dataframe tbody tr th {\n",
              "        vertical-align: top;\n",
              "    }\n",
              "\n",
              "    .dataframe thead th {\n",
              "        text-align: right;\n",
              "    }\n",
              "</style>\n",
              "<table border=\"1\" class=\"dataframe\">\n",
              "  <thead>\n",
              "    <tr style=\"text-align: right;\">\n",
              "      <th></th>\n",
              "      <th>Date</th>\n",
              "      <th>Temp</th>\n",
              "    </tr>\n",
              "  </thead>\n",
              "  <tbody>\n",
              "    <tr>\n",
              "      <th>0</th>\n",
              "      <td>1981-01-01</td>\n",
              "      <td>20.7</td>\n",
              "    </tr>\n",
              "    <tr>\n",
              "      <th>1</th>\n",
              "      <td>1981-01-02</td>\n",
              "      <td>17.9</td>\n",
              "    </tr>\n",
              "    <tr>\n",
              "      <th>2</th>\n",
              "      <td>1981-01-03</td>\n",
              "      <td>18.8</td>\n",
              "    </tr>\n",
              "    <tr>\n",
              "      <th>3</th>\n",
              "      <td>1981-01-04</td>\n",
              "      <td>14.6</td>\n",
              "    </tr>\n",
              "    <tr>\n",
              "      <th>4</th>\n",
              "      <td>1981-01-05</td>\n",
              "      <td>15.8</td>\n",
              "    </tr>\n",
              "    <tr>\n",
              "      <th>5</th>\n",
              "      <td>1981-01-06</td>\n",
              "      <td>15.8</td>\n",
              "    </tr>\n",
              "    <tr>\n",
              "      <th>6</th>\n",
              "      <td>1981-01-07</td>\n",
              "      <td>15.8</td>\n",
              "    </tr>\n",
              "    <tr>\n",
              "      <th>7</th>\n",
              "      <td>1981-01-08</td>\n",
              "      <td>17.4</td>\n",
              "    </tr>\n",
              "    <tr>\n",
              "      <th>8</th>\n",
              "      <td>1981-01-09</td>\n",
              "      <td>21.8</td>\n",
              "    </tr>\n",
              "    <tr>\n",
              "      <th>9</th>\n",
              "      <td>1981-01-10</td>\n",
              "      <td>20.0</td>\n",
              "    </tr>\n",
              "  </tbody>\n",
              "</table>\n",
              "</div>\n",
              "      <button class=\"colab-df-convert\" onclick=\"convertToInteractive('df-12397409-5bae-4fe8-80d5-f2d587d9efe2')\"\n",
              "              title=\"Convert this dataframe to an interactive table.\"\n",
              "              style=\"display:none;\">\n",
              "        \n",
              "  <svg xmlns=\"http://www.w3.org/2000/svg\" height=\"24px\"viewBox=\"0 0 24 24\"\n",
              "       width=\"24px\">\n",
              "    <path d=\"M0 0h24v24H0V0z\" fill=\"none\"/>\n",
              "    <path d=\"M18.56 5.44l.94 2.06.94-2.06 2.06-.94-2.06-.94-.94-2.06-.94 2.06-2.06.94zm-11 1L8.5 8.5l.94-2.06 2.06-.94-2.06-.94L8.5 2.5l-.94 2.06-2.06.94zm10 10l.94 2.06.94-2.06 2.06-.94-2.06-.94-.94-2.06-.94 2.06-2.06.94z\"/><path d=\"M17.41 7.96l-1.37-1.37c-.4-.4-.92-.59-1.43-.59-.52 0-1.04.2-1.43.59L10.3 9.45l-7.72 7.72c-.78.78-.78 2.05 0 2.83L4 21.41c.39.39.9.59 1.41.59.51 0 1.02-.2 1.41-.59l7.78-7.78 2.81-2.81c.8-.78.8-2.07 0-2.86zM5.41 20L4 18.59l7.72-7.72 1.47 1.35L5.41 20z\"/>\n",
              "  </svg>\n",
              "      </button>\n",
              "      \n",
              "  <style>\n",
              "    .colab-df-container {\n",
              "      display:flex;\n",
              "      flex-wrap:wrap;\n",
              "      gap: 12px;\n",
              "    }\n",
              "\n",
              "    .colab-df-convert {\n",
              "      background-color: #E8F0FE;\n",
              "      border: none;\n",
              "      border-radius: 50%;\n",
              "      cursor: pointer;\n",
              "      display: none;\n",
              "      fill: #1967D2;\n",
              "      height: 32px;\n",
              "      padding: 0 0 0 0;\n",
              "      width: 32px;\n",
              "    }\n",
              "\n",
              "    .colab-df-convert:hover {\n",
              "      background-color: #E2EBFA;\n",
              "      box-shadow: 0px 1px 2px rgba(60, 64, 67, 0.3), 0px 1px 3px 1px rgba(60, 64, 67, 0.15);\n",
              "      fill: #174EA6;\n",
              "    }\n",
              "\n",
              "    [theme=dark] .colab-df-convert {\n",
              "      background-color: #3B4455;\n",
              "      fill: #D2E3FC;\n",
              "    }\n",
              "\n",
              "    [theme=dark] .colab-df-convert:hover {\n",
              "      background-color: #434B5C;\n",
              "      box-shadow: 0px 1px 3px 1px rgba(0, 0, 0, 0.15);\n",
              "      filter: drop-shadow(0px 1px 2px rgba(0, 0, 0, 0.3));\n",
              "      fill: #FFFFFF;\n",
              "    }\n",
              "  </style>\n",
              "\n",
              "      <script>\n",
              "        const buttonEl =\n",
              "          document.querySelector('#df-12397409-5bae-4fe8-80d5-f2d587d9efe2 button.colab-df-convert');\n",
              "        buttonEl.style.display =\n",
              "          google.colab.kernel.accessAllowed ? 'block' : 'none';\n",
              "\n",
              "        async function convertToInteractive(key) {\n",
              "          const element = document.querySelector('#df-12397409-5bae-4fe8-80d5-f2d587d9efe2');\n",
              "          const dataTable =\n",
              "            await google.colab.kernel.invokeFunction('convertToInteractive',\n",
              "                                                     [key], {});\n",
              "          if (!dataTable) return;\n",
              "\n",
              "          const docLinkHtml = 'Like what you see? Visit the ' +\n",
              "            '<a target=\"_blank\" href=https://colab.research.google.com/notebooks/data_table.ipynb>data table notebook</a>'\n",
              "            + ' to learn more about interactive tables.';\n",
              "          element.innerHTML = '';\n",
              "          dataTable['output_type'] = 'display_data';\n",
              "          await google.colab.output.renderOutput(dataTable, element);\n",
              "          const docLink = document.createElement('div');\n",
              "          docLink.innerHTML = docLinkHtml;\n",
              "          element.appendChild(docLink);\n",
              "        }\n",
              "      </script>\n",
              "    </div>\n",
              "  </div>\n",
              "  "
            ]
          },
          "metadata": {},
          "execution_count": 5
        }
      ]
    },
    {
      "cell_type": "markdown",
      "source": [
        "More information about data"
      ],
      "metadata": {
        "id": "OZSZGCJydLJZ"
      }
    },
    {
      "cell_type": "code",
      "source": [
        "df.info()"
      ],
      "metadata": {
        "colab": {
          "base_uri": "https://localhost:8080/"
        },
        "id": "hsROgx-UdCgV",
        "outputId": "f32eb8c7-fb2d-4811-dfc0-010bfed0c547"
      },
      "execution_count": 6,
      "outputs": [
        {
          "output_type": "stream",
          "name": "stdout",
          "text": [
            "<class 'pandas.core.frame.DataFrame'>\n",
            "RangeIndex: 3650 entries, 0 to 3649\n",
            "Data columns (total 2 columns):\n",
            " #   Column  Non-Null Count  Dtype  \n",
            "---  ------  --------------  -----  \n",
            " 0   Date    3650 non-null   object \n",
            " 1   Temp    3650 non-null   float64\n",
            "dtypes: float64(1), object(1)\n",
            "memory usage: 57.2+ KB\n"
          ]
        }
      ]
    },
    {
      "cell_type": "code",
      "source": [
        "df.columns = ['date', 'temperature'] # rename column"
      ],
      "metadata": {
        "id": "PeLVR-Vc2H9u"
      },
      "execution_count": 7,
      "outputs": []
    },
    {
      "cell_type": "markdown",
      "source": [
        "Visualize data"
      ],
      "metadata": {
        "id": "ITrP9FETdh4X"
      }
    },
    {
      "cell_type": "code",
      "source": [
        "def plot_series(x, y, format=\"-\", start=0, end=None, \n",
        "                title=None, xlabel=None, ylabel=None, legend=None ):\n",
        "    \"\"\"\n",
        "    Visualizes time series data\n",
        "\n",
        "    Args:\n",
        "      x (array of int) - contains values for the x-axis\n",
        "      y (array of int or tuple of arrays) - contains the values for the y-axis\n",
        "      format (string) - line style when plotting the graph\n",
        "      start (int) - first time step to plot\n",
        "      end (int) - last time step to plot\n",
        "      title (string) - title of the plot\n",
        "      xlabel (string) - label for the x-axis\n",
        "      ylabel (string) - label for the y-axis\n",
        "      legend (list of strings) - legend for the plot\n",
        "    \"\"\"\n",
        "\n",
        "    # Setup dimensions of the graph figure\n",
        "    plt.figure(figsize=(10, 6))\n",
        "    \n",
        "    # Check if there are more than two series to plot\n",
        "    if type(y) is tuple:\n",
        "\n",
        "      # Loop over the y elements\n",
        "      for y_curr in y:\n",
        "\n",
        "        # Plot the x and current y values\n",
        "        plt.plot(x[start:end], y_curr[start:end], format)\n",
        "\n",
        "    else:\n",
        "      # Plot the x and y values\n",
        "      plt.plot(x[start:end], y[start:end], format)\n",
        "\n",
        "    # Label the x-axis\n",
        "    plt.xlabel(xlabel)\n",
        "\n",
        "    # Label the y-axis\n",
        "    plt.ylabel(ylabel)\n",
        "\n",
        "    # Set the legend\n",
        "    if legend:\n",
        "      plt.legend(legend)\n",
        "\n",
        "    # Set the title\n",
        "    plt.title(title)\n",
        "\n",
        "    # Overlay a grid on the graph\n",
        "    plt.grid(True)\n",
        "\n",
        "    # Draw the graph on screen\n",
        "    plt.show()"
      ],
      "metadata": {
        "id": "yKPcnTQ0vBeZ"
      },
      "execution_count": 8,
      "outputs": []
    },
    {
      "cell_type": "code",
      "source": [
        "x = df.index\n",
        "y = df['temperature']\n",
        "\n",
        "plot_series(x, y, xlabel='Month', ylabel='Temperature')"
      ],
      "metadata": {
        "colab": {
          "base_uri": "https://localhost:8080/",
          "height": 388
        },
        "id": "9E6K9bCpdZwj",
        "outputId": "59080f3f-6ed8-48be-c0b3-240785ae0f5b"
      },
      "execution_count": 9,
      "outputs": [
        {
          "output_type": "display_data",
          "data": {
            "text/plain": [
              "<Figure size 720x432 with 1 Axes>"
            ],
            "image/png": "[encoded data removed]"
          },
          "metadata": {
            "needs_background": "light"
          }
        }
      ]
    },
    {
      "cell_type": "markdown",
      "source": [
        "### Preparing Model"
      ],
      "metadata": {
        "id": "8CUgtD5yePhg"
      }
    },
    {
      "cell_type": "markdown",
      "source": [
        "Set Paramters"
      ],
      "metadata": {
        "id": "_yT9lezzeVcY"
      }
    },
    {
      "cell_type": "code",
      "source": [
        "window_size=64\n",
        "batch_size=256\n",
        "shuffle_buffer_size=1000\n",
        "split_time=2500"
      ],
      "metadata": {
        "id": "A5ck4jy8ePB5"
      },
      "execution_count": 10,
      "outputs": []
    },
    {
      "cell_type": "markdown",
      "source": [
        "Prepare Feature and label (time from index series from montly_mean)"
      ],
      "metadata": {
        "id": "LmabXwvYeXYg"
      }
    },
    {
      "cell_type": "code",
      "source": [
        "time = np.array(df.index)\n",
        "series = np.array(df['temperature'])"
      ],
      "metadata": {
        "id": "PItpMR_GelfS"
      },
      "execution_count": 11,
      "outputs": []
    },
    {
      "cell_type": "markdown",
      "source": [
        "Normalization Data"
      ],
      "metadata": {
        "id": "_FoLP9-mjNMR"
      }
    },
    {
      "cell_type": "code",
      "source": [
        "min = np.min(series)\n",
        "max = np.max(series)\n",
        "series -= min\n",
        "series /= max"
      ],
      "metadata": {
        "id": "kOkPdw06jLhJ"
      },
      "execution_count": 12,
      "outputs": []
    },
    {
      "cell_type": "markdown",
      "source": [
        "Fixed Partition"
      ],
      "metadata": {
        "id": "AFtW-nZJetbJ"
      }
    },
    {
      "cell_type": "code",
      "source": [
        "# Get the train set \n",
        "time_train = time[:split_time]\n",
        "x_train = series[:split_time]\n",
        "\n",
        "# Get the validation set\n",
        "time_valid = time[split_time:]\n",
        "x_valid = series[split_time:]"
      ],
      "metadata": {
        "id": "qnQ9pMcsewI4"
      },
      "execution_count": 13,
      "outputs": []
    },
    {
      "cell_type": "code",
      "source": [
        "plot_series(time_train, x_train, \n",
        "            xlabel='Month', ylabel='Temperature', \n",
        "            title='Data Train')\n",
        "plot_series(time_valid, x_valid, \n",
        "            xlabel='Month', ylabel='Temperature',\n",
        "            title='Data Validation')"
      ],
      "metadata": {
        "colab": {
          "base_uri": "https://localhost:8080/",
          "height": 789
        },
        "id": "DHnA3HwG2deB",
        "outputId": "4841a4d6-af0c-4c43-e945-4d83e9ed4d70"
      },
      "execution_count": 14,
      "outputs": [
        {
          "output_type": "display_data",
          "data": {
            "text/plain": [
              "<Figure size 720x432 with 1 Axes>"
            ],
            "image/png": "[encoded data removed]"
          },
          "metadata": {
            "needs_background": "light"
          }
        },
        {
          "output_type": "display_data",
          "data": {
            "text/plain": [
              "<Figure size 720x432 with 1 Axes>"
            ],
            "image/png": "[encoded data removed]"
          },
          "metadata": {
            "needs_background": "light"
          }
        }
      ]
    },
    {
      "cell_type": "markdown",
      "source": [
        "Windowing Data"
      ],
      "metadata": {
        "id": "DUPfE2K-e-bJ"
      }
    },
    {
      "cell_type": "code",
      "source": [
        "def windowed_dataset(series, window_size, batch_size, shuffle_buffer):\n",
        "    \"\"\"Generates dataset windows\n",
        "\n",
        "    Args:\n",
        "      series (array of float) - contains the values of the time series\n",
        "      window_size (int) - the number of time steps to include in the feature\n",
        "      batch_size (int) - the batch size\n",
        "      shuffle_buffer(int) - buffer size to use for the shuffle method\n",
        "\n",
        "    Returns:\n",
        "      dataset (TF Dataset) - TF Dataset containing time windows\n",
        "    \"\"\"\n",
        "  \n",
        "    # Generate a TF Dataset from the series values\n",
        "    dataset = tf.data.Dataset.from_tensor_slices(series)\n",
        "    \n",
        "    # Window the data but only take those with the specified size\n",
        "    dataset = dataset.window(window_size + 1, shift=1, drop_remainder=True)\n",
        "    \n",
        "    # Flatten the windows by putting its elements in a single batch\n",
        "    dataset = dataset.flat_map(lambda window: window.batch(window_size + 1))\n",
        "\n",
        "    # Create tuples with features and labels \n",
        "    dataset = dataset.map(lambda window: (window[:-1], window[-1]))\n",
        "\n",
        "    # Shuffle the windows\n",
        "    dataset = dataset.shuffle(shuffle_buffer)\n",
        "    \n",
        "    # Create batches of windows\n",
        "    dataset = dataset.batch(batch_size).prefetch(1)\n",
        "    \n",
        "    return dataset"
      ],
      "metadata": {
        "id": "55IZmTlue1wd"
      },
      "execution_count": 15,
      "outputs": []
    },
    {
      "cell_type": "code",
      "source": [
        "train_set=windowed_dataset(x_train, window_size=window_size,\n",
        "                           batch_size=batch_size, \n",
        "                           shuffle_buffer=shuffle_buffer_size)"
      ],
      "metadata": {
        "id": "dvlekWylfEEp"
      },
      "execution_count": 16,
      "outputs": []
    },
    {
      "cell_type": "markdown",
      "source": [
        "#### Build Model"
      ],
      "metadata": {
        "id": "izqkUpf6fbnT"
      }
    },
    {
      "cell_type": "code",
      "source": [
        "def build_model(WINDOW_SIZE, lr=1e-8):\n",
        "  \"\"\"\n",
        "  Creates a model with learning rate schedule \n",
        "  for finding best learning rate\n",
        "  \n",
        "  Args:\n",
        "      WINDOW_SIZE (int): the number of time steps to include in the feature\n",
        "      lr (float): the number of learning rate optimizer\n",
        "\n",
        "  Returns:\n",
        "      model (tf.keras Model): the time, series model\n",
        "  \"\"\"\n",
        "\n",
        "  # Define Params  \n",
        "  adam = tf.keras.optimizers.Adam(learning_rate=lr) # Optimizer\n",
        "  losses = tf.keras.losses.Huber()\n",
        "\n",
        "  # Define Activation Function\n",
        "  relu = tf.nn.relu\n",
        "\n",
        "  # Define model sequential\n",
        "  model = tf.keras.Sequential()\n",
        "\n",
        "  # Define Convolutional 1D\n",
        "  model.add(tf.keras.layers.Conv1D(filters=60, kernel_size=5,\n",
        "                      strides=1, padding=\"causal\",\n",
        "                      activation=relu,\n",
        "                      input_shape=[WINDOW_SIZE, 1]))\n",
        "  \n",
        "  # Define layers LSTM\n",
        "  model.add(tf.keras.layers.LSTM(64, return_sequences=True))\n",
        "  model.add(tf.keras.layers.LSTM(64))\n",
        "\n",
        "  # Define Fully Connected layers\n",
        "  model.add(tf.keras.layers.Dense(10, activation=relu))\n",
        "  model.add(tf.keras.layers.Dense(10, activation=relu))\n",
        "  model.add(tf.keras.layers.Dense(1))\n",
        "\n",
        "\n",
        "  # Compile model\n",
        "  model.compile(optimizer=adam, loss=losses, metrics=['mae'])\n",
        "\n",
        "  # Check Summary Model\n",
        "  model.summary()\n",
        "\n",
        "  print('\\nModel Succesfully Create')\n",
        "  \n",
        "  return model"
      ],
      "metadata": {
        "id": "og9Ab77zf2Kj"
      },
      "execution_count": 17,
      "outputs": []
    },
    {
      "cell_type": "markdown",
      "source": [
        "#### Define Callbacks"
      ],
      "metadata": {
        "id": "vE2r4g6Pfzpu"
      }
    },
    {
      "cell_type": "code",
      "source": [
        "model_checkpoint = tf.keras.callbacks.ModelCheckpoint(\"model.h5\", \n",
        "                                                      monitor=\"mae\",\n",
        "                                                      save_best_only=True,\n",
        "                                                      verbose=1)\n",
        "\n",
        "early_stopping = tf.keras.callbacks.EarlyStopping(monitor=\"mae\", \n",
        "                                                  patience=10, \n",
        "                                                  mode =\"min\", \n",
        "                                                  verbose=2, \n",
        "                                                  restore_best_weights=True)\n",
        "\n",
        "lr_schedule = tf.keras.callbacks.LearningRateScheduler(lambda epoch: 1e-8 * 10**(epoch / 20))"
      ],
      "metadata": {
        "id": "0g1i6rHUfNzQ"
      },
      "execution_count": 18,
      "outputs": []
    },
    {
      "cell_type": "markdown",
      "source": [
        "### Train Model"
      ],
      "metadata": {
        "id": "oc9s1Iwohk34"
      }
    },
    {
      "cell_type": "markdown",
      "source": [
        "#### Train model with learning rate schedule"
      ],
      "metadata": {
        "id": "WQvL6zkthtah"
      }
    },
    {
      "cell_type": "code",
      "source": [
        "model = build_model(window_size)"
      ],
      "metadata": {
        "colab": {
          "base_uri": "https://localhost:8080/"
        },
        "id": "a_dv1FWDhjQW",
        "outputId": "608c97dc-8b3e-49a4-8908-ab6d76129f73"
      },
      "execution_count": 19,
      "outputs": [
        {
          "output_type": "stream",
          "name": "stdout",
          "text": [
            "Model: \"sequential\"\n",
            "_________________________________________________________________\n",
            " Layer (type)                Output Shape              Param #   \n",
            "=================================================================\n",
            " conv1d (Conv1D)             (None, 64, 60)            360       \n",
            "                                                                 \n",
            " lstm (LSTM)                 (None, 64, 64)            32000     \n",
            "                                                                 \n",
            " lstm_1 (LSTM)               (None, 64)                33024     \n",
            "                                                                 \n",
            " dense (Dense)               (None, 10)                650       \n",
            "                                                                 \n",
            " dense_1 (Dense)             (None, 10)                110       \n",
            "                                                                 \n",
            " dense_2 (Dense)             (None, 1)                 11        \n",
            "                                                                 \n",
            "=================================================================\n",
            "Total params: 66,155\n",
            "Trainable params: 66,155\n",
            "Non-trainable params: 0\n",
            "_________________________________________________________________\n",
            "\n",
            "Model Succesfully Create\n"
          ]
        }
      ]
    },
    {
      "cell_type": "code",
      "source": [
        "history_lr = model.fit(train_set ,epochs=100, callbacks=[lr_schedule])"
      ],
      "metadata": {
        "colab": {
          "base_uri": "https://localhost:8080/"
        },
        "id": "qg06l5GaiDTw",
        "outputId": "d82e1146-602a-4ede-a8d3-5d4cf9806a62"
      },
      "execution_count": 20,
      "outputs": [
        {
          "output_type": "stream",
          "name": "stdout",
          "text": [
            "Epoch 1/100\n",
            "10/10 [==============================] - 20s 70ms/step - loss: 0.0866 - mae: 0.3892 - lr: 1.0000e-08\n",
            "Epoch 2/100\n",
            "10/10 [==============================] - 0s 30ms/step - loss: 0.0866 - mae: 0.3892 - lr: 1.1220e-08\n",
            "Epoch 3/100\n",
            "10/10 [==============================] - 0s 28ms/step - loss: 0.0866 - mae: 0.3892 - lr: 1.2589e-08\n",
            "Epoch 4/100\n",
            "10/10 [==============================] - 0s 28ms/step - loss: 0.0866 - mae: 0.3892 - lr: 1.4125e-08\n",
            "Epoch 5/100\n",
            "10/10 [==============================] - 0s 26ms/step - loss: 0.0866 - mae: 0.3892 - lr: 1.5849e-08\n",
            "Epoch 6/100\n",
            "10/10 [==============================] - 0s 26ms/step - loss: 0.0866 - mae: 0.3892 - lr: 1.7783e-08\n",
            "Epoch 7/100\n",
            "10/10 [==============================] - 0s 28ms/step - loss: 0.0866 - mae: 0.3892 - lr: 1.9953e-08\n",
            "Epoch 8/100\n",
            "10/10 [==============================] - 0s 29ms/step - loss: 0.0866 - mae: 0.3892 - lr: 2.2387e-08\n",
            "Epoch 9/100\n",
            "10/10 [==============================] - 0s 26ms/step - loss: 0.0866 - mae: 0.3892 - lr: 2.5119e-08\n",
            "Epoch 10/100\n",
            "10/10 [==============================] - 0s 29ms/step - loss: 0.0865 - mae: 0.3892 - lr: 2.8184e-08\n",
            "Epoch 11/100\n",
            "10/10 [==============================] - 0s 27ms/step - loss: 0.0865 - mae: 0.3891 - lr: 3.1623e-08\n",
            "Epoch 12/100\n",
            "10/10 [==============================] - 0s 27ms/step - loss: 0.0865 - mae: 0.3891 - lr: 3.5481e-08\n",
            "Epoch 13/100\n",
            "10/10 [==============================] - 0s 28ms/step - loss: 0.0865 - mae: 0.3891 - lr: 3.9811e-08\n",
            "Epoch 14/100\n",
            "10/10 [==============================] - 0s 25ms/step - loss: 0.0865 - mae: 0.3891 - lr: 4.4668e-08\n",
            "Epoch 15/100\n",
            "10/10 [==============================] - 0s 28ms/step - loss: 0.0865 - mae: 0.3891 - lr: 5.0119e-08\n",
            "Epoch 16/100\n",
            "10/10 [==============================] - 0s 28ms/step - loss: 0.0865 - mae: 0.3890 - lr: 5.6234e-08\n",
            "Epoch 17/100\n",
            "10/10 [==============================] - 0s 28ms/step - loss: 0.0865 - mae: 0.3890 - lr: 6.3096e-08\n",
            "Epoch 18/100\n",
            "10/10 [==============================] - 0s 29ms/step - loss: 0.0865 - mae: 0.3890 - lr: 7.0795e-08\n",
            "Epoch 19/100\n",
            "10/10 [==============================] - 0s 28ms/step - loss: 0.0865 - mae: 0.3889 - lr: 7.9433e-08\n",
            "Epoch 20/100\n",
            "10/10 [==============================] - 0s 28ms/step - loss: 0.0864 - mae: 0.3889 - lr: 8.9125e-08\n",
            "Epoch 21/100\n",
            "10/10 [==============================] - 0s 29ms/step - loss: 0.0864 - mae: 0.3888 - lr: 1.0000e-07\n",
            "Epoch 22/100\n",
            "10/10 [==============================] - 0s 28ms/step - loss: 0.0864 - mae: 0.3888 - lr: 1.1220e-07\n",
            "Epoch 23/100\n",
            "10/10 [==============================] - 0s 29ms/step - loss: 0.0864 - mae: 0.3887 - lr: 1.2589e-07\n",
            "Epoch 24/100\n",
            "10/10 [==============================] - 0s 29ms/step - loss: 0.0863 - mae: 0.3886 - lr: 1.4125e-07\n",
            "Epoch 25/100\n",
            "10/10 [==============================] - 0s 28ms/step - loss: 0.0863 - mae: 0.3886 - lr: 1.5849e-07\n",
            "Epoch 26/100\n",
            "10/10 [==============================] - 0s 29ms/step - loss: 0.0863 - mae: 0.3885 - lr: 1.7783e-07\n",
            "Epoch 27/100\n",
            "10/10 [==============================] - 0s 29ms/step - loss: 0.0862 - mae: 0.3884 - lr: 1.9953e-07\n",
            "Epoch 28/100\n",
            "10/10 [==============================] - 0s 26ms/step - loss: 0.0862 - mae: 0.3883 - lr: 2.2387e-07\n",
            "Epoch 29/100\n",
            "10/10 [==============================] - 0s 30ms/step - loss: 0.0861 - mae: 0.3882 - lr: 2.5119e-07\n",
            "Epoch 30/100\n",
            "10/10 [==============================] - 0s 27ms/step - loss: 0.0861 - mae: 0.3880 - lr: 2.8184e-07\n",
            "Epoch 31/100\n",
            "10/10 [==============================] - 0s 28ms/step - loss: 0.0860 - mae: 0.3879 - lr: 3.1623e-07\n",
            "Epoch 32/100\n",
            "10/10 [==============================] - 0s 28ms/step - loss: 0.0859 - mae: 0.3877 - lr: 3.5481e-07\n",
            "Epoch 33/100\n",
            "10/10 [==============================] - 0s 26ms/step - loss: 0.0859 - mae: 0.3875 - lr: 3.9811e-07\n",
            "Epoch 34/100\n",
            "10/10 [==============================] - 0s 26ms/step - loss: 0.0858 - mae: 0.3873 - lr: 4.4668e-07\n",
            "Epoch 35/100\n",
            "10/10 [==============================] - 0s 28ms/step - loss: 0.0857 - mae: 0.3870 - lr: 5.0119e-07\n",
            "Epoch 36/100\n",
            "10/10 [==============================] - 0s 26ms/step - loss: 0.0856 - mae: 0.3867 - lr: 5.6234e-07\n",
            "Epoch 37/100\n",
            "10/10 [==============================] - 0s 31ms/step - loss: 0.0854 - mae: 0.3864 - lr: 6.3096e-07\n",
            "Epoch 38/100\n",
            "10/10 [==============================] - 0s 29ms/step - loss: 0.0853 - mae: 0.3861 - lr: 7.0795e-07\n",
            "Epoch 39/100\n",
            "10/10 [==============================] - 0s 29ms/step - loss: 0.0851 - mae: 0.3857 - lr: 7.9433e-07\n",
            "Epoch 40/100\n",
            "10/10 [==============================] - 0s 28ms/step - loss: 0.0850 - mae: 0.3853 - lr: 8.9125e-07\n",
            "Epoch 41/100\n",
            "10/10 [==============================] - 0s 29ms/step - loss: 0.0848 - mae: 0.3848 - lr: 1.0000e-06\n",
            "Epoch 42/100\n",
            "10/10 [==============================] - 0s 27ms/step - loss: 0.0845 - mae: 0.3842 - lr: 1.1220e-06\n",
            "Epoch 43/100\n",
            "10/10 [==============================] - 0s 29ms/step - loss: 0.0843 - mae: 0.3836 - lr: 1.2589e-06\n",
            "Epoch 44/100\n",
            "10/10 [==============================] - 0s 28ms/step - loss: 0.0840 - mae: 0.3829 - lr: 1.4125e-06\n",
            "Epoch 45/100\n",
            "10/10 [==============================] - 0s 31ms/step - loss: 0.0837 - mae: 0.3821 - lr: 1.5849e-06\n",
            "Epoch 46/100\n",
            "10/10 [==============================] - 0s 28ms/step - loss: 0.0833 - mae: 0.3812 - lr: 1.7783e-06\n",
            "Epoch 47/100\n",
            "10/10 [==============================] - 0s 27ms/step - loss: 0.0829 - mae: 0.3803 - lr: 1.9953e-06\n",
            "Epoch 48/100\n",
            "10/10 [==============================] - 0s 27ms/step - loss: 0.0825 - mae: 0.3792 - lr: 2.2387e-06\n",
            "Epoch 49/100\n",
            "10/10 [==============================] - 0s 29ms/step - loss: 0.0820 - mae: 0.3779 - lr: 2.5119e-06\n",
            "Epoch 50/100\n",
            "10/10 [==============================] - 0s 29ms/step - loss: 0.0815 - mae: 0.3765 - lr: 2.8184e-06\n",
            "Epoch 51/100\n",
            "10/10 [==============================] - 0s 29ms/step - loss: 0.0808 - mae: 0.3750 - lr: 3.1623e-06\n",
            "Epoch 52/100\n",
            "10/10 [==============================] - 0s 30ms/step - loss: 0.0802 - mae: 0.3734 - lr: 3.5481e-06\n",
            "Epoch 53/100\n",
            "10/10 [==============================] - 0s 28ms/step - loss: 0.0795 - mae: 0.3717 - lr: 3.9811e-06\n",
            "Epoch 54/100\n",
            "10/10 [==============================] - 0s 27ms/step - loss: 0.0788 - mae: 0.3699 - lr: 4.4668e-06\n",
            "Epoch 55/100\n",
            "10/10 [==============================] - 0s 28ms/step - loss: 0.0780 - mae: 0.3678 - lr: 5.0119e-06\n",
            "Epoch 56/100\n",
            "10/10 [==============================] - 0s 29ms/step - loss: 0.0771 - mae: 0.3655 - lr: 5.6234e-06\n",
            "Epoch 57/100\n",
            "10/10 [==============================] - 0s 30ms/step - loss: 0.0761 - mae: 0.3629 - lr: 6.3096e-06\n",
            "Epoch 58/100\n",
            "10/10 [==============================] - 0s 29ms/step - loss: 0.0750 - mae: 0.3600 - lr: 7.0795e-06\n",
            "Epoch 59/100\n",
            "10/10 [==============================] - 0s 28ms/step - loss: 0.0738 - mae: 0.3566 - lr: 7.9433e-06\n",
            "Epoch 60/100\n",
            "10/10 [==============================] - 0s 29ms/step - loss: 0.0723 - mae: 0.3528 - lr: 8.9125e-06\n",
            "Epoch 61/100\n",
            "10/10 [==============================] - 0s 29ms/step - loss: 0.0707 - mae: 0.3484 - lr: 1.0000e-05\n",
            "Epoch 62/100\n",
            "10/10 [==============================] - 0s 27ms/step - loss: 0.0688 - mae: 0.3433 - lr: 1.1220e-05\n",
            "Epoch 63/100\n",
            "10/10 [==============================] - 0s 31ms/step - loss: 0.0666 - mae: 0.3373 - lr: 1.2589e-05\n",
            "Epoch 64/100\n",
            "10/10 [==============================] - 0s 28ms/step - loss: 0.0641 - mae: 0.3302 - lr: 1.4125e-05\n",
            "Epoch 65/100\n",
            "10/10 [==============================] - 0s 29ms/step - loss: 0.0612 - mae: 0.3217 - lr: 1.5849e-05\n",
            "Epoch 66/100\n",
            "10/10 [==============================] - 0s 29ms/step - loss: 0.0577 - mae: 0.3114 - lr: 1.7783e-05\n",
            "Epoch 67/100\n",
            "10/10 [==============================] - 0s 27ms/step - loss: 0.0536 - mae: 0.2987 - lr: 1.9953e-05\n",
            "Epoch 68/100\n",
            "10/10 [==============================] - 0s 29ms/step - loss: 0.0486 - mae: 0.2827 - lr: 2.2387e-05\n",
            "Epoch 69/100\n",
            "10/10 [==============================] - 0s 29ms/step - loss: 0.0424 - mae: 0.2619 - lr: 2.5119e-05\n",
            "Epoch 70/100\n",
            "10/10 [==============================] - 0s 27ms/step - loss: 0.0349 - mae: 0.2342 - lr: 2.8184e-05\n",
            "Epoch 71/100\n",
            "10/10 [==============================] - 0s 26ms/step - loss: 0.0258 - mae: 0.1963 - lr: 3.1623e-05\n",
            "Epoch 72/100\n",
            "10/10 [==============================] - 0s 28ms/step - loss: 0.0159 - mae: 0.1469 - lr: 3.5481e-05\n",
            "Epoch 73/100\n",
            "10/10 [==============================] - 0s 26ms/step - loss: 0.0080 - mae: 0.0995 - lr: 3.9811e-05\n",
            "Epoch 74/100\n",
            "10/10 [==============================] - 0s 29ms/step - loss: 0.0067 - mae: 0.0911 - lr: 4.4668e-05\n",
            "Epoch 75/100\n",
            "10/10 [==============================] - 0s 31ms/step - loss: 0.0067 - mae: 0.0908 - lr: 5.0119e-05\n",
            "Epoch 76/100\n",
            "10/10 [==============================] - 0s 28ms/step - loss: 0.0063 - mae: 0.0879 - lr: 5.6234e-05\n",
            "Epoch 77/100\n",
            "10/10 [==============================] - 0s 29ms/step - loss: 0.0063 - mae: 0.0878 - lr: 6.3096e-05\n",
            "Epoch 78/100\n",
            "10/10 [==============================] - 0s 28ms/step - loss: 0.0063 - mae: 0.0878 - lr: 7.0795e-05\n",
            "Epoch 79/100\n",
            "10/10 [==============================] - 0s 27ms/step - loss: 0.0063 - mae: 0.0877 - lr: 7.9433e-05\n",
            "Epoch 80/100\n",
            "10/10 [==============================] - 0s 29ms/step - loss: 0.0063 - mae: 0.0875 - lr: 8.9125e-05\n",
            "Epoch 81/100\n",
            "10/10 [==============================] - 0s 27ms/step - loss: 0.0063 - mae: 0.0876 - lr: 1.0000e-04\n",
            "Epoch 82/100\n",
            "10/10 [==============================] - 0s 28ms/step - loss: 0.0063 - mae: 0.0875 - lr: 1.1220e-04\n",
            "Epoch 83/100\n",
            "10/10 [==============================] - 0s 30ms/step - loss: 0.0063 - mae: 0.0875 - lr: 1.2589e-04\n",
            "Epoch 84/100\n",
            "10/10 [==============================] - 0s 26ms/step - loss: 0.0063 - mae: 0.0876 - lr: 1.4125e-04\n",
            "Epoch 85/100\n",
            "10/10 [==============================] - 0s 29ms/step - loss: 0.0063 - mae: 0.0875 - lr: 1.5849e-04\n",
            "Epoch 86/100\n",
            "10/10 [==============================] - 0s 27ms/step - loss: 0.0063 - mae: 0.0875 - lr: 1.7783e-04\n",
            "Epoch 87/100\n",
            "10/10 [==============================] - 0s 27ms/step - loss: 0.0063 - mae: 0.0875 - lr: 1.9953e-04\n",
            "Epoch 88/100\n",
            "10/10 [==============================] - 0s 30ms/step - loss: 0.0063 - mae: 0.0874 - lr: 2.2387e-04\n",
            "Epoch 89/100\n",
            "10/10 [==============================] - 0s 28ms/step - loss: 0.0063 - mae: 0.0875 - lr: 2.5119e-04\n",
            "Epoch 90/100\n",
            "10/10 [==============================] - 1s 60ms/step - loss: 0.0063 - mae: 0.0875 - lr: 2.8184e-04\n",
            "Epoch 91/100\n",
            "10/10 [==============================] - 1s 80ms/step - loss: 0.0063 - mae: 0.0875 - lr: 3.1623e-04\n",
            "Epoch 92/100\n",
            "10/10 [==============================] - 1s 37ms/step - loss: 0.0062 - mae: 0.0873 - lr: 3.5481e-04\n",
            "Epoch 93/100\n",
            "10/10 [==============================] - 1s 34ms/step - loss: 0.0062 - mae: 0.0872 - lr: 3.9811e-04\n",
            "Epoch 94/100\n",
            "10/10 [==============================] - 0s 28ms/step - loss: 0.0062 - mae: 0.0872 - lr: 4.4668e-04\n",
            "Epoch 95/100\n",
            "10/10 [==============================] - 0s 30ms/step - loss: 0.0062 - mae: 0.0871 - lr: 5.0119e-04\n",
            "Epoch 96/100\n",
            "10/10 [==============================] - 0s 30ms/step - loss: 0.0062 - mae: 0.0869 - lr: 5.6234e-04\n",
            "Epoch 97/100\n",
            "10/10 [==============================] - 0s 27ms/step - loss: 0.0061 - mae: 0.0867 - lr: 6.3096e-04\n",
            "Epoch 98/100\n",
            "10/10 [==============================] - 0s 28ms/step - loss: 0.0061 - mae: 0.0869 - lr: 7.0795e-04\n",
            "Epoch 99/100\n",
            "10/10 [==============================] - 0s 26ms/step - loss: 0.0061 - mae: 0.0866 - lr: 7.9433e-04\n",
            "Epoch 100/100\n",
            "10/10 [==============================] - 0s 27ms/step - loss: 0.0060 - mae: 0.0862 - lr: 8.9125e-04\n"
          ]
        }
      ]
    },
    {
      "cell_type": "markdown",
      "source": [
        "Plot result of learning rate schedule"
      ],
      "metadata": {
        "id": "9dQ8fp7ViRP5"
      }
    },
    {
      "cell_type": "code",
      "source": [
        "# Define the learning rate array\n",
        "lrs = 1e-8 * (10 ** (np.arange(100) / 20))\n",
        "\n",
        "# Set the figure size\n",
        "plt.figure(figsize=(10, 6))\n",
        "\n",
        "# Set the grid\n",
        "plt.grid(True)\n",
        "\n",
        "# Plot the loss in log scale\n",
        "plt.semilogx(lrs, history_lr.history[\"loss\"])\n",
        "\n",
        "# Increase the tickmarks size\n",
        "plt.tick_params('both', length=10, width=1, which='both')\n",
        "\n",
        "# Set the plot boundaries\n",
        "plt.axis([1e-8, 1e-3, 0, .2])\n",
        "plt.show()"
      ],
      "metadata": {
        "colab": {
          "base_uri": "https://localhost:8080/",
          "height": 392
        },
        "id": "LUYW3w_2iHDh",
        "outputId": "eb9e32b6-05d1-4179-9489-5be7d992e377"
      },
      "execution_count": 21,
      "outputs": [
        {
          "output_type": "display_data",
          "data": {
            "text/plain": [
              "<Figure size 720x432 with 1 Axes>"
            ],
            "image/png": "[encoded data removed]"
          },
          "metadata": {
            "needs_background": "light"
          }
        }
      ]
    },
    {
      "cell_type": "markdown",
      "source": [
        "#### Train model with learning rate 1e-4"
      ],
      "metadata": {
        "id": "Nna6ZCLwmMXu"
      }
    },
    {
      "cell_type": "code",
      "source": [
        "model = build_model(window_size, lr=1e-4)"
      ],
      "metadata": {
        "colab": {
          "base_uri": "https://localhost:8080/"
        },
        "id": "BqXHbWMfm12X",
        "outputId": "378b0c9d-3354-4fb9-a3b5-28fb0404f2a4"
      },
      "execution_count": 25,
      "outputs": [
        {
          "output_type": "stream",
          "name": "stdout",
          "text": [
            "Model: \"sequential_1\"\n",
            "_________________________________________________________________\n",
            " Layer (type)                Output Shape              Param #   \n",
            "=================================================================\n",
            " conv1d_1 (Conv1D)           (None, 64, 60)            360       \n",
            "                                                                 \n",
            " lstm_2 (LSTM)               (None, 64, 64)            32000     \n",
            "                                                                 \n",
            " lstm_3 (LSTM)               (None, 64)                33024     \n",
            "                                                                 \n",
            " dense_3 (Dense)             (None, 10)                650       \n",
            "                                                                 \n",
            " dense_4 (Dense)             (None, 10)                110       \n",
            "                                                                 \n",
            " dense_5 (Dense)             (None, 1)                 11        \n",
            "                                                                 \n",
            "=================================================================\n",
            "Total params: 66,155\n",
            "Trainable params: 66,155\n",
            "Non-trainable params: 0\n",
            "_________________________________________________________________\n",
            "\n",
            "Model Succesfully Create\n"
          ]
        }
      ]
    },
    {
      "cell_type": "code",
      "source": [
        "history = model.fit(train_set,\n",
        "                    epochs=100, \n",
        "                    callbacks=[model_checkpoint, early_stopping])"
      ],
      "metadata": {
        "colab": {
          "base_uri": "https://localhost:8080/"
        },
        "id": "g1Dm93iqlXCT",
        "outputId": "18af2070-f509-4313-f9ea-4e8c00404c55"
      },
      "execution_count": 26,
      "outputs": [
        {
          "output_type": "stream",
          "name": "stdout",
          "text": [
            "Epoch 1/100\n",
            "      8/Unknown - 3s 29ms/step - loss: 0.0898 - mae: 0.3961\n",
            "Epoch 1: mae improved from inf to 0.39206, saving model to model.h5\n",
            "10/10 [==============================] - 3s 34ms/step - loss: 0.0880 - mae: 0.3921\n",
            "Epoch 2/100\n",
            " 8/10 [=======================>......] - ETA: 0s - loss: 0.0780 - mae: 0.3673\n",
            "Epoch 2: mae improved from 0.39206 to 0.36519, saving model to model.h5\n",
            "10/10 [==============================] - 0s 32ms/step - loss: 0.0772 - mae: 0.3652\n",
            "Epoch 3/100\n",
            " 8/10 [=======================>......] - ETA: 0s - loss: 0.0659 - mae: 0.3341\n",
            "Epoch 3: mae improved from 0.36519 to 0.33241, saving model to model.h5\n",
            "10/10 [==============================] - 0s 32ms/step - loss: 0.0651 - mae: 0.3324\n",
            "Epoch 4/100\n",
            " 8/10 [=======================>......] - ETA: 0s - loss: 0.0521 - mae: 0.2929\n",
            "Epoch 4: mae improved from 0.33241 to 0.28724, saving model to model.h5\n",
            "10/10 [==============================] - 0s 32ms/step - loss: 0.0503 - mae: 0.2872\n",
            "Epoch 5/100\n",
            " 8/10 [=======================>......] - ETA: 0s - loss: 0.0335 - mae: 0.2267\n",
            "Epoch 5: mae improved from 0.28724 to 0.21923, saving model to model.h5\n",
            "10/10 [==============================] - 0s 31ms/step - loss: 0.0317 - mae: 0.2192\n",
            "Epoch 6/100\n",
            " 8/10 [=======================>......] - ETA: 0s - loss: 0.0139 - mae: 0.1349\n",
            "Epoch 6: mae improved from 0.21923 to 0.12753, saving model to model.h5\n",
            "10/10 [==============================] - 0s 33ms/step - loss: 0.0127 - mae: 0.1275\n",
            "Epoch 7/100\n",
            " 8/10 [=======================>......] - ETA: 0s - loss: 0.0072 - mae: 0.0951\n",
            "Epoch 7: mae improved from 0.12753 to 0.09701, saving model to model.h5\n",
            "10/10 [==============================] - 0s 34ms/step - loss: 0.0075 - mae: 0.0970\n",
            "Epoch 8/100\n",
            " 8/10 [=======================>......] - ETA: 0s - loss: 0.0070 - mae: 0.0932\n",
            "Epoch 8: mae improved from 0.09701 to 0.09332, saving model to model.h5\n",
            "10/10 [==============================] - 0s 31ms/step - loss: 0.0071 - mae: 0.0933\n",
            "Epoch 9/100\n",
            " 8/10 [=======================>......] - ETA: 0s - loss: 0.0068 - mae: 0.0906\n",
            "Epoch 9: mae improved from 0.09332 to 0.08970, saving model to model.h5\n",
            "10/10 [==============================] - 0s 34ms/step - loss: 0.0067 - mae: 0.0897\n",
            "Epoch 10/100\n",
            " 8/10 [=======================>......] - ETA: 0s - loss: 0.0066 - mae: 0.0894\n",
            "Epoch 10: mae improved from 0.08970 to 0.08891, saving model to model.h5\n",
            "10/10 [==============================] - 0s 33ms/step - loss: 0.0065 - mae: 0.0889\n",
            "Epoch 11/100\n",
            " 8/10 [=======================>......] - ETA: 0s - loss: 0.0066 - mae: 0.0900\n",
            "Epoch 11: mae improved from 0.08891 to 0.08860, saving model to model.h5\n",
            "10/10 [==============================] - 0s 33ms/step - loss: 0.0065 - mae: 0.0886\n",
            "Epoch 12/100\n",
            " 7/10 [====================>.........] - ETA: 0s - loss: 0.0065 - mae: 0.0887\n",
            "Epoch 12: mae improved from 0.08860 to 0.08825, saving model to model.h5\n",
            "10/10 [==============================] - 0s 34ms/step - loss: 0.0064 - mae: 0.0882\n",
            "Epoch 13/100\n",
            " 7/10 [====================>.........] - ETA: 0s - loss: 0.0064 - mae: 0.0882\n",
            "Epoch 13: mae improved from 0.08825 to 0.08821, saving model to model.h5\n",
            "10/10 [==============================] - 0s 33ms/step - loss: 0.0064 - mae: 0.0882\n",
            "Epoch 14/100\n",
            " 7/10 [====================>.........] - ETA: 0s - loss: 0.0064 - mae: 0.0882\n",
            "Epoch 14: mae improved from 0.08821 to 0.08814, saving model to model.h5\n",
            "10/10 [==============================] - 0s 33ms/step - loss: 0.0064 - mae: 0.0881\n",
            "Epoch 15/100\n",
            " 9/10 [==========================>...] - ETA: 0s - loss: 0.0064 - mae: 0.0881\n",
            "Epoch 15: mae improved from 0.08814 to 0.08807, saving model to model.h5\n",
            "10/10 [==============================] - 0s 34ms/step - loss: 0.0064 - mae: 0.0881\n",
            "Epoch 16/100\n",
            " 8/10 [=======================>......] - ETA: 0s - loss: 0.0064 - mae: 0.0886\n",
            "Epoch 16: mae did not improve from 0.08807\n",
            "10/10 [==============================] - 0s 29ms/step - loss: 0.0064 - mae: 0.0881\n",
            "Epoch 17/100\n",
            " 8/10 [=======================>......] - ETA: 0s - loss: 0.0064 - mae: 0.0881\n",
            "Epoch 17: mae improved from 0.08807 to 0.08794, saving model to model.h5\n",
            "10/10 [==============================] - 0s 32ms/step - loss: 0.0064 - mae: 0.0879\n",
            "Epoch 18/100\n",
            " 8/10 [=======================>......] - ETA: 0s - loss: 0.0064 - mae: 0.0883\n",
            "Epoch 18: mae improved from 0.08794 to 0.08792, saving model to model.h5\n",
            "10/10 [==============================] - 0s 33ms/step - loss: 0.0064 - mae: 0.0879\n",
            "Epoch 19/100\n",
            " 8/10 [=======================>......] - ETA: 0s - loss: 0.0063 - mae: 0.0871\n",
            "Epoch 19: mae improved from 0.08792 to 0.08783, saving model to model.h5\n",
            "10/10 [==============================] - 0s 32ms/step - loss: 0.0063 - mae: 0.0878\n",
            "Epoch 20/100\n",
            " 7/10 [====================>.........] - ETA: 0s - loss: 0.0065 - mae: 0.0890\n",
            "Epoch 20: mae improved from 0.08783 to 0.08781, saving model to model.h5\n",
            "10/10 [==============================] - 0s 35ms/step - loss: 0.0063 - mae: 0.0878\n",
            "Epoch 21/100\n",
            " 8/10 [=======================>......] - ETA: 0s - loss: 0.0064 - mae: 0.0883\n",
            "Epoch 21: mae improved from 0.08781 to 0.08776, saving model to model.h5\n",
            "10/10 [==============================] - 0s 31ms/step - loss: 0.0063 - mae: 0.0878\n",
            "Epoch 22/100\n",
            " 7/10 [====================>.........] - ETA: 0s - loss: 0.0062 - mae: 0.0870\n",
            "Epoch 22: mae improved from 0.08776 to 0.08772, saving model to model.h5\n",
            "10/10 [==============================] - 0s 34ms/step - loss: 0.0063 - mae: 0.0877\n",
            "Epoch 23/100\n",
            "10/10 [==============================] - ETA: 0s - loss: 0.0063 - mae: 0.0877\n",
            "Epoch 23: mae improved from 0.08772 to 0.08768, saving model to model.h5\n",
            "10/10 [==============================] - 0s 34ms/step - loss: 0.0063 - mae: 0.0877\n",
            "Epoch 24/100\n",
            " 8/10 [=======================>......] - ETA: 0s - loss: 0.0064 - mae: 0.0880\n",
            "Epoch 24: mae improved from 0.08768 to 0.08759, saving model to model.h5\n",
            "10/10 [==============================] - 0s 32ms/step - loss: 0.0063 - mae: 0.0876\n",
            "Epoch 25/100\n",
            " 7/10 [====================>.........] - ETA: 0s - loss: 0.0064 - mae: 0.0890\n",
            "Epoch 25: mae improved from 0.08759 to 0.08747, saving model to model.h5\n",
            "10/10 [==============================] - 0s 34ms/step - loss: 0.0063 - mae: 0.0875\n",
            "Epoch 26/100\n",
            " 8/10 [=======================>......] - ETA: 0s - loss: 0.0063 - mae: 0.0876\n",
            "Epoch 26: mae improved from 0.08747 to 0.08742, saving model to model.h5\n",
            "10/10 [==============================] - 0s 33ms/step - loss: 0.0063 - mae: 0.0874\n",
            "Epoch 27/100\n",
            " 8/10 [=======================>......] - ETA: 0s - loss: 0.0063 - mae: 0.0886\n",
            "Epoch 27: mae improved from 0.08742 to 0.08737, saving model to model.h5\n",
            "10/10 [==============================] - 0s 33ms/step - loss: 0.0063 - mae: 0.0874\n",
            "Epoch 28/100\n",
            " 8/10 [=======================>......] - ETA: 0s - loss: 0.0063 - mae: 0.0880\n",
            "Epoch 28: mae did not improve from 0.08737\n",
            "10/10 [==============================] - 0s 29ms/step - loss: 0.0063 - mae: 0.0874\n",
            "Epoch 29/100\n",
            "10/10 [==============================] - ETA: 0s - loss: 0.0062 - mae: 0.0873\n",
            "Epoch 29: mae improved from 0.08737 to 0.08727, saving model to model.h5\n",
            "10/10 [==============================] - 0s 35ms/step - loss: 0.0062 - mae: 0.0873\n",
            "Epoch 30/100\n",
            "10/10 [==============================] - ETA: 0s - loss: 0.0062 - mae: 0.0872\n",
            "Epoch 30: mae improved from 0.08727 to 0.08724, saving model to model.h5\n",
            "10/10 [==============================] - 0s 35ms/step - loss: 0.0062 - mae: 0.0872\n",
            "Epoch 31/100\n",
            " 8/10 [=======================>......] - ETA: 0s - loss: 0.0062 - mae: 0.0868\n",
            "Epoch 31: mae improved from 0.08724 to 0.08717, saving model to model.h5\n",
            "10/10 [==============================] - 0s 33ms/step - loss: 0.0062 - mae: 0.0872\n",
            "Epoch 32/100\n",
            " 8/10 [=======================>......] - ETA: 0s - loss: 0.0063 - mae: 0.0878\n",
            "Epoch 32: mae improved from 0.08717 to 0.08716, saving model to model.h5\n",
            "10/10 [==============================] - 0s 33ms/step - loss: 0.0062 - mae: 0.0872\n",
            "Epoch 33/100\n",
            " 8/10 [=======================>......] - ETA: 0s - loss: 0.0063 - mae: 0.0877\n",
            "Epoch 33: mae did not improve from 0.08716\n",
            "10/10 [==============================] - 0s 28ms/step - loss: 0.0062 - mae: 0.0872\n",
            "Epoch 34/100\n",
            " 8/10 [=======================>......] - ETA: 0s - loss: 0.0063 - mae: 0.0875\n",
            "Epoch 34: mae improved from 0.08716 to 0.08698, saving model to model.h5\n",
            "10/10 [==============================] - 0s 33ms/step - loss: 0.0062 - mae: 0.0870\n",
            "Epoch 35/100\n",
            " 8/10 [=======================>......] - ETA: 0s - loss: 0.0063 - mae: 0.0878\n",
            "Epoch 35: mae did not improve from 0.08698\n",
            "10/10 [==============================] - 0s 28ms/step - loss: 0.0062 - mae: 0.0870\n",
            "Epoch 36/100\n",
            " 8/10 [=======================>......] - ETA: 0s - loss: 0.0062 - mae: 0.0868\n",
            "Epoch 36: mae did not improve from 0.08698\n",
            "10/10 [==============================] - 0s 28ms/step - loss: 0.0062 - mae: 0.0870\n",
            "Epoch 37/100\n",
            " 7/10 [====================>.........] - ETA: 0s - loss: 0.0062 - mae: 0.0874\n",
            "Epoch 37: mae improved from 0.08698 to 0.08694, saving model to model.h5\n",
            "10/10 [==============================] - 0s 35ms/step - loss: 0.0062 - mae: 0.0869\n",
            "Epoch 38/100\n",
            " 7/10 [====================>.........] - ETA: 0s - loss: 0.0061 - mae: 0.0868\n",
            "Epoch 38: mae improved from 0.08694 to 0.08690, saving model to model.h5\n",
            "10/10 [==============================] - 0s 34ms/step - loss: 0.0062 - mae: 0.0869\n",
            "Epoch 39/100\n",
            " 8/10 [=======================>......] - ETA: 0s - loss: 0.0062 - mae: 0.0874\n",
            "Epoch 39: mae did not improve from 0.08690\n",
            "10/10 [==============================] - 0s 29ms/step - loss: 0.0062 - mae: 0.0869\n",
            "Epoch 40/100\n",
            " 7/10 [====================>.........] - ETA: 0s - loss: 0.0061 - mae: 0.0862\n",
            "Epoch 40: mae improved from 0.08690 to 0.08678, saving model to model.h5\n",
            "10/10 [==============================] - 0s 35ms/step - loss: 0.0061 - mae: 0.0868\n",
            "Epoch 41/100\n",
            " 8/10 [=======================>......] - ETA: 0s - loss: 0.0063 - mae: 0.0878\n",
            "Epoch 41: mae improved from 0.08678 to 0.08675, saving model to model.h5\n",
            "10/10 [==============================] - 0s 32ms/step - loss: 0.0061 - mae: 0.0868\n",
            "Epoch 42/100\n",
            " 8/10 [=======================>......] - ETA: 0s - loss: 0.0061 - mae: 0.0870\n",
            "Epoch 42: mae did not improve from 0.08675\n",
            "10/10 [==============================] - 0s 29ms/step - loss: 0.0062 - mae: 0.0869\n",
            "Epoch 43/100\n",
            " 7/10 [====================>.........] - ETA: 0s - loss: 0.0062 - mae: 0.0880\n",
            "Epoch 43: mae did not improve from 0.08675\n",
            "10/10 [==============================] - 0s 31ms/step - loss: 0.0061 - mae: 0.0868\n",
            "Epoch 44/100\n",
            " 8/10 [=======================>......] - ETA: 0s - loss: 0.0061 - mae: 0.0862\n",
            "Epoch 44: mae improved from 0.08675 to 0.08674, saving model to model.h5\n",
            "10/10 [==============================] - 0s 33ms/step - loss: 0.0061 - mae: 0.0867\n",
            "Epoch 45/100\n",
            " 8/10 [=======================>......] - ETA: 0s - loss: 0.0062 - mae: 0.0865\n",
            "Epoch 45: mae improved from 0.08674 to 0.08663, saving model to model.h5\n",
            "10/10 [==============================] - 0s 35ms/step - loss: 0.0061 - mae: 0.0866\n",
            "Epoch 46/100\n",
            " 8/10 [=======================>......] - ETA: 0s - loss: 0.0061 - mae: 0.0869\n",
            "Epoch 46: mae improved from 0.08663 to 0.08660, saving model to model.h5\n",
            "10/10 [==============================] - 0s 33ms/step - loss: 0.0061 - mae: 0.0866\n",
            "Epoch 47/100\n",
            " 8/10 [=======================>......] - ETA: 0s - loss: 0.0062 - mae: 0.0880\n",
            "Epoch 47: mae improved from 0.08660 to 0.08658, saving model to model.h5\n",
            "10/10 [==============================] - 0s 32ms/step - loss: 0.0061 - mae: 0.0866\n",
            "Epoch 48/100\n",
            " 8/10 [=======================>......] - ETA: 0s - loss: 0.0062 - mae: 0.0877\n",
            "Epoch 48: mae improved from 0.08658 to 0.08656, saving model to model.h5\n",
            "10/10 [==============================] - 0s 33ms/step - loss: 0.0061 - mae: 0.0866\n",
            "Epoch 49/100\n",
            " 8/10 [=======================>......] - ETA: 0s - loss: 0.0061 - mae: 0.0869\n",
            "Epoch 49: mae improved from 0.08656 to 0.08654, saving model to model.h5\n",
            "10/10 [==============================] - 0s 33ms/step - loss: 0.0061 - mae: 0.0865\n",
            "Epoch 50/100\n",
            " 7/10 [====================>.........] - ETA: 0s - loss: 0.0061 - mae: 0.0868\n",
            "Epoch 50: mae did not improve from 0.08654\n",
            "10/10 [==============================] - 0s 31ms/step - loss: 0.0061 - mae: 0.0865\n",
            "Epoch 51/100\n",
            " 8/10 [=======================>......] - ETA: 0s - loss: 0.0061 - mae: 0.0865\n",
            "Epoch 51: mae improved from 0.08654 to 0.08647, saving model to model.h5\n",
            "10/10 [==============================] - 0s 35ms/step - loss: 0.0061 - mae: 0.0865\n",
            "Epoch 52/100\n",
            " 8/10 [=======================>......] - ETA: 0s - loss: 0.0061 - mae: 0.0866\n",
            "Epoch 52: mae improved from 0.08647 to 0.08640, saving model to model.h5\n",
            "10/10 [==============================] - 0s 33ms/step - loss: 0.0061 - mae: 0.0864\n",
            "Epoch 53/100\n",
            " 8/10 [=======================>......] - ETA: 0s - loss: 0.0061 - mae: 0.0866\n",
            "Epoch 53: mae did not improve from 0.08640\n",
            "10/10 [==============================] - 0s 31ms/step - loss: 0.0061 - mae: 0.0865\n",
            "Epoch 54/100\n",
            " 8/10 [=======================>......] - ETA: 0s - loss: 0.0061 - mae: 0.0865\n",
            "Epoch 54: mae improved from 0.08640 to 0.08636, saving model to model.h5\n",
            "10/10 [==============================] - 0s 32ms/step - loss: 0.0061 - mae: 0.0864\n",
            "Epoch 55/100\n",
            " 8/10 [=======================>......] - ETA: 0s - loss: 0.0062 - mae: 0.0871\n",
            "Epoch 55: mae did not improve from 0.08636\n",
            "10/10 [==============================] - 0s 29ms/step - loss: 0.0061 - mae: 0.0865\n",
            "Epoch 56/100\n",
            " 8/10 [=======================>......] - ETA: 0s - loss: 0.0062 - mae: 0.0870\n",
            "Epoch 56: mae improved from 0.08636 to 0.08627, saving model to model.h5\n",
            "10/10 [==============================] - 0s 34ms/step - loss: 0.0061 - mae: 0.0863\n",
            "Epoch 57/100\n",
            "10/10 [==============================] - ETA: 0s - loss: 0.0061 - mae: 0.0863\n",
            "Epoch 57: mae did not improve from 0.08627\n",
            "10/10 [==============================] - 0s 31ms/step - loss: 0.0061 - mae: 0.0863\n",
            "Epoch 58/100\n",
            " 7/10 [====================>.........] - ETA: 0s - loss: 0.0061 - mae: 0.0867\n",
            "Epoch 58: mae did not improve from 0.08627\n",
            "10/10 [==============================] - 0s 29ms/step - loss: 0.0061 - mae: 0.0865\n",
            "Epoch 59/100\n",
            " 8/10 [=======================>......] - ETA: 0s - loss: 0.0061 - mae: 0.0870\n",
            "Epoch 59: mae improved from 0.08627 to 0.08622, saving model to model.h5\n",
            "10/10 [==============================] - 0s 33ms/step - loss: 0.0061 - mae: 0.0862\n",
            "Epoch 60/100\n",
            " 7/10 [====================>.........] - ETA: 0s - loss: 0.0062 - mae: 0.0877\n",
            "Epoch 60: mae did not improve from 0.08622\n",
            "10/10 [==============================] - 0s 29ms/step - loss: 0.0061 - mae: 0.0865\n",
            "Epoch 61/100\n",
            "10/10 [==============================] - ETA: 0s - loss: 0.0061 - mae: 0.0861\n",
            "Epoch 61: mae improved from 0.08622 to 0.08611, saving model to model.h5\n",
            "10/10 [==============================] - 0s 34ms/step - loss: 0.0061 - mae: 0.0861\n",
            "Epoch 62/100\n",
            " 8/10 [=======================>......] - ETA: 0s - loss: 0.0061 - mae: 0.0869\n",
            "Epoch 62: mae improved from 0.08611 to 0.08602, saving model to model.h5\n",
            "10/10 [==============================] - 0s 33ms/step - loss: 0.0060 - mae: 0.0860\n",
            "Epoch 63/100\n",
            " 8/10 [=======================>......] - ETA: 0s - loss: 0.0060 - mae: 0.0854\n",
            "Epoch 63: mae improved from 0.08602 to 0.08597, saving model to model.h5\n",
            "10/10 [==============================] - 0s 34ms/step - loss: 0.0060 - mae: 0.0860\n",
            "Epoch 64/100\n",
            " 7/10 [====================>.........] - ETA: 0s - loss: 0.0061 - mae: 0.0861\n",
            "Epoch 64: mae improved from 0.08597 to 0.08592, saving model to model.h5\n",
            "10/10 [==============================] - 0s 34ms/step - loss: 0.0060 - mae: 0.0859\n",
            "Epoch 65/100\n",
            " 8/10 [=======================>......] - ETA: 0s - loss: 0.0060 - mae: 0.0863\n",
            "Epoch 65: mae improved from 0.08592 to 0.08589, saving model to model.h5\n",
            "10/10 [==============================] - 0s 33ms/step - loss: 0.0060 - mae: 0.0859\n",
            "Epoch 66/100\n",
            " 8/10 [=======================>......] - ETA: 0s - loss: 0.0060 - mae: 0.0860\n",
            "Epoch 66: mae did not improve from 0.08589\n",
            "10/10 [==============================] - 0s 28ms/step - loss: 0.0060 - mae: 0.0859\n",
            "Epoch 67/100\n",
            " 8/10 [=======================>......] - ETA: 0s - loss: 0.0061 - mae: 0.0863\n",
            "Epoch 67: mae did not improve from 0.08589\n",
            "10/10 [==============================] - 0s 29ms/step - loss: 0.0060 - mae: 0.0859\n",
            "Epoch 68/100\n",
            " 8/10 [=======================>......] - ETA: 0s - loss: 0.0060 - mae: 0.0860\n",
            "Epoch 68: mae improved from 0.08589 to 0.08576, saving model to model.h5\n",
            "10/10 [==============================] - 0s 34ms/step - loss: 0.0060 - mae: 0.0858\n",
            "Epoch 69/100\n",
            " 8/10 [=======================>......] - ETA: 0s - loss: 0.0059 - mae: 0.0857\n",
            "Epoch 69: mae did not improve from 0.08576\n",
            "10/10 [==============================] - 0s 29ms/step - loss: 0.0060 - mae: 0.0858\n",
            "Epoch 70/100\n",
            " 8/10 [=======================>......] - ETA: 0s - loss: 0.0059 - mae: 0.0857\n",
            "Epoch 70: mae improved from 0.08576 to 0.08567, saving model to model.h5\n",
            "10/10 [==============================] - 0s 33ms/step - loss: 0.0060 - mae: 0.0857\n",
            "Epoch 71/100\n",
            " 8/10 [=======================>......] - ETA: 0s - loss: 0.0061 - mae: 0.0865\n",
            "Epoch 71: mae improved from 0.08567 to 0.08564, saving model to model.h5\n",
            "10/10 [==============================] - 0s 34ms/step - loss: 0.0060 - mae: 0.0856\n",
            "Epoch 72/100\n",
            "10/10 [==============================] - ETA: 0s - loss: 0.0060 - mae: 0.0856\n",
            "Epoch 72: mae improved from 0.08564 to 0.08562, saving model to model.h5\n",
            "10/10 [==============================] - 0s 34ms/step - loss: 0.0060 - mae: 0.0856\n",
            "Epoch 73/100\n",
            " 7/10 [====================>.........] - ETA: 0s - loss: 0.0060 - mae: 0.0858\n",
            "Epoch 73: mae did not improve from 0.08562\n",
            "10/10 [==============================] - 0s 30ms/step - loss: 0.0060 - mae: 0.0856\n",
            "Epoch 74/100\n",
            " 8/10 [=======================>......] - ETA: 0s - loss: 0.0058 - mae: 0.0847\n",
            "Epoch 74: mae improved from 0.08562 to 0.08550, saving model to model.h5\n",
            "10/10 [==============================] - 0s 33ms/step - loss: 0.0059 - mae: 0.0855\n",
            "Epoch 75/100\n",
            "10/10 [==============================] - ETA: 0s - loss: 0.0059 - mae: 0.0856\n",
            "Epoch 75: mae did not improve from 0.08550\n",
            "10/10 [==============================] - 0s 30ms/step - loss: 0.0059 - mae: 0.0856\n",
            "Epoch 76/100\n",
            " 8/10 [=======================>......] - ETA: 0s - loss: 0.0061 - mae: 0.0868\n",
            "Epoch 76: mae did not improve from 0.08550\n",
            "10/10 [==============================] - 0s 28ms/step - loss: 0.0059 - mae: 0.0855\n",
            "Epoch 77/100\n",
            " 8/10 [=======================>......] - ETA: 0s - loss: 0.0060 - mae: 0.0856\n",
            "Epoch 77: mae did not improve from 0.08550\n",
            "10/10 [==============================] - 0s 29ms/step - loss: 0.0059 - mae: 0.0856\n",
            "Epoch 78/100\n",
            " 9/10 [==========================>...] - ETA: 0s - loss: 0.0059 - mae: 0.0854\n",
            "Epoch 78: mae improved from 0.08550 to 0.08531, saving model to model.h5\n",
            "10/10 [==============================] - 0s 36ms/step - loss: 0.0059 - mae: 0.0853\n",
            "Epoch 79/100\n",
            " 8/10 [=======================>......] - ETA: 0s - loss: 0.0059 - mae: 0.0856\n",
            "Epoch 79: mae did not improve from 0.08531\n",
            "10/10 [==============================] - 0s 29ms/step - loss: 0.0059 - mae: 0.0854\n",
            "Epoch 80/100\n",
            " 8/10 [=======================>......] - ETA: 0s - loss: 0.0060 - mae: 0.0860\n",
            "Epoch 80: mae improved from 0.08531 to 0.08530, saving model to model.h5\n",
            "10/10 [==============================] - 0s 33ms/step - loss: 0.0059 - mae: 0.0853\n",
            "Epoch 81/100\n",
            " 7/10 [====================>.........] - ETA: 0s - loss: 0.0059 - mae: 0.0853\n",
            "Epoch 81: mae improved from 0.08530 to 0.08515, saving model to model.h5\n",
            "10/10 [==============================] - 0s 35ms/step - loss: 0.0059 - mae: 0.0852\n",
            "Epoch 82/100\n",
            " 8/10 [=======================>......] - ETA: 0s - loss: 0.0059 - mae: 0.0849\n",
            "Epoch 82: mae did not improve from 0.08515\n",
            "10/10 [==============================] - 0s 29ms/step - loss: 0.0059 - mae: 0.0854\n",
            "Epoch 83/100\n",
            " 7/10 [====================>.........] - ETA: 0s - loss: 0.0060 - mae: 0.0857\n",
            "Epoch 83: mae did not improve from 0.08515\n",
            "10/10 [==============================] - 0s 30ms/step - loss: 0.0059 - mae: 0.0852\n",
            "Epoch 84/100\n",
            " 7/10 [====================>.........] - ETA: 0s - loss: 0.0057 - mae: 0.0849\n",
            "Epoch 84: mae did not improve from 0.08515\n",
            "10/10 [==============================] - 0s 28ms/step - loss: 0.0059 - mae: 0.0853\n",
            "Epoch 85/100\n",
            "10/10 [==============================] - ETA: 0s - loss: 0.0059 - mae: 0.0855\n",
            "Epoch 85: mae did not improve from 0.08515\n",
            "10/10 [==============================] - 0s 30ms/step - loss: 0.0059 - mae: 0.0855\n",
            "Epoch 86/100\n",
            " 7/10 [====================>.........] - ETA: 0s - loss: 0.0058 - mae: 0.0841\n",
            "Epoch 86: mae improved from 0.08515 to 0.08501, saving model to model.h5\n",
            "10/10 [==============================] - 0s 35ms/step - loss: 0.0059 - mae: 0.0850\n",
            "Epoch 87/100\n",
            "10/10 [==============================] - ETA: 0s - loss: 0.0059 - mae: 0.0854\n",
            "Epoch 87: mae did not improve from 0.08501\n",
            "10/10 [==============================] - 0s 30ms/step - loss: 0.0059 - mae: 0.0854\n",
            "Epoch 88/100\n",
            " 7/10 [====================>.........] - ETA: 0s - loss: 0.0059 - mae: 0.0858\n",
            "Epoch 88: mae did not improve from 0.08501\n",
            "10/10 [==============================] - 0s 30ms/step - loss: 0.0059 - mae: 0.0852\n",
            "Epoch 89/100\n",
            " 8/10 [=======================>......] - ETA: 0s - loss: 0.0060 - mae: 0.0853\n",
            "Epoch 89: mae improved from 0.08501 to 0.08487, saving model to model.h5\n",
            "10/10 [==============================] - 0s 34ms/step - loss: 0.0059 - mae: 0.0849\n",
            "Epoch 90/100\n",
            " 8/10 [=======================>......] - ETA: 0s - loss: 0.0058 - mae: 0.0845\n",
            "Epoch 90: mae did not improve from 0.08487\n",
            "10/10 [==============================] - 0s 31ms/step - loss: 0.0058 - mae: 0.0849\n",
            "Epoch 91/100\n",
            " 7/10 [====================>.........] - ETA: 0s - loss: 0.0056 - mae: 0.0832\n",
            "Epoch 91: mae improved from 0.08487 to 0.08485, saving model to model.h5\n",
            "10/10 [==============================] - 0s 34ms/step - loss: 0.0058 - mae: 0.0849\n",
            "Epoch 92/100\n",
            " 8/10 [=======================>......] - ETA: 0s - loss: 0.0058 - mae: 0.0843\n",
            "Epoch 92: mae improved from 0.08485 to 0.08479, saving model to model.h5\n",
            "10/10 [==============================] - 0s 33ms/step - loss: 0.0058 - mae: 0.0848\n",
            "Epoch 93/100\n",
            " 8/10 [=======================>......] - ETA: 0s - loss: 0.0058 - mae: 0.0845\n",
            "Epoch 93: mae improved from 0.08479 to 0.08470, saving model to model.h5\n",
            "10/10 [==============================] - 0s 33ms/step - loss: 0.0058 - mae: 0.0847\n",
            "Epoch 94/100\n",
            " 7/10 [====================>.........] - ETA: 0s - loss: 0.0059 - mae: 0.0849\n",
            "Epoch 94: mae did not improve from 0.08470\n",
            "10/10 [==============================] - 0s 28ms/step - loss: 0.0058 - mae: 0.0847\n",
            "Epoch 95/100\n",
            " 8/10 [=======================>......] - ETA: 0s - loss: 0.0059 - mae: 0.0846\n",
            "Epoch 95: mae improved from 0.08470 to 0.08452, saving model to model.h5\n",
            "10/10 [==============================] - 0s 34ms/step - loss: 0.0058 - mae: 0.0845\n",
            "Epoch 96/100\n",
            " 8/10 [=======================>......] - ETA: 0s - loss: 0.0058 - mae: 0.0844\n",
            "Epoch 96: mae did not improve from 0.08452\n",
            "10/10 [==============================] - 0s 30ms/step - loss: 0.0058 - mae: 0.0845\n",
            "Epoch 97/100\n",
            " 8/10 [=======================>......] - ETA: 0s - loss: 0.0058 - mae: 0.0845\n",
            "Epoch 97: mae improved from 0.08452 to 0.08452, saving model to model.h5\n",
            "10/10 [==============================] - 0s 33ms/step - loss: 0.0058 - mae: 0.0845\n",
            "Epoch 98/100\n",
            " 8/10 [=======================>......] - ETA: 0s - loss: 0.0058 - mae: 0.0847\n",
            "Epoch 98: mae did not improve from 0.08452\n",
            "10/10 [==============================] - 0s 30ms/step - loss: 0.0058 - mae: 0.0846\n",
            "Epoch 99/100\n",
            " 8/10 [=======================>......] - ETA: 0s - loss: 0.0058 - mae: 0.0846\n",
            "Epoch 99: mae improved from 0.08452 to 0.08446, saving model to model.h5\n",
            "10/10 [==============================] - 0s 32ms/step - loss: 0.0058 - mae: 0.0845\n",
            "Epoch 100/100\n",
            " 8/10 [=======================>......] - ETA: 0s - loss: 0.0058 - mae: 0.0852\n",
            "Epoch 100: mae improved from 0.08446 to 0.08427, saving model to model.h5\n",
            "10/10 [==============================] - 0s 34ms/step - loss: 0.0058 - mae: 0.0843\n"
          ]
        }
      ]
    },
    {
      "cell_type": "code",
      "source": [
        "mae = history.history['mae']\n",
        "loss = history.history['loss']\n",
        "epochs=range(len(loss)) \n",
        "\n",
        "plot_series(x=epochs,\n",
        "            y=(mae, loss), \n",
        "            title='MAE and Loss', \n",
        "            xlabel='MAE',\n",
        "            ylabel='Loss',\n",
        "            legend=['MAE', 'Loss'])"
      ],
      "metadata": {
        "colab": {
          "base_uri": "https://localhost:8080/",
          "height": 403
        },
        "id": "wDWBwi8ZsBo7",
        "outputId": "928707e3-93ba-4c66-a7af-91633313c831"
      },
      "execution_count": 27,
      "outputs": [
        {
          "output_type": "display_data",
          "data": {
            "text/plain": [
              "<Figure size 720x432 with 1 Axes>"
            ],
            "image/png": "[encoded data removed]"
          },
          "metadata": {
            "needs_background": "light"
          }
        }
      ]
    },
    {
      "cell_type": "markdown",
      "source": [
        "### Model Prediction"
      ],
      "metadata": {
        "id": "fQvSbimSuvuf"
      }
    },
    {
      "cell_type": "code",
      "source": [
        "def model_forecast(model, series, window_size):\n",
        "    ds = tf.data.Dataset.from_tensor_slices(series)\n",
        "    ds = ds.window(window_size, shift=1, drop_remainder=True)\n",
        "    ds = ds.flat_map(lambda w: w.batch(window_size))\n",
        "    ds = ds.batch(32).prefetch(1)\n",
        "    forecast = model.predict(ds)\n",
        "    return forecast"
      ],
      "metadata": {
        "id": "y3bGcwpauplv"
      },
      "execution_count": 28,
      "outputs": []
    },
    {
      "cell_type": "code",
      "source": [
        "# Compute the forecast for all the series\n",
        "rnn_forecast = model_forecast(model, series, window_size).squeeze()\n",
        "\n",
        "# Slice the forecast to get only the predictions for the validation set\n",
        "rnn_forecast = rnn_forecast[split_time - window_size:-1]\n",
        "\n",
        "# Plot the forecast\n",
        "plt.figure(figsize=(10, 6))\n",
        "plot_series(time_valid, (x_valid,rnn_forecast))"
      ],
      "metadata": {
        "colab": {
          "base_uri": "https://localhost:8080/",
          "height": 391
        },
        "id": "RWnRqJDIuyFv",
        "outputId": "f3dc138c-aafa-42fe-f0bc-464c23150bb7"
      },
      "execution_count": 29,
      "outputs": [
        {
          "output_type": "display_data",
          "data": {
            "text/plain": [
              "<Figure size 720x432 with 0 Axes>"
            ]
          },
          "metadata": {}
        },
        {
          "output_type": "display_data",
          "data": {
            "text/plain": [
              "<Figure size 720x432 with 1 Axes>"
            ],
            "image/png": "[encoded data removed]"
          },
          "metadata": {
            "needs_background": "light"
          }
        }
      ]
    },
    {
      "cell_type": "code",
      "source": [
        "# Compute the MAE\n",
        "print(f'MAE: {tf.keras.metrics.mean_absolute_error(x_valid, rnn_forecast).numpy()}')"
      ],
      "metadata": {
        "colab": {
          "base_uri": "https://localhost:8080/"
        },
        "id": "H7MmVxr-wNT6",
        "outputId": "e2d3437e-b310-436d-ec25-b9c44be4c92e"
      },
      "execution_count": 30,
      "outputs": [
        {
          "output_type": "stream",
          "name": "stdout",
          "text": [
            "MAE: 0.07762008905410767\n"
          ]
        }
      ]
    },
    {
      "cell_type": "markdown",
      "source": [
        "### Download Model"
      ],
      "metadata": {
        "id": "_GEUh7a4IZHi"
      }
    },
    {
      "cell_type": "code",
      "source": [
        "from google.colab import files\n",
        "files.download('model.h5')"
      ],
      "metadata": {
        "id": "n6pmd7PxIa10"
      },
      "execution_count": null,
      "outputs": []
    }
  ]
}