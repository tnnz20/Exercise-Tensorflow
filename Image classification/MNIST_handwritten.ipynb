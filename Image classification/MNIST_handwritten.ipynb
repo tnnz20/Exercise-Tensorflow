{
  "cells": [
    {
      "cell_type": "markdown",
      "metadata": {
        "id": "YJ9M2Zinvu1Q"
      },
      "source": [
        "# Image Classification\n",
        "MNIST Handwritten digit"
      ]
    },
    {
      "cell_type": "markdown",
      "metadata": {
        "id": "_oZXv0hrvtIU"
      },
      "source": [
        "## Importing Module"
      ]
    },
    {
      "cell_type": "code",
      "execution_count": 1,
      "metadata": {
        "colab": {
          "base_uri": "https://localhost:8080/"
        },
        "id": "eztWkU0mvaUH",
        "outputId": "c6267583-4994-4b80-91d1-8a2bd65e24b5"
      },
      "outputs": [
        {
          "name": "stdout",
          "output_type": "stream",
          "text": [
            "Tensorflow Version : 2.8.2\n"
          ]
        }
      ],
      "source": [
        "import tensorflow as tf\n",
        "\n",
        "from matplotlib import pyplot as plt\n",
        "\n",
        "print(f'Tensorflow Version : {tf.__version__}')"
      ]
    },
    {
      "cell_type": "markdown",
      "metadata": {
        "id": "tHGC2ZBvvlOc"
      },
      "source": [
        "## Problem\n",
        "\n",
        "- Create a classifier for the MNIST Handwritten digit dataset. \n",
        "- The test will expect it to classify `10` classes.\n",
        "- Don't use lambda layers in your model.\n",
        "- Desired accuracy AND validation_accuracy > `91%`"
      ]
    },
    {
      "cell_type": "markdown",
      "metadata": {
        "id": "XHsO02yjwHGj"
      },
      "source": [
        "### Preparing data\n",
        "Download from [tf.keras.datasets](https://www.tensorflow.org/api_docs/python/tf/keras/datasets)"
      ]
    },
    {
      "cell_type": "code",
      "execution_count": 2,
      "metadata": {
        "colab": {
          "base_uri": "https://localhost:8080/"
        },
        "id": "WqADD9a_wKga",
        "outputId": "b79ab5b3-2f57-4d03-c587-4ea1880268b7"
      },
      "outputs": [
        {
          "name": "stdout",
          "output_type": "stream",
          "text": [
            "Downloading data from https://storage.googleapis.com/tensorflow/tf-keras-datasets/mnist.npz\n",
            "11493376/11490434 [==============================] - 0s 0us/step\n",
            "11501568/11490434 [==============================] - 0s 0us/step\n"
          ]
        }
      ],
      "source": [
        "mnist = tf.keras.datasets.mnist\n",
        "\n",
        "(train_images, train_labels), (test_images, test_labels) = mnist.load_data()"
      ]
    },
    {
      "cell_type": "markdown",
      "metadata": {
        "id": "z-8taCoowRGr"
      },
      "source": [
        "### Explore data"
      ]
    },
    {
      "cell_type": "code",
      "execution_count": 3,
      "metadata": {
        "colab": {
          "base_uri": "https://localhost:8080/"
        },
        "id": "sQl-KINrwO2K",
        "outputId": "fb552252-11df-471e-bee4-b63c2f7c57ca"
      },
      "outputs": [
        {
          "name": "stdout",
          "output_type": "stream",
          "text": [
            "Total Train Image : 60000\n",
            "Total Test Image : 10000\n"
          ]
        }
      ],
      "source": [
        "print(f'Total Train Image : {len(train_images)}')\n",
        "print(f'Total Test Image : {len(test_images)}')"
      ]
    },
    {
      "cell_type": "markdown",
      "metadata": {
        "id": "JVjHB2tVxP9T"
      },
      "source": [
        "#### Visualize Image"
      ]
    },
    {
      "cell_type": "code",
      "execution_count": 4,
      "metadata": {
        "colab": {
          "base_uri": "https://localhost:8080/",
          "height": 589
        },
        "id": "zONVTVJCwVDa",
        "outputId": "f79650a7-2525-4b09-c711-4e8bb916d9d8"
      },
      "outputs": [
        {
          "data": {
            "image/png": "[encoded data removed]",
            "text/plain": [
              "<Figure size 720x720 with 25 Axes>"
            ]
          },
          "metadata": {},
          "output_type": "display_data"
        }
      ],
      "source": [
        "class_names = [x for x in range(10)]\n",
        "\n",
        "plt.figure(figsize=(10,10))\n",
        "for i in range(25):\n",
        "    plt.subplot(5,5,i+1)\n",
        "    plt.xticks([])\n",
        "    plt.yticks([])\n",
        "    plt.grid(False)\n",
        "    plt.imshow(train_images[i], cmap=plt.cm.binary)\n",
        "    plt.xlabel(class_names[train_labels[i]])\n",
        "plt.show()"
      ]
    },
    {
      "cell_type": "markdown",
      "metadata": {
        "id": "NVhL47FMxN3b"
      },
      "source": [
        "### Preparing Model"
      ]
    },
    {
      "cell_type": "code",
      "execution_count": 5,
      "metadata": {
        "id": "nK_OZM6nzubl"
      },
      "outputs": [],
      "source": [
        "IMG_SIZE = (28,28)\n",
        "BATCH_SIZE = 32"
      ]
    },
    {
      "cell_type": "markdown",
      "metadata": {
        "id": "nPmtfTphyEfc"
      },
      "source": [
        "#### Preprocessing data"
      ]
    },
    {
      "cell_type": "code",
      "execution_count": 6,
      "metadata": {
        "id": "EamTUTFawVRp"
      },
      "outputs": [],
      "source": [
        "train_images = train_images / 255.\n",
        "test_images = test_images / 255."
      ]
    },
    {
      "cell_type": "markdown",
      "metadata": {
        "id": "XUws0JxDzNFT"
      },
      "source": [
        "#### Build Model"
      ]
    },
    {
      "cell_type": "code",
      "execution_count": 7,
      "metadata": {
        "id": "IyBHbMbVyGs9"
      },
      "outputs": [],
      "source": [
        "def build_model():\n",
        "  \"\"\"\n",
        "  Create a model sequential with convolutional layers\n",
        "\n",
        "  Returns:\n",
        "      model (tf.keras Model): the Image classifier model\n",
        "  \"\"\"\n",
        "\n",
        "  # Define Params\n",
        "  lr = 1e-3\n",
        "  adam = tf.keras.optimizers.Adam(learning_rate=lr) # Optimizer\n",
        "  losses = tf.keras.losses.SparseCategoricalCrossentropy()\n",
        "\n",
        "  # Define Activation Function\n",
        "  relu = tf.nn.relu\n",
        "  softmax = tf.nn.softmax\n",
        "\n",
        "  # Define model sequential\n",
        "  model = tf.keras.Sequential()\n",
        "\n",
        "  # Define convolutional layers\n",
        "  model.add(tf.keras.layers.Conv2D(64, (3,3), activation=relu, input_shape=IMG_SIZE + (1,)))\n",
        "  model.add(tf.keras.layers.MaxPooling2D(2, 2))\n",
        "  model.add(tf.keras.layers.Conv2D(64, (3,3), activation=relu))\n",
        "  model.add(tf.keras.layers.MaxPooling2D(2, 2))\n",
        "\n",
        "  # Define fully connected layers\n",
        "  model.add(tf.keras.layers.Flatten())\n",
        "  model.add(tf.keras.layers.Dense(128, activation=relu))\n",
        "  model.add(tf.keras.layers.Dense(10, activation=softmax)) # Output\n",
        "\n",
        "  # Compile model\n",
        "  model.compile(optimizer=adam, loss=losses, metrics=['accuracy'])\n",
        "\n",
        "  # Check Summary Model\n",
        "  model.summary()\n",
        "\n",
        "  print('\\nModel Successfully Create')\n",
        "  \n",
        "  return model"
      ]
    },
    {
      "cell_type": "markdown",
      "metadata": {
        "id": "iPwTq6SRzVe8"
      },
      "source": [
        "#### Define Callbacks"
      ]
    },
    {
      "cell_type": "code",
      "execution_count": 8,
      "metadata": {
        "id": "GCj2mG2FzZUE"
      },
      "outputs": [],
      "source": [
        "model_checkpoint = tf.keras.callbacks.ModelCheckpoint(\"model.h5\", \n",
        "                                                      monitor=\"val_accuracy\",\n",
        "                                                      save_best_only=True,\n",
        "                                                      verbose=1)\n",
        "\n",
        "early_stopping = tf.keras.callbacks.EarlyStopping(monitor=\"val_accuracy\", \n",
        "                                                  patience=2, \n",
        "                                                  mode =\"max\", \n",
        "                                                  verbose=2, \n",
        "                                                  restore_best_weights=True)"
      ]
    },
    {
      "cell_type": "markdown",
      "metadata": {
        "id": "zF_-bxvIzc1T"
      },
      "source": [
        "### Train Model"
      ]
    },
    {
      "cell_type": "code",
      "execution_count": 9,
      "metadata": {
        "colab": {
          "base_uri": "https://localhost:8080/"
        },
        "id": "yZbkw-Zlzeaj",
        "outputId": "062a2ad1-4087-4b41-954d-8b9a7662771a"
      },
      "outputs": [
        {
          "name": "stdout",
          "output_type": "stream",
          "text": [
            "Model: \"sequential\"\n",
            "_________________________________________________________________\n",
            " Layer (type)                Output Shape              Param #   \n",
            "=================================================================\n",
            " conv2d (Conv2D)             (None, 26, 26, 64)        640       \n",
            "                                                                 \n",
            " max_pooling2d (MaxPooling2D  (None, 13, 13, 64)       0         \n",
            " )                                                               \n",
            "                                                                 \n",
            " conv2d_1 (Conv2D)           (None, 11, 11, 64)        36928     \n",
            "                                                                 \n",
            " max_pooling2d_1 (MaxPooling  (None, 5, 5, 64)         0         \n",
            " 2D)                                                             \n",
            "                                                                 \n",
            " flatten (Flatten)           (None, 1600)              0         \n",
            "                                                                 \n",
            " dense (Dense)               (None, 128)               204928    \n",
            "                                                                 \n",
            " dense_1 (Dense)             (None, 10)                1290      \n",
            "                                                                 \n",
            "=================================================================\n",
            "Total params: 243,786\n",
            "Trainable params: 243,786\n",
            "Non-trainable params: 0\n",
            "_________________________________________________________________\n",
            "\n",
            "Model Successfully Create\n"
          ]
        }
      ],
      "source": [
        "model = build_model()"
      ]
    },
    {
      "cell_type": "code",
      "execution_count": 10,
      "metadata": {
        "colab": {
          "base_uri": "https://localhost:8080/"
        },
        "id": "wFlawQI1ziSA",
        "outputId": "78d7e12d-4dcd-4a8c-f3a8-75da7fc3a75c"
      },
      "outputs": [
        {
          "name": "stdout",
          "output_type": "stream",
          "text": [
            "Epoch 1/10\n",
            "1866/1875 [============================>.] - ETA: 0s - loss: 0.1233 - accuracy: 0.9613\n",
            "Epoch 1: val_accuracy improved from -inf to 0.98570, saving model to model.h5\n",
            "1875/1875 [==============================] - 14s 6ms/step - loss: 0.1228 - accuracy: 0.9615 - val_loss: 0.0420 - val_accuracy: 0.9857\n",
            "Epoch 2/10\n",
            "1871/1875 [============================>.] - ETA: 0s - loss: 0.0417 - accuracy: 0.9869\n",
            "Epoch 2: val_accuracy improved from 0.98570 to 0.99070, saving model to model.h5\n",
            "1875/1875 [==============================] - 6s 3ms/step - loss: 0.0417 - accuracy: 0.9870 - val_loss: 0.0301 - val_accuracy: 0.9907\n",
            "Epoch 3/10\n",
            "1864/1875 [============================>.] - ETA: 0s - loss: 0.0284 - accuracy: 0.9912\n",
            "Epoch 3: val_accuracy improved from 0.99070 to 0.99170, saving model to model.h5\n",
            "1875/1875 [==============================] - 7s 4ms/step - loss: 0.0283 - accuracy: 0.9912 - val_loss: 0.0248 - val_accuracy: 0.9917\n",
            "Epoch 4/10\n",
            "1870/1875 [============================>.] - ETA: 0s - loss: 0.0193 - accuracy: 0.9937\n",
            "Epoch 4: val_accuracy did not improve from 0.99170\n",
            "1875/1875 [==============================] - 7s 4ms/step - loss: 0.0193 - accuracy: 0.9937 - val_loss: 0.0270 - val_accuracy: 0.9912\n",
            "Epoch 5/10\n",
            "1864/1875 [============================>.] - ETA: 0s - loss: 0.0149 - accuracy: 0.9953\n",
            "Epoch 5: val_accuracy did not improve from 0.99170\n",
            "Restoring model weights from the end of the best epoch: 3.\n",
            "1875/1875 [==============================] - 6s 3ms/step - loss: 0.0149 - accuracy: 0.9953 - val_loss: 0.0254 - val_accuracy: 0.9914\n",
            "Epoch 5: early stopping\n"
          ]
        }
      ],
      "source": [
        "history = model.fit(train_images,\n",
        "                    train_labels, \n",
        "                    epochs=10,\n",
        "                    validation_data=(test_images, test_labels),\n",
        "                    callbacks=[model_checkpoint, early_stopping],\n",
        "                    steps_per_epoch=len(train_images)//BATCH_SIZE)"
      ]
    },
    {
      "cell_type": "markdown",
      "metadata": {
        "id": "uf4ljwvI0R8M"
      },
      "source": [
        "### Visualization result"
      ]
    },
    {
      "cell_type": "code",
      "execution_count": 11,
      "metadata": {
        "id": "qADNdlBx0CD3"
      },
      "outputs": [],
      "source": [
        "def visualize_result(history):\n",
        "  '''Function for Visual result'''\n",
        "  \n",
        "  acc = history.history['accuracy']\n",
        "  val_acc = history.history['val_accuracy']\n",
        "\n",
        "  loss = history.history['loss']\n",
        "  val_loss = history.history['val_loss']\n",
        "\n",
        "  plt.figure(figsize=(15, 6))\n",
        "  plt.subplot(1, 2, 1)\n",
        "  plt.plot(acc, label='Training Accuracy')\n",
        "  plt.plot(val_acc, label='Validation Accuracy')\n",
        "  plt.legend(loc='lower right')\n",
        "  plt.title('Training and Validation Accuracy')\n",
        "  plt.xlabel('Epochs')\n",
        "  plt.ylabel('Accuracy')\n",
        "\n",
        "  plt.subplot(1, 2, 2)\n",
        "  plt.plot(loss, label='Training Loss')\n",
        "  plt.plot(val_loss, label='Validation Loss')\n",
        "  plt.legend(loc='upper left')\n",
        "  plt.title('Training and Validation Loss')\n",
        "  plt.xlabel('Epochs')\n",
        "  plt.ylabel('Loss')\n",
        "  plt.show()"
      ]
    },
    {
      "cell_type": "code",
      "execution_count": 12,
      "metadata": {
        "colab": {
          "base_uri": "https://localhost:8080/",
          "height": 404
        },
        "id": "0hz279Sr0PO1",
        "outputId": "b1acb9d7-9bd2-4e10-f943-f76094440818"
      },
      "outputs": [
        {
          "data": {
            "image/png": "[encoded data removed]",
            "text/plain": [
              "<Figure size 1080x432 with 2 Axes>"
            ]
          },
          "metadata": {
            "needs_background": "light"
          },
          "output_type": "display_data"
        }
      ],
      "source": [
        "visualize_result(history)"
      ]
    },
    {
      "cell_type": "markdown",
      "metadata": {
        "id": "33B-J1MI0rn8"
      },
      "source": [
        "### Download Model"
      ]
    },
    {
      "cell_type": "code",
      "execution_count": null,
      "metadata": {
        "id": "vDZHWXtg0tG7"
      },
      "outputs": [],
      "source": [
        "from google.colab import files\n",
        "files.download(model.h5)"
      ]
    }
  ],
  "metadata": {
    "accelerator": "GPU",
    "colab": {
      "name": "MNIST_handwritten.ipynb",
      "provenance": []
    },
    "gpuClass": "standard",
    "kernelspec": {
      "display_name": "Python 3",
      "name": "python3"
    },
    "language_info": {
      "name": "python"
    }
  },
  "nbformat": 4,
  "nbformat_minor": 0
}
