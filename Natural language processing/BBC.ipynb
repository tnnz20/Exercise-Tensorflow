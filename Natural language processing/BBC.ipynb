{
  "nbformat": 4,
  "nbformat_minor": 0,
  "metadata": {
    "colab": {
      "name": "BBC.ipynb",
      "provenance": []
    },
    "kernelspec": {
      "name": "python3",
      "display_name": "Python 3"
    },
    "language_info": {
      "name": "python"
    },
    "accelerator": "GPU",
    "gpuClass": "standard"
  },
  "cells": [
    {
      "cell_type": "markdown",
      "source": [
        "# Natural language processing\n",
        "BBC-text classifier "
      ],
      "metadata": {
        "id": "O3YeS5KFqxY3"
      }
    },
    {
      "cell_type": "markdown",
      "source": [
        "## Importing Module"
      ],
      "metadata": {
        "id": "XE-p1YPwq3kH"
      }
    },
    {
      "cell_type": "code",
      "execution_count": 1,
      "metadata": {
        "colab": {
          "base_uri": "https://localhost:8080/"
        },
        "id": "Eqya7e-5quRq",
        "outputId": "283bf4d7-42d0-40ed-c732-2223162e331e"
      },
      "outputs": [
        {
          "output_type": "stream",
          "name": "stdout",
          "text": [
            "Tensorflow Version : 2.8.2\n"
          ]
        }
      ],
      "source": [
        "import numpy as np\n",
        "import pandas as pd\n",
        "\n",
        "import tensorflow as tf\n",
        "\n",
        "from matplotlib import pyplot as plt\n",
        "from keras.preprocessing.text import Tokenizer\n",
        "from keras.preprocessing.sequence import pad_sequences\n",
        "\n",
        "print(f'Tensorflow Version : {tf.__version__}')"
      ]
    },
    {
      "cell_type": "markdown",
      "source": [
        "## Problem\n",
        "- Build and train a classifier for the BBC-text dataset.\n",
        "- This is a multiclass classification problem.\n",
        "- Do not use lambda layers in your model.\n",
        "- The dataset used in this problem is originally published in: http://mlg.ucd.ie/datasets/bbc.html.\n",
        "- Desired accuracy and validation_accuracy > `91%`"
      ],
      "metadata": {
        "id": "o7gE0yezrKNH"
      }
    },
    {
      "cell_type": "markdown",
      "source": [
        "### Preparing data"
      ],
      "metadata": {
        "id": "xXkFgSyFrR7S"
      }
    },
    {
      "cell_type": "code",
      "source": [
        "bbc = pd.read_csv('https://github.com/dicodingacademy/assets/raw/main/Simulation/machine_learning/bbc-text.csv')"
      ],
      "metadata": {
        "id": "Fum1yE2cq_zB"
      },
      "execution_count": 2,
      "outputs": []
    },
    {
      "cell_type": "markdown",
      "source": [
        "#### Explore data"
      ],
      "metadata": {
        "id": "FquZycivrvVx"
      }
    },
    {
      "cell_type": "markdown",
      "source": [
        "Check data"
      ],
      "metadata": {
        "id": "rISS5YSRr11U"
      }
    },
    {
      "cell_type": "code",
      "source": [
        "print(f'Total Data : {bbc.shape[0]}')\n",
        "print(f'Total Columns : {bbc.shape[1]}\\n')"
      ],
      "metadata": {
        "colab": {
          "base_uri": "https://localhost:8080/"
        },
        "id": "6ntLwiKDrs7V",
        "outputId": "122bb123-8f49-4a5c-89a0-9edfe064adc2"
      },
      "execution_count": 3,
      "outputs": [
        {
          "output_type": "stream",
          "name": "stdout",
          "text": [
            "Total Data : 2225\n",
            "Total Columns : 2\n",
            "\n"
          ]
        }
      ]
    },
    {
      "cell_type": "markdown",
      "source": [
        "First 10 text from data"
      ],
      "metadata": {
        "id": "mr05KOmU-boh"
      }
    },
    {
      "cell_type": "code",
      "source": [
        "bbc.head(10)"
      ],
      "metadata": {
        "colab": {
          "base_uri": "https://localhost:8080/",
          "height": 0
        },
        "id": "1i9dD_Bi-ZMW",
        "outputId": "1860b538-ce41-482c-bdda-4b159f9888b5"
      },
      "execution_count": 4,
      "outputs": [
        {
          "output_type": "execute_result",
          "data": {
            "text/plain": [
              "        category                                               text\n",
              "0           tech  tv future in the hands of viewers with home th...\n",
              "1       business  worldcom boss  left books alone  former worldc...\n",
              "2          sport  tigers wary of farrell  gamble  leicester say ...\n",
              "3          sport  yeading face newcastle in fa cup premiership s...\n",
              "4  entertainment  ocean s twelve raids box office ocean s twelve...\n",
              "5       politics  howard hits back at mongrel jibe michael howar...\n",
              "6       politics  blair prepares to name poll date tony blair is...\n",
              "7          sport  henman hopes ended in dubai third seed tim hen...\n",
              "8          sport  wilkinson fit to face edinburgh england captai...\n",
              "9  entertainment  last star wars  not for children  the sixth an..."
            ],
            "text/html": [
              "\n",
              "  <div id=\"df-fa160930-a49f-4d9f-8f9c-35fb263d6afc\">\n",
              "    <div class=\"colab-df-container\">\n",
              "      <div>\n",
              "<style scoped>\n",
              "    .dataframe tbody tr th:only-of-type {\n",
              "        vertical-align: middle;\n",
              "    }\n",
              "\n",
              "    .dataframe tbody tr th {\n",
              "        vertical-align: top;\n",
              "    }\n",
              "\n",
              "    .dataframe thead th {\n",
              "        text-align: right;\n",
              "    }\n",
              "</style>\n",
              "<table border=\"1\" class=\"dataframe\">\n",
              "  <thead>\n",
              "    <tr style=\"text-align: right;\">\n",
              "      <th></th>\n",
              "      <th>category</th>\n",
              "      <th>text</th>\n",
              "    </tr>\n",
              "  </thead>\n",
              "  <tbody>\n",
              "    <tr>\n",
              "      <th>0</th>\n",
              "      <td>tech</td>\n",
              "      <td>tv future in the hands of viewers with home th...</td>\n",
              "    </tr>\n",
              "    <tr>\n",
              "      <th>1</th>\n",
              "      <td>business</td>\n",
              "      <td>worldcom boss  left books alone  former worldc...</td>\n",
              "    </tr>\n",
              "    <tr>\n",
              "      <th>2</th>\n",
              "      <td>sport</td>\n",
              "      <td>tigers wary of farrell  gamble  leicester say ...</td>\n",
              "    </tr>\n",
              "    <tr>\n",
              "      <th>3</th>\n",
              "      <td>sport</td>\n",
              "      <td>yeading face newcastle in fa cup premiership s...</td>\n",
              "    </tr>\n",
              "    <tr>\n",
              "      <th>4</th>\n",
              "      <td>entertainment</td>\n",
              "      <td>ocean s twelve raids box office ocean s twelve...</td>\n",
              "    </tr>\n",
              "    <tr>\n",
              "      <th>5</th>\n",
              "      <td>politics</td>\n",
              "      <td>howard hits back at mongrel jibe michael howar...</td>\n",
              "    </tr>\n",
              "    <tr>\n",
              "      <th>6</th>\n",
              "      <td>politics</td>\n",
              "      <td>blair prepares to name poll date tony blair is...</td>\n",
              "    </tr>\n",
              "    <tr>\n",
              "      <th>7</th>\n",
              "      <td>sport</td>\n",
              "      <td>henman hopes ended in dubai third seed tim hen...</td>\n",
              "    </tr>\n",
              "    <tr>\n",
              "      <th>8</th>\n",
              "      <td>sport</td>\n",
              "      <td>wilkinson fit to face edinburgh england captai...</td>\n",
              "    </tr>\n",
              "    <tr>\n",
              "      <th>9</th>\n",
              "      <td>entertainment</td>\n",
              "      <td>last star wars  not for children  the sixth an...</td>\n",
              "    </tr>\n",
              "  </tbody>\n",
              "</table>\n",
              "</div>\n",
              "      <button class=\"colab-df-convert\" onclick=\"convertToInteractive('df-fa160930-a49f-4d9f-8f9c-35fb263d6afc')\"\n",
              "              title=\"Convert this dataframe to an interactive table.\"\n",
              "              style=\"display:none;\">\n",
              "        \n",
              "  <svg xmlns=\"http://www.w3.org/2000/svg\" height=\"24px\"viewBox=\"0 0 24 24\"\n",
              "       width=\"24px\">\n",
              "    <path d=\"M0 0h24v24H0V0z\" fill=\"none\"/>\n",
              "    <path d=\"M18.56 5.44l.94 2.06.94-2.06 2.06-.94-2.06-.94-.94-2.06-.94 2.06-2.06.94zm-11 1L8.5 8.5l.94-2.06 2.06-.94-2.06-.94L8.5 2.5l-.94 2.06-2.06.94zm10 10l.94 2.06.94-2.06 2.06-.94-2.06-.94-.94-2.06-.94 2.06-2.06.94z\"/><path d=\"M17.41 7.96l-1.37-1.37c-.4-.4-.92-.59-1.43-.59-.52 0-1.04.2-1.43.59L10.3 9.45l-7.72 7.72c-.78.78-.78 2.05 0 2.83L4 21.41c.39.39.9.59 1.41.59.51 0 1.02-.2 1.41-.59l7.78-7.78 2.81-2.81c.8-.78.8-2.07 0-2.86zM5.41 20L4 18.59l7.72-7.72 1.47 1.35L5.41 20z\"/>\n",
              "  </svg>\n",
              "      </button>\n",
              "      \n",
              "  <style>\n",
              "    .colab-df-container {\n",
              "      display:flex;\n",
              "      flex-wrap:wrap;\n",
              "      gap: 12px;\n",
              "    }\n",
              "\n",
              "    .colab-df-convert {\n",
              "      background-color: #E8F0FE;\n",
              "      border: none;\n",
              "      border-radius: 50%;\n",
              "      cursor: pointer;\n",
              "      display: none;\n",
              "      fill: #1967D2;\n",
              "      height: 32px;\n",
              "      padding: 0 0 0 0;\n",
              "      width: 32px;\n",
              "    }\n",
              "\n",
              "    .colab-df-convert:hover {\n",
              "      background-color: #E2EBFA;\n",
              "      box-shadow: 0px 1px 2px rgba(60, 64, 67, 0.3), 0px 1px 3px 1px rgba(60, 64, 67, 0.15);\n",
              "      fill: #174EA6;\n",
              "    }\n",
              "\n",
              "    [theme=dark] .colab-df-convert {\n",
              "      background-color: #3B4455;\n",
              "      fill: #D2E3FC;\n",
              "    }\n",
              "\n",
              "    [theme=dark] .colab-df-convert:hover {\n",
              "      background-color: #434B5C;\n",
              "      box-shadow: 0px 1px 3px 1px rgba(0, 0, 0, 0.15);\n",
              "      filter: drop-shadow(0px 1px 2px rgba(0, 0, 0, 0.3));\n",
              "      fill: #FFFFFF;\n",
              "    }\n",
              "  </style>\n",
              "\n",
              "      <script>\n",
              "        const buttonEl =\n",
              "          document.querySelector('#df-fa160930-a49f-4d9f-8f9c-35fb263d6afc button.colab-df-convert');\n",
              "        buttonEl.style.display =\n",
              "          google.colab.kernel.accessAllowed ? 'block' : 'none';\n",
              "\n",
              "        async function convertToInteractive(key) {\n",
              "          const element = document.querySelector('#df-fa160930-a49f-4d9f-8f9c-35fb263d6afc');\n",
              "          const dataTable =\n",
              "            await google.colab.kernel.invokeFunction('convertToInteractive',\n",
              "                                                     [key], {});\n",
              "          if (!dataTable) return;\n",
              "\n",
              "          const docLinkHtml = 'Like what you see? Visit the ' +\n",
              "            '<a target=\"_blank\" href=https://colab.research.google.com/notebooks/data_table.ipynb>data table notebook</a>'\n",
              "            + ' to learn more about interactive tables.';\n",
              "          element.innerHTML = '';\n",
              "          dataTable['output_type'] = 'display_data';\n",
              "          await google.colab.output.renderOutput(dataTable, element);\n",
              "          const docLink = document.createElement('div');\n",
              "          docLink.innerHTML = docLinkHtml;\n",
              "          element.appendChild(docLink);\n",
              "        }\n",
              "      </script>\n",
              "    </div>\n",
              "  </div>\n",
              "  "
            ]
          },
          "metadata": {},
          "execution_count": 4
        }
      ]
    },
    {
      "cell_type": "markdown",
      "source": [
        "More information about data"
      ],
      "metadata": {
        "id": "GbLdtVDN-lBW"
      }
    },
    {
      "cell_type": "code",
      "source": [
        "bbc.info()"
      ],
      "metadata": {
        "colab": {
          "base_uri": "https://localhost:8080/"
        },
        "id": "bdZDIp_f-ijf",
        "outputId": "8bbdb95b-0df9-46bd-f637-e76d2206d621"
      },
      "execution_count": 5,
      "outputs": [
        {
          "output_type": "stream",
          "name": "stdout",
          "text": [
            "<class 'pandas.core.frame.DataFrame'>\n",
            "RangeIndex: 2225 entries, 0 to 2224\n",
            "Data columns (total 2 columns):\n",
            " #   Column    Non-Null Count  Dtype \n",
            "---  ------    --------------  ----- \n",
            " 0   category  2225 non-null   object\n",
            " 1   text      2225 non-null   object\n",
            "dtypes: object(2)\n",
            "memory usage: 34.9+ KB\n"
          ]
        }
      ]
    },
    {
      "cell_type": "markdown",
      "source": [
        "Visualize Category "
      ],
      "metadata": {
        "id": "ntnt2OWc_CZn"
      }
    },
    {
      "cell_type": "code",
      "source": [
        "bbc['category'].value_counts().plot(kind='bar', figsize=(10,8), rot=0, title='Category')\n",
        "plt.show()"
      ],
      "metadata": {
        "colab": {
          "base_uri": "https://localhost:8080/",
          "height": 0
        },
        "id": "S_2jM_W1-rAI",
        "outputId": "61b2f0ba-d3c5-45d8-9230-31d403da7475"
      },
      "execution_count": 6,
      "outputs": [
        {
          "output_type": "display_data",
          "data": {
            "text/plain": [
              "<Figure size 720x576 with 1 Axes>"
            ],
            "image/png": "[encoded data removed]"
          },
          "metadata": {
            "needs_background": "light"
          }
        }
      ]
    },
    {
      "cell_type": "markdown",
      "source": [
        "### Preparing Model"
      ],
      "metadata": {
        "id": "I8lRdjwWsv2K"
      }
    },
    {
      "cell_type": "markdown",
      "source": [
        "Set Paramters"
      ],
      "metadata": {
        "id": "Pdq6niA5syc6"
      }
    },
    {
      "cell_type": "code",
      "source": [
        "vocab_size = 1000\n",
        "embedding_dim = 16\n",
        "max_length = 120\n",
        "trunc_type = 'post'\n",
        "padding_type = 'post'\n",
        "oov_tok = \"<OOV>\"\n",
        "\n",
        "training_portion = .8"
      ],
      "metadata": {
        "id": "9K4Xh3Kusrwn"
      },
      "execution_count": 7,
      "outputs": []
    },
    {
      "cell_type": "markdown",
      "source": [
        "#### Remove stopwords from text"
      ],
      "metadata": {
        "id": "OWZFWDCc_nTp"
      }
    },
    {
      "cell_type": "code",
      "source": [
        "stopwords = [\"a\", \"about\", \"above\", \"after\", \"again\", \"against\", \"all\", \"am\", \n",
        "             \"an\", \"and\", \"any\", \"are\", \"as\", \"at\", \"be\", \"because\", \"been\", \n",
        "             \"before\", \"being\", \"below\", \"between\", \"both\", \"but\", \"by\", \"could\"\n",
        "             , \"did\", \"do\", \"does\", \"doing\", \"down\", \"during\", \"each\", \"few\", \n",
        "             \"for\", \"from\", \"further\", \"had\", \"has\", \"have\", \"having\", \"he\", \n",
        "             \"he'd\", \"he'll\", \"he's\", \"her\", \"here\", \"here's\", \"hers\", \n",
        "             \"herself\", \"him\", \"himself\", \"his\", \"how\", \"how's\", \"i\", \"i'd\", \n",
        "             \"i'll\", \"i'm\", \"i've\", \"if\", \"in\", \"into\", \"is\", \"it\", \"it's\", \n",
        "             \"its\", \"itself\", \"let's\", \"me\", \"more\", \"most\", \"my\", \"myself\", \n",
        "             \"nor\", \"of\", \"on\", \"once\", \"only\", \"or\", \"other\", \"ought\", \"our\", \n",
        "             \"ours\", \"ourselves\", \"out\", \"over\", \"own\", \"same\", \"she\", \"she'd\", \n",
        "             \"she'll\", \"she's\", \"should\", \"so\", \"some\", \"such\", \"than\", \"that\", \n",
        "             \"that's\", \"the\", \"their\", \"theirs\", \"them\", \"themselves\", \"then\", \n",
        "             \"there\", \"there's\", \"these\", \"they\", \"they'd\", \"they'll\", \n",
        "             \"they're\", \"they've\", \"this\", \"those\", \"through\", \"to\", \"too\", \n",
        "             \"under\", \"until\", \"up\", \"very\", \"was\", \"we\", \"we'd\", \"we'll\", \n",
        "             \"we're\", \"we've\", \"were\", \"what\", \"what's\", \"when\", \"when's\", \n",
        "             \"where\", \"where's\", \"which\", \"while\", \"who\", \"who's\", \"whom\", \n",
        "             \"why\", \"why's\", \"with\", \"would\", \"you\", \"you'd\", \"you'll\", \n",
        "             \"you're\", \"you've\", \"your\", \"yours\", \"yourself\", \"yourselves\" ]\n",
        "\n",
        "bbc['new_text'] = bbc['text'].apply((lambda x: ' '.join([word for word in x.split() if word not in (stopwords)])))"
      ],
      "metadata": {
        "id": "xQ7np10y_WSw"
      },
      "execution_count": 8,
      "outputs": []
    },
    {
      "cell_type": "code",
      "source": [
        "bbc.head(10)"
      ],
      "metadata": {
        "colab": {
          "base_uri": "https://localhost:8080/",
          "height": 0
        },
        "id": "7imJZ7vHDxy8",
        "outputId": "03caab10-5c7b-4380-98c5-e5a93c801f03"
      },
      "execution_count": 9,
      "outputs": [
        {
          "output_type": "execute_result",
          "data": {
            "text/plain": [
              "        category                                               text  \\\n",
              "0           tech  tv future in the hands of viewers with home th...   \n",
              "1       business  worldcom boss  left books alone  former worldc...   \n",
              "2          sport  tigers wary of farrell  gamble  leicester say ...   \n",
              "3          sport  yeading face newcastle in fa cup premiership s...   \n",
              "4  entertainment  ocean s twelve raids box office ocean s twelve...   \n",
              "5       politics  howard hits back at mongrel jibe michael howar...   \n",
              "6       politics  blair prepares to name poll date tony blair is...   \n",
              "7          sport  henman hopes ended in dubai third seed tim hen...   \n",
              "8          sport  wilkinson fit to face edinburgh england captai...   \n",
              "9  entertainment  last star wars  not for children  the sixth an...   \n",
              "\n",
              "                                            new_text  \n",
              "0  tv future hands viewers home theatre systems p...  \n",
              "1  worldcom boss left books alone former worldcom...  \n",
              "2  tigers wary farrell gamble leicester say will ...  \n",
              "3  yeading face newcastle fa cup premiership side...  \n",
              "4  ocean s twelve raids box office ocean s twelve...  \n",
              "5  howard hits back mongrel jibe michael howard s...  \n",
              "6  blair prepares name poll date tony blair likel...  \n",
              "7  henman hopes ended dubai third seed tim henman...  \n",
              "8  wilkinson fit face edinburgh england captain j...  \n",
              "9  last star wars not children sixth final star w...  "
            ],
            "text/html": [
              "\n",
              "  <div id=\"df-cadc95c7-0640-4a86-b5a8-695662578ad6\">\n",
              "    <div class=\"colab-df-container\">\n",
              "      <div>\n",
              "<style scoped>\n",
              "    .dataframe tbody tr th:only-of-type {\n",
              "        vertical-align: middle;\n",
              "    }\n",
              "\n",
              "    .dataframe tbody tr th {\n",
              "        vertical-align: top;\n",
              "    }\n",
              "\n",
              "    .dataframe thead th {\n",
              "        text-align: right;\n",
              "    }\n",
              "</style>\n",
              "<table border=\"1\" class=\"dataframe\">\n",
              "  <thead>\n",
              "    <tr style=\"text-align: right;\">\n",
              "      <th></th>\n",
              "      <th>category</th>\n",
              "      <th>text</th>\n",
              "      <th>new_text</th>\n",
              "    </tr>\n",
              "  </thead>\n",
              "  <tbody>\n",
              "    <tr>\n",
              "      <th>0</th>\n",
              "      <td>tech</td>\n",
              "      <td>tv future in the hands of viewers with home th...</td>\n",
              "      <td>tv future hands viewers home theatre systems p...</td>\n",
              "    </tr>\n",
              "    <tr>\n",
              "      <th>1</th>\n",
              "      <td>business</td>\n",
              "      <td>worldcom boss  left books alone  former worldc...</td>\n",
              "      <td>worldcom boss left books alone former worldcom...</td>\n",
              "    </tr>\n",
              "    <tr>\n",
              "      <th>2</th>\n",
              "      <td>sport</td>\n",
              "      <td>tigers wary of farrell  gamble  leicester say ...</td>\n",
              "      <td>tigers wary farrell gamble leicester say will ...</td>\n",
              "    </tr>\n",
              "    <tr>\n",
              "      <th>3</th>\n",
              "      <td>sport</td>\n",
              "      <td>yeading face newcastle in fa cup premiership s...</td>\n",
              "      <td>yeading face newcastle fa cup premiership side...</td>\n",
              "    </tr>\n",
              "    <tr>\n",
              "      <th>4</th>\n",
              "      <td>entertainment</td>\n",
              "      <td>ocean s twelve raids box office ocean s twelve...</td>\n",
              "      <td>ocean s twelve raids box office ocean s twelve...</td>\n",
              "    </tr>\n",
              "    <tr>\n",
              "      <th>5</th>\n",
              "      <td>politics</td>\n",
              "      <td>howard hits back at mongrel jibe michael howar...</td>\n",
              "      <td>howard hits back mongrel jibe michael howard s...</td>\n",
              "    </tr>\n",
              "    <tr>\n",
              "      <th>6</th>\n",
              "      <td>politics</td>\n",
              "      <td>blair prepares to name poll date tony blair is...</td>\n",
              "      <td>blair prepares name poll date tony blair likel...</td>\n",
              "    </tr>\n",
              "    <tr>\n",
              "      <th>7</th>\n",
              "      <td>sport</td>\n",
              "      <td>henman hopes ended in dubai third seed tim hen...</td>\n",
              "      <td>henman hopes ended dubai third seed tim henman...</td>\n",
              "    </tr>\n",
              "    <tr>\n",
              "      <th>8</th>\n",
              "      <td>sport</td>\n",
              "      <td>wilkinson fit to face edinburgh england captai...</td>\n",
              "      <td>wilkinson fit face edinburgh england captain j...</td>\n",
              "    </tr>\n",
              "    <tr>\n",
              "      <th>9</th>\n",
              "      <td>entertainment</td>\n",
              "      <td>last star wars  not for children  the sixth an...</td>\n",
              "      <td>last star wars not children sixth final star w...</td>\n",
              "    </tr>\n",
              "  </tbody>\n",
              "</table>\n",
              "</div>\n",
              "      <button class=\"colab-df-convert\" onclick=\"convertToInteractive('df-cadc95c7-0640-4a86-b5a8-695662578ad6')\"\n",
              "              title=\"Convert this dataframe to an interactive table.\"\n",
              "              style=\"display:none;\">\n",
              "        \n",
              "  <svg xmlns=\"http://www.w3.org/2000/svg\" height=\"24px\"viewBox=\"0 0 24 24\"\n",
              "       width=\"24px\">\n",
              "    <path d=\"M0 0h24v24H0V0z\" fill=\"none\"/>\n",
              "    <path d=\"M18.56 5.44l.94 2.06.94-2.06 2.06-.94-2.06-.94-.94-2.06-.94 2.06-2.06.94zm-11 1L8.5 8.5l.94-2.06 2.06-.94-2.06-.94L8.5 2.5l-.94 2.06-2.06.94zm10 10l.94 2.06.94-2.06 2.06-.94-2.06-.94-.94-2.06-.94 2.06-2.06.94z\"/><path d=\"M17.41 7.96l-1.37-1.37c-.4-.4-.92-.59-1.43-.59-.52 0-1.04.2-1.43.59L10.3 9.45l-7.72 7.72c-.78.78-.78 2.05 0 2.83L4 21.41c.39.39.9.59 1.41.59.51 0 1.02-.2 1.41-.59l7.78-7.78 2.81-2.81c.8-.78.8-2.07 0-2.86zM5.41 20L4 18.59l7.72-7.72 1.47 1.35L5.41 20z\"/>\n",
              "  </svg>\n",
              "      </button>\n",
              "      \n",
              "  <style>\n",
              "    .colab-df-container {\n",
              "      display:flex;\n",
              "      flex-wrap:wrap;\n",
              "      gap: 12px;\n",
              "    }\n",
              "\n",
              "    .colab-df-convert {\n",
              "      background-color: #E8F0FE;\n",
              "      border: none;\n",
              "      border-radius: 50%;\n",
              "      cursor: pointer;\n",
              "      display: none;\n",
              "      fill: #1967D2;\n",
              "      height: 32px;\n",
              "      padding: 0 0 0 0;\n",
              "      width: 32px;\n",
              "    }\n",
              "\n",
              "    .colab-df-convert:hover {\n",
              "      background-color: #E2EBFA;\n",
              "      box-shadow: 0px 1px 2px rgba(60, 64, 67, 0.3), 0px 1px 3px 1px rgba(60, 64, 67, 0.15);\n",
              "      fill: #174EA6;\n",
              "    }\n",
              "\n",
              "    [theme=dark] .colab-df-convert {\n",
              "      background-color: #3B4455;\n",
              "      fill: #D2E3FC;\n",
              "    }\n",
              "\n",
              "    [theme=dark] .colab-df-convert:hover {\n",
              "      background-color: #434B5C;\n",
              "      box-shadow: 0px 1px 3px 1px rgba(0, 0, 0, 0.15);\n",
              "      filter: drop-shadow(0px 1px 2px rgba(0, 0, 0, 0.3));\n",
              "      fill: #FFFFFF;\n",
              "    }\n",
              "  </style>\n",
              "\n",
              "      <script>\n",
              "        const buttonEl =\n",
              "          document.querySelector('#df-cadc95c7-0640-4a86-b5a8-695662578ad6 button.colab-df-convert');\n",
              "        buttonEl.style.display =\n",
              "          google.colab.kernel.accessAllowed ? 'block' : 'none';\n",
              "\n",
              "        async function convertToInteractive(key) {\n",
              "          const element = document.querySelector('#df-cadc95c7-0640-4a86-b5a8-695662578ad6');\n",
              "          const dataTable =\n",
              "            await google.colab.kernel.invokeFunction('convertToInteractive',\n",
              "                                                     [key], {});\n",
              "          if (!dataTable) return;\n",
              "\n",
              "          const docLinkHtml = 'Like what you see? Visit the ' +\n",
              "            '<a target=\"_blank\" href=https://colab.research.google.com/notebooks/data_table.ipynb>data table notebook</a>'\n",
              "            + ' to learn more about interactive tables.';\n",
              "          element.innerHTML = '';\n",
              "          dataTable['output_type'] = 'display_data';\n",
              "          await google.colab.output.renderOutput(dataTable, element);\n",
              "          const docLink = document.createElement('div');\n",
              "          docLink.innerHTML = docLinkHtml;\n",
              "          element.appendChild(docLink);\n",
              "        }\n",
              "      </script>\n",
              "    </div>\n",
              "  </div>\n",
              "  "
            ]
          },
          "metadata": {},
          "execution_count": 9
        }
      ]
    },
    {
      "cell_type": "markdown",
      "source": [
        "#### Split Data"
      ],
      "metadata": {
        "id": "QActvNyPEFTB"
      }
    },
    {
      "cell_type": "code",
      "source": [
        "def train_val_split(sentences, labels, training_split):\n",
        "  \"\"\"\n",
        "  Splits the dataset into training and validation sets\n",
        "    \n",
        "  Args:\n",
        "      sentences (list of string): lower-cased sentences without stopwords\n",
        "      labels (list of string): list of labels\n",
        "      training split (float): proportion of the dataset to convert to include in the train set\n",
        "    \n",
        "  Returns:\n",
        "      train_sentences, validation_sentences, train_labels, validation_labels - lists containing the data splits\n",
        "  \"\"\"\n",
        "\n",
        "  # Compute the number of sentences that will be used for training (should be an integer)\n",
        "  train_size = int(len(sentences)*training_split)\n",
        "\n",
        "  # Split the sentences and labels into train/validation splits\n",
        "  train_sentences = sentences[:train_size]\n",
        "  train_labels = labels[:train_size]\n",
        "\n",
        "  validation_sentences = sentences[train_size:]\n",
        "  validation_labels = labels[train_size:]\n",
        "    \n",
        "    \n",
        "  return train_sentences, validation_sentences, train_labels, validation_labels"
      ],
      "metadata": {
        "id": "sSA-sxw-EHSI"
      },
      "execution_count": 10,
      "outputs": []
    },
    {
      "cell_type": "code",
      "source": [
        "sentences = bbc['new_text']\n",
        "labels = bbc['category']\n",
        "\n",
        "train_sentences, val_sentences, train_labels, val_labels = train_val_split(sentences, labels, training_portion)\n",
        "\n",
        "print(f\"There are {len(train_sentences)} sentences for training.\\n\")\n",
        "print(f\"There are {len(train_labels)} labels for training.\\n\")\n",
        "print(f\"There are {len(val_sentences)} sentences for validation.\\n\")\n",
        "print(f\"There are {len(val_labels)} labels for validation.\")"
      ],
      "metadata": {
        "colab": {
          "base_uri": "https://localhost:8080/"
        },
        "id": "V3WNf28jEiHJ",
        "outputId": "b04caeee-35e7-41db-a966-2bdd98c00f42"
      },
      "execution_count": 11,
      "outputs": [
        {
          "output_type": "stream",
          "name": "stdout",
          "text": [
            "There are 1780 sentences for training.\n",
            "\n",
            "There are 1780 labels for training.\n",
            "\n",
            "There are 445 sentences for validation.\n",
            "\n",
            "There are 445 labels for validation.\n"
          ]
        }
      ]
    },
    {
      "cell_type": "markdown",
      "source": [
        "#### Tokenizer"
      ],
      "metadata": {
        "id": "sOY1Rj00t2ym"
      }
    },
    {
      "cell_type": "code",
      "source": [
        "def fit_tokenizer(sentences, num_words, oov_token):\n",
        "  \"\"\"\n",
        "  Instantiates the Tokenizer class on the training sentences\n",
        "    \n",
        "  Args:\n",
        "      sentences (list of string): lower-cased sentences without stopwords to be used for training\n",
        "      num_words (int) - number of words to keep when tokenizing\n",
        "      oov_token (string) - symbol for the out-of-vocabulary token\n",
        "    \n",
        "  Returns:\n",
        "      tokenizer (object): an instance of the Tokenizer class containing the word-index dictionary\n",
        "  \"\"\"\n",
        "  # Instantiate the Tokenizer class, passing in the correct values for num_words and oov_token\n",
        "  tokenizer = Tokenizer(num_words=num_words, oov_token=oov_token)\n",
        "\n",
        "   # Fit the tokenizer to the training sentences\n",
        "  tokenizer.fit_on_texts(sentences)\n",
        "  \n",
        "  return tokenizer"
      ],
      "metadata": {
        "id": "r-9pyBF4s2ac"
      },
      "execution_count": 12,
      "outputs": []
    },
    {
      "cell_type": "code",
      "source": [
        "tokenizer = fit_tokenizer(train_sentences, vocab_size, oov_tok)\n",
        "word_index = tokenizer.word_index\n",
        "\n",
        "print(f\"Vocabulary contains {len(word_index)} words\\n\")\n",
        "print(\"<OOV> token included in vocabulary\" if \"<OOV>\" in word_index else \"<OOV> token NOT included in vocabulary\")"
      ],
      "metadata": {
        "colab": {
          "base_uri": "https://localhost:8080/"
        },
        "id": "oemN_CMFvRBB",
        "outputId": "3bcbba5f-a4d7-49f2-d141-563d945604a0"
      },
      "execution_count": 13,
      "outputs": [
        {
          "output_type": "stream",
          "name": "stdout",
          "text": [
            "Vocabulary contains 27285 words\n",
            "\n",
            "<OOV> token included in vocabulary\n"
          ]
        }
      ]
    },
    {
      "cell_type": "markdown",
      "source": [
        "Tokenizer Labels"
      ],
      "metadata": {
        "id": "cQIjdg9NFABL"
      }
    },
    {
      "cell_type": "code",
      "source": [
        "def tokenize_labels(all_labels, split_labels):\n",
        "  \"\"\"\n",
        "  Tokenizes the labels\n",
        "    \n",
        "  Args:\n",
        "      all_labels (list of string): labels to generate the word-index from\n",
        "      split_labels (list of string): labels to tokenize\n",
        "    \n",
        "  Returns:\n",
        "      label_seq_np (array of int): tokenized labels\n",
        "  \"\"\"\n",
        "\n",
        "  # Instantiate the Tokenizer (no additional arguments needed)\n",
        "  label_tokenizer = Tokenizer()\n",
        "    \n",
        "  # Fit the tokenizer on all the labels\n",
        "  label_tokenizer.fit_on_texts(all_labels)\n",
        "    \n",
        "  # Convert labels to sequences\n",
        "  label_seq = label_tokenizer.texts_to_sequences(split_labels)\n",
        "    \n",
        "  # Convert sequences to a numpy array. Don't forget to substact 1 from every entry in the array!\n",
        "  label_seq_np = np.array(label_seq) - 1\n",
        "    \n",
        "  return label_seq_np"
      ],
      "metadata": {
        "id": "TZo4mPk1FBQa"
      },
      "execution_count": 14,
      "outputs": []
    },
    {
      "cell_type": "code",
      "source": [
        "train_label_seq = tokenize_labels(labels, train_labels)\n",
        "test_label_seq = tokenize_labels(labels, val_labels)"
      ],
      "metadata": {
        "id": "agsDUd9LFaj7"
      },
      "execution_count": 15,
      "outputs": []
    },
    {
      "cell_type": "markdown",
      "source": [
        "#### Convert text to Sequence and Add Padding"
      ],
      "metadata": {
        "id": "_4Fo-vo3v4Ur"
      }
    },
    {
      "cell_type": "code",
      "source": [
        "def seq_and_pad(sentences, tokenizer, maxlen, padding='pre', truncating='pre'):\n",
        "  \"\"\"\n",
        "  Generates an array of token sequences and pads them to the same length\n",
        "    \n",
        "  Args:\n",
        "      sentences (list of string): list of sentences to tokenize and pad\n",
        "      tokenizer (object): Tokenizer instance containing the word-index dictionary\n",
        "      padding (string): type of padding to use\n",
        "      maxlen (int): maximum length of the token sequence\n",
        "    \n",
        "  Returns:\n",
        "      padded_sequences (array of int): tokenized sentences padded to the same length\n",
        "  \"\"\"  \n",
        "  # Convert sentences to sequences\n",
        "  sequences = tokenizer.texts_to_sequences(sentences)\n",
        "    \n",
        "  # Pad the sequences using the correct padding and maxlen\n",
        "  padded_sequences = pad_sequences(sequences, \n",
        "                                   maxlen=maxlen, \n",
        "                                   padding=padding,\n",
        "                                   truncating=truncating)\n",
        "\n",
        "  return padded_sequences"
      ],
      "metadata": {
        "id": "mfpAsGq7vzDy"
      },
      "execution_count": 16,
      "outputs": []
    },
    {
      "cell_type": "code",
      "source": [
        "train_padded_seq = seq_and_pad(train_sentences, tokenizer, max_length, padding=padding_type, truncating=trunc_type)\n",
        "test_padded_seq = seq_and_pad(val_sentences, tokenizer, max_length, truncating=trunc_type)\n",
        "\n",
        "print(f\"Padded training sequences have shape: {train_padded_seq.shape}\\n\")\n",
        "print(f\"Padded validation sequences have shape: {test_padded_seq.shape}\")"
      ],
      "metadata": {
        "colab": {
          "base_uri": "https://localhost:8080/"
        },
        "id": "cnA8IMA4xNdV",
        "outputId": "9ee5856c-7bad-42ca-d80d-f18fc0f5009a"
      },
      "execution_count": 25,
      "outputs": [
        {
          "output_type": "stream",
          "name": "stdout",
          "text": [
            "Padded training sequences have shape: (1780, 120)\n",
            "\n",
            "Padded validation sequences have shape: (445, 120)\n"
          ]
        }
      ]
    },
    {
      "cell_type": "markdown",
      "source": [
        "#### Build Model"
      ],
      "metadata": {
        "id": "hMNgpSBHyUAW"
      }
    },
    {
      "cell_type": "code",
      "source": [
        "def build_model(num_words, embedding_dim, maxlen):\n",
        "  \"\"\"\n",
        "  Creates a text classifier model\n",
        "    \n",
        "  Args:\n",
        "      num_words (int): size of the vocabulary for the Embedding layer input\n",
        "      embedding_dim (int): dimensionality of the Embedding layer output\n",
        "      maxlen (int): length of the input sequences\n",
        "    \n",
        "  Returns:\n",
        "      model (tf.keras Model): the text classifier model\n",
        "  \"\"\"\n",
        "\n",
        "  # Define Params  \n",
        "  lr = 1e-3\n",
        "  adam = tf.keras.optimizers.Adam(learning_rate=lr) # Optimizer\n",
        "  losses = tf.keras.losses.SparseCategoricalCrossentropy()\n",
        "\n",
        "  # Define Activation Function\n",
        "  relu = tf.nn.relu\n",
        "  softmax = tf.nn.softmax\n",
        "\n",
        "  # Define model sequential\n",
        "  model = tf.keras.Sequential()\n",
        "\n",
        "  # Define layer for Embedding text\n",
        "  model.add(tf.keras.layers.Embedding(num_words, embedding_dim, input_length=maxlen))\n",
        "\n",
        "  # Flatten layers and add Dropout\n",
        "  model.add(tf.keras.layers.GlobalAveragePooling1D())\n",
        "  model.add(tf.keras.layers.Dropout(0.4))\n",
        "\n",
        "  # Define fully connected layers\n",
        "  model.add(tf.keras.layers.Dense(24, activation=relu))\n",
        "  model.add(tf.keras.layers.Dense(5, activation=softmax))\n",
        "\n",
        "  # Compile model\n",
        "  model.compile(optimizer=adam, loss=losses, metrics=['accuracy'])\n",
        "\n",
        "  # Check Summary Model\n",
        "  model.summary()\n",
        "\n",
        "  print('\\nModel Succesfully Create')\n",
        "  \n",
        "  return model"
      ],
      "metadata": {
        "id": "yDBEc9m1xZ44"
      },
      "execution_count": 18,
      "outputs": []
    },
    {
      "cell_type": "markdown",
      "source": [
        "#### Define Callbacks"
      ],
      "metadata": {
        "id": "KRzgj4tAzf_J"
      }
    },
    {
      "cell_type": "code",
      "source": [
        "model_checkpoint = tf.keras.callbacks.ModelCheckpoint(\"model.h5\", \n",
        "                                                      monitor=\"val_accuracy\",\n",
        "                                                      save_best_only=True,\n",
        "                                                      verbose=1)\n",
        "\n",
        "early_stopping = tf.keras.callbacks.EarlyStopping(monitor=\"val_accuracy\", \n",
        "                                                  patience=8, \n",
        "                                                  mode =\"max\", \n",
        "                                                  verbose=2, \n",
        "                                                  restore_best_weights=True)"
      ],
      "metadata": {
        "id": "KweSgvqAzcT5"
      },
      "execution_count": 19,
      "outputs": []
    },
    {
      "cell_type": "markdown",
      "source": [
        "### Train Model"
      ],
      "metadata": {
        "id": "oh2UKY1dzjEA"
      }
    },
    {
      "cell_type": "code",
      "source": [
        "model = build_model(vocab_size, embedding_dim, max_length)"
      ],
      "metadata": {
        "colab": {
          "base_uri": "https://localhost:8080/"
        },
        "id": "ttjLKdFAziQB",
        "outputId": "510688b7-a1f0-4fa8-d806-0b9ab3d662c8"
      },
      "execution_count": 26,
      "outputs": [
        {
          "output_type": "stream",
          "name": "stdout",
          "text": [
            "Model: \"sequential_1\"\n",
            "_________________________________________________________________\n",
            " Layer (type)                Output Shape              Param #   \n",
            "=================================================================\n",
            " embedding_1 (Embedding)     (None, 120, 16)           16000     \n",
            "                                                                 \n",
            " global_average_pooling1d_1   (None, 16)               0         \n",
            " (GlobalAveragePooling1D)                                        \n",
            "                                                                 \n",
            " dropout_1 (Dropout)         (None, 16)                0         \n",
            "                                                                 \n",
            " dense_2 (Dense)             (None, 24)                408       \n",
            "                                                                 \n",
            " dense_3 (Dense)             (None, 5)                 125       \n",
            "                                                                 \n",
            "=================================================================\n",
            "Total params: 16,533\n",
            "Trainable params: 16,533\n",
            "Non-trainable params: 0\n",
            "_________________________________________________________________\n",
            "\n",
            "Model Succesfully Create\n"
          ]
        }
      ]
    },
    {
      "cell_type": "code",
      "source": [
        "history = model.fit(train_padded_seq, train_label_seq, \n",
        "                    epochs=30,\n",
        "                    validation_data=(test_padded_seq, test_label_seq),\n",
        "                    callbacks=[model_checkpoint, early_stopping])"
      ],
      "metadata": {
        "colab": {
          "base_uri": "https://localhost:8080/"
        },
        "id": "nYhBqR0Tzyhh",
        "outputId": "36883703-de4f-4d4d-883d-a66fb6dd6522"
      },
      "execution_count": 27,
      "outputs": [
        {
          "output_type": "stream",
          "name": "stdout",
          "text": [
            "Epoch 1/30\n",
            "48/56 [========================>.....] - ETA: 0s - loss: 1.6018 - accuracy: 0.2767\n",
            "Epoch 1: val_accuracy did not improve from 0.95281\n",
            "56/56 [==============================] - 1s 7ms/step - loss: 1.6003 - accuracy: 0.2865 - val_loss: 1.5872 - val_accuracy: 0.4517\n",
            "Epoch 2/30\n",
            "49/56 [=========================>....] - ETA: 0s - loss: 1.5654 - accuracy: 0.4203\n",
            "Epoch 2: val_accuracy did not improve from 0.95281\n",
            "56/56 [==============================] - 0s 4ms/step - loss: 1.5618 - accuracy: 0.4202 - val_loss: 1.5247 - val_accuracy: 0.4472\n",
            "Epoch 3/30\n",
            "47/56 [========================>.....] - ETA: 0s - loss: 1.4777 - accuracy: 0.4581\n",
            "Epoch 3: val_accuracy did not improve from 0.95281\n",
            "56/56 [==============================] - 0s 4ms/step - loss: 1.4652 - accuracy: 0.4618 - val_loss: 1.3901 - val_accuracy: 0.4899\n",
            "Epoch 4/30\n",
            "50/56 [=========================>....] - ETA: 0s - loss: 1.3014 - accuracy: 0.5688\n",
            "Epoch 4: val_accuracy did not improve from 0.95281\n",
            "56/56 [==============================] - 0s 4ms/step - loss: 1.2968 - accuracy: 0.5674 - val_loss: 1.1990 - val_accuracy: 0.6180\n",
            "Epoch 5/30\n",
            "43/56 [======================>.......] - ETA: 0s - loss: 1.1227 - accuracy: 0.6272\n",
            "Epoch 5: val_accuracy did not improve from 0.95281\n",
            "56/56 [==============================] - 0s 5ms/step - loss: 1.1071 - accuracy: 0.6292 - val_loss: 1.0201 - val_accuracy: 0.6764\n",
            "Epoch 6/30\n",
            "49/56 [=========================>....] - ETA: 0s - loss: 0.9424 - accuracy: 0.7168\n",
            "Epoch 6: val_accuracy did not improve from 0.95281\n",
            "56/56 [==============================] - 0s 4ms/step - loss: 0.9299 - accuracy: 0.7208 - val_loss: 0.8637 - val_accuracy: 0.7371\n",
            "Epoch 7/30\n",
            "47/56 [========================>.....] - ETA: 0s - loss: 0.7942 - accuracy: 0.7573\n",
            "Epoch 7: val_accuracy did not improve from 0.95281\n",
            "56/56 [==============================] - 0s 4ms/step - loss: 0.7875 - accuracy: 0.7629 - val_loss: 0.7412 - val_accuracy: 0.7371\n",
            "Epoch 8/30\n",
            "45/56 [=======================>......] - ETA: 0s - loss: 0.6853 - accuracy: 0.7785\n",
            "Epoch 8: val_accuracy did not improve from 0.95281\n",
            "56/56 [==============================] - 0s 4ms/step - loss: 0.6776 - accuracy: 0.7736 - val_loss: 0.6554 - val_accuracy: 0.7528\n",
            "Epoch 9/30\n",
            "47/56 [========================>.....] - ETA: 0s - loss: 0.6023 - accuracy: 0.8052\n",
            "Epoch 9: val_accuracy did not improve from 0.95281\n",
            "56/56 [==============================] - 0s 4ms/step - loss: 0.5979 - accuracy: 0.8073 - val_loss: 0.5954 - val_accuracy: 0.7708\n",
            "Epoch 10/30\n",
            "50/56 [=========================>....] - ETA: 0s - loss: 0.5428 - accuracy: 0.8131\n",
            "Epoch 10: val_accuracy did not improve from 0.95281\n",
            "56/56 [==============================] - 0s 5ms/step - loss: 0.5372 - accuracy: 0.8101 - val_loss: 0.5484 - val_accuracy: 0.7910\n",
            "Epoch 11/30\n",
            "47/56 [========================>.....] - ETA: 0s - loss: 0.4818 - accuracy: 0.8617\n",
            "Epoch 11: val_accuracy did not improve from 0.95281\n",
            "56/56 [==============================] - 0s 4ms/step - loss: 0.4818 - accuracy: 0.8562 - val_loss: 0.5120 - val_accuracy: 0.8112\n",
            "Epoch 12/30\n",
            "48/56 [========================>.....] - ETA: 0s - loss: 0.4553 - accuracy: 0.8704\n",
            "Epoch 12: val_accuracy did not improve from 0.95281\n",
            "56/56 [==============================] - 0s 4ms/step - loss: 0.4485 - accuracy: 0.8736 - val_loss: 0.4845 - val_accuracy: 0.8404\n",
            "Epoch 13/30\n",
            "48/56 [========================>.....] - ETA: 0s - loss: 0.4125 - accuracy: 0.8893\n",
            "Epoch 13: val_accuracy did not improve from 0.95281\n",
            "56/56 [==============================] - 0s 4ms/step - loss: 0.4108 - accuracy: 0.8944 - val_loss: 0.4574 - val_accuracy: 0.8562\n",
            "Epoch 14/30\n",
            "46/56 [=======================>......] - ETA: 0s - loss: 0.3885 - accuracy: 0.9137\n",
            "Epoch 14: val_accuracy did not improve from 0.95281\n",
            "56/56 [==============================] - 0s 5ms/step - loss: 0.3829 - accuracy: 0.9157 - val_loss: 0.4338 - val_accuracy: 0.8876\n",
            "Epoch 15/30\n",
            "46/56 [=======================>......] - ETA: 0s - loss: 0.3557 - accuracy: 0.9130\n",
            "Epoch 15: val_accuracy did not improve from 0.95281\n",
            "56/56 [==============================] - 0s 5ms/step - loss: 0.3567 - accuracy: 0.9180 - val_loss: 0.4114 - val_accuracy: 0.9034\n",
            "Epoch 16/30\n",
            "56/56 [==============================] - ETA: 0s - loss: 0.3183 - accuracy: 0.9331\n",
            "Epoch 16: val_accuracy did not improve from 0.95281\n",
            "56/56 [==============================] - 0s 5ms/step - loss: 0.3183 - accuracy: 0.9331 - val_loss: 0.3825 - val_accuracy: 0.9056\n",
            "Epoch 17/30\n",
            "47/56 [========================>.....] - ETA: 0s - loss: 0.2908 - accuracy: 0.9388\n",
            "Epoch 17: val_accuracy did not improve from 0.95281\n",
            "56/56 [==============================] - 0s 5ms/step - loss: 0.2894 - accuracy: 0.9416 - val_loss: 0.3444 - val_accuracy: 0.9079\n",
            "Epoch 18/30\n",
            "45/56 [=======================>......] - ETA: 0s - loss: 0.2487 - accuracy: 0.9569\n",
            "Epoch 18: val_accuracy did not improve from 0.95281\n",
            "56/56 [==============================] - 0s 4ms/step - loss: 0.2497 - accuracy: 0.9573 - val_loss: 0.3126 - val_accuracy: 0.9258\n",
            "Epoch 19/30\n",
            "56/56 [==============================] - ETA: 0s - loss: 0.2196 - accuracy: 0.9635\n",
            "Epoch 19: val_accuracy did not improve from 0.95281\n",
            "56/56 [==============================] - 0s 5ms/step - loss: 0.2196 - accuracy: 0.9635 - val_loss: 0.2858 - val_accuracy: 0.9281\n",
            "Epoch 20/30\n",
            "47/56 [========================>.....] - ETA: 0s - loss: 0.1865 - accuracy: 0.9734\n",
            "Epoch 20: val_accuracy did not improve from 0.95281\n",
            "56/56 [==============================] - 0s 4ms/step - loss: 0.1864 - accuracy: 0.9713 - val_loss: 0.2661 - val_accuracy: 0.9348\n",
            "Epoch 21/30\n",
            "48/56 [========================>.....] - ETA: 0s - loss: 0.1692 - accuracy: 0.9740\n",
            "Epoch 21: val_accuracy did not improve from 0.95281\n",
            "56/56 [==============================] - 0s 5ms/step - loss: 0.1701 - accuracy: 0.9719 - val_loss: 0.2481 - val_accuracy: 0.9348\n",
            "Epoch 22/30\n",
            "47/56 [========================>.....] - ETA: 0s - loss: 0.1453 - accuracy: 0.9827\n",
            "Epoch 22: val_accuracy did not improve from 0.95281\n",
            "56/56 [==============================] - 0s 5ms/step - loss: 0.1470 - accuracy: 0.9792 - val_loss: 0.2371 - val_accuracy: 0.9303\n",
            "Epoch 23/30\n",
            "47/56 [========================>.....] - ETA: 0s - loss: 0.1241 - accuracy: 0.9781\n",
            "Epoch 23: val_accuracy did not improve from 0.95281\n",
            "56/56 [==============================] - 0s 5ms/step - loss: 0.1226 - accuracy: 0.9803 - val_loss: 0.2286 - val_accuracy: 0.9371\n",
            "Epoch 24/30\n",
            "46/56 [=======================>......] - ETA: 0s - loss: 0.1216 - accuracy: 0.9803\n",
            "Epoch 24: val_accuracy did not improve from 0.95281\n",
            "56/56 [==============================] - 0s 5ms/step - loss: 0.1200 - accuracy: 0.9815 - val_loss: 0.2221 - val_accuracy: 0.9416\n",
            "Epoch 25/30\n",
            "47/56 [========================>.....] - ETA: 0s - loss: 0.1074 - accuracy: 0.9860\n",
            "Epoch 25: val_accuracy did not improve from 0.95281\n",
            "56/56 [==============================] - 0s 4ms/step - loss: 0.1077 - accuracy: 0.9843 - val_loss: 0.2177 - val_accuracy: 0.9393\n",
            "Epoch 26/30\n",
            "47/56 [========================>.....] - ETA: 0s - loss: 0.0935 - accuracy: 0.9874\n",
            "Epoch 26: val_accuracy did not improve from 0.95281\n",
            "56/56 [==============================] - 0s 4ms/step - loss: 0.0918 - accuracy: 0.9882 - val_loss: 0.2120 - val_accuracy: 0.9438\n",
            "Epoch 27/30\n",
            "47/56 [========================>.....] - ETA: 0s - loss: 0.0915 - accuracy: 0.9847\n",
            "Epoch 27: val_accuracy did not improve from 0.95281\n",
            "56/56 [==============================] - 0s 4ms/step - loss: 0.0878 - accuracy: 0.9865 - val_loss: 0.2071 - val_accuracy: 0.9483\n",
            "Epoch 28/30\n",
            "48/56 [========================>.....] - ETA: 0s - loss: 0.0881 - accuracy: 0.9883\n",
            "Epoch 28: val_accuracy did not improve from 0.95281\n",
            "56/56 [==============================] - 0s 5ms/step - loss: 0.0862 - accuracy: 0.9888 - val_loss: 0.2084 - val_accuracy: 0.9438\n",
            "Epoch 29/30\n",
            "47/56 [========================>.....] - ETA: 0s - loss: 0.0746 - accuracy: 0.9900\n",
            "Epoch 29: val_accuracy did not improve from 0.95281\n",
            "56/56 [==============================] - 0s 5ms/step - loss: 0.0736 - accuracy: 0.9904 - val_loss: 0.2048 - val_accuracy: 0.9461\n",
            "Epoch 30/30\n",
            "48/56 [========================>.....] - ETA: 0s - loss: 0.0629 - accuracy: 0.9935\n",
            "Epoch 30: val_accuracy did not improve from 0.95281\n",
            "56/56 [==============================] - 0s 5ms/step - loss: 0.0632 - accuracy: 0.9933 - val_loss: 0.2061 - val_accuracy: 0.9506\n"
          ]
        }
      ]
    },
    {
      "cell_type": "markdown",
      "source": [
        "### Visualization result"
      ],
      "metadata": {
        "id": "vATp4FFY0g6T"
      }
    },
    {
      "cell_type": "code",
      "source": [
        "def visualize_result(history):\n",
        "  '''Function for Visual result'''\n",
        "  \n",
        "  acc = history.history['accuracy']\n",
        "  val_acc = history.history['val_accuracy']\n",
        "\n",
        "  loss = history.history['loss']\n",
        "  val_loss = history.history['val_loss']\n",
        "\n",
        "  plt.figure(figsize=(15, 6))\n",
        "  plt.subplot(1, 2, 1)\n",
        "  plt.plot(acc, label='Training Accuracy')\n",
        "  plt.plot(val_acc, label='Validation Accuracy')\n",
        "  plt.legend(loc='lower right')\n",
        "  plt.title('Training and Validation Accuracy')\n",
        "  plt.xlabel('Epochs')\n",
        "  plt.ylabel('Accuracy')\n",
        "\n",
        "  plt.subplot(1, 2, 2)\n",
        "  plt.plot(loss, label='Training Loss')\n",
        "  plt.plot(val_loss, label='Validation Loss')\n",
        "  plt.legend(loc='upper left')\n",
        "  plt.title('Training and Validation Loss')\n",
        "  plt.xlabel('Epochs')\n",
        "  plt.ylabel('Loss')\n",
        "  plt.show()"
      ],
      "metadata": {
        "id": "9rs9zNAL0cdc"
      },
      "execution_count": 22,
      "outputs": []
    },
    {
      "cell_type": "code",
      "source": [
        "visualize_result(history)"
      ],
      "metadata": {
        "colab": {
          "base_uri": "https://localhost:8080/",
          "height": 404
        },
        "id": "11s5bCl40eNi",
        "outputId": "bd171a4d-4b0a-4cc3-eb4f-0119cc49b683"
      },
      "execution_count": 28,
      "outputs": [
        {
          "output_type": "display_data",
          "data": {
            "text/plain": [
              "<Figure size 1080x432 with 2 Axes>"
            ],
            "image/png": "[encoded data removed]"
          },
          "metadata": {
            "needs_background": "light"
          }
        }
      ]
    },
    {
      "cell_type": "markdown",
      "source": [
        "### Download Model"
      ],
      "metadata": {
        "id": "Ra7WP2j70y07"
      }
    },
    {
      "cell_type": "code",
      "source": [
        "from google.colab import files\n",
        "files.download('model.h5')"
      ],
      "metadata": {
        "colab": {
          "base_uri": "https://localhost:8080/",
          "height": 17
        },
        "id": "nrlFCXyZ01Bt",
        "outputId": "232feea5-a86c-4278-f1e9-22b8372400ea"
      },
      "execution_count": 24,
      "outputs": [
        {
          "output_type": "display_data",
          "data": {
            "text/plain": [
              "<IPython.core.display.Javascript object>"
            ],
            "application/javascript": [
              "\n",
              "    async function download(id, filename, size) {\n",
              "      if (!google.colab.kernel.accessAllowed) {\n",
              "        return;\n",
              "      }\n",
              "      const div = document.createElement('div');\n",
              "      const label = document.createElement('label');\n",
              "      label.textContent = `Downloading \"${filename}\": `;\n",
              "      div.appendChild(label);\n",
              "      const progress = document.createElement('progress');\n",
              "      progress.max = size;\n",
              "      div.appendChild(progress);\n",
              "      document.body.appendChild(div);\n",
              "\n",
              "      const buffers = [];\n",
              "      let downloaded = 0;\n",
              "\n",
              "      const channel = await google.colab.kernel.comms.open(id);\n",
              "      // Send a message to notify the kernel that we're ready.\n",
              "      channel.send({})\n",
              "\n",
              "      for await (const message of channel.messages) {\n",
              "        // Send a message to notify the kernel that we're ready.\n",
              "        channel.send({})\n",
              "        if (message.buffers) {\n",
              "          for (const buffer of message.buffers) {\n",
              "            buffers.push(buffer);\n",
              "            downloaded += buffer.byteLength;\n",
              "            progress.value = downloaded;\n",
              "          }\n",
              "        }\n",
              "      }\n",
              "      const blob = new Blob(buffers, {type: 'application/binary'});\n",
              "      const a = document.createElement('a');\n",
              "      a.href = window.URL.createObjectURL(blob);\n",
              "      a.download = filename;\n",
              "      div.appendChild(a);\n",
              "      a.click();\n",
              "      div.remove();\n",
              "    }\n",
              "  "
            ]
          },
          "metadata": {}
        },
        {
          "output_type": "display_data",
          "data": {
            "text/plain": [
              "<IPython.core.display.Javascript object>"
            ],
            "application/javascript": [
              "download(\"download_5a70203a-3740-43a4-82a1-e89ff22858a1\", \"model.h5\", 231280)"
            ]
          },
          "metadata": {}
        }
      ]
    }
  ]
}