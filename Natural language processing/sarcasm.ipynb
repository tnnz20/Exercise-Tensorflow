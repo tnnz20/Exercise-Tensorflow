{
  "nbformat": 4,
  "nbformat_minor": 0,
  "metadata": {
    "colab": {
      "name": "sarcasm.ipynb",
      "provenance": [],
      "collapsed_sections": [
        "OWZFWDCc_nTp"
      ],
      "include_colab_link": true
    },
    "kernelspec": {
      "name": "python3",
      "display_name": "Python 3"
    },
    "language_info": {
      "name": "python"
    },
    "accelerator": "GPU",
    "gpuClass": "standard"
  },
  "cells": [
    {
      "cell_type": "markdown",
      "metadata": {
        "id": "view-in-github",
        "colab_type": "text"
      },
      "source": [
        "<a href=\"https://colab.research.google.com/github/tnnz20/Exercise-Tensorflow/blob/master/Natural%20language%20processing/sarcasm.ipynb\" target=\"_parent\"><img src=\"https://colab.research.google.com/assets/colab-badge.svg\" alt=\"Open In Colab\"/></a>"
      ]
    },
    {
      "cell_type": "markdown",
      "source": [
        "# Natural language processing\n",
        "Sarcasm classifier "
      ],
      "metadata": {
        "id": "O3YeS5KFqxY3"
      }
    },
    {
      "cell_type": "markdown",
      "source": [
        "## Importing Module"
      ],
      "metadata": {
        "id": "XE-p1YPwq3kH"
      }
    },
    {
      "cell_type": "code",
      "execution_count": 51,
      "metadata": {
        "colab": {
          "base_uri": "https://localhost:8080/"
        },
        "id": "Eqya7e-5quRq",
        "outputId": "dc5b504d-cbd3-42de-c4c9-85e22260292d"
      },
      "outputs": [
        {
          "output_type": "stream",
          "name": "stdout",
          "text": [
            "Tensorflow Version : 2.8.2\n"
          ]
        }
      ],
      "source": [
        "import os\n",
        "import json\n",
        "import urllib\n",
        "\n",
        "import numpy as np\n",
        "import pandas as pd\n",
        "\n",
        "import tensorflow as tf\n",
        "\n",
        "from matplotlib import pyplot as plt\n",
        "from keras.preprocessing.text import Tokenizer\n",
        "from keras.preprocessing.sequence import pad_sequences\n",
        "\n",
        "print(f'Tensorflow Version : {tf.__version__}')"
      ]
    },
    {
      "cell_type": "markdown",
      "source": [
        "## Problem\n",
        "- Build and train a classifier for the sarcasm dataset.\n",
        "- The classifier should have a final layer with `1` neuron activated by sigmoid.\n",
        "- Do not use lambda layers in your model.\n",
        "- Dataset used in this problem is built by Rishabh Misra (https://rishabhmisra.github.io/publications).\n",
        "- Desired accuracy and validation_accuracy > `75%`"
      ],
      "metadata": {
        "id": "o7gE0yezrKNH"
      }
    },
    {
      "cell_type": "markdown",
      "source": [
        "### Preparing data"
      ],
      "metadata": {
        "id": "xXkFgSyFrR7S"
      }
    },
    {
      "cell_type": "code",
      "source": [
        "data_url = 'https://github.com/dicodingacademy/assets/raw/main/Simulation/machine_learning/sarcasm.json'\n",
        "json_file = 'sarcasm.json'\n",
        "\n",
        "if os.path.isfile(json_file) == False:\n",
        "  urllib.request.urlretrieve(data_url, json_file)\n",
        "  print(f'{json_file} Downloaded')\n",
        "else:\n",
        "  print(f'{json_file} Already exist')"
      ],
      "metadata": {
        "colab": {
          "base_uri": "https://localhost:8080/"
        },
        "id": "Fum1yE2cq_zB",
        "outputId": "397e9f4f-94b9-4208-fe9c-54bebf4dcdf3"
      },
      "execution_count": 52,
      "outputs": [
        {
          "output_type": "stream",
          "name": "stdout",
          "text": [
            "sarcasm.json Already exist\n"
          ]
        }
      ]
    },
    {
      "cell_type": "markdown",
      "source": [
        "#### Explore data"
      ],
      "metadata": {
        "id": "FquZycivrvVx"
      }
    },
    {
      "cell_type": "markdown",
      "source": [
        "Check data"
      ],
      "metadata": {
        "id": "rISS5YSRr11U"
      }
    },
    {
      "cell_type": "code",
      "source": [
        "json_path = './sarcasm.json'\n",
        "with open(json_path, 'r') as f:\n",
        "  datastore = json.load(f)\n",
        "\n",
        "print(f'Total Data : {len(datastore)}')\n",
        "print(f'List column : {datastore[0].keys()}')"
      ],
      "metadata": {
        "colab": {
          "base_uri": "https://localhost:8080/"
        },
        "id": "6ntLwiKDrs7V",
        "outputId": "d3d5835d-e182-4050-aabf-d6f482de03ea"
      },
      "execution_count": 53,
      "outputs": [
        {
          "output_type": "stream",
          "name": "stdout",
          "text": [
            "Total Data : 26709\n",
            "List column : dict_keys(['article_link', 'headline', 'is_sarcastic'])\n"
          ]
        }
      ]
    },
    {
      "cell_type": "markdown",
      "source": [
        "Convert to DataFrame"
      ],
      "metadata": {
        "id": "mr05KOmU-boh"
      }
    },
    {
      "cell_type": "code",
      "source": [
        "sarcasm = pd.DataFrame(datastore)\n",
        "sarcasm.head()"
      ],
      "metadata": {
        "colab": {
          "base_uri": "https://localhost:8080/",
          "height": 206
        },
        "id": "1i9dD_Bi-ZMW",
        "outputId": "db2db499-375a-48c1-c68e-168a343f707c"
      },
      "execution_count": 54,
      "outputs": [
        {
          "output_type": "execute_result",
          "data": {
            "text/plain": [
              "                                        article_link  \\\n",
              "0  https://www.huffingtonpost.com/entry/versace-b...   \n",
              "1  https://www.huffingtonpost.com/entry/roseanne-...   \n",
              "2  https://local.theonion.com/mom-starting-to-fea...   \n",
              "3  https://politics.theonion.com/boehner-just-wan...   \n",
              "4  https://www.huffingtonpost.com/entry/jk-rowlin...   \n",
              "\n",
              "                                            headline  is_sarcastic  \n",
              "0  former versace store clerk sues over secret 'b...             0  \n",
              "1  the 'roseanne' revival catches up to our thorn...             0  \n",
              "2  mom starting to fear son's web series closest ...             1  \n",
              "3  boehner just wants wife to listen, not come up...             1  \n",
              "4  j.k. rowling wishes snape happy birthday in th...             0  "
            ],
            "text/html": [
              "\n",
              "  <div id=\"df-2611eaa4-9c74-4ad7-8d52-47442e420432\">\n",
              "    <div class=\"colab-df-container\">\n",
              "      <div>\n",
              "<style scoped>\n",
              "    .dataframe tbody tr th:only-of-type {\n",
              "        vertical-align: middle;\n",
              "    }\n",
              "\n",
              "    .dataframe tbody tr th {\n",
              "        vertical-align: top;\n",
              "    }\n",
              "\n",
              "    .dataframe thead th {\n",
              "        text-align: right;\n",
              "    }\n",
              "</style>\n",
              "<table border=\"1\" class=\"dataframe\">\n",
              "  <thead>\n",
              "    <tr style=\"text-align: right;\">\n",
              "      <th></th>\n",
              "      <th>article_link</th>\n",
              "      <th>headline</th>\n",
              "      <th>is_sarcastic</th>\n",
              "    </tr>\n",
              "  </thead>\n",
              "  <tbody>\n",
              "    <tr>\n",
              "      <th>0</th>\n",
              "      <td>https://www.huffingtonpost.com/entry/versace-b...</td>\n",
              "      <td>former versace store clerk sues over secret 'b...</td>\n",
              "      <td>0</td>\n",
              "    </tr>\n",
              "    <tr>\n",
              "      <th>1</th>\n",
              "      <td>https://www.huffingtonpost.com/entry/roseanne-...</td>\n",
              "      <td>the 'roseanne' revival catches up to our thorn...</td>\n",
              "      <td>0</td>\n",
              "    </tr>\n",
              "    <tr>\n",
              "      <th>2</th>\n",
              "      <td>https://local.theonion.com/mom-starting-to-fea...</td>\n",
              "      <td>mom starting to fear son's web series closest ...</td>\n",
              "      <td>1</td>\n",
              "    </tr>\n",
              "    <tr>\n",
              "      <th>3</th>\n",
              "      <td>https://politics.theonion.com/boehner-just-wan...</td>\n",
              "      <td>boehner just wants wife to listen, not come up...</td>\n",
              "      <td>1</td>\n",
              "    </tr>\n",
              "    <tr>\n",
              "      <th>4</th>\n",
              "      <td>https://www.huffingtonpost.com/entry/jk-rowlin...</td>\n",
              "      <td>j.k. rowling wishes snape happy birthday in th...</td>\n",
              "      <td>0</td>\n",
              "    </tr>\n",
              "  </tbody>\n",
              "</table>\n",
              "</div>\n",
              "      <button class=\"colab-df-convert\" onclick=\"convertToInteractive('df-2611eaa4-9c74-4ad7-8d52-47442e420432')\"\n",
              "              title=\"Convert this dataframe to an interactive table.\"\n",
              "              style=\"display:none;\">\n",
              "        \n",
              "  <svg xmlns=\"http://www.w3.org/2000/svg\" height=\"24px\"viewBox=\"0 0 24 24\"\n",
              "       width=\"24px\">\n",
              "    <path d=\"M0 0h24v24H0V0z\" fill=\"none\"/>\n",
              "    <path d=\"M18.56 5.44l.94 2.06.94-2.06 2.06-.94-2.06-.94-.94-2.06-.94 2.06-2.06.94zm-11 1L8.5 8.5l.94-2.06 2.06-.94-2.06-.94L8.5 2.5l-.94 2.06-2.06.94zm10 10l.94 2.06.94-2.06 2.06-.94-2.06-.94-.94-2.06-.94 2.06-2.06.94z\"/><path d=\"M17.41 7.96l-1.37-1.37c-.4-.4-.92-.59-1.43-.59-.52 0-1.04.2-1.43.59L10.3 9.45l-7.72 7.72c-.78.78-.78 2.05 0 2.83L4 21.41c.39.39.9.59 1.41.59.51 0 1.02-.2 1.41-.59l7.78-7.78 2.81-2.81c.8-.78.8-2.07 0-2.86zM5.41 20L4 18.59l7.72-7.72 1.47 1.35L5.41 20z\"/>\n",
              "  </svg>\n",
              "      </button>\n",
              "      \n",
              "  <style>\n",
              "    .colab-df-container {\n",
              "      display:flex;\n",
              "      flex-wrap:wrap;\n",
              "      gap: 12px;\n",
              "    }\n",
              "\n",
              "    .colab-df-convert {\n",
              "      background-color: #E8F0FE;\n",
              "      border: none;\n",
              "      border-radius: 50%;\n",
              "      cursor: pointer;\n",
              "      display: none;\n",
              "      fill: #1967D2;\n",
              "      height: 32px;\n",
              "      padding: 0 0 0 0;\n",
              "      width: 32px;\n",
              "    }\n",
              "\n",
              "    .colab-df-convert:hover {\n",
              "      background-color: #E2EBFA;\n",
              "      box-shadow: 0px 1px 2px rgba(60, 64, 67, 0.3), 0px 1px 3px 1px rgba(60, 64, 67, 0.15);\n",
              "      fill: #174EA6;\n",
              "    }\n",
              "\n",
              "    [theme=dark] .colab-df-convert {\n",
              "      background-color: #3B4455;\n",
              "      fill: #D2E3FC;\n",
              "    }\n",
              "\n",
              "    [theme=dark] .colab-df-convert:hover {\n",
              "      background-color: #434B5C;\n",
              "      box-shadow: 0px 1px 3px 1px rgba(0, 0, 0, 0.15);\n",
              "      filter: drop-shadow(0px 1px 2px rgba(0, 0, 0, 0.3));\n",
              "      fill: #FFFFFF;\n",
              "    }\n",
              "  </style>\n",
              "\n",
              "      <script>\n",
              "        const buttonEl =\n",
              "          document.querySelector('#df-2611eaa4-9c74-4ad7-8d52-47442e420432 button.colab-df-convert');\n",
              "        buttonEl.style.display =\n",
              "          google.colab.kernel.accessAllowed ? 'block' : 'none';\n",
              "\n",
              "        async function convertToInteractive(key) {\n",
              "          const element = document.querySelector('#df-2611eaa4-9c74-4ad7-8d52-47442e420432');\n",
              "          const dataTable =\n",
              "            await google.colab.kernel.invokeFunction('convertToInteractive',\n",
              "                                                     [key], {});\n",
              "          if (!dataTable) return;\n",
              "\n",
              "          const docLinkHtml = 'Like what you see? Visit the ' +\n",
              "            '<a target=\"_blank\" href=https://colab.research.google.com/notebooks/data_table.ipynb>data table notebook</a>'\n",
              "            + ' to learn more about interactive tables.';\n",
              "          element.innerHTML = '';\n",
              "          dataTable['output_type'] = 'display_data';\n",
              "          await google.colab.output.renderOutput(dataTable, element);\n",
              "          const docLink = document.createElement('div');\n",
              "          docLink.innerHTML = docLinkHtml;\n",
              "          element.appendChild(docLink);\n",
              "        }\n",
              "      </script>\n",
              "    </div>\n",
              "  </div>\n",
              "  "
            ]
          },
          "metadata": {},
          "execution_count": 54
        }
      ]
    },
    {
      "cell_type": "markdown",
      "source": [
        "More information about data"
      ],
      "metadata": {
        "id": "GbLdtVDN-lBW"
      }
    },
    {
      "cell_type": "code",
      "source": [
        "sarcasm.info()"
      ],
      "metadata": {
        "colab": {
          "base_uri": "https://localhost:8080/"
        },
        "id": "bdZDIp_f-ijf",
        "outputId": "33eb6fa2-5fef-4bff-dfe1-e36d9e0fa30f"
      },
      "execution_count": 55,
      "outputs": [
        {
          "output_type": "stream",
          "name": "stdout",
          "text": [
            "<class 'pandas.core.frame.DataFrame'>\n",
            "RangeIndex: 26709 entries, 0 to 26708\n",
            "Data columns (total 3 columns):\n",
            " #   Column        Non-Null Count  Dtype \n",
            "---  ------        --------------  ----- \n",
            " 0   article_link  26709 non-null  object\n",
            " 1   headline      26709 non-null  object\n",
            " 2   is_sarcastic  26709 non-null  int64 \n",
            "dtypes: int64(1), object(2)\n",
            "memory usage: 626.1+ KB\n"
          ]
        }
      ]
    },
    {
      "cell_type": "markdown",
      "source": [
        "Visualize Category "
      ],
      "metadata": {
        "id": "ntnt2OWc_CZn"
      }
    },
    {
      "cell_type": "code",
      "source": [
        "sarcasm['is_sarcastic'].value_counts().plot(kind='bar', figsize=(10,8), rot=0, title='Category of sarcasm')\n",
        "plt.show()"
      ],
      "metadata": {
        "colab": {
          "base_uri": "https://localhost:8080/",
          "height": 499
        },
        "id": "S_2jM_W1-rAI",
        "outputId": "7103694b-32ed-41be-bf1a-f4b2f801ec56"
      },
      "execution_count": 56,
      "outputs": [
        {
          "output_type": "display_data",
          "data": {
            "text/plain": [
              "<Figure size 720x576 with 1 Axes>"
            ],
            "image/png": "[encoded data removed]"
          },
          "metadata": {
            "needs_background": "light"
          }
        }
      ]
    },
    {
      "cell_type": "markdown",
      "source": [
        "### Preparing Model"
      ],
      "metadata": {
        "id": "I8lRdjwWsv2K"
      }
    },
    {
      "cell_type": "markdown",
      "source": [
        "Set Paramters"
      ],
      "metadata": {
        "id": "Pdq6niA5syc6"
      }
    },
    {
      "cell_type": "code",
      "source": [
        "vocab_size = 1000\n",
        "embedding_dim = 16\n",
        "max_length = 120\n",
        "trunc_type = 'post'\n",
        "padding_type = 'post'\n",
        "oov_tok = \"<OOV>\"\n",
        "training_size = 20000\n",
        "\n",
        "filter = '!\"#$%&()*+.,-/:;=?@[\\]^_`{|}'"
      ],
      "metadata": {
        "id": "9K4Xh3Kusrwn"
      },
      "execution_count": 57,
      "outputs": []
    },
    {
      "cell_type": "markdown",
      "source": [
        "#### Split Data"
      ],
      "metadata": {
        "id": "QActvNyPEFTB"
      }
    },
    {
      "cell_type": "code",
      "source": [
        "def train_val_split(sentences, labels, training_split):\n",
        "  \"\"\"\n",
        "  Splits the dataset into training and validation sets\n",
        "    \n",
        "  Args:\n",
        "      sentences (list of string): lower-cased sentences without stopwords\n",
        "      labels (list of string): list of labels\n",
        "      training split (float): proportion of the dataset to convert to include in the train set\n",
        "    \n",
        "  Returns:\n",
        "      train_sentences, validation_sentences, train_labels, validation_labels - lists containing the data splits\n",
        "  \"\"\"\n",
        "\n",
        "  # Compute the number of sentences that will be used for training (should be an integer)\n",
        "  train_size = training_split\n",
        "\n",
        "  # Split the sentences and labels into train/validation splits\n",
        "  train_sentences = sentences[:train_size]\n",
        "  train_labels = labels[:train_size]\n",
        "\n",
        "  validation_sentences = sentences[train_size:]\n",
        "  validation_labels = labels[train_size:]\n",
        "    \n",
        "    \n",
        "  return train_sentences, validation_sentences, train_labels, validation_labels"
      ],
      "metadata": {
        "id": "sSA-sxw-EHSI"
      },
      "execution_count": 58,
      "outputs": []
    },
    {
      "cell_type": "code",
      "source": [
        "sentences = sarcasm['headline']\n",
        "labels = sarcasm['is_sarcastic']\n",
        "\n",
        "train_sentences, val_sentences, train_labels, val_labels = train_val_split(sentences, labels, training_size)\n",
        "\n",
        "print(f\"There are {len(train_sentences)} sentences for training.\\n\")\n",
        "print(f\"There are {len(train_labels)} labels for training.\\n\")\n",
        "print(f\"There are {len(val_sentences)} sentences for validation.\\n\")\n",
        "print(f\"There are {len(val_labels)} labels for validation.\")"
      ],
      "metadata": {
        "colab": {
          "base_uri": "https://localhost:8080/"
        },
        "id": "V3WNf28jEiHJ",
        "outputId": "34a11a96-81c4-419f-eb25-3564f0044d28"
      },
      "execution_count": 59,
      "outputs": [
        {
          "output_type": "stream",
          "name": "stdout",
          "text": [
            "There are 20000 sentences for training.\n",
            "\n",
            "There are 20000 labels for training.\n",
            "\n",
            "There are 6709 sentences for validation.\n",
            "\n",
            "There are 6709 labels for validation.\n"
          ]
        }
      ]
    },
    {
      "cell_type": "markdown",
      "source": [
        "#### Tokenizer"
      ],
      "metadata": {
        "id": "sOY1Rj00t2ym"
      }
    },
    {
      "cell_type": "code",
      "source": [
        "def fit_tokenizer(sentences, num_words, oov_token, filter):\n",
        "  \"\"\"\n",
        "  Instantiates the Tokenizer class on the training sentences\n",
        "    \n",
        "  Args:\n",
        "      sentences (list of string): lower-cased sentences without stopwords to be used for training\n",
        "      num_words (int) - number of words to keep when tokenizing\n",
        "      oov_token (string) - symbol for the out-of-vocabulary token\n",
        "    \n",
        "  Returns:\n",
        "      tokenizer (object): an instance of the Tokenizer class containing the word-index dictionary\n",
        "  \"\"\"\n",
        "  # Instantiate the Tokenizer class, passing in the correct values for num_words and oov_token\n",
        "  tokenizer = Tokenizer(num_words=num_words, oov_token=oov_token, filters=filter)\n",
        "\n",
        "   # Fit the tokenizer to the training sentences\n",
        "  tokenizer.fit_on_texts(sentences)\n",
        "  \n",
        "  return tokenizer"
      ],
      "metadata": {
        "id": "r-9pyBF4s2ac"
      },
      "execution_count": 60,
      "outputs": []
    },
    {
      "cell_type": "code",
      "source": [
        "tokenizer = fit_tokenizer(train_sentences, vocab_size, oov_tok, filter)\n",
        "word_index = tokenizer.word_index\n",
        "\n",
        "print(f\"Vocabulary contains {len(word_index)} words\\n\")\n",
        "print(\"<OOV> token included in vocabulary\" if \"<OOV>\" in word_index else \"<OOV> token NOT included in vocabulary\")"
      ],
      "metadata": {
        "colab": {
          "base_uri": "https://localhost:8080/"
        },
        "id": "oemN_CMFvRBB",
        "outputId": "4de22325-bd47-412f-f7ce-d13f6ebe620f"
      },
      "execution_count": 61,
      "outputs": [
        {
          "output_type": "stream",
          "name": "stdout",
          "text": [
            "Vocabulary contains 25638 words\n",
            "\n",
            "<OOV> token included in vocabulary\n"
          ]
        }
      ]
    },
    {
      "cell_type": "markdown",
      "source": [
        "#### Convert text to Sequence and Add Padding"
      ],
      "metadata": {
        "id": "_4Fo-vo3v4Ur"
      }
    },
    {
      "cell_type": "code",
      "source": [
        "def seq_and_pad(sentences, tokenizer, maxlen, padding='pre', truncating='pre'):\n",
        "  \"\"\"\n",
        "  Generates an array of token sequences and pads them to the same length\n",
        "    \n",
        "  Args:\n",
        "      sentences (list of string): list of sentences to tokenize and pad\n",
        "      tokenizer (object): Tokenizer instance containing the word-index dictionary\n",
        "      padding (string): type of padding to use\n",
        "      maxlen (int): maximum length of the token sequence\n",
        "    \n",
        "  Returns:\n",
        "      padded_sequences (array of int): tokenized sentences padded to the same length\n",
        "  \"\"\"  \n",
        "  # Convert sentences to sequences\n",
        "  sequences = tokenizer.texts_to_sequences(sentences)\n",
        "    \n",
        "  # Pad the sequences using the correct padding and maxlen\n",
        "  padded_sequences = pad_sequences(sequences, \n",
        "                                   maxlen=maxlen, \n",
        "                                   padding=padding,\n",
        "                                   truncating=truncating)\n",
        "\n",
        "  return padded_sequences"
      ],
      "metadata": {
        "id": "mfpAsGq7vzDy"
      },
      "execution_count": 62,
      "outputs": []
    },
    {
      "cell_type": "code",
      "source": [
        "train_padded_seq = seq_and_pad(train_sentences, tokenizer, max_length, padding=padding_type, truncating=trunc_type)\n",
        "test_padded_seq = seq_and_pad(val_sentences, tokenizer, max_length, padding=padding_type, truncating=trunc_type)\n",
        "\n",
        "print(f\"Padded training sequences have shape: {train_padded_seq.shape}\\n\")\n",
        "print(f\"Padded validation sequences have shape: {test_padded_seq.shape}\")"
      ],
      "metadata": {
        "colab": {
          "base_uri": "https://localhost:8080/"
        },
        "id": "cnA8IMA4xNdV",
        "outputId": "ddbc928e-0ccc-4965-b3ed-a2716d4834ad"
      },
      "execution_count": 63,
      "outputs": [
        {
          "output_type": "stream",
          "name": "stdout",
          "text": [
            "Padded training sequences have shape: (20000, 120)\n",
            "\n",
            "Padded validation sequences have shape: (6709, 120)\n"
          ]
        }
      ]
    },
    {
      "cell_type": "code",
      "source": [
        "train_labels = np.array(train_labels)\n",
        "test_labels = np.array(val_labels)"
      ],
      "metadata": {
        "id": "qSk9PReMJ3FP"
      },
      "execution_count": 64,
      "outputs": []
    },
    {
      "cell_type": "markdown",
      "source": [
        "#### Build Model"
      ],
      "metadata": {
        "id": "hMNgpSBHyUAW"
      }
    },
    {
      "cell_type": "code",
      "source": [
        "def build_model(num_words, embedding_dim, maxlen):\n",
        "  \"\"\"\n",
        "  Creates a text classifier model\n",
        "    \n",
        "  Args:\n",
        "      num_words (int): size of the vocabulary for the Embedding layer input\n",
        "      embedding_dim (int): dimensionality of the Embedding layer output\n",
        "      maxlen (int): length of the input sequences\n",
        "    \n",
        "  Returns:\n",
        "      model (tf.keras Model): the text classifier model\n",
        "  \"\"\"\n",
        "\n",
        "  # Define Params  \n",
        "  lr = 1e-3\n",
        "  adam = tf.keras.optimizers.Adam(learning_rate=lr) # Optimizer\n",
        "  losses = tf.keras.losses.BinaryCrossentropy()\n",
        "\n",
        "  # Define Activation Function\n",
        "  relu = tf.nn.relu\n",
        "  sigmoid = tf.nn.sigmoid\n",
        "\n",
        "  # Define model sequential\n",
        "  model = tf.keras.Sequential()\n",
        "\n",
        "  # Define layer for Embedding text\n",
        "  model.add(tf.keras.layers.Embedding(num_words, embedding_dim, input_length=maxlen))\n",
        "\n",
        "  model.add(tf.keras.layers.Bidirectional(tf.keras.layers.LSTM(64, return_sequences=True)))\n",
        "  model.add(tf.keras.layers.Bidirectional(tf.keras.layers.LSTM(32)))\n",
        "\n",
        "  # Define fully connected layers\n",
        "  model.add(tf.keras.layers.Dense(64, activation=relu))\n",
        "  model.add(tf.keras.layers.Dense(1, activation=sigmoid))\n",
        "\n",
        "  # Compile model\n",
        "  model.compile(optimizer=adam, loss=losses, metrics=['accuracy'])\n",
        "\n",
        "  # Check Summary Model\n",
        "  model.summary()\n",
        "\n",
        "  print('\\nModel Succesfully Create')\n",
        "  \n",
        "  return model"
      ],
      "metadata": {
        "id": "yDBEc9m1xZ44"
      },
      "execution_count": 65,
      "outputs": []
    },
    {
      "cell_type": "markdown",
      "source": [
        "#### Define Callbacks"
      ],
      "metadata": {
        "id": "KRzgj4tAzf_J"
      }
    },
    {
      "cell_type": "code",
      "source": [
        "model_checkpoint = tf.keras.callbacks.ModelCheckpoint(\"model.h5\", \n",
        "                                                      monitor=\"val_accuracy\",\n",
        "                                                      save_best_only=True,\n",
        "                                                      verbose=1)\n",
        "\n",
        "early_stopping = tf.keras.callbacks.EarlyStopping(monitor=\"val_accuracy\", \n",
        "                                                  patience=8, \n",
        "                                                  mode =\"max\", \n",
        "                                                  verbose=2, \n",
        "                                                  restore_best_weights=True)"
      ],
      "metadata": {
        "id": "KweSgvqAzcT5"
      },
      "execution_count": 66,
      "outputs": []
    },
    {
      "cell_type": "markdown",
      "source": [
        "### Train Model"
      ],
      "metadata": {
        "id": "oh2UKY1dzjEA"
      }
    },
    {
      "cell_type": "code",
      "source": [
        "model = build_model(vocab_size, embedding_dim, max_length)"
      ],
      "metadata": {
        "colab": {
          "base_uri": "https://localhost:8080/"
        },
        "id": "ttjLKdFAziQB",
        "outputId": "a5cb4926-c217-4529-e70c-4872cbd75e4b"
      },
      "execution_count": 67,
      "outputs": [
        {
          "output_type": "stream",
          "name": "stdout",
          "text": [
            "Model: \"sequential_2\"\n",
            "_________________________________________________________________\n",
            " Layer (type)                Output Shape              Param #   \n",
            "=================================================================\n",
            " embedding_2 (Embedding)     (None, 120, 16)           16000     \n",
            "                                                                 \n",
            " bidirectional_4 (Bidirectio  (None, 120, 128)         41472     \n",
            " nal)                                                            \n",
            "                                                                 \n",
            " bidirectional_5 (Bidirectio  (None, 64)               41216     \n",
            " nal)                                                            \n",
            "                                                                 \n",
            " dense_4 (Dense)             (None, 64)                4160      \n",
            "                                                                 \n",
            " dense_5 (Dense)             (None, 1)                 65        \n",
            "                                                                 \n",
            "=================================================================\n",
            "Total params: 102,913\n",
            "Trainable params: 102,913\n",
            "Non-trainable params: 0\n",
            "_________________________________________________________________\n",
            "\n",
            "Model Succesfully Create\n"
          ]
        }
      ]
    },
    {
      "cell_type": "code",
      "source": [
        "history = model.fit(train_padded_seq, train_labels, \n",
        "                    epochs=20,\n",
        "                    validation_data=(test_padded_seq, test_labels),\n",
        "                    callbacks=[model_checkpoint, early_stopping])"
      ],
      "metadata": {
        "colab": {
          "base_uri": "https://localhost:8080/"
        },
        "id": "nYhBqR0Tzyhh",
        "outputId": "c2abaac8-c9a4-4510-d2b6-4585b94547fa"
      },
      "execution_count": 68,
      "outputs": [
        {
          "output_type": "stream",
          "name": "stdout",
          "text": [
            "Epoch 1/20\n",
            "623/625 [============================>.] - ETA: 0s - loss: 0.4380 - accuracy: 0.7828\n",
            "Epoch 1: val_accuracy improved from -inf to 0.82233, saving model to model.h5\n",
            "625/625 [==============================] - 41s 25ms/step - loss: 0.4377 - accuracy: 0.7831 - val_loss: 0.3876 - val_accuracy: 0.8223\n",
            "Epoch 2/20\n",
            "625/625 [==============================] - ETA: 0s - loss: 0.3448 - accuracy: 0.8418\n",
            "Epoch 2: val_accuracy improved from 0.82233 to 0.83068, saving model to model.h5\n",
            "625/625 [==============================] - 14s 22ms/step - loss: 0.3448 - accuracy: 0.8418 - val_loss: 0.3785 - val_accuracy: 0.8307\n",
            "Epoch 3/20\n",
            "623/625 [============================>.] - ETA: 0s - loss: 0.3211 - accuracy: 0.8574\n",
            "Epoch 3: val_accuracy did not improve from 0.83068\n",
            "625/625 [==============================] - 14s 22ms/step - loss: 0.3212 - accuracy: 0.8575 - val_loss: 0.3727 - val_accuracy: 0.8275\n",
            "Epoch 4/20\n",
            "623/625 [============================>.] - ETA: 0s - loss: 0.3058 - accuracy: 0.8659\n",
            "Epoch 4: val_accuracy improved from 0.83068 to 0.83142, saving model to model.h5\n",
            "625/625 [==============================] - 14s 23ms/step - loss: 0.3059 - accuracy: 0.8659 - val_loss: 0.3894 - val_accuracy: 0.8314\n",
            "Epoch 5/20\n",
            "623/625 [============================>.] - ETA: 0s - loss: 0.2929 - accuracy: 0.8711\n",
            "Epoch 5: val_accuracy improved from 0.83142 to 0.83321, saving model to model.h5\n",
            "625/625 [==============================] - 14s 23ms/step - loss: 0.2930 - accuracy: 0.8711 - val_loss: 0.3783 - val_accuracy: 0.8332\n",
            "Epoch 6/20\n",
            "624/625 [============================>.] - ETA: 0s - loss: 0.2810 - accuracy: 0.8779\n",
            "Epoch 6: val_accuracy did not improve from 0.83321\n",
            "625/625 [==============================] - 14s 23ms/step - loss: 0.2808 - accuracy: 0.8781 - val_loss: 0.3929 - val_accuracy: 0.8220\n",
            "Epoch 7/20\n",
            "625/625 [==============================] - ETA: 0s - loss: 0.2752 - accuracy: 0.8819\n",
            "Epoch 7: val_accuracy did not improve from 0.83321\n",
            "625/625 [==============================] - 14s 22ms/step - loss: 0.2752 - accuracy: 0.8819 - val_loss: 0.3875 - val_accuracy: 0.8240\n",
            "Epoch 8/20\n",
            "623/625 [============================>.] - ETA: 0s - loss: 0.2691 - accuracy: 0.8837\n",
            "Epoch 8: val_accuracy did not improve from 0.83321\n",
            "625/625 [==============================] - 14s 23ms/step - loss: 0.2687 - accuracy: 0.8839 - val_loss: 0.4134 - val_accuracy: 0.8220\n",
            "Epoch 9/20\n",
            "624/625 [============================>.] - ETA: 0s - loss: 0.2613 - accuracy: 0.8885\n",
            "Epoch 9: val_accuracy did not improve from 0.83321\n",
            "625/625 [==============================] - 14s 23ms/step - loss: 0.2612 - accuracy: 0.8885 - val_loss: 0.3902 - val_accuracy: 0.8234\n",
            "Epoch 10/20\n",
            "625/625 [==============================] - ETA: 0s - loss: 0.2535 - accuracy: 0.8911\n",
            "Epoch 10: val_accuracy did not improve from 0.83321\n",
            "625/625 [==============================] - 14s 22ms/step - loss: 0.2535 - accuracy: 0.8911 - val_loss: 0.4173 - val_accuracy: 0.8250\n",
            "Epoch 11/20\n",
            "624/625 [============================>.] - ETA: 0s - loss: 0.2470 - accuracy: 0.8950\n",
            "Epoch 11: val_accuracy did not improve from 0.83321\n",
            "625/625 [==============================] - 14s 22ms/step - loss: 0.2470 - accuracy: 0.8950 - val_loss: 0.4186 - val_accuracy: 0.8228\n",
            "Epoch 12/20\n",
            "624/625 [============================>.] - ETA: 0s - loss: 0.2405 - accuracy: 0.8991\n",
            "Epoch 12: val_accuracy did not improve from 0.83321\n",
            "625/625 [==============================] - 14s 23ms/step - loss: 0.2405 - accuracy: 0.8992 - val_loss: 0.4312 - val_accuracy: 0.8170\n",
            "Epoch 13/20\n",
            "625/625 [==============================] - ETA: 0s - loss: 0.2330 - accuracy: 0.9028\n",
            "Epoch 13: val_accuracy did not improve from 0.83321\n",
            "Restoring model weights from the end of the best epoch: 5.\n",
            "625/625 [==============================] - 14s 22ms/step - loss: 0.2330 - accuracy: 0.9028 - val_loss: 0.4492 - val_accuracy: 0.8150\n",
            "Epoch 13: early stopping\n"
          ]
        }
      ]
    },
    {
      "cell_type": "markdown",
      "source": [
        "### Visualization result"
      ],
      "metadata": {
        "id": "vATp4FFY0g6T"
      }
    },
    {
      "cell_type": "code",
      "source": [
        "def visualize_result(history):\n",
        "  '''Function for Visual result'''\n",
        "  \n",
        "  acc = history.history['accuracy']\n",
        "  val_acc = history.history['val_accuracy']\n",
        "\n",
        "  loss = history.history['loss']\n",
        "  val_loss = history.history['val_loss']\n",
        "\n",
        "  plt.figure(figsize=(15, 6))\n",
        "  plt.subplot(1, 2, 1)\n",
        "  plt.plot(acc, label='Training Accuracy')\n",
        "  plt.plot(val_acc, label='Validation Accuracy')\n",
        "  plt.legend(loc='lower right')\n",
        "  plt.title('Training and Validation Accuracy')\n",
        "  plt.xlabel('Epochs')\n",
        "  plt.ylabel('Accuracy')\n",
        "\n",
        "  plt.subplot(1, 2, 2)\n",
        "  plt.plot(loss, label='Training Loss')\n",
        "  plt.plot(val_loss, label='Validation Loss')\n",
        "  plt.legend(loc='upper left')\n",
        "  plt.title('Training and Validation Loss')\n",
        "  plt.xlabel('Epochs')\n",
        "  plt.ylabel('Loss')\n",
        "  plt.show()"
      ],
      "metadata": {
        "id": "9rs9zNAL0cdc"
      },
      "execution_count": 69,
      "outputs": []
    },
    {
      "cell_type": "code",
      "source": [
        "visualize_result(history)"
      ],
      "metadata": {
        "colab": {
          "base_uri": "https://localhost:8080/",
          "height": 404
        },
        "id": "11s5bCl40eNi",
        "outputId": "10ae87d2-27b0-424d-fb1e-4ac56890769f"
      },
      "execution_count": 70,
      "outputs": [
        {
          "output_type": "display_data",
          "data": {
            "text/plain": [
              "<Figure size 1080x432 with 2 Axes>"
            ],
            "image/png": "[encoded data removed]"
          },
          "metadata": {
            "needs_background": "light"
          }
        }
      ]
    },
    {
      "cell_type": "markdown",
      "source": [
        "### Download Model"
      ],
      "metadata": {
        "id": "Ra7WP2j70y07"
      }
    },
    {
      "cell_type": "code",
      "source": [
        "from google.colab import files\n",
        "files.download('model.h5')"
      ],
      "metadata": {
        "id": "nrlFCXyZ01Bt"
      },
      "execution_count": null,
      "outputs": []
    }
  ]
}