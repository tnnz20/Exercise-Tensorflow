{
  "nbformat": 4,
  "nbformat_minor": 0,
  "metadata": {
    "colab": {
      "name": "sarcasm.ipynb",
      "provenance": [],
      "collapsed_sections": [
        "OWZFWDCc_nTp"
      ]
    },
    "kernelspec": {
      "name": "python3",
      "display_name": "Python 3"
    },
    "language_info": {
      "name": "python"
    },
    "accelerator": "GPU",
    "gpuClass": "standard"
  },
  "cells": [
    {
      "cell_type": "markdown",
      "source": [
        "# Natural language processing\n",
        "Sarcasm classifier "
      ],
      "metadata": {
        "id": "O3YeS5KFqxY3"
      }
    },
    {
      "cell_type": "markdown",
      "source": [
        "## Importing Module"
      ],
      "metadata": {
        "id": "XE-p1YPwq3kH"
      }
    },
    {
      "cell_type": "code",
      "execution_count": 1,
      "metadata": {
        "colab": {
          "base_uri": "https://localhost:8080/"
        },
        "id": "Eqya7e-5quRq",
        "outputId": "4416e4fc-3110-4e85-cab4-ae136cb3f502"
      },
      "outputs": [
        {
          "output_type": "stream",
          "name": "stdout",
          "text": [
            "Tensorflow Version : 2.8.2\n"
          ]
        }
      ],
      "source": [
        "import os\n",
        "import json\n",
        "import urllib\n",
        "\n",
        "import numpy as np\n",
        "import pandas as pd\n",
        "\n",
        "import tensorflow as tf\n",
        "\n",
        "from matplotlib import pyplot as plt\n",
        "from keras.preprocessing.text import Tokenizer\n",
        "from keras.preprocessing.sequence import pad_sequences\n",
        "\n",
        "print(f'Tensorflow Version : {tf.__version__}')"
      ]
    },
    {
      "cell_type": "markdown",
      "source": [
        "## Problem\n",
        "- Build and train a classifier for the sarcasm dataset.\n",
        "- The classifier should have a final layer with `1` neuron activated by sigmoid.\n",
        "- Do not use lambda layers in your model.\n",
        "- Dataset used in this problem is built by Rishabh Misra (https://rishabhmisra.github.io/publications).\n",
        "- Desired accuracy and validation_accuracy > `75%`"
      ],
      "metadata": {
        "id": "o7gE0yezrKNH"
      }
    },
    {
      "cell_type": "markdown",
      "source": [
        "### Preparing data"
      ],
      "metadata": {
        "id": "xXkFgSyFrR7S"
      }
    },
    {
      "cell_type": "code",
      "source": [
        "data_url = 'https://github.com/dicodingacademy/assets/raw/main/Simulation/machine_learning/sarcasm.json'\n",
        "json_file = 'sarcasm.json'\n",
        "\n",
        "if os.path.isfile(json_file) == False:\n",
        "  urllib.request.urlretrieve(data_url, json_file)\n",
        "  print(f'{json_file} Downloaded')\n",
        "else:\n",
        "  print(f'{json_file} Already exist')"
      ],
      "metadata": {
        "colab": {
          "base_uri": "https://localhost:8080/"
        },
        "id": "Fum1yE2cq_zB",
        "outputId": "f78cb39c-a7fc-4c92-ae14-ca7d0ac70c2d"
      },
      "execution_count": 3,
      "outputs": [
        {
          "output_type": "stream",
          "name": "stdout",
          "text": [
            "sarcasm.json Downloaded\n"
          ]
        }
      ]
    },
    {
      "cell_type": "markdown",
      "source": [
        "#### Explore data"
      ],
      "metadata": {
        "id": "FquZycivrvVx"
      }
    },
    {
      "cell_type": "markdown",
      "source": [
        "Check data"
      ],
      "metadata": {
        "id": "rISS5YSRr11U"
      }
    },
    {
      "cell_type": "code",
      "source": [
        "json_path = './sarcasm.json'\n",
        "with open(json_path, 'r') as f:\n",
        "  datastore = json.load(f)\n",
        "\n",
        "print(f'Total Data : {len(datastore)}')\n",
        "print(f'List column : {datastore[0].keys()}')"
      ],
      "metadata": {
        "colab": {
          "base_uri": "https://localhost:8080/"
        },
        "id": "6ntLwiKDrs7V",
        "outputId": "992a5bd7-a2a5-4b51-c381-593013a58748"
      },
      "execution_count": 4,
      "outputs": [
        {
          "output_type": "stream",
          "name": "stdout",
          "text": [
            "Total Data : 26709\n",
            "List column : dict_keys(['article_link', 'headline', 'is_sarcastic'])\n"
          ]
        }
      ]
    },
    {
      "cell_type": "markdown",
      "source": [
        "Convert to DataFrame"
      ],
      "metadata": {
        "id": "mr05KOmU-boh"
      }
    },
    {
      "cell_type": "code",
      "source": [
        "sarcasm = pd.DataFrame(datastore)\n",
        "sarcasm.head()"
      ],
      "metadata": {
        "colab": {
          "base_uri": "https://localhost:8080/",
          "height": 206
        },
        "id": "1i9dD_Bi-ZMW",
        "outputId": "a2263b01-714d-4596-b23d-ce8da1e1d2d9"
      },
      "execution_count": 5,
      "outputs": [
        {
          "output_type": "execute_result",
          "data": {
            "text/plain": [
              "                                        article_link  \\\n",
              "0  https://www.huffingtonpost.com/entry/versace-b...   \n",
              "1  https://www.huffingtonpost.com/entry/roseanne-...   \n",
              "2  https://local.theonion.com/mom-starting-to-fea...   \n",
              "3  https://politics.theonion.com/boehner-just-wan...   \n",
              "4  https://www.huffingtonpost.com/entry/jk-rowlin...   \n",
              "\n",
              "                                            headline  is_sarcastic  \n",
              "0  former versace store clerk sues over secret 'b...             0  \n",
              "1  the 'roseanne' revival catches up to our thorn...             0  \n",
              "2  mom starting to fear son's web series closest ...             1  \n",
              "3  boehner just wants wife to listen, not come up...             1  \n",
              "4  j.k. rowling wishes snape happy birthday in th...             0  "
            ],
            "text/html": [
              "\n",
              "  <div id=\"df-8db14e12-b359-4633-aab8-d6faca0c94d6\">\n",
              "    <div class=\"colab-df-container\">\n",
              "      <div>\n",
              "<style scoped>\n",
              "    .dataframe tbody tr th:only-of-type {\n",
              "        vertical-align: middle;\n",
              "    }\n",
              "\n",
              "    .dataframe tbody tr th {\n",
              "        vertical-align: top;\n",
              "    }\n",
              "\n",
              "    .dataframe thead th {\n",
              "        text-align: right;\n",
              "    }\n",
              "</style>\n",
              "<table border=\"1\" class=\"dataframe\">\n",
              "  <thead>\n",
              "    <tr style=\"text-align: right;\">\n",
              "      <th></th>\n",
              "      <th>article_link</th>\n",
              "      <th>headline</th>\n",
              "      <th>is_sarcastic</th>\n",
              "    </tr>\n",
              "  </thead>\n",
              "  <tbody>\n",
              "    <tr>\n",
              "      <th>0</th>\n",
              "      <td>https://www.huffingtonpost.com/entry/versace-b...</td>\n",
              "      <td>former versace store clerk sues over secret 'b...</td>\n",
              "      <td>0</td>\n",
              "    </tr>\n",
              "    <tr>\n",
              "      <th>1</th>\n",
              "      <td>https://www.huffingtonpost.com/entry/roseanne-...</td>\n",
              "      <td>the 'roseanne' revival catches up to our thorn...</td>\n",
              "      <td>0</td>\n",
              "    </tr>\n",
              "    <tr>\n",
              "      <th>2</th>\n",
              "      <td>https://local.theonion.com/mom-starting-to-fea...</td>\n",
              "      <td>mom starting to fear son's web series closest ...</td>\n",
              "      <td>1</td>\n",
              "    </tr>\n",
              "    <tr>\n",
              "      <th>3</th>\n",
              "      <td>https://politics.theonion.com/boehner-just-wan...</td>\n",
              "      <td>boehner just wants wife to listen, not come up...</td>\n",
              "      <td>1</td>\n",
              "    </tr>\n",
              "    <tr>\n",
              "      <th>4</th>\n",
              "      <td>https://www.huffingtonpost.com/entry/jk-rowlin...</td>\n",
              "      <td>j.k. rowling wishes snape happy birthday in th...</td>\n",
              "      <td>0</td>\n",
              "    </tr>\n",
              "  </tbody>\n",
              "</table>\n",
              "</div>\n",
              "      <button class=\"colab-df-convert\" onclick=\"convertToInteractive('df-8db14e12-b359-4633-aab8-d6faca0c94d6')\"\n",
              "              title=\"Convert this dataframe to an interactive table.\"\n",
              "              style=\"display:none;\">\n",
              "        \n",
              "  <svg xmlns=\"http://www.w3.org/2000/svg\" height=\"24px\"viewBox=\"0 0 24 24\"\n",
              "       width=\"24px\">\n",
              "    <path d=\"M0 0h24v24H0V0z\" fill=\"none\"/>\n",
              "    <path d=\"M18.56 5.44l.94 2.06.94-2.06 2.06-.94-2.06-.94-.94-2.06-.94 2.06-2.06.94zm-11 1L8.5 8.5l.94-2.06 2.06-.94-2.06-.94L8.5 2.5l-.94 2.06-2.06.94zm10 10l.94 2.06.94-2.06 2.06-.94-2.06-.94-.94-2.06-.94 2.06-2.06.94z\"/><path d=\"M17.41 7.96l-1.37-1.37c-.4-.4-.92-.59-1.43-.59-.52 0-1.04.2-1.43.59L10.3 9.45l-7.72 7.72c-.78.78-.78 2.05 0 2.83L4 21.41c.39.39.9.59 1.41.59.51 0 1.02-.2 1.41-.59l7.78-7.78 2.81-2.81c.8-.78.8-2.07 0-2.86zM5.41 20L4 18.59l7.72-7.72 1.47 1.35L5.41 20z\"/>\n",
              "  </svg>\n",
              "      </button>\n",
              "      \n",
              "  <style>\n",
              "    .colab-df-container {\n",
              "      display:flex;\n",
              "      flex-wrap:wrap;\n",
              "      gap: 12px;\n",
              "    }\n",
              "\n",
              "    .colab-df-convert {\n",
              "      background-color: #E8F0FE;\n",
              "      border: none;\n",
              "      border-radius: 50%;\n",
              "      cursor: pointer;\n",
              "      display: none;\n",
              "      fill: #1967D2;\n",
              "      height: 32px;\n",
              "      padding: 0 0 0 0;\n",
              "      width: 32px;\n",
              "    }\n",
              "\n",
              "    .colab-df-convert:hover {\n",
              "      background-color: #E2EBFA;\n",
              "      box-shadow: 0px 1px 2px rgba(60, 64, 67, 0.3), 0px 1px 3px 1px rgba(60, 64, 67, 0.15);\n",
              "      fill: #174EA6;\n",
              "    }\n",
              "\n",
              "    [theme=dark] .colab-df-convert {\n",
              "      background-color: #3B4455;\n",
              "      fill: #D2E3FC;\n",
              "    }\n",
              "\n",
              "    [theme=dark] .colab-df-convert:hover {\n",
              "      background-color: #434B5C;\n",
              "      box-shadow: 0px 1px 3px 1px rgba(0, 0, 0, 0.15);\n",
              "      filter: drop-shadow(0px 1px 2px rgba(0, 0, 0, 0.3));\n",
              "      fill: #FFFFFF;\n",
              "    }\n",
              "  </style>\n",
              "\n",
              "      <script>\n",
              "        const buttonEl =\n",
              "          document.querySelector('#df-8db14e12-b359-4633-aab8-d6faca0c94d6 button.colab-df-convert');\n",
              "        buttonEl.style.display =\n",
              "          google.colab.kernel.accessAllowed ? 'block' : 'none';\n",
              "\n",
              "        async function convertToInteractive(key) {\n",
              "          const element = document.querySelector('#df-8db14e12-b359-4633-aab8-d6faca0c94d6');\n",
              "          const dataTable =\n",
              "            await google.colab.kernel.invokeFunction('convertToInteractive',\n",
              "                                                     [key], {});\n",
              "          if (!dataTable) return;\n",
              "\n",
              "          const docLinkHtml = 'Like what you see? Visit the ' +\n",
              "            '<a target=\"_blank\" href=https://colab.research.google.com/notebooks/data_table.ipynb>data table notebook</a>'\n",
              "            + ' to learn more about interactive tables.';\n",
              "          element.innerHTML = '';\n",
              "          dataTable['output_type'] = 'display_data';\n",
              "          await google.colab.output.renderOutput(dataTable, element);\n",
              "          const docLink = document.createElement('div');\n",
              "          docLink.innerHTML = docLinkHtml;\n",
              "          element.appendChild(docLink);\n",
              "        }\n",
              "      </script>\n",
              "    </div>\n",
              "  </div>\n",
              "  "
            ]
          },
          "metadata": {},
          "execution_count": 5
        }
      ]
    },
    {
      "cell_type": "markdown",
      "source": [
        "More information about data"
      ],
      "metadata": {
        "id": "GbLdtVDN-lBW"
      }
    },
    {
      "cell_type": "code",
      "source": [
        "sarcasm.info()"
      ],
      "metadata": {
        "colab": {
          "base_uri": "https://localhost:8080/"
        },
        "id": "bdZDIp_f-ijf",
        "outputId": "d0b15041-15cf-4fe3-81d3-c90d7f5277bb"
      },
      "execution_count": 6,
      "outputs": [
        {
          "output_type": "stream",
          "name": "stdout",
          "text": [
            "<class 'pandas.core.frame.DataFrame'>\n",
            "RangeIndex: 26709 entries, 0 to 26708\n",
            "Data columns (total 3 columns):\n",
            " #   Column        Non-Null Count  Dtype \n",
            "---  ------        --------------  ----- \n",
            " 0   article_link  26709 non-null  object\n",
            " 1   headline      26709 non-null  object\n",
            " 2   is_sarcastic  26709 non-null  int64 \n",
            "dtypes: int64(1), object(2)\n",
            "memory usage: 626.1+ KB\n"
          ]
        }
      ]
    },
    {
      "cell_type": "markdown",
      "source": [
        "Visualize Category "
      ],
      "metadata": {
        "id": "ntnt2OWc_CZn"
      }
    },
    {
      "cell_type": "code",
      "source": [
        "sarcasm['is_sarcastic'].value_counts().plot(kind='bar', figsize=(10,8), rot=0, title='Category of sarcasm')\n",
        "plt.show()"
      ],
      "metadata": {
        "colab": {
          "base_uri": "https://localhost:8080/",
          "height": 499
        },
        "id": "S_2jM_W1-rAI",
        "outputId": "5906f63f-89a9-46ee-8139-dce1173b597d"
      },
      "execution_count": 7,
      "outputs": [
        {
          "output_type": "display_data",
          "data": {
            "text/plain": [
              "<Figure size 720x576 with 1 Axes>"
            ],
            "image/png": "[encoded data removed]"
          },
          "metadata": {
            "needs_background": "light"
          }
        }
      ]
    },
    {
      "cell_type": "markdown",
      "source": [
        "### Preparing Model"
      ],
      "metadata": {
        "id": "I8lRdjwWsv2K"
      }
    },
    {
      "cell_type": "markdown",
      "source": [
        "Set Paramters"
      ],
      "metadata": {
        "id": "Pdq6niA5syc6"
      }
    },
    {
      "cell_type": "code",
      "source": [
        "vocab_size = 1000\n",
        "embedding_dim = 16\n",
        "max_length = 120\n",
        "trunc_type = 'post'\n",
        "padding_type = 'post'\n",
        "oov_tok = \"<OOV>\"\n",
        "training_size = 20000\n",
        "\n",
        "filter = '!\"#$%&()*+.,-/:;=?@[\\]^_`{|}'"
      ],
      "metadata": {
        "id": "9K4Xh3Kusrwn"
      },
      "execution_count": 8,
      "outputs": []
    },
    {
      "cell_type": "markdown",
      "source": [
        "#### Split Data"
      ],
      "metadata": {
        "id": "QActvNyPEFTB"
      }
    },
    {
      "cell_type": "code",
      "source": [
        "def train_val_split(sentences, labels, training_split):\n",
        "  \"\"\"\n",
        "  Splits the dataset into training and validation sets\n",
        "    \n",
        "  Args:\n",
        "      sentences (list of string): lower-cased sentences without stopwords\n",
        "      labels (list of string): list of labels\n",
        "      training split (float): proportion of the dataset to convert to include in the train set\n",
        "    \n",
        "  Returns:\n",
        "      train_sentences, validation_sentences, train_labels, validation_labels - lists containing the data splits\n",
        "  \"\"\"\n",
        "\n",
        "  # Compute the number of sentences that will be used for training (should be an integer)\n",
        "  train_size = training_split\n",
        "\n",
        "  # Split the sentences and labels into train/validation splits\n",
        "  train_sentences = sentences[:train_size]\n",
        "  train_labels = labels[:train_size]\n",
        "\n",
        "  validation_sentences = sentences[train_size:]\n",
        "  validation_labels = labels[train_size:]\n",
        "    \n",
        "    \n",
        "  return train_sentences, validation_sentences, train_labels, validation_labels"
      ],
      "metadata": {
        "id": "sSA-sxw-EHSI"
      },
      "execution_count": 9,
      "outputs": []
    },
    {
      "cell_type": "code",
      "source": [
        "sentences = sarcasm['headline']\n",
        "labels = sarcasm['is_sarcastic']\n",
        "\n",
        "train_sentences, val_sentences, train_labels, val_labels = train_val_split(sentences, labels, training_size)\n",
        "\n",
        "print(f\"There are {len(train_sentences)} sentences for training.\\n\")\n",
        "print(f\"There are {len(train_labels)} labels for training.\\n\")\n",
        "print(f\"There are {len(val_sentences)} sentences for validation.\\n\")\n",
        "print(f\"There are {len(val_labels)} labels for validation.\")"
      ],
      "metadata": {
        "colab": {
          "base_uri": "https://localhost:8080/"
        },
        "id": "V3WNf28jEiHJ",
        "outputId": "7fe67706-ca64-49a3-e1b9-a607998e1bb7"
      },
      "execution_count": 10,
      "outputs": [
        {
          "output_type": "stream",
          "name": "stdout",
          "text": [
            "There are 20000 sentences for training.\n",
            "\n",
            "There are 20000 labels for training.\n",
            "\n",
            "There are 6709 sentences for validation.\n",
            "\n",
            "There are 6709 labels for validation.\n"
          ]
        }
      ]
    },
    {
      "cell_type": "markdown",
      "source": [
        "#### Tokenizer"
      ],
      "metadata": {
        "id": "sOY1Rj00t2ym"
      }
    },
    {
      "cell_type": "code",
      "source": [
        "def fit_tokenizer(sentences, num_words, oov_token, filter):\n",
        "  \"\"\"\n",
        "  Instantiates the Tokenizer class on the training sentences\n",
        "    \n",
        "  Args:\n",
        "      sentences (list of string): lower-cased sentences without stopwords to be used for training\n",
        "      num_words (int) - number of words to keep when tokenizing\n",
        "      oov_token (string) - symbol for the out-of-vocabulary token\n",
        "    \n",
        "  Returns:\n",
        "      tokenizer (object): an instance of the Tokenizer class containing the word-index dictionary\n",
        "  \"\"\"\n",
        "  # Instantiate the Tokenizer class, passing in the correct values for num_words and oov_token\n",
        "  tokenizer = Tokenizer(num_words=num_words, oov_token=oov_token, filters=filter)\n",
        "\n",
        "   # Fit the tokenizer to the training sentences\n",
        "  tokenizer.fit_on_texts(sentences)\n",
        "  \n",
        "  return tokenizer"
      ],
      "metadata": {
        "id": "r-9pyBF4s2ac"
      },
      "execution_count": 11,
      "outputs": []
    },
    {
      "cell_type": "code",
      "source": [
        "tokenizer = fit_tokenizer(train_sentences, vocab_size, oov_tok, filter)\n",
        "word_index = tokenizer.word_index\n",
        "\n",
        "print(f\"Vocabulary contains {len(word_index)} words\\n\")\n",
        "print(\"<OOV> token included in vocabulary\" if \"<OOV>\" in word_index else \"<OOV> token NOT included in vocabulary\")"
      ],
      "metadata": {
        "colab": {
          "base_uri": "https://localhost:8080/"
        },
        "id": "oemN_CMFvRBB",
        "outputId": "8b4911a8-0115-40bf-8316-25a3a294b378"
      },
      "execution_count": 12,
      "outputs": [
        {
          "output_type": "stream",
          "name": "stdout",
          "text": [
            "Vocabulary contains 25638 words\n",
            "\n",
            "<OOV> token included in vocabulary\n"
          ]
        }
      ]
    },
    {
      "cell_type": "markdown",
      "source": [
        "#### Convert text to Sequence and Add Padding"
      ],
      "metadata": {
        "id": "_4Fo-vo3v4Ur"
      }
    },
    {
      "cell_type": "code",
      "source": [
        "def seq_and_pad(sentences, tokenizer, maxlen, padding='pre', truncating='pre'):\n",
        "  \"\"\"\n",
        "  Generates an array of token sequences and pads them to the same length\n",
        "    \n",
        "  Args:\n",
        "      sentences (list of string): list of sentences to tokenize and pad\n",
        "      tokenizer (object): Tokenizer instance containing the word-index dictionary\n",
        "      padding (string): type of padding to use\n",
        "      maxlen (int): maximum length of the token sequence\n",
        "    \n",
        "  Returns:\n",
        "      padded_sequences (array of int): tokenized sentences padded to the same length\n",
        "  \"\"\"  \n",
        "  # Convert sentences to sequences\n",
        "  sequences = tokenizer.texts_to_sequences(sentences)\n",
        "    \n",
        "  # Pad the sequences using the correct padding and maxlen\n",
        "  padded_sequences = pad_sequences(sequences, \n",
        "                                   maxlen=maxlen, \n",
        "                                   padding=padding,\n",
        "                                   truncating=truncating)\n",
        "\n",
        "  return padded_sequences"
      ],
      "metadata": {
        "id": "mfpAsGq7vzDy"
      },
      "execution_count": 13,
      "outputs": []
    },
    {
      "cell_type": "code",
      "source": [
        "train_padded_seq = seq_and_pad(train_sentences, tokenizer, max_length, padding=padding_type, truncating=trunc_type)\n",
        "test_padded_seq = seq_and_pad(val_sentences, tokenizer, max_length, truncating=trunc_type)\n",
        "\n",
        "print(f\"Padded training sequences have shape: {train_padded_seq.shape}\\n\")\n",
        "print(f\"Padded validation sequences have shape: {test_padded_seq.shape}\")"
      ],
      "metadata": {
        "colab": {
          "base_uri": "https://localhost:8080/"
        },
        "id": "cnA8IMA4xNdV",
        "outputId": "4f8bfd4c-d037-4c44-f4b8-baddc0016252"
      },
      "execution_count": 14,
      "outputs": [
        {
          "output_type": "stream",
          "name": "stdout",
          "text": [
            "Padded training sequences have shape: (20000, 120)\n",
            "\n",
            "Padded validation sequences have shape: (6709, 120)\n"
          ]
        }
      ]
    },
    {
      "cell_type": "code",
      "source": [
        "train_labels = np.array(train_labels)\n",
        "test_labels = np.array(val_labels)"
      ],
      "metadata": {
        "id": "qSk9PReMJ3FP"
      },
      "execution_count": 15,
      "outputs": []
    },
    {
      "cell_type": "markdown",
      "source": [
        "#### Build Model"
      ],
      "metadata": {
        "id": "hMNgpSBHyUAW"
      }
    },
    {
      "cell_type": "code",
      "source": [
        "def build_model(num_words, embedding_dim, maxlen):\n",
        "  \"\"\"\n",
        "  Creates a text classifier model\n",
        "    \n",
        "  Args:\n",
        "      num_words (int): size of the vocabulary for the Embedding layer input\n",
        "      embedding_dim (int): dimensionality of the Embedding layer output\n",
        "      maxlen (int): length of the input sequences\n",
        "    \n",
        "  Returns:\n",
        "      model (tf.keras Model): the text classifier model\n",
        "  \"\"\"\n",
        "\n",
        "  # Define Params  \n",
        "  lr = 1e-3\n",
        "  adam = tf.keras.optimizers.Adam(learning_rate=lr) # Optimizer\n",
        "  losses = tf.keras.losses.SparseCategoricalCrossentropy()\n",
        "\n",
        "  # Define Activation Function\n",
        "  relu = tf.nn.relu\n",
        "  softmax = tf.nn.softmax\n",
        "\n",
        "  # Define model sequential\n",
        "  model = tf.keras.Sequential()\n",
        "\n",
        "  # Define layer for Embedding text\n",
        "  model.add(tf.keras.layers.Embedding(num_words, embedding_dim, input_length=maxlen))\n",
        "\n",
        "  # Flatten layers and add Dropout\n",
        "  model.add(tf.keras.layers.GlobalAveragePooling1D())\n",
        "  model.add(tf.keras.layers.Dropout(0.4))\n",
        "\n",
        "  # Define fully connected layers\n",
        "  model.add(tf.keras.layers.Dense(24, activation=relu))\n",
        "  model.add(tf.keras.layers.Dense(5, activation=softmax))\n",
        "\n",
        "  # Compile model\n",
        "  model.compile(optimizer=adam, loss=losses, metrics=['accuracy'])\n",
        "\n",
        "  # Check Summary Model\n",
        "  model.summary()\n",
        "\n",
        "  print('\\nModel Succesfully Create')\n",
        "  \n",
        "  return model"
      ],
      "metadata": {
        "id": "yDBEc9m1xZ44"
      },
      "execution_count": 16,
      "outputs": []
    },
    {
      "cell_type": "markdown",
      "source": [
        "#### Define Callbacks"
      ],
      "metadata": {
        "id": "KRzgj4tAzf_J"
      }
    },
    {
      "cell_type": "code",
      "source": [
        "model_checkpoint = tf.keras.callbacks.ModelCheckpoint(\"model.h5\", \n",
        "                                                      monitor=\"val_accuracy\",\n",
        "                                                      save_best_only=True,\n",
        "                                                      verbose=1)\n",
        "\n",
        "early_stopping = tf.keras.callbacks.EarlyStopping(monitor=\"val_accuracy\", \n",
        "                                                  patience=8, \n",
        "                                                  mode =\"max\", \n",
        "                                                  verbose=2, \n",
        "                                                  restore_best_weights=True)"
      ],
      "metadata": {
        "id": "KweSgvqAzcT5"
      },
      "execution_count": 17,
      "outputs": []
    },
    {
      "cell_type": "markdown",
      "source": [
        "### Train Model"
      ],
      "metadata": {
        "id": "oh2UKY1dzjEA"
      }
    },
    {
      "cell_type": "code",
      "source": [
        "model = build_model(vocab_size, embedding_dim, max_length)"
      ],
      "metadata": {
        "colab": {
          "base_uri": "https://localhost:8080/"
        },
        "id": "ttjLKdFAziQB",
        "outputId": "6c1ea563-7f15-4d05-acc8-b98938673c98"
      },
      "execution_count": 18,
      "outputs": [
        {
          "output_type": "stream",
          "name": "stdout",
          "text": [
            "Model: \"sequential\"\n",
            "_________________________________________________________________\n",
            " Layer (type)                Output Shape              Param #   \n",
            "=================================================================\n",
            " embedding (Embedding)       (None, 120, 16)           16000     \n",
            "                                                                 \n",
            " global_average_pooling1d (G  (None, 16)               0         \n",
            " lobalAveragePooling1D)                                          \n",
            "                                                                 \n",
            " dropout (Dropout)           (None, 16)                0         \n",
            "                                                                 \n",
            " dense (Dense)               (None, 24)                408       \n",
            "                                                                 \n",
            " dense_1 (Dense)             (None, 5)                 125       \n",
            "                                                                 \n",
            "=================================================================\n",
            "Total params: 16,533\n",
            "Trainable params: 16,533\n",
            "Non-trainable params: 0\n",
            "_________________________________________________________________\n",
            "\n",
            "Model Succesfully Create\n"
          ]
        }
      ]
    },
    {
      "cell_type": "code",
      "source": [
        "history = model.fit(train_padded_seq, train_labels, \n",
        "                    epochs=30,\n",
        "                    validation_data=(test_padded_seq, test_labels),\n",
        "                    validation_steps=30,\n",
        "                    callbacks=[model_checkpoint, early_stopping])"
      ],
      "metadata": {
        "colab": {
          "base_uri": "https://localhost:8080/"
        },
        "id": "nYhBqR0Tzyhh",
        "outputId": "16b26589-7232-493e-f59a-6cda66d14493"
      },
      "execution_count": 19,
      "outputs": [
        {
          "output_type": "stream",
          "name": "stdout",
          "text": [
            "Epoch 1/30\n",
            "620/625 [============================>.] - ETA: 0s - loss: 0.7954 - accuracy: 0.5392\n",
            "Epoch 1: val_accuracy improved from -inf to 0.56327, saving model to model.h5\n",
            "625/625 [==============================] - 5s 3ms/step - loss: 0.7947 - accuracy: 0.5388 - val_loss: 0.6872 - val_accuracy: 0.5633\n",
            "Epoch 2/30\n",
            "611/625 [============================>.] - ETA: 0s - loss: 0.6863 - accuracy: 0.5614\n",
            "Epoch 2: val_accuracy did not improve from 0.56327\n",
            "625/625 [==============================] - 2s 3ms/step - loss: 0.6861 - accuracy: 0.5621 - val_loss: 0.6798 - val_accuracy: 0.5633\n",
            "Epoch 3/30\n",
            "623/625 [============================>.] - ETA: 0s - loss: 0.6773 - accuracy: 0.5707\n",
            "Epoch 3: val_accuracy improved from 0.56327 to 0.56417, saving model to model.h5\n",
            "625/625 [==============================] - 2s 3ms/step - loss: 0.6773 - accuracy: 0.5706 - val_loss: 0.6600 - val_accuracy: 0.5642\n",
            "Epoch 4/30\n",
            "618/625 [============================>.] - ETA: 0s - loss: 0.6264 - accuracy: 0.6516\n",
            "Epoch 4: val_accuracy improved from 0.56417 to 0.76107, saving model to model.h5\n",
            "625/625 [==============================] - 2s 3ms/step - loss: 0.6258 - accuracy: 0.6525 - val_loss: 0.5582 - val_accuracy: 0.7611\n",
            "Epoch 5/30\n",
            "615/625 [============================>.] - ETA: 0s - loss: 0.5054 - accuracy: 0.7666\n",
            "Epoch 5: val_accuracy improved from 0.76107 to 0.78954, saving model to model.h5\n",
            "625/625 [==============================] - 2s 3ms/step - loss: 0.5050 - accuracy: 0.7668 - val_loss: 0.4574 - val_accuracy: 0.7895\n",
            "Epoch 6/30\n",
            "619/625 [============================>.] - ETA: 0s - loss: 0.4408 - accuracy: 0.7990\n",
            "Epoch 6: val_accuracy improved from 0.78954 to 0.79684, saving model to model.h5\n",
            "625/625 [==============================] - 2s 3ms/step - loss: 0.4409 - accuracy: 0.7987 - val_loss: 0.4353 - val_accuracy: 0.7968\n",
            "Epoch 7/30\n",
            "624/625 [============================>.] - ETA: 0s - loss: 0.4172 - accuracy: 0.8113\n",
            "Epoch 7: val_accuracy improved from 0.79684 to 0.80399, saving model to model.h5\n",
            "625/625 [==============================] - 3s 5ms/step - loss: 0.4173 - accuracy: 0.8113 - val_loss: 0.4202 - val_accuracy: 0.8040\n",
            "Epoch 8/30\n",
            "621/625 [============================>.] - ETA: 0s - loss: 0.4049 - accuracy: 0.8211\n",
            "Epoch 8: val_accuracy improved from 0.80399 to 0.81040, saving model to model.h5\n",
            "625/625 [==============================] - 3s 5ms/step - loss: 0.4048 - accuracy: 0.8213 - val_loss: 0.4122 - val_accuracy: 0.8104\n",
            "Epoch 9/30\n",
            "620/625 [============================>.] - ETA: 0s - loss: 0.3944 - accuracy: 0.8246\n",
            "Epoch 9: val_accuracy improved from 0.81040 to 0.81115, saving model to model.h5\n",
            "625/625 [==============================] - 3s 5ms/step - loss: 0.3939 - accuracy: 0.8248 - val_loss: 0.4098 - val_accuracy: 0.8111\n",
            "Epoch 10/30\n",
            "614/625 [============================>.] - ETA: 0s - loss: 0.3883 - accuracy: 0.8268\n",
            "Epoch 10: val_accuracy improved from 0.81115 to 0.81428, saving model to model.h5\n",
            "625/625 [==============================] - 3s 5ms/step - loss: 0.3883 - accuracy: 0.8266 - val_loss: 0.4051 - val_accuracy: 0.8143\n",
            "Epoch 11/30\n",
            "615/625 [============================>.] - ETA: 0s - loss: 0.3823 - accuracy: 0.8295\n",
            "Epoch 11: val_accuracy improved from 0.81428 to 0.81696, saving model to model.h5\n",
            "625/625 [==============================] - 3s 5ms/step - loss: 0.3822 - accuracy: 0.8293 - val_loss: 0.4050 - val_accuracy: 0.8170\n",
            "Epoch 12/30\n",
            "625/625 [==============================] - ETA: 0s - loss: 0.3776 - accuracy: 0.8325\n",
            "Epoch 12: val_accuracy did not improve from 0.81696\n",
            "625/625 [==============================] - 2s 3ms/step - loss: 0.3776 - accuracy: 0.8325 - val_loss: 0.4057 - val_accuracy: 0.8147\n",
            "Epoch 13/30\n",
            "609/625 [============================>.] - ETA: 0s - loss: 0.3732 - accuracy: 0.8351\n",
            "Epoch 13: val_accuracy did not improve from 0.81696\n",
            "625/625 [==============================] - 3s 4ms/step - loss: 0.3737 - accuracy: 0.8347 - val_loss: 0.4020 - val_accuracy: 0.8134\n",
            "Epoch 14/30\n",
            "614/625 [============================>.] - ETA: 0s - loss: 0.3726 - accuracy: 0.8368\n",
            "Epoch 14: val_accuracy did not improve from 0.81696\n",
            "625/625 [==============================] - 2s 4ms/step - loss: 0.3725 - accuracy: 0.8364 - val_loss: 0.4092 - val_accuracy: 0.8068\n",
            "Epoch 15/30\n",
            "621/625 [============================>.] - ETA: 0s - loss: 0.3664 - accuracy: 0.8374\n",
            "Epoch 15: val_accuracy did not improve from 0.81696\n",
            "625/625 [==============================] - 2s 3ms/step - loss: 0.3667 - accuracy: 0.8372 - val_loss: 0.4048 - val_accuracy: 0.8146\n",
            "Epoch 16/30\n",
            "624/625 [============================>.] - ETA: 0s - loss: 0.3637 - accuracy: 0.8381\n",
            "Epoch 16: val_accuracy did not improve from 0.81696\n",
            "625/625 [==============================] - 2s 3ms/step - loss: 0.3636 - accuracy: 0.8381 - val_loss: 0.4040 - val_accuracy: 0.8156\n",
            "Epoch 17/30\n",
            "617/625 [============================>.] - ETA: 0s - loss: 0.3651 - accuracy: 0.8386\n",
            "Epoch 17: val_accuracy did not improve from 0.81696\n",
            "625/625 [==============================] - 2s 3ms/step - loss: 0.3646 - accuracy: 0.8388 - val_loss: 0.4016 - val_accuracy: 0.8125\n",
            "Epoch 18/30\n",
            "614/625 [============================>.] - ETA: 0s - loss: 0.3639 - accuracy: 0.8378\n",
            "Epoch 18: val_accuracy did not improve from 0.81696\n",
            "625/625 [==============================] - 2s 3ms/step - loss: 0.3635 - accuracy: 0.8378 - val_loss: 0.4022 - val_accuracy: 0.8123\n",
            "Epoch 19/30\n",
            "616/625 [============================>.] - ETA: 0s - loss: 0.3598 - accuracy: 0.8409\n",
            "Epoch 19: val_accuracy did not improve from 0.81696\n",
            "Restoring model weights from the end of the best epoch: 11.\n",
            "625/625 [==============================] - 2s 3ms/step - loss: 0.3602 - accuracy: 0.8403 - val_loss: 0.4027 - val_accuracy: 0.8168\n",
            "Epoch 19: early stopping\n"
          ]
        }
      ]
    },
    {
      "cell_type": "markdown",
      "source": [
        "### Visualization result"
      ],
      "metadata": {
        "id": "vATp4FFY0g6T"
      }
    },
    {
      "cell_type": "code",
      "source": [
        "def visualize_result(history):\n",
        "  '''Function for Visual result'''\n",
        "  \n",
        "  acc = history.history['accuracy']\n",
        "  val_acc = history.history['val_accuracy']\n",
        "\n",
        "  loss = history.history['loss']\n",
        "  val_loss = history.history['val_loss']\n",
        "\n",
        "  plt.figure(figsize=(15, 6))\n",
        "  plt.subplot(1, 2, 1)\n",
        "  plt.plot(acc, label='Training Accuracy')\n",
        "  plt.plot(val_acc, label='Validation Accuracy')\n",
        "  plt.legend(loc='lower right')\n",
        "  plt.title('Training and Validation Accuracy')\n",
        "  plt.xlabel('Epochs')\n",
        "  plt.ylabel('Accuracy')\n",
        "\n",
        "  plt.subplot(1, 2, 2)\n",
        "  plt.plot(loss, label='Training Loss')\n",
        "  plt.plot(val_loss, label='Validation Loss')\n",
        "  plt.legend(loc='upper left')\n",
        "  plt.title('Training and Validation Loss')\n",
        "  plt.xlabel('Epochs')\n",
        "  plt.ylabel('Loss')\n",
        "  plt.show()"
      ],
      "metadata": {
        "id": "9rs9zNAL0cdc"
      },
      "execution_count": 20,
      "outputs": []
    },
    {
      "cell_type": "code",
      "source": [
        "visualize_result(history)"
      ],
      "metadata": {
        "colab": {
          "base_uri": "https://localhost:8080/",
          "height": 404
        },
        "id": "11s5bCl40eNi",
        "outputId": "075fb13d-fcf9-4662-d593-ac0f3221c967"
      },
      "execution_count": 21,
      "outputs": [
        {
          "output_type": "display_data",
          "data": {
            "text/plain": [
              "<Figure size 1080x432 with 2 Axes>"
            ],
            "image/png": "[encoded data removed]"
          },
          "metadata": {
            "needs_background": "light"
          }
        }
      ]
    },
    {
      "cell_type": "markdown",
      "source": [
        "### Download Model"
      ],
      "metadata": {
        "id": "Ra7WP2j70y07"
      }
    },
    {
      "cell_type": "code",
      "source": [
        "from google.colab import files\n",
        "files.download('model.h5')"
      ],
      "metadata": {
        "id": "nrlFCXyZ01Bt"
      },
      "execution_count": null,
      "outputs": []
    }
  ]
}