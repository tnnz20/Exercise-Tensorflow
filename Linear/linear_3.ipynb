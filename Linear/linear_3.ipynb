{
 "cells": [
  {
   "cell_type": "markdown",
   "metadata": {},
   "source": [
    "# Linear Problem"
   ]
  },
  {
   "cell_type": "markdown",
   "metadata": {},
   "source": [
    "## Importing Module"
   ]
  },
  {
   "cell_type": "code",
   "execution_count": 18,
   "metadata": {},
   "outputs": [
    {
     "name": "stdout",
     "output_type": "stream",
     "text": [
      "Tensorflow version: 2.9.1\n",
      "Numpy version: 1.23.0\n"
     ]
    }
   ],
   "source": [
    "import numpy as np\n",
    "import tensorflow as tf\n",
    "\n",
    "print(f'Tensorflow version: {tf.__version__}')\n",
    "print(f'Numpy version: {np.__version__}')"
   ]
  },
  {
   "cell_type": "markdown",
   "metadata": {},
   "source": [
    "## PROBLEM 3\n",
    "---\n",
    "\n",
    "Given two arrays, train a neural network model to match the X to the Y.\n",
    "Predict the model with new values of `X [-2.0, 10.0]`\n",
    "We provide the model prediction, do not change the code.\n",
    "\n",
    " The test infrastructure expects a trained model that accepts\n",
    " an input shape of `[1]`.\n",
    " Do not use lambda layers in your model.\n",
    "\n",
    " Please be aware that this is a linear model.\n",
    " We will test your model with values in a range as defined in the array to make sure your model is linear.\n",
    "\n",
    " **Desired loss (MSE) < 1e-4**"
   ]
  },
  {
   "cell_type": "markdown",
   "metadata": {},
   "source": [
    "### Define Function"
   ]
  },
  {
   "cell_type": "markdown",
   "metadata": {},
   "source": [
    "#### Build Model"
   ]
  },
  {
   "cell_type": "code",
   "execution_count": 19,
   "metadata": {},
   "outputs": [],
   "source": [
    "def build_model():\n",
    "    \"\"\"\n",
    "    Creates a linear model\n",
    "\n",
    "    Returns:\n",
    "      model (tf.keras Model): the linear model\n",
    "    \"\"\"\n",
    "    \n",
    "    # Define Params\n",
    "    lr = 1e-1\n",
    "    adam = tf.keras.optimizers.Adam(learning_rate=lr) # Optimizer\n",
    "    mse = tf.keras.losses.MeanSquaredError()\n",
    "\n",
    "    # Define Model Sequential\n",
    "    model = tf.keras.Sequential()\n",
    "\n",
    "    # Define Layers\n",
    "    model.add(tf.keras.layers.Dense(units=1, input_shape=[1]))\n",
    "\n",
    "    # Compile Model\n",
    "    model.compile(optimizer=adam, loss=mse, metrics=['mse'])\n",
    "\n",
    "    # Check Summary Model\n",
    "    model.summary()\n",
    "\n",
    "    print(f'Model Succesfully Create')\n",
    "    return model"
   ]
  },
  {
   "cell_type": "markdown",
   "metadata": {},
   "source": [
    "#### Customize Callbacks "
   ]
  },
  {
   "cell_type": "code",
   "execution_count": 20,
   "metadata": {},
   "outputs": [],
   "source": [
    "class MyCallback(tf.keras.callbacks.Callback):\n",
    "        def on_epoch_end(self, epochs, logs):\n",
    "            if logs.get('loss') < 1e-4:\n",
    "                print('\\nMSE loss was < 1e-4, stop training...')\n",
    "                self.model.stop_training = True"
   ]
  },
  {
   "cell_type": "markdown",
   "metadata": {},
   "source": [
    "### Train Model"
   ]
  },
  {
   "cell_type": "markdown",
   "metadata": {},
   "source": [
    "#### Input "
   ]
  },
  {
   "cell_type": "code",
   "execution_count": 21,
   "metadata": {},
   "outputs": [],
   "source": [
    "X = np.array([-1.0, 0.0, 1.0, 2.0, 3.0, 4.0, 5.0 ], dtype=float)\n",
    "Y = np.array([0.5, 1.0, 1.5, 2.0, 2.5, 3.0, 3.5 ], dtype=float)"
   ]
  },
  {
   "cell_type": "markdown",
   "metadata": {},
   "source": [
    "#### Define Callback"
   ]
  },
  {
   "cell_type": "code",
   "execution_count": 22,
   "metadata": {},
   "outputs": [],
   "source": [
    "callbacks = MyCallback()"
   ]
  },
  {
   "cell_type": "markdown",
   "metadata": {},
   "source": [
    "#### Build Model"
   ]
  },
  {
   "cell_type": "code",
   "execution_count": 23,
   "metadata": {},
   "outputs": [
    {
     "name": "stdout",
     "output_type": "stream",
     "text": [
      "Model: \"sequential_1\"\n",
      "_________________________________________________________________\n",
      " Layer (type)                Output Shape              Param #   \n",
      "=================================================================\n",
      " dense_1 (Dense)             (None, 1)                 2         \n",
      "                                                                 \n",
      "=================================================================\n",
      "Total params: 2\n",
      "Trainable params: 2\n",
      "Non-trainable params: 0\n",
      "_________________________________________________________________\n",
      "Model Succesfully Create\n"
     ]
    }
   ],
   "source": [
    "model = build_model()"
   ]
  },
  {
   "cell_type": "markdown",
   "metadata": {},
   "source": [
    "#### Training Proses"
   ]
  },
  {
   "cell_type": "code",
   "execution_count": 24,
   "metadata": {},
   "outputs": [
    {
     "name": "stdout",
     "output_type": "stream",
     "text": [
      "Epoch 1/500\n",
      "1/1 [==============================] - 2s 2s/step - loss: 5.9014 - mse: 5.9014\n",
      "Epoch 2/500\n",
      "1/1 [==============================] - 1s 599ms/step - loss: 4.4880 - mse: 4.4880\n",
      "Epoch 3/500\n",
      "1/1 [==============================] - 0s 16ms/step - loss: 3.3437 - mse: 3.3437\n",
      "Epoch 4/500\n",
      "1/1 [==============================] - 0s 8ms/step - loss: 2.4672 - mse: 2.4672\n",
      "Epoch 5/500\n",
      "1/1 [==============================] - 0s 8ms/step - loss: 1.8470 - mse: 1.8470\n",
      "Epoch 6/500\n",
      "1/1 [==============================] - 0s 16ms/step - loss: 1.4569 - mse: 1.4569\n",
      "Epoch 7/500\n",
      "1/1 [==============================] - 0s 8ms/step - loss: 1.2531 - mse: 1.2531\n",
      "Epoch 8/500\n",
      "1/1 [==============================] - 0s 16ms/step - loss: 1.1798 - mse: 1.1798\n",
      "Epoch 9/500\n",
      "1/1 [==============================] - 0s 8ms/step - loss: 1.1812 - mse: 1.1812\n",
      "Epoch 10/500\n",
      "1/1 [==============================] - 0s 8ms/step - loss: 1.2116 - mse: 1.2116\n",
      "Epoch 11/500\n",
      "1/1 [==============================] - 0s 16ms/step - loss: 1.2375 - mse: 1.2375\n",
      "Epoch 12/500\n",
      "1/1 [==============================] - 0s 8ms/step - loss: 1.2375 - mse: 1.2375\n",
      "Epoch 13/500\n",
      "1/1 [==============================] - 0s 8ms/step - loss: 1.2008 - mse: 1.2008\n",
      "Epoch 14/500\n",
      "1/1 [==============================] - 0s 8ms/step - loss: 1.1254 - mse: 1.1254\n",
      "Epoch 15/500\n",
      "1/1 [==============================] - 0s 8ms/step - loss: 1.0165 - mse: 1.0165\n",
      "Epoch 16/500\n",
      "1/1 [==============================] - 0s 8ms/step - loss: 0.8839 - mse: 0.8839\n",
      "Epoch 17/500\n",
      "1/1 [==============================] - 0s 8ms/step - loss: 0.7398 - mse: 0.7398\n",
      "Epoch 18/500\n",
      "1/1 [==============================] - 0s 8ms/step - loss: 0.5965 - mse: 0.5965\n",
      "Epoch 19/500\n",
      "1/1 [==============================] - 0s 8ms/step - loss: 0.4652 - mse: 0.4652\n",
      "Epoch 20/500\n",
      "1/1 [==============================] - 0s 8ms/step - loss: 0.3540 - mse: 0.3540\n",
      "Epoch 21/500\n",
      "1/1 [==============================] - 0s 8ms/step - loss: 0.2679 - mse: 0.2679\n",
      "Epoch 22/500\n",
      "1/1 [==============================] - 0s 8ms/step - loss: 0.2081 - mse: 0.2081\n",
      "Epoch 23/500\n",
      "1/1 [==============================] - 0s 8ms/step - loss: 0.1723 - mse: 0.1723\n",
      "Epoch 24/500\n",
      "1/1 [==============================] - 0s 8ms/step - loss: 0.1558 - mse: 0.1558\n",
      "Epoch 25/500\n",
      "1/1 [==============================] - 0s 8ms/step - loss: 0.1521 - mse: 0.1521\n",
      "Epoch 26/500\n",
      "1/1 [==============================] - 0s 8ms/step - loss: 0.1542 - mse: 0.1542\n",
      "Epoch 27/500\n",
      "1/1 [==============================] - 0s 8ms/step - loss: 0.1561 - mse: 0.1561\n",
      "Epoch 28/500\n",
      "1/1 [==============================] - 0s 16ms/step - loss: 0.1532 - mse: 0.1532\n",
      "Epoch 29/500\n",
      "1/1 [==============================] - 0s 16ms/step - loss: 0.1433 - mse: 0.1433\n",
      "Epoch 30/500\n",
      "1/1 [==============================] - 0s 8ms/step - loss: 0.1260 - mse: 0.1260\n",
      "Epoch 31/500\n",
      "1/1 [==============================] - 0s 8ms/step - loss: 0.1031 - mse: 0.1031\n",
      "Epoch 32/500\n",
      "1/1 [==============================] - 0s 8ms/step - loss: 0.0773 - mse: 0.0773\n",
      "Epoch 33/500\n",
      "1/1 [==============================] - 0s 8ms/step - loss: 0.0518 - mse: 0.0518\n",
      "Epoch 34/500\n",
      "1/1 [==============================] - 0s 8ms/step - loss: 0.0297 - mse: 0.0297\n",
      "Epoch 35/500\n",
      "1/1 [==============================] - 0s 8ms/step - loss: 0.0132 - mse: 0.0132\n",
      "Epoch 36/500\n",
      "1/1 [==============================] - 0s 8ms/step - loss: 0.0034 - mse: 0.0034\n",
      "Epoch 37/500\n",
      "1/1 [==============================] - 0s 16ms/step - loss: 2.8647e-04 - mse: 2.8647e-04\n",
      "Epoch 38/500\n",
      "1/1 [==============================] - 0s 16ms/step - loss: 0.0026 - mse: 0.0026\n",
      "Epoch 39/500\n",
      "1/1 [==============================] - 0s 16ms/step - loss: 0.0085 - mse: 0.0085\n",
      "Epoch 40/500\n",
      "1/1 [==============================] - 0s 8ms/step - loss: 0.0158 - mse: 0.0158\n",
      "Epoch 41/500\n",
      "1/1 [==============================] - 0s 16ms/step - loss: 0.0225 - mse: 0.0225\n",
      "Epoch 42/500\n",
      "1/1 [==============================] - 0s 8ms/step - loss: 0.0272 - mse: 0.0272\n",
      "Epoch 43/500\n",
      "1/1 [==============================] - 0s 16ms/step - loss: 0.0290 - mse: 0.0290\n",
      "Epoch 44/500\n",
      "1/1 [==============================] - 0s 8ms/step - loss: 0.0281 - mse: 0.0281\n",
      "Epoch 45/500\n",
      "1/1 [==============================] - 0s 8ms/step - loss: 0.0250 - mse: 0.0250\n",
      "Epoch 46/500\n",
      "1/1 [==============================] - 0s 8ms/step - loss: 0.0206 - mse: 0.0206\n",
      "Epoch 47/500\n",
      "1/1 [==============================] - 0s 8ms/step - loss: 0.0161 - mse: 0.0161\n",
      "Epoch 48/500\n",
      "1/1 [==============================] - 0s 8ms/step - loss: 0.0124 - mse: 0.0124\n",
      "Epoch 49/500\n",
      "1/1 [==============================] - 0s 16ms/step - loss: 0.0101 - mse: 0.0101\n",
      "Epoch 50/500\n",
      "1/1 [==============================] - 0s 16ms/step - loss: 0.0094 - mse: 0.0094\n",
      "Epoch 51/500\n",
      "1/1 [==============================] - 0s 8ms/step - loss: 0.0101 - mse: 0.0101\n",
      "Epoch 52/500\n",
      "1/1 [==============================] - 0s 8ms/step - loss: 0.0116 - mse: 0.0116\n",
      "Epoch 53/500\n",
      "1/1 [==============================] - 0s 8ms/step - loss: 0.0133 - mse: 0.0133\n",
      "Epoch 54/500\n",
      "1/1 [==============================] - 0s 8ms/step - loss: 0.0147 - mse: 0.0147\n",
      "Epoch 55/500\n",
      "1/1 [==============================] - 0s 8ms/step - loss: 0.0153 - mse: 0.0153\n",
      "Epoch 56/500\n",
      "1/1 [==============================] - 0s 8ms/step - loss: 0.0149 - mse: 0.0149\n",
      "Epoch 57/500\n",
      "1/1 [==============================] - 0s 8ms/step - loss: 0.0135 - mse: 0.0135\n",
      "Epoch 58/500\n",
      "1/1 [==============================] - 0s 8ms/step - loss: 0.0115 - mse: 0.0115\n",
      "Epoch 59/500\n",
      "1/1 [==============================] - 0s 8ms/step - loss: 0.0093 - mse: 0.0093\n",
      "Epoch 60/500\n",
      "1/1 [==============================] - 0s 8ms/step - loss: 0.0071 - mse: 0.0071\n",
      "Epoch 61/500\n",
      "1/1 [==============================] - 0s 8ms/step - loss: 0.0054 - mse: 0.0054\n",
      "Epoch 62/500\n",
      "1/1 [==============================] - 0s 8ms/step - loss: 0.0042 - mse: 0.0042\n",
      "Epoch 63/500\n",
      "1/1 [==============================] - 0s 8ms/step - loss: 0.0036 - mse: 0.0036\n",
      "Epoch 64/500\n",
      "1/1 [==============================] - 0s 8ms/step - loss: 0.0034 - mse: 0.0034\n",
      "Epoch 65/500\n",
      "1/1 [==============================] - 0s 8ms/step - loss: 0.0035 - mse: 0.0035\n",
      "Epoch 66/500\n",
      "1/1 [==============================] - 0s 8ms/step - loss: 0.0036 - mse: 0.0036\n",
      "Epoch 67/500\n",
      "1/1 [==============================] - 0s 16ms/step - loss: 0.0035 - mse: 0.0035\n",
      "Epoch 68/500\n",
      "1/1 [==============================] - 0s 16ms/step - loss: 0.0032 - mse: 0.0032\n",
      "Epoch 69/500\n",
      "1/1 [==============================] - 0s 8ms/step - loss: 0.0027 - mse: 0.0027\n",
      "Epoch 70/500\n",
      "1/1 [==============================] - 0s 8ms/step - loss: 0.0020 - mse: 0.0020\n",
      "Epoch 71/500\n",
      "1/1 [==============================] - 0s 48ms/step - loss: 0.0014 - mse: 0.0014\n",
      "Epoch 72/500\n",
      "1/1 [==============================] - 0s 16ms/step - loss: 7.4346e-04 - mse: 7.4346e-04\n",
      "Epoch 73/500\n",
      "1/1 [==============================] - 0s 16ms/step - loss: 3.1145e-04 - mse: 3.1145e-04\n",
      "Epoch 74/500\n",
      "1/1 [==============================] - ETA: 0s - loss: 9.4416e-05 - mse: 9.4416e-05\n",
      "MSE loss was < 1e-4, stop training...\n",
      "1/1 [==============================] - 0s 24ms/step - loss: 9.4416e-05 - mse: 9.4416e-05\n"
     ]
    },
    {
     "data": {
      "text/plain": [
       "<keras.callbacks.History at 0x1f74819f130>"
      ]
     },
     "execution_count": 24,
     "metadata": {},
     "output_type": "execute_result"
    }
   ],
   "source": [
    "model.fit(X, Y, epochs=500, callbacks=[callbacks])"
   ]
  },
  {
   "cell_type": "markdown",
   "metadata": {},
   "source": [
    "### Test Model"
   ]
  },
  {
   "cell_type": "code",
   "execution_count": 25,
   "metadata": {},
   "outputs": [
    {
     "name": "stdout",
     "output_type": "stream",
     "text": [
      "1/1 [==============================] - 0s 152ms/step\n"
     ]
    },
    {
     "data": {
      "text/plain": [
       "array([[0.01148754],\n",
       "       [6.0028486 ]], dtype=float32)"
      ]
     },
     "execution_count": 25,
     "metadata": {},
     "output_type": "execute_result"
    }
   ],
   "source": [
    "model.predict([-2.0, 10.0])"
   ]
  },
  {
   "cell_type": "markdown",
   "metadata": {},
   "source": [
    "### Save Model"
   ]
  },
  {
   "cell_type": "code",
   "execution_count": null,
   "metadata": {},
   "outputs": [],
   "source": [
    "model.save(\"model.h5\")"
   ]
  }
 ],
 "metadata": {
  "kernelspec": {
   "display_name": "Python 3.10.5 64-bit",
   "language": "python",
   "name": "python3"
  },
  "language_info": {
   "codemirror_mode": {
    "name": "ipython",
    "version": 3
   },
   "file_extension": ".py",
   "mimetype": "text/x-python",
   "name": "python",
   "nbconvert_exporter": "python",
   "pygments_lexer": "ipython3",
   "version": "3.10.5"
  },
  "orig_nbformat": 4,
  "vscode": {
   "interpreter": {
    "hash": "df95319d8ce4e1d89f5365ae10992bc1f65da593082b1d264e8f529830ec2f02"
   }
  }
 },
 "nbformat": 4,
 "nbformat_minor": 2
}
