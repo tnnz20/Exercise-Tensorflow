{
  "nbformat": 4,
  "nbformat_minor": 0,
  "metadata": {
    "colab": {
      "name": "time_series.ipynb",
      "provenance": []
    },
    "kernelspec": {
      "name": "python3",
      "display_name": "Python 3"
    },
    "language_info": {
      "name": "python"
    },
    "gpuClass": "standard",
    "accelerator": "GPU"
  },
  "cells": [
    {
      "cell_type": "markdown",
      "source": [
        "# Time Series"
      ],
      "metadata": {
        "id": "R5wmh2YtX5Uv"
      }
    },
    {
      "cell_type": "markdown",
      "source": [
        "## Importing Module"
      ],
      "metadata": {
        "id": "nQJMbdgtX94G"
      }
    },
    {
      "cell_type": "code",
      "execution_count": 1,
      "metadata": {
        "colab": {
          "base_uri": "https://localhost:8080/"
        },
        "id": "ub4OVT53X1_e",
        "outputId": "f686c1a9-8e56-4be4-d733-aa0a70b4e23a"
      },
      "outputs": [
        {
          "output_type": "stream",
          "name": "stdout",
          "text": [
            "Tensorflow version: 2.8.2\n"
          ]
        }
      ],
      "source": [
        "import os\n",
        "import csv\n",
        "import urllib\n",
        "\n",
        "import pandas as pd\n",
        "import numpy as np\n",
        "import tensorflow as tf\n",
        "\n",
        "from matplotlib import pyplot as plt\n",
        "\n",
        "%matplotlib inline\n",
        "plt.style.use('seaborn')\n",
        "print(f'Tensorflow version: {tf.__version__}')"
      ]
    },
    {
      "cell_type": "markdown",
      "source": [
        "## PROBLEM A5\n",
        "\n",
        "- Build and train a neural network model using the Sunspots.csv dataset.\n",
        "- Use MAE as the metrics of your neural network model.\n",
        "- We provided code for normalizing the data. Please do not change the code.\n",
        "- Do not use lambda layers in your model.\n",
        "- The dataset used in this problem is downloaded from kaggle.com/robervalt/sunspots\n",
        "- Desired `MAE` < `0.15` on the normalized dataset."
      ],
      "metadata": {
        "id": "5e_IKkwoYW4o"
      }
    },
    {
      "cell_type": "markdown",
      "source": [
        "### Prepare Data"
      ],
      "metadata": {
        "id": "F8DRKysyYXnX"
      }
    },
    {
      "cell_type": "code",
      "source": [
        "data_url = 'https://github.com/dicodingacademy/assets/raw/main/Simulation/machine_learning/sunspots.csv'\n",
        "name_file = 'sunspots.csv'\n",
        "\n",
        "if os.path.isfile(name_file) == False:\n",
        "  urllib.request.urlretrieve(data_url, name_file)\n",
        "  print(f'{name_file} Downloaded')\n",
        "else:\n",
        "  print(f'{name_file} Already exist')"
      ],
      "metadata": {
        "colab": {
          "base_uri": "https://localhost:8080/"
        },
        "id": "2jrgrw6RYZyf",
        "outputId": "f486bca5-b838-4ce7-ff41-83045aefdb5e"
      },
      "execution_count": 2,
      "outputs": [
        {
          "output_type": "stream",
          "name": "stdout",
          "text": [
            "sunspots.csv Downloaded\n"
          ]
        }
      ]
    },
    {
      "cell_type": "markdown",
      "source": [
        "### Analysis Data with Pandas"
      ],
      "metadata": {
        "id": "N_P468KHd_aS"
      }
    },
    {
      "cell_type": "code",
      "source": [
        "df = pd.read_csv(name_file, index_col=0)\n",
        "df.head()"
      ],
      "metadata": {
        "colab": {
          "base_uri": "https://localhost:8080/",
          "height": 206
        },
        "id": "VB2GXQgtZgya",
        "outputId": "f2b9b33c-24bd-4905-86b4-3b962ae82d3b"
      },
      "execution_count": 3,
      "outputs": [
        {
          "output_type": "execute_result",
          "data": {
            "text/plain": [
              "         Date  Monthly Mean Total Sunspot Number\n",
              "0  1749-01-31                               96.7\n",
              "1  1749-02-28                              104.3\n",
              "2  1749-03-31                              116.7\n",
              "3  1749-04-30                               92.8\n",
              "4  1749-05-31                              141.7"
            ],
            "text/html": [
              "\n",
              "  <div id=\"df-3b466d31-ab72-46d7-9bcd-07de19b1bcb5\">\n",
              "    <div class=\"colab-df-container\">\n",
              "      <div>\n",
              "<style scoped>\n",
              "    .dataframe tbody tr th:only-of-type {\n",
              "        vertical-align: middle;\n",
              "    }\n",
              "\n",
              "    .dataframe tbody tr th {\n",
              "        vertical-align: top;\n",
              "    }\n",
              "\n",
              "    .dataframe thead th {\n",
              "        text-align: right;\n",
              "    }\n",
              "</style>\n",
              "<table border=\"1\" class=\"dataframe\">\n",
              "  <thead>\n",
              "    <tr style=\"text-align: right;\">\n",
              "      <th></th>\n",
              "      <th>Date</th>\n",
              "      <th>Monthly Mean Total Sunspot Number</th>\n",
              "    </tr>\n",
              "  </thead>\n",
              "  <tbody>\n",
              "    <tr>\n",
              "      <th>0</th>\n",
              "      <td>1749-01-31</td>\n",
              "      <td>96.7</td>\n",
              "    </tr>\n",
              "    <tr>\n",
              "      <th>1</th>\n",
              "      <td>1749-02-28</td>\n",
              "      <td>104.3</td>\n",
              "    </tr>\n",
              "    <tr>\n",
              "      <th>2</th>\n",
              "      <td>1749-03-31</td>\n",
              "      <td>116.7</td>\n",
              "    </tr>\n",
              "    <tr>\n",
              "      <th>3</th>\n",
              "      <td>1749-04-30</td>\n",
              "      <td>92.8</td>\n",
              "    </tr>\n",
              "    <tr>\n",
              "      <th>4</th>\n",
              "      <td>1749-05-31</td>\n",
              "      <td>141.7</td>\n",
              "    </tr>\n",
              "  </tbody>\n",
              "</table>\n",
              "</div>\n",
              "      <button class=\"colab-df-convert\" onclick=\"convertToInteractive('df-3b466d31-ab72-46d7-9bcd-07de19b1bcb5')\"\n",
              "              title=\"Convert this dataframe to an interactive table.\"\n",
              "              style=\"display:none;\">\n",
              "        \n",
              "  <svg xmlns=\"http://www.w3.org/2000/svg\" height=\"24px\"viewBox=\"0 0 24 24\"\n",
              "       width=\"24px\">\n",
              "    <path d=\"M0 0h24v24H0V0z\" fill=\"none\"/>\n",
              "    <path d=\"M18.56 5.44l.94 2.06.94-2.06 2.06-.94-2.06-.94-.94-2.06-.94 2.06-2.06.94zm-11 1L8.5 8.5l.94-2.06 2.06-.94-2.06-.94L8.5 2.5l-.94 2.06-2.06.94zm10 10l.94 2.06.94-2.06 2.06-.94-2.06-.94-.94-2.06-.94 2.06-2.06.94z\"/><path d=\"M17.41 7.96l-1.37-1.37c-.4-.4-.92-.59-1.43-.59-.52 0-1.04.2-1.43.59L10.3 9.45l-7.72 7.72c-.78.78-.78 2.05 0 2.83L4 21.41c.39.39.9.59 1.41.59.51 0 1.02-.2 1.41-.59l7.78-7.78 2.81-2.81c.8-.78.8-2.07 0-2.86zM5.41 20L4 18.59l7.72-7.72 1.47 1.35L5.41 20z\"/>\n",
              "  </svg>\n",
              "      </button>\n",
              "      \n",
              "  <style>\n",
              "    .colab-df-container {\n",
              "      display:flex;\n",
              "      flex-wrap:wrap;\n",
              "      gap: 12px;\n",
              "    }\n",
              "\n",
              "    .colab-df-convert {\n",
              "      background-color: #E8F0FE;\n",
              "      border: none;\n",
              "      border-radius: 50%;\n",
              "      cursor: pointer;\n",
              "      display: none;\n",
              "      fill: #1967D2;\n",
              "      height: 32px;\n",
              "      padding: 0 0 0 0;\n",
              "      width: 32px;\n",
              "    }\n",
              "\n",
              "    .colab-df-convert:hover {\n",
              "      background-color: #E2EBFA;\n",
              "      box-shadow: 0px 1px 2px rgba(60, 64, 67, 0.3), 0px 1px 3px 1px rgba(60, 64, 67, 0.15);\n",
              "      fill: #174EA6;\n",
              "    }\n",
              "\n",
              "    [theme=dark] .colab-df-convert {\n",
              "      background-color: #3B4455;\n",
              "      fill: #D2E3FC;\n",
              "    }\n",
              "\n",
              "    [theme=dark] .colab-df-convert:hover {\n",
              "      background-color: #434B5C;\n",
              "      box-shadow: 0px 1px 3px 1px rgba(0, 0, 0, 0.15);\n",
              "      filter: drop-shadow(0px 1px 2px rgba(0, 0, 0, 0.3));\n",
              "      fill: #FFFFFF;\n",
              "    }\n",
              "  </style>\n",
              "\n",
              "      <script>\n",
              "        const buttonEl =\n",
              "          document.querySelector('#df-3b466d31-ab72-46d7-9bcd-07de19b1bcb5 button.colab-df-convert');\n",
              "        buttonEl.style.display =\n",
              "          google.colab.kernel.accessAllowed ? 'block' : 'none';\n",
              "\n",
              "        async function convertToInteractive(key) {\n",
              "          const element = document.querySelector('#df-3b466d31-ab72-46d7-9bcd-07de19b1bcb5');\n",
              "          const dataTable =\n",
              "            await google.colab.kernel.invokeFunction('convertToInteractive',\n",
              "                                                     [key], {});\n",
              "          if (!dataTable) return;\n",
              "\n",
              "          const docLinkHtml = 'Like what you see? Visit the ' +\n",
              "            '<a target=\"_blank\" href=https://colab.research.google.com/notebooks/data_table.ipynb>data table notebook</a>'\n",
              "            + ' to learn more about interactive tables.';\n",
              "          element.innerHTML = '';\n",
              "          dataTable['output_type'] = 'display_data';\n",
              "          await google.colab.output.renderOutput(dataTable, element);\n",
              "          const docLink = document.createElement('div');\n",
              "          docLink.innerHTML = docLinkHtml;\n",
              "          element.appendChild(docLink);\n",
              "        }\n",
              "      </script>\n",
              "    </div>\n",
              "  </div>\n",
              "  "
            ]
          },
          "metadata": {},
          "execution_count": 3
        }
      ]
    },
    {
      "cell_type": "code",
      "source": [
        "df.columns = ['date', 'monthly_mean']"
      ],
      "metadata": {
        "id": "Z96SES2mcyF0"
      },
      "execution_count": 4,
      "outputs": []
    },
    {
      "cell_type": "code",
      "source": [
        "df['date'] = pd.to_datetime(df['date'])\n",
        "df.info()"
      ],
      "metadata": {
        "colab": {
          "base_uri": "https://localhost:8080/"
        },
        "id": "ea9qRzP7badX",
        "outputId": "f5562c4a-7b35-429e-ec75-5cfe4d6312b1"
      },
      "execution_count": 5,
      "outputs": [
        {
          "output_type": "stream",
          "name": "stdout",
          "text": [
            "<class 'pandas.core.frame.DataFrame'>\n",
            "Int64Index: 3265 entries, 0 to 3264\n",
            "Data columns (total 2 columns):\n",
            " #   Column        Non-Null Count  Dtype         \n",
            "---  ------        --------------  -----         \n",
            " 0   date          3265 non-null   datetime64[ns]\n",
            " 1   monthly_mean  3265 non-null   float64       \n",
            "dtypes: datetime64[ns](1), float64(1)\n",
            "memory usage: 76.5 KB\n"
          ]
        }
      ]
    },
    {
      "cell_type": "code",
      "source": [
        "plt.figure(figsize=(15,10))\n",
        "plt.plot(df['date'], df['monthly_mean'])\n",
        "plt.show()"
      ],
      "metadata": {
        "colab": {
          "base_uri": "https://localhost:8080/",
          "height": 592
        },
        "id": "Eciwq9ITc-NR",
        "outputId": "b4763eb5-ed57-4831-80f5-380e9e69c4a0"
      },
      "execution_count": 6,
      "outputs": [
        {
          "output_type": "display_data",
          "data": {
            "text/plain": [
              "<Figure size 1080x720 with 1 Axes>"
            ],
            "image/png": "[encoded data removed]"
          },
          "metadata": {
            "needs_background": "light"
          }
        }
      ]
    },
    {
      "cell_type": "markdown",
      "source": [
        "### Open with Csv module"
      ],
      "metadata": {
        "id": "ODq-aehqeZii"
      }
    },
    {
      "cell_type": "code",
      "source": [
        "time_step = []\n",
        "sunspots = []\n",
        "\n",
        "with open(name_file, 'r') as csvfile:\n",
        "  reader = csv.reader(csvfile, delimiter=',')\n",
        "  next(reader)\n",
        "  for row in reader:\n",
        "    sunspots.append(float(row[2]))\n",
        "    time_step.append(int(row[0]))\n",
        "\n",
        "series = np.array(sunspots)\n",
        "time = np.array(time_step)"
      ],
      "metadata": {
        "id": "Oqru0y-cd6fk"
      },
      "execution_count": 7,
      "outputs": []
    },
    {
      "cell_type": "markdown",
      "source": [
        "### Normalization Data"
      ],
      "metadata": {
        "id": "CbgMubp3g5XX"
      }
    },
    {
      "cell_type": "code",
      "source": [
        "min = np.min(series)\n",
        "max = np.max(series)\n",
        "series -= min\n",
        "series /= max"
      ],
      "metadata": {
        "id": "5HmH4z3qg4B8"
      },
      "execution_count": 8,
      "outputs": []
    },
    {
      "cell_type": "markdown",
      "source": [
        "### Set Params"
      ],
      "metadata": {
        "id": "vvOv3nTBhEN9"
      }
    },
    {
      "cell_type": "code",
      "source": [
        "split_time = 3000\n",
        "\n",
        "window_size = 30\n",
        "batch_size = 32\n",
        "shuffle_buffer_size = 1000\n",
        "\n",
        "desired_accuracy = 0.15"
      ],
      "metadata": {
        "id": "AnfzkhQThFcq"
      },
      "execution_count": 9,
      "outputs": []
    },
    {
      "cell_type": "markdown",
      "source": [
        "### Fixed Partition"
      ],
      "metadata": {
        "id": "BPuaI0V9hZm8"
      }
    },
    {
      "cell_type": "code",
      "source": [
        "time_train = time[:split_time]\n",
        "x_train = series[:split_time]\n",
        "time_valid = time[split_time:]\n",
        "x_valid = series[split_time:]"
      ],
      "metadata": {
        "id": "dMEoHIgzhZa0"
      },
      "execution_count": 10,
      "outputs": []
    },
    {
      "cell_type": "markdown",
      "source": [
        "### Windowing Datasets"
      ],
      "metadata": {
        "id": "XHaXFkdNY4aJ"
      }
    },
    {
      "cell_type": "code",
      "source": [
        "def windowed_dataset(series, window_size, batch_size, shuffle_buffer):\n",
        "    series = tf.expand_dims(series, axis=-1)\n",
        "    ds = tf.data.Dataset.from_tensor_slices(series)\n",
        "    ds = ds.window(window_size + 1, shift=1, drop_remainder=True)\n",
        "    ds = ds.flat_map(lambda w: w.batch(window_size + 1))\n",
        "    ds = ds.shuffle(shuffle_buffer)\n",
        "    ds = ds.map(lambda w: (w[:-1], w[1:]))\n",
        "    return ds.batch(batch_size).prefetch(1)"
      ],
      "metadata": {
        "id": "h42-Gu2AYwEj"
      },
      "execution_count": 11,
      "outputs": []
    },
    {
      "cell_type": "code",
      "source": [
        "train_set=windowed_dataset(x_train, window_size=window_size,\n",
        "                               batch_size=batch_size, shuffle_buffer=shuffle_buffer_size)"
      ],
      "metadata": {
        "id": "vM_j_haRi61o"
      },
      "execution_count": 12,
      "outputs": []
    },
    {
      "cell_type": "markdown",
      "source": [
        "### Create Custom Callbacks"
      ],
      "metadata": {
        "id": "i4Fz5GUFjJLV"
      }
    },
    {
      "cell_type": "code",
      "source": [
        "class MyCallback(tf.keras.callbacks.Callback):\n",
        "        def on_epoch_end(self, epochs, logs):\n",
        "            if logs.get('mae') < desired_accuracy:\n",
        "                print(f'\\nTraining MAE was < {desired_accuracy*100}%, stop training...')\n",
        "                self.model.stop_training = True\n",
        "\n",
        "custom_callback = MyCallback()\n",
        "\n",
        "lr_schedule = tf.keras.callbacks.LearningRateScheduler(lambda epoch: 1e-7 * 10**(epoch / 20))"
      ],
      "metadata": {
        "id": "NWsLuqHrjA7B"
      },
      "execution_count": 13,
      "outputs": []
    },
    {
      "cell_type": "markdown",
      "source": [
        "### Create Model with Learning rate Schedule"
      ],
      "metadata": {
        "id": "2syVIPkjjL3t"
      }
    },
    {
      "cell_type": "code",
      "source": [
        "def create_model():\n",
        "  model = tf.keras.Sequential()\n",
        "\n",
        "  model.add(tf.keras.layers.Conv1D(filters=60, kernel_size=5,\n",
        "                      strides=1, padding=\"causal\",\n",
        "                      activation=\"relu\",\n",
        "                      input_shape=[None, 1]))\n",
        "  model.add(tf.keras.layers.LSTM(64, return_sequences=True))\n",
        "  model.add(tf.keras.layers.LSTM(64, return_sequences=True))\n",
        "  model.add(tf.keras.layers.Dense(10, activation='relu'))\n",
        "  model.add(tf.keras.layers.Dense(10, activation='relu'))\n",
        "  model.add(tf.keras.layers.Dense(1))\n",
        "\n",
        "  model.compile(\n",
        "        optimizer= tf.keras.optimizers.Adam(learning_rate=1e-7),\n",
        "        loss=tf.keras.losses.Huber(),\n",
        "        metrics=[\"mae\"])\n",
        "  \n",
        "  return model"
      ],
      "metadata": {
        "id": "gVHEhJjXjMZS"
      },
      "execution_count": 14,
      "outputs": []
    },
    {
      "cell_type": "code",
      "source": [
        "model = create_model()\n",
        "print(f\"Model : {model}\")"
      ],
      "metadata": {
        "colab": {
          "base_uri": "https://localhost:8080/"
        },
        "id": "SwBJdCHRjUSh",
        "outputId": "5811b9d4-5ee9-4c17-a529-b28b2fbd0903"
      },
      "execution_count": 15,
      "outputs": [
        {
          "output_type": "stream",
          "name": "stdout",
          "text": [
            "Model : <keras.engine.sequential.Sequential object at 0x7f246e16f3d0>\n"
          ]
        }
      ]
    },
    {
      "cell_type": "code",
      "source": [
        "hist = model.fit(train_set ,epochs=100, callbacks=[lr_schedule])"
      ],
      "metadata": {
        "colab": {
          "base_uri": "https://localhost:8080/"
        },
        "id": "fT8xoVppkSgM",
        "outputId": "63966b09-be9a-47bd-cf2b-3320367b9eb1"
      },
      "execution_count": 16,
      "outputs": [
        {
          "output_type": "stream",
          "name": "stdout",
          "text": [
            "Epoch 1/100\n",
            "93/93 [==============================] - 21s 14ms/step - loss: 0.0388 - mae: 0.2155 - lr: 1.0000e-07\n",
            "Epoch 2/100\n",
            "93/93 [==============================] - 1s 10ms/step - loss: 0.0388 - mae: 0.2153 - lr: 1.1220e-07\n",
            "Epoch 3/100\n",
            "93/93 [==============================] - 1s 10ms/step - loss: 0.0387 - mae: 0.2152 - lr: 1.2589e-07\n",
            "Epoch 4/100\n",
            "93/93 [==============================] - 1s 10ms/step - loss: 0.0387 - mae: 0.2150 - lr: 1.4125e-07\n",
            "Epoch 5/100\n",
            "93/93 [==============================] - 1s 10ms/step - loss: 0.0386 - mae: 0.2148 - lr: 1.5849e-07\n",
            "Epoch 6/100\n",
            "93/93 [==============================] - 1s 10ms/step - loss: 0.0386 - mae: 0.2145 - lr: 1.7783e-07\n",
            "Epoch 7/100\n",
            "93/93 [==============================] - 1s 10ms/step - loss: 0.0385 - mae: 0.2142 - lr: 1.9953e-07\n",
            "Epoch 8/100\n",
            "93/93 [==============================] - 1s 10ms/step - loss: 0.0384 - mae: 0.2140 - lr: 2.2387e-07\n",
            "Epoch 9/100\n",
            "93/93 [==============================] - 1s 10ms/step - loss: 0.0383 - mae: 0.2136 - lr: 2.5119e-07\n",
            "Epoch 10/100\n",
            "93/93 [==============================] - 1s 10ms/step - loss: 0.0382 - mae: 0.2133 - lr: 2.8184e-07\n",
            "Epoch 11/100\n",
            "93/93 [==============================] - 1s 10ms/step - loss: 0.0381 - mae: 0.2129 - lr: 3.1623e-07\n",
            "Epoch 12/100\n",
            "93/93 [==============================] - 1s 10ms/step - loss: 0.0380 - mae: 0.2124 - lr: 3.5481e-07\n",
            "Epoch 13/100\n",
            "93/93 [==============================] - 1s 10ms/step - loss: 0.0378 - mae: 0.2120 - lr: 3.9811e-07\n",
            "Epoch 14/100\n",
            "93/93 [==============================] - 1s 10ms/step - loss: 0.0377 - mae: 0.2115 - lr: 4.4668e-07\n",
            "Epoch 15/100\n",
            "93/93 [==============================] - 1s 10ms/step - loss: 0.0375 - mae: 0.2109 - lr: 5.0119e-07\n",
            "Epoch 16/100\n",
            "93/93 [==============================] - 1s 11ms/step - loss: 0.0373 - mae: 0.2103 - lr: 5.6234e-07\n",
            "Epoch 17/100\n",
            "93/93 [==============================] - 1s 10ms/step - loss: 0.0371 - mae: 0.2097 - lr: 6.3096e-07\n",
            "Epoch 18/100\n",
            "93/93 [==============================] - 1s 10ms/step - loss: 0.0369 - mae: 0.2091 - lr: 7.0795e-07\n",
            "Epoch 19/100\n",
            "93/93 [==============================] - 1s 10ms/step - loss: 0.0367 - mae: 0.2085 - lr: 7.9433e-07\n",
            "Epoch 20/100\n",
            "93/93 [==============================] - 1s 10ms/step - loss: 0.0366 - mae: 0.2081 - lr: 8.9125e-07\n",
            "Epoch 21/100\n",
            "93/93 [==============================] - 1s 11ms/step - loss: 0.0364 - mae: 0.2077 - lr: 1.0000e-06\n",
            "Epoch 22/100\n",
            "93/93 [==============================] - 2s 16ms/step - loss: 0.0363 - mae: 0.2073 - lr: 1.1220e-06\n",
            "Epoch 23/100\n",
            "93/93 [==============================] - 1s 13ms/step - loss: 0.0362 - mae: 0.2070 - lr: 1.2589e-06\n",
            "Epoch 24/100\n",
            "93/93 [==============================] - 1s 10ms/step - loss: 0.0362 - mae: 0.2068 - lr: 1.4125e-06\n",
            "Epoch 25/100\n",
            "93/93 [==============================] - 1s 11ms/step - loss: 0.0361 - mae: 0.2065 - lr: 1.5849e-06\n",
            "Epoch 26/100\n",
            "93/93 [==============================] - 1s 10ms/step - loss: 0.0360 - mae: 0.2063 - lr: 1.7783e-06\n",
            "Epoch 27/100\n",
            "93/93 [==============================] - 1s 10ms/step - loss: 0.0360 - mae: 0.2060 - lr: 1.9953e-06\n",
            "Epoch 28/100\n",
            "93/93 [==============================] - 1s 10ms/step - loss: 0.0359 - mae: 0.2057 - lr: 2.2387e-06\n",
            "Epoch 29/100\n",
            "93/93 [==============================] - 1s 10ms/step - loss: 0.0358 - mae: 0.2053 - lr: 2.5119e-06\n",
            "Epoch 30/100\n",
            "93/93 [==============================] - 1s 10ms/step - loss: 0.0357 - mae: 0.2049 - lr: 2.8184e-06\n",
            "Epoch 31/100\n",
            "93/93 [==============================] - 1s 12ms/step - loss: 0.0356 - mae: 0.2045 - lr: 3.1623e-06\n",
            "Epoch 32/100\n",
            "93/93 [==============================] - 1s 11ms/step - loss: 0.0355 - mae: 0.2039 - lr: 3.5481e-06\n",
            "Epoch 33/100\n",
            "93/93 [==============================] - 1s 12ms/step - loss: 0.0354 - mae: 0.2033 - lr: 3.9811e-06\n",
            "Epoch 34/100\n",
            "93/93 [==============================] - 1s 14ms/step - loss: 0.0352 - mae: 0.2027 - lr: 4.4668e-06\n",
            "Epoch 35/100\n",
            "93/93 [==============================] - 2s 15ms/step - loss: 0.0350 - mae: 0.2019 - lr: 5.0119e-06\n",
            "Epoch 36/100\n",
            "93/93 [==============================] - 1s 13ms/step - loss: 0.0348 - mae: 0.2010 - lr: 5.6234e-06\n",
            "Epoch 37/100\n",
            "93/93 [==============================] - 1s 10ms/step - loss: 0.0346 - mae: 0.1999 - lr: 6.3096e-06\n",
            "Epoch 38/100\n",
            "93/93 [==============================] - 1s 11ms/step - loss: 0.0343 - mae: 0.1987 - lr: 7.0795e-06\n",
            "Epoch 39/100\n",
            "93/93 [==============================] - 1s 10ms/step - loss: 0.0339 - mae: 0.1972 - lr: 7.9433e-06\n",
            "Epoch 40/100\n",
            "93/93 [==============================] - 1s 11ms/step - loss: 0.0335 - mae: 0.1954 - lr: 8.9125e-06\n",
            "Epoch 41/100\n",
            "93/93 [==============================] - 1s 11ms/step - loss: 0.0329 - mae: 0.1932 - lr: 1.0000e-05\n",
            "Epoch 42/100\n",
            "93/93 [==============================] - 1s 10ms/step - loss: 0.0321 - mae: 0.1900 - lr: 1.1220e-05\n",
            "Epoch 43/100\n",
            "93/93 [==============================] - 1s 10ms/step - loss: 0.0309 - mae: 0.1849 - lr: 1.2589e-05\n",
            "Epoch 44/100\n",
            "93/93 [==============================] - 1s 11ms/step - loss: 0.0279 - mae: 0.1734 - lr: 1.4125e-05\n",
            "Epoch 45/100\n",
            "93/93 [==============================] - 1s 10ms/step - loss: 0.0203 - mae: 0.1450 - lr: 1.5849e-05\n",
            "Epoch 46/100\n",
            "93/93 [==============================] - 1s 11ms/step - loss: 0.0154 - mae: 0.1276 - lr: 1.7783e-05\n",
            "Epoch 47/100\n",
            "93/93 [==============================] - 1s 11ms/step - loss: 0.0130 - mae: 0.1151 - lr: 1.9953e-05\n",
            "Epoch 48/100\n",
            "93/93 [==============================] - 1s 11ms/step - loss: 0.0109 - mae: 0.1031 - lr: 2.2387e-05\n",
            "Epoch 49/100\n",
            "93/93 [==============================] - 1s 11ms/step - loss: 0.0095 - mae: 0.0958 - lr: 2.5119e-05\n",
            "Epoch 50/100\n",
            "93/93 [==============================] - 1s 11ms/step - loss: 0.0085 - mae: 0.0900 - lr: 2.8184e-05\n",
            "Epoch 51/100\n",
            "93/93 [==============================] - 1s 11ms/step - loss: 0.0077 - mae: 0.0843 - lr: 3.1623e-05\n",
            "Epoch 52/100\n",
            "93/93 [==============================] - 2s 16ms/step - loss: 0.0069 - mae: 0.0790 - lr: 3.5481e-05\n",
            "Epoch 53/100\n",
            "93/93 [==============================] - 2s 17ms/step - loss: 0.0061 - mae: 0.0740 - lr: 3.9811e-05\n",
            "Epoch 54/100\n",
            "93/93 [==============================] - 2s 17ms/step - loss: 0.0057 - mae: 0.0708 - lr: 4.4668e-05\n",
            "Epoch 55/100\n",
            "93/93 [==============================] - 2s 18ms/step - loss: 0.0052 - mae: 0.0683 - lr: 5.0119e-05\n",
            "Epoch 56/100\n",
            "93/93 [==============================] - 2s 18ms/step - loss: 0.0049 - mae: 0.0661 - lr: 5.6234e-05\n",
            "Epoch 57/100\n",
            "93/93 [==============================] - 1s 14ms/step - loss: 0.0046 - mae: 0.0641 - lr: 6.3096e-05\n",
            "Epoch 58/100\n",
            "93/93 [==============================] - 1s 11ms/step - loss: 0.0043 - mae: 0.0624 - lr: 7.0795e-05\n",
            "Epoch 59/100\n",
            "93/93 [==============================] - 1s 11ms/step - loss: 0.0041 - mae: 0.0609 - lr: 7.9433e-05\n",
            "Epoch 60/100\n",
            "93/93 [==============================] - 1s 10ms/step - loss: 0.0039 - mae: 0.0595 - lr: 8.9125e-05\n",
            "Epoch 61/100\n",
            "93/93 [==============================] - 1s 11ms/step - loss: 0.0036 - mae: 0.0581 - lr: 1.0000e-04\n",
            "Epoch 62/100\n",
            "93/93 [==============================] - 1s 11ms/step - loss: 0.0034 - mae: 0.0565 - lr: 1.1220e-04\n",
            "Epoch 63/100\n",
            "93/93 [==============================] - 1s 11ms/step - loss: 0.0032 - mae: 0.0554 - lr: 1.2589e-04\n",
            "Epoch 64/100\n",
            "93/93 [==============================] - 1s 10ms/step - loss: 0.0031 - mae: 0.0542 - lr: 1.4125e-04\n",
            "Epoch 65/100\n",
            "93/93 [==============================] - 1s 11ms/step - loss: 0.0029 - mae: 0.0529 - lr: 1.5849e-04\n",
            "Epoch 66/100\n",
            "93/93 [==============================] - 1s 11ms/step - loss: 0.0028 - mae: 0.0521 - lr: 1.7783e-04\n",
            "Epoch 67/100\n",
            "93/93 [==============================] - 2s 14ms/step - loss: 0.0026 - mae: 0.0511 - lr: 1.9953e-04\n",
            "Epoch 68/100\n",
            "93/93 [==============================] - 2s 15ms/step - loss: 0.0025 - mae: 0.0502 - lr: 2.2387e-04\n",
            "Epoch 69/100\n",
            "93/93 [==============================] - 1s 11ms/step - loss: 0.0024 - mae: 0.0493 - lr: 2.5119e-04\n",
            "Epoch 70/100\n",
            "93/93 [==============================] - 2s 16ms/step - loss: 0.0024 - mae: 0.0492 - lr: 2.8184e-04\n",
            "Epoch 71/100\n",
            "93/93 [==============================] - 1s 13ms/step - loss: 0.0023 - mae: 0.0483 - lr: 3.1623e-04\n",
            "Epoch 72/100\n",
            "93/93 [==============================] - 1s 11ms/step - loss: 0.0022 - mae: 0.0477 - lr: 3.5481e-04\n",
            "Epoch 73/100\n",
            "93/93 [==============================] - 1s 11ms/step - loss: 0.0022 - mae: 0.0474 - lr: 3.9811e-04\n",
            "Epoch 74/100\n",
            "93/93 [==============================] - 1s 10ms/step - loss: 0.0022 - mae: 0.0479 - lr: 4.4668e-04\n",
            "Epoch 75/100\n",
            "93/93 [==============================] - 1s 11ms/step - loss: 0.0021 - mae: 0.0472 - lr: 5.0119e-04\n",
            "Epoch 76/100\n",
            "93/93 [==============================] - 1s 10ms/step - loss: 0.0021 - mae: 0.0468 - lr: 5.6234e-04\n",
            "Epoch 77/100\n",
            "93/93 [==============================] - 1s 10ms/step - loss: 0.0021 - mae: 0.0462 - lr: 6.3096e-04\n",
            "Epoch 78/100\n",
            "93/93 [==============================] - 1s 10ms/step - loss: 0.0021 - mae: 0.0467 - lr: 7.0795e-04\n",
            "Epoch 79/100\n",
            "93/93 [==============================] - 1s 10ms/step - loss: 0.0020 - mae: 0.0463 - lr: 7.9433e-04\n",
            "Epoch 80/100\n",
            "93/93 [==============================] - 1s 11ms/step - loss: 0.0020 - mae: 0.0459 - lr: 8.9125e-04\n",
            "Epoch 81/100\n",
            "93/93 [==============================] - 1s 11ms/step - loss: 0.0020 - mae: 0.0459 - lr: 0.0010\n",
            "Epoch 82/100\n",
            "93/93 [==============================] - 1s 10ms/step - loss: 0.0021 - mae: 0.0463 - lr: 0.0011\n",
            "Epoch 83/100\n",
            "93/93 [==============================] - 1s 11ms/step - loss: 0.0020 - mae: 0.0456 - lr: 0.0013\n",
            "Epoch 84/100\n",
            "93/93 [==============================] - 1s 10ms/step - loss: 0.0020 - mae: 0.0461 - lr: 0.0014\n",
            "Epoch 85/100\n",
            "93/93 [==============================] - 1s 10ms/step - loss: 0.0020 - mae: 0.0458 - lr: 0.0016\n",
            "Epoch 86/100\n",
            "93/93 [==============================] - 1s 10ms/step - loss: 0.0020 - mae: 0.0460 - lr: 0.0018\n",
            "Epoch 87/100\n",
            "93/93 [==============================] - 1s 10ms/step - loss: 0.0020 - mae: 0.0459 - lr: 0.0020\n",
            "Epoch 88/100\n",
            "93/93 [==============================] - 1s 13ms/step - loss: 0.0021 - mae: 0.0469 - lr: 0.0022\n",
            "Epoch 89/100\n",
            "93/93 [==============================] - 2s 14ms/step - loss: 0.0020 - mae: 0.0459 - lr: 0.0025\n",
            "Epoch 90/100\n",
            "93/93 [==============================] - 1s 11ms/step - loss: 0.0020 - mae: 0.0455 - lr: 0.0028\n",
            "Epoch 91/100\n",
            "93/93 [==============================] - 1s 11ms/step - loss: 0.0021 - mae: 0.0465 - lr: 0.0032\n",
            "Epoch 92/100\n",
            "93/93 [==============================] - 1s 10ms/step - loss: 0.0020 - mae: 0.0458 - lr: 0.0035\n",
            "Epoch 93/100\n",
            "93/93 [==============================] - 1s 10ms/step - loss: 0.0020 - mae: 0.0454 - lr: 0.0040\n",
            "Epoch 94/100\n",
            "93/93 [==============================] - 1s 11ms/step - loss: 0.0020 - mae: 0.0460 - lr: 0.0045\n",
            "Epoch 95/100\n",
            "93/93 [==============================] - 1s 11ms/step - loss: 0.0020 - mae: 0.0456 - lr: 0.0050\n",
            "Epoch 96/100\n",
            "93/93 [==============================] - 1s 11ms/step - loss: 0.0020 - mae: 0.0452 - lr: 0.0056\n",
            "Epoch 97/100\n",
            "93/93 [==============================] - 1s 10ms/step - loss: 0.0020 - mae: 0.0462 - lr: 0.0063\n",
            "Epoch 98/100\n",
            "93/93 [==============================] - 1s 12ms/step - loss: 0.0020 - mae: 0.0455 - lr: 0.0071\n",
            "Epoch 99/100\n",
            "93/93 [==============================] - 1s 13ms/step - loss: 0.0020 - mae: 0.0458 - lr: 0.0079\n",
            "Epoch 100/100\n",
            "93/93 [==============================] - 1s 11ms/step - loss: 0.0020 - mae: 0.0460 - lr: 0.0089\n"
          ]
        }
      ]
    },
    {
      "cell_type": "code",
      "source": [
        "plt.figure(figsize=(10,6))\n",
        "plt.semilogx(hist.history[\"lr\"], hist.history[\"loss\"])\n",
        "plt.axis([1e-7, 1e-3, 0, 30])\n",
        "plt.show()"
      ],
      "metadata": {
        "colab": {
          "base_uri": "https://localhost:8080/",
          "height": 382
        },
        "id": "lVz7KXtckcxG",
        "outputId": "a2e35b30-d97e-47a7-c263-f9c64e215c8e"
      },
      "execution_count": 17,
      "outputs": [
        {
          "output_type": "display_data",
          "data": {
            "text/plain": [
              "<Figure size 720x432 with 1 Axes>"
            ],
            "image/png": "[encoded data removed]"
          },
          "metadata": {
            "needs_background": "light"
          }
        }
      ]
    },
    {
      "cell_type": "markdown",
      "source": [
        "### Create fixed model"
      ],
      "metadata": {
        "id": "-hcgpbmau65b"
      }
    },
    {
      "cell_type": "code",
      "source": [
        "def create_model_fix():\n",
        "  model = tf.keras.Sequential()\n",
        "\n",
        "  model.add(tf.keras.layers.Conv1D(filters=60, kernel_size=5,\n",
        "                      strides=1, padding=\"causal\",\n",
        "                      activation=\"relu\",\n",
        "                      input_shape=[None, 1]))\n",
        "  model.add(tf.keras.layers.LSTM(64, return_sequences=True))\n",
        "  model.add(tf.keras.layers.LSTM(64, return_sequences=True))\n",
        "  model.add(tf.keras.layers.Dense(10, activation='relu'))\n",
        "  model.add(tf.keras.layers.Dense(10, activation='relu'))\n",
        "  model.add(tf.keras.layers.Dense(1))\n",
        "\n",
        "  model.compile(\n",
        "        optimizer= tf.keras.optimizers.Adam(learning_rate=1e-1),\n",
        "        loss=tf.keras.losses.Huber(),\n",
        "        metrics=[\"mae\"])\n",
        "  \n",
        "  return model"
      ],
      "metadata": {
        "id": "Pz1u-H4Otqyj"
      },
      "execution_count": 18,
      "outputs": []
    },
    {
      "cell_type": "code",
      "source": [
        "model = create_model_fix()\n",
        "print(f\"Model : {model}\")"
      ],
      "metadata": {
        "colab": {
          "base_uri": "https://localhost:8080/"
        },
        "id": "oJ3rK8fMtsRB",
        "outputId": "484be7bd-9c3c-4ccf-9ed1-94915af2cfa8"
      },
      "execution_count": 19,
      "outputs": [
        {
          "output_type": "stream",
          "name": "stdout",
          "text": [
            "Model : <keras.engine.sequential.Sequential object at 0x7f2467448d50>\n"
          ]
        }
      ]
    },
    {
      "cell_type": "code",
      "source": [
        "hist = model.fit(train_set ,epochs=100, callbacks=[custom_callback])"
      ],
      "metadata": {
        "colab": {
          "base_uri": "https://localhost:8080/"
        },
        "id": "JMr2JcicskMv",
        "outputId": "301ce022-ce4f-4d33-959a-d3ef25592510"
      },
      "execution_count": 20,
      "outputs": [
        {
          "output_type": "stream",
          "name": "stdout",
          "text": [
            "Epoch 1/100\n",
            "93/93 [==============================] - 5s 11ms/step - loss: 0.0494 - mae: 0.1955\n",
            "Epoch 2/100\n",
            "90/93 [============================>.] - ETA: 0s - loss: 0.0150 - mae: 0.1406\n",
            "Training MAE was < 15.0%, stop training...\n",
            "93/93 [==============================] - 1s 10ms/step - loss: 0.0150 - mae: 0.1406\n"
          ]
        }
      ]
    },
    {
      "cell_type": "markdown",
      "source": [
        "# PROBLEM B5\n",
        "- Build and train a neural network model using the Daily Max Temperature.csv dataset.\n",
        "- Use MAE as the metrics of your neural network model.\n",
        "- We provided code for normalizing the data. Please do not change the code.\n",
        "- Do not use lambda layers in your model.\n",
        "- The dataset used in this problem is downloaded from https://github.com/jbrownlee/Datasets\n",
        "- Desired `MAE < 0.2` on the normalized dataset."
      ],
      "metadata": {
        "id": "C8wi0rqfu-Zf"
      }
    },
    {
      "cell_type": "markdown",
      "source": [
        "### Prepare Data"
      ],
      "metadata": {
        "id": "g2mjJxpiandu"
      }
    },
    {
      "cell_type": "code",
      "source": [
        "data_url = 'https://raw.githubusercontent.com/jbrownlee/Datasets/master/daily-max-temperatures.csv'\n",
        "name_file = 'daily-max-temperatures.csv'\n",
        "\n",
        "if os.path.isfile(name_file) == False:\n",
        "  urllib.request.urlretrieve(data_url, name_file)\n",
        "  print(f'{name_file} Downloaded')\n",
        "else:\n",
        "  print(f'{name_file} Already exist')"
      ],
      "metadata": {
        "colab": {
          "base_uri": "https://localhost:8080/"
        },
        "id": "6gmb_tVTVdzl",
        "outputId": "cb22ee69-76fd-4171-bb00-364c80e2f1f8"
      },
      "execution_count": 21,
      "outputs": [
        {
          "output_type": "stream",
          "name": "stdout",
          "text": [
            "daily-max-temperatures.csv Downloaded\n"
          ]
        }
      ]
    },
    {
      "cell_type": "markdown",
      "source": [
        "### Analysis Data with Pandas"
      ],
      "metadata": {
        "id": "29K50R0KVrEe"
      }
    },
    {
      "cell_type": "code",
      "source": [
        "df = pd.read_csv(name_file)\n",
        "df.head()"
      ],
      "metadata": {
        "colab": {
          "base_uri": "https://localhost:8080/",
          "height": 206
        },
        "id": "Q334XpP4VxiG",
        "outputId": "25524aa7-2c97-4f81-ce14-d152985a88ed"
      },
      "execution_count": 22,
      "outputs": [
        {
          "output_type": "execute_result",
          "data": {
            "text/plain": [
              "         Date  Temperature\n",
              "0  1981-01-01         38.1\n",
              "1  1981-01-02         32.4\n",
              "2  1981-01-03         34.5\n",
              "3  1981-01-04         20.7\n",
              "4  1981-01-05         21.5"
            ],
            "text/html": [
              "\n",
              "  <div id=\"df-53a6330f-7fcf-461b-886e-491429d04f68\">\n",
              "    <div class=\"colab-df-container\">\n",
              "      <div>\n",
              "<style scoped>\n",
              "    .dataframe tbody tr th:only-of-type {\n",
              "        vertical-align: middle;\n",
              "    }\n",
              "\n",
              "    .dataframe tbody tr th {\n",
              "        vertical-align: top;\n",
              "    }\n",
              "\n",
              "    .dataframe thead th {\n",
              "        text-align: right;\n",
              "    }\n",
              "</style>\n",
              "<table border=\"1\" class=\"dataframe\">\n",
              "  <thead>\n",
              "    <tr style=\"text-align: right;\">\n",
              "      <th></th>\n",
              "      <th>Date</th>\n",
              "      <th>Temperature</th>\n",
              "    </tr>\n",
              "  </thead>\n",
              "  <tbody>\n",
              "    <tr>\n",
              "      <th>0</th>\n",
              "      <td>1981-01-01</td>\n",
              "      <td>38.1</td>\n",
              "    </tr>\n",
              "    <tr>\n",
              "      <th>1</th>\n",
              "      <td>1981-01-02</td>\n",
              "      <td>32.4</td>\n",
              "    </tr>\n",
              "    <tr>\n",
              "      <th>2</th>\n",
              "      <td>1981-01-03</td>\n",
              "      <td>34.5</td>\n",
              "    </tr>\n",
              "    <tr>\n",
              "      <th>3</th>\n",
              "      <td>1981-01-04</td>\n",
              "      <td>20.7</td>\n",
              "    </tr>\n",
              "    <tr>\n",
              "      <th>4</th>\n",
              "      <td>1981-01-05</td>\n",
              "      <td>21.5</td>\n",
              "    </tr>\n",
              "  </tbody>\n",
              "</table>\n",
              "</div>\n",
              "      <button class=\"colab-df-convert\" onclick=\"convertToInteractive('df-53a6330f-7fcf-461b-886e-491429d04f68')\"\n",
              "              title=\"Convert this dataframe to an interactive table.\"\n",
              "              style=\"display:none;\">\n",
              "        \n",
              "  <svg xmlns=\"http://www.w3.org/2000/svg\" height=\"24px\"viewBox=\"0 0 24 24\"\n",
              "       width=\"24px\">\n",
              "    <path d=\"M0 0h24v24H0V0z\" fill=\"none\"/>\n",
              "    <path d=\"M18.56 5.44l.94 2.06.94-2.06 2.06-.94-2.06-.94-.94-2.06-.94 2.06-2.06.94zm-11 1L8.5 8.5l.94-2.06 2.06-.94-2.06-.94L8.5 2.5l-.94 2.06-2.06.94zm10 10l.94 2.06.94-2.06 2.06-.94-2.06-.94-.94-2.06-.94 2.06-2.06.94z\"/><path d=\"M17.41 7.96l-1.37-1.37c-.4-.4-.92-.59-1.43-.59-.52 0-1.04.2-1.43.59L10.3 9.45l-7.72 7.72c-.78.78-.78 2.05 0 2.83L4 21.41c.39.39.9.59 1.41.59.51 0 1.02-.2 1.41-.59l7.78-7.78 2.81-2.81c.8-.78.8-2.07 0-2.86zM5.41 20L4 18.59l7.72-7.72 1.47 1.35L5.41 20z\"/>\n",
              "  </svg>\n",
              "      </button>\n",
              "      \n",
              "  <style>\n",
              "    .colab-df-container {\n",
              "      display:flex;\n",
              "      flex-wrap:wrap;\n",
              "      gap: 12px;\n",
              "    }\n",
              "\n",
              "    .colab-df-convert {\n",
              "      background-color: #E8F0FE;\n",
              "      border: none;\n",
              "      border-radius: 50%;\n",
              "      cursor: pointer;\n",
              "      display: none;\n",
              "      fill: #1967D2;\n",
              "      height: 32px;\n",
              "      padding: 0 0 0 0;\n",
              "      width: 32px;\n",
              "    }\n",
              "\n",
              "    .colab-df-convert:hover {\n",
              "      background-color: #E2EBFA;\n",
              "      box-shadow: 0px 1px 2px rgba(60, 64, 67, 0.3), 0px 1px 3px 1px rgba(60, 64, 67, 0.15);\n",
              "      fill: #174EA6;\n",
              "    }\n",
              "\n",
              "    [theme=dark] .colab-df-convert {\n",
              "      background-color: #3B4455;\n",
              "      fill: #D2E3FC;\n",
              "    }\n",
              "\n",
              "    [theme=dark] .colab-df-convert:hover {\n",
              "      background-color: #434B5C;\n",
              "      box-shadow: 0px 1px 3px 1px rgba(0, 0, 0, 0.15);\n",
              "      filter: drop-shadow(0px 1px 2px rgba(0, 0, 0, 0.3));\n",
              "      fill: #FFFFFF;\n",
              "    }\n",
              "  </style>\n",
              "\n",
              "      <script>\n",
              "        const buttonEl =\n",
              "          document.querySelector('#df-53a6330f-7fcf-461b-886e-491429d04f68 button.colab-df-convert');\n",
              "        buttonEl.style.display =\n",
              "          google.colab.kernel.accessAllowed ? 'block' : 'none';\n",
              "\n",
              "        async function convertToInteractive(key) {\n",
              "          const element = document.querySelector('#df-53a6330f-7fcf-461b-886e-491429d04f68');\n",
              "          const dataTable =\n",
              "            await google.colab.kernel.invokeFunction('convertToInteractive',\n",
              "                                                     [key], {});\n",
              "          if (!dataTable) return;\n",
              "\n",
              "          const docLinkHtml = 'Like what you see? Visit the ' +\n",
              "            '<a target=\"_blank\" href=https://colab.research.google.com/notebooks/data_table.ipynb>data table notebook</a>'\n",
              "            + ' to learn more about interactive tables.';\n",
              "          element.innerHTML = '';\n",
              "          dataTable['output_type'] = 'display_data';\n",
              "          await google.colab.output.renderOutput(dataTable, element);\n",
              "          const docLink = document.createElement('div');\n",
              "          docLink.innerHTML = docLinkHtml;\n",
              "          element.appendChild(docLink);\n",
              "        }\n",
              "      </script>\n",
              "    </div>\n",
              "  </div>\n",
              "  "
            ]
          },
          "metadata": {},
          "execution_count": 22
        }
      ]
    },
    {
      "cell_type": "code",
      "source": [
        "df.columns = ['date', 'temperature']"
      ],
      "metadata": {
        "id": "rh-tZymaWFam"
      },
      "execution_count": 23,
      "outputs": []
    },
    {
      "cell_type": "code",
      "source": [
        "df['date'] = pd.to_datetime(df['date'])\n",
        "df.info()"
      ],
      "metadata": {
        "colab": {
          "base_uri": "https://localhost:8080/"
        },
        "id": "YczuSMnYV9-B",
        "outputId": "4f8a62dd-7775-4772-b5e9-74ff94bb7ba3"
      },
      "execution_count": 24,
      "outputs": [
        {
          "output_type": "stream",
          "name": "stdout",
          "text": [
            "<class 'pandas.core.frame.DataFrame'>\n",
            "RangeIndex: 3650 entries, 0 to 3649\n",
            "Data columns (total 2 columns):\n",
            " #   Column       Non-Null Count  Dtype         \n",
            "---  ------       --------------  -----         \n",
            " 0   date         3650 non-null   datetime64[ns]\n",
            " 1   temperature  3650 non-null   float64       \n",
            "dtypes: datetime64[ns](1), float64(1)\n",
            "memory usage: 57.2 KB\n"
          ]
        }
      ]
    },
    {
      "cell_type": "code",
      "source": [
        "plt.figure(figsize=(15,10))\n",
        "plt.plot(df['date'], df['temperature'])\n",
        "plt.show()"
      ],
      "metadata": {
        "colab": {
          "base_uri": "https://localhost:8080/",
          "height": 594
        },
        "id": "mNV_sNr4WW_X",
        "outputId": "c853f782-a0c8-498a-8caf-9f098ddb7e41"
      },
      "execution_count": 25,
      "outputs": [
        {
          "output_type": "display_data",
          "data": {
            "text/plain": [
              "<Figure size 1080x720 with 1 Axes>"
            ],
            "image/png": "[encoded data removed]"
          },
          "metadata": {
            "needs_background": "light"
          }
        }
      ]
    },
    {
      "cell_type": "markdown",
      "source": [
        "### Open with Csv module"
      ],
      "metadata": {
        "id": "kxR3oO2xXoYi"
      }
    },
    {
      "cell_type": "code",
      "source": [
        "time_step = []\n",
        "temps = []\n",
        "\n",
        "with open(name_file, 'r') as csvfile:\n",
        "  reader = csv.reader(csvfile, delimiter=',')\n",
        "  next(reader)\n",
        "  step = 0\n",
        "  for row in reader:\n",
        "    temps.append(float(row[1]))\n",
        "    time_step.append(step)\n",
        "    step +=1\n",
        "\n",
        "series = np.array(temps)\n",
        "time = np.array(time_step)"
      ],
      "metadata": {
        "id": "vOnTt1sSV3uV"
      },
      "execution_count": 26,
      "outputs": []
    },
    {
      "cell_type": "code",
      "source": [
        "len(series)"
      ],
      "metadata": {
        "colab": {
          "base_uri": "https://localhost:8080/"
        },
        "id": "y3fIYRbKYGLq",
        "outputId": "468cfa19-b764-4ce6-926f-9a1edb7a0dcc"
      },
      "execution_count": 27,
      "outputs": [
        {
          "output_type": "execute_result",
          "data": {
            "text/plain": [
              "3650"
            ]
          },
          "metadata": {},
          "execution_count": 27
        }
      ]
    },
    {
      "cell_type": "markdown",
      "source": [
        "### Normalization Function"
      ],
      "metadata": {
        "id": "vx9fr3j3XhUS"
      }
    },
    {
      "cell_type": "code",
      "source": [
        "# DO NOT CHANGE THIS CODE\n",
        "min=np.min(series)\n",
        "max=np.max(series)\n",
        "series -= min\n",
        "series /= max"
      ],
      "metadata": {
        "id": "0aQE4w--XV3Z"
      },
      "execution_count": 28,
      "outputs": []
    },
    {
      "cell_type": "markdown",
      "source": [
        "### Set Params"
      ],
      "metadata": {
        "id": "UaPRU_feWpUJ"
      }
    },
    {
      "cell_type": "code",
      "source": [
        "# DO NOT CHANGE THIS CODE\n",
        "window_size=64\n",
        "batch_size=256\n",
        "shuffle_buffer_size=1000\n",
        "\n",
        "split_time=2500\n",
        "\n",
        "desired_accuracy = 0.2"
      ],
      "metadata": {
        "id": "W8x4G1SoWqXw"
      },
      "execution_count": 29,
      "outputs": []
    },
    {
      "cell_type": "markdown",
      "source": [
        "### Fixed Partition"
      ],
      "metadata": {
        "id": "SM9c5tJIXsrq"
      }
    },
    {
      "cell_type": "code",
      "source": [
        "time_train= time[:split_time]\n",
        "x_train= series[:split_time]\n",
        "time_valid= time[split_time:]\n",
        "x_valid= series[split_time:]"
      ],
      "metadata": {
        "id": "exQ9CCbNXw1C"
      },
      "execution_count": 30,
      "outputs": []
    },
    {
      "cell_type": "markdown",
      "source": [
        "### Windowing Datasets"
      ],
      "metadata": {
        "id": "LX6ZXId9WdnB"
      }
    },
    {
      "cell_type": "code",
      "source": [
        "def windowed_dataset(series, window_size, batch_size, shuffle_buffer):\n",
        "    series = tf.expand_dims(series, axis=-1)\n",
        "    ds = tf.data.Dataset.from_tensor_slices(series)\n",
        "    ds = ds.window(window_size + 1, shift=1, drop_remainder=True)\n",
        "    ds = ds.flat_map(lambda w: w.batch(window_size + 1))\n",
        "    ds = ds.shuffle(shuffle_buffer)\n",
        "    ds = ds.map(lambda w: (w[:-1], w[1:]))\n",
        "    return ds.batch(batch_size).prefetch(1)\n"
      ],
      "metadata": {
        "id": "4z1Zb-7vWd7X"
      },
      "execution_count": 31,
      "outputs": []
    },
    {
      "cell_type": "code",
      "source": [
        "train_set=windowed_dataset(x_train, window_size, batch_size, shuffle_buffer_size)\n",
        "print(train_set)\n",
        "print(x_train.shape)"
      ],
      "metadata": {
        "colab": {
          "base_uri": "https://localhost:8080/"
        },
        "id": "8tod8GEnWjG3",
        "outputId": "2655a5ba-2449-4d25-e78d-9822a1938cbd"
      },
      "execution_count": 32,
      "outputs": [
        {
          "output_type": "stream",
          "name": "stdout",
          "text": [
            "<PrefetchDataset element_spec=(TensorSpec(shape=(None, None, 1), dtype=tf.float64, name=None), TensorSpec(shape=(None, None, 1), dtype=tf.float64, name=None))>\n",
            "(2500,)\n"
          ]
        }
      ]
    },
    {
      "cell_type": "markdown",
      "source": [
        "### Create Custom Callbacks"
      ],
      "metadata": {
        "id": "q81xLk_VY32r"
      }
    },
    {
      "cell_type": "code",
      "source": [
        "class MyCallback(tf.keras.callbacks.Callback):\n",
        "        def on_epoch_end(self, epochs, logs):\n",
        "            if logs.get('mae') < desired_accuracy:\n",
        "                print(f'\\nTraining MAE was < {desired_accuracy*100}%, stop training...')\n",
        "                self.model.stop_training = True\n",
        "\n",
        "custom_callback = MyCallback()\n",
        "\n",
        "lr_schedule = tf.keras.callbacks.LearningRateScheduler(lambda epoch: 1e-7 * 10**(epoch / 20))"
      ],
      "metadata": {
        "id": "w00_YtPQYU87"
      },
      "execution_count": 33,
      "outputs": []
    },
    {
      "cell_type": "markdown",
      "source": [
        "### Create Model with Learning rate Schedule"
      ],
      "metadata": {
        "id": "dgZlUDxKY2sL"
      }
    },
    {
      "cell_type": "code",
      "source": [
        "def create_model():\n",
        "  model = tf.keras.Sequential()\n",
        "\n",
        "  model.add(tf.keras.layers.Conv1D(filters=60, kernel_size=5,\n",
        "                      strides=1, padding=\"causal\",\n",
        "                      activation=\"relu\",\n",
        "                      input_shape=[None, 1]))\n",
        "  model.add(tf.keras.layers.LSTM(64, return_sequences=True))\n",
        "  model.add(tf.keras.layers.LSTM(64, return_sequences=True))\n",
        "  model.add(tf.keras.layers.Dense(10, activation='relu'))\n",
        "  model.add(tf.keras.layers.Dense(10, activation='relu'))\n",
        "  model.add(tf.keras.layers.Dense(1))\n",
        "\n",
        "  model.compile(\n",
        "        optimizer= tf.keras.optimizers.Adam(learning_rate=1e-7),\n",
        "        loss=tf.keras.losses.Huber(),\n",
        "        metrics=[\"mae\"])\n",
        "  \n",
        "  return model"
      ],
      "metadata": {
        "id": "sKsws0BMYZhS"
      },
      "execution_count": 34,
      "outputs": []
    },
    {
      "cell_type": "code",
      "source": [
        "model = create_model()\n",
        "print(f\"Model : {model}\")"
      ],
      "metadata": {
        "colab": {
          "base_uri": "https://localhost:8080/"
        },
        "id": "lxoXGyk2YnO0",
        "outputId": "274f67a3-9755-4498-cc82-c8e0a56de914"
      },
      "execution_count": 35,
      "outputs": [
        {
          "output_type": "stream",
          "name": "stdout",
          "text": [
            "Model : <keras.engine.sequential.Sequential object at 0x7f2467dc4c50>\n"
          ]
        }
      ]
    },
    {
      "cell_type": "code",
      "source": [
        "hist = model.fit(train_set ,epochs=100, callbacks=[lr_schedule])"
      ],
      "metadata": {
        "colab": {
          "base_uri": "https://localhost:8080/"
        },
        "id": "jIR24r03Yqel",
        "outputId": "1dd42763-a4a7-4ac0-c509-4071e3a6c4be"
      },
      "execution_count": 36,
      "outputs": [
        {
          "output_type": "stream",
          "name": "stdout",
          "text": [
            "Epoch 1/100\n",
            "10/10 [==============================] - 5s 45ms/step - loss: 0.0514 - mae: 0.2892 - lr: 1.0000e-07\n",
            "Epoch 2/100\n",
            "10/10 [==============================] - 0s 28ms/step - loss: 0.0514 - mae: 0.2891 - lr: 1.1220e-07\n",
            "Epoch 3/100\n",
            "10/10 [==============================] - 0s 29ms/step - loss: 0.0514 - mae: 0.2891 - lr: 1.2589e-07\n",
            "Epoch 4/100\n",
            "10/10 [==============================] - 0s 30ms/step - loss: 0.0514 - mae: 0.2890 - lr: 1.4125e-07\n",
            "Epoch 5/100\n",
            "10/10 [==============================] - 0s 32ms/step - loss: 0.0513 - mae: 0.2890 - lr: 1.5849e-07\n",
            "Epoch 6/100\n",
            "10/10 [==============================] - 0s 31ms/step - loss: 0.0513 - mae: 0.2889 - lr: 1.7783e-07\n",
            "Epoch 7/100\n",
            "10/10 [==============================] - 0s 30ms/step - loss: 0.0513 - mae: 0.2888 - lr: 1.9953e-07\n",
            "Epoch 8/100\n",
            "10/10 [==============================] - 0s 29ms/step - loss: 0.0513 - mae: 0.2887 - lr: 2.2387e-07\n",
            "Epoch 9/100\n",
            "10/10 [==============================] - 0s 29ms/step - loss: 0.0512 - mae: 0.2886 - lr: 2.5119e-07\n",
            "Epoch 10/100\n",
            "10/10 [==============================] - 0s 31ms/step - loss: 0.0512 - mae: 0.2885 - lr: 2.8184e-07\n",
            "Epoch 11/100\n",
            "10/10 [==============================] - 0s 32ms/step - loss: 0.0512 - mae: 0.2884 - lr: 3.1623e-07\n",
            "Epoch 12/100\n",
            "10/10 [==============================] - 0s 30ms/step - loss: 0.0511 - mae: 0.2883 - lr: 3.5481e-07\n",
            "Epoch 13/100\n",
            "10/10 [==============================] - 0s 34ms/step - loss: 0.0511 - mae: 0.2881 - lr: 3.9811e-07\n",
            "Epoch 14/100\n",
            "10/10 [==============================] - 0s 31ms/step - loss: 0.0510 - mae: 0.2880 - lr: 4.4668e-07\n",
            "Epoch 15/100\n",
            "10/10 [==============================] - 0s 31ms/step - loss: 0.0510 - mae: 0.2878 - lr: 5.0119e-07\n",
            "Epoch 16/100\n",
            "10/10 [==============================] - 1s 67ms/step - loss: 0.0509 - mae: 0.2875 - lr: 5.6234e-07\n",
            "Epoch 17/100\n",
            "10/10 [==============================] - 1s 61ms/step - loss: 0.0508 - mae: 0.2873 - lr: 6.3096e-07\n",
            "Epoch 18/100\n",
            "10/10 [==============================] - 1s 59ms/step - loss: 0.0507 - mae: 0.2870 - lr: 7.0795e-07\n",
            "Epoch 19/100\n",
            "10/10 [==============================] - 1s 61ms/step - loss: 0.0506 - mae: 0.2867 - lr: 7.9433e-07\n",
            "Epoch 20/100\n",
            "10/10 [==============================] - 0s 31ms/step - loss: 0.0505 - mae: 0.2864 - lr: 8.9125e-07\n",
            "Epoch 21/100\n",
            "10/10 [==============================] - 0s 29ms/step - loss: 0.0504 - mae: 0.2860 - lr: 1.0000e-06\n",
            "Epoch 22/100\n",
            "10/10 [==============================] - 0s 29ms/step - loss: 0.0503 - mae: 0.2856 - lr: 1.1220e-06\n",
            "Epoch 23/100\n",
            "10/10 [==============================] - 0s 30ms/step - loss: 0.0502 - mae: 0.2851 - lr: 1.2589e-06\n",
            "Epoch 24/100\n",
            "10/10 [==============================] - 0s 33ms/step - loss: 0.0500 - mae: 0.2846 - lr: 1.4125e-06\n",
            "Epoch 25/100\n",
            "10/10 [==============================] - 0s 31ms/step - loss: 0.0498 - mae: 0.2840 - lr: 1.5849e-06\n",
            "Epoch 26/100\n",
            "10/10 [==============================] - 0s 31ms/step - loss: 0.0496 - mae: 0.2833 - lr: 1.7783e-06\n",
            "Epoch 27/100\n",
            "10/10 [==============================] - 0s 31ms/step - loss: 0.0494 - mae: 0.2826 - lr: 1.9953e-06\n",
            "Epoch 28/100\n",
            "10/10 [==============================] - 0s 31ms/step - loss: 0.0492 - mae: 0.2818 - lr: 2.2387e-06\n",
            "Epoch 29/100\n",
            "10/10 [==============================] - 1s 33ms/step - loss: 0.0489 - mae: 0.2809 - lr: 2.5119e-06\n",
            "Epoch 30/100\n",
            "10/10 [==============================] - 0s 32ms/step - loss: 0.0486 - mae: 0.2799 - lr: 2.8184e-06\n",
            "Epoch 31/100\n",
            "10/10 [==============================] - 0s 30ms/step - loss: 0.0482 - mae: 0.2787 - lr: 3.1623e-06\n",
            "Epoch 32/100\n",
            "10/10 [==============================] - 0s 31ms/step - loss: 0.0479 - mae: 0.2774 - lr: 3.5481e-06\n",
            "Epoch 33/100\n",
            "10/10 [==============================] - 0s 30ms/step - loss: 0.0475 - mae: 0.2760 - lr: 3.9811e-06\n",
            "Epoch 34/100\n",
            "10/10 [==============================] - 0s 29ms/step - loss: 0.0470 - mae: 0.2744 - lr: 4.4668e-06\n",
            "Epoch 35/100\n",
            "10/10 [==============================] - 1s 67ms/step - loss: 0.0465 - mae: 0.2726 - lr: 5.0119e-06\n",
            "Epoch 36/100\n",
            "10/10 [==============================] - 1s 66ms/step - loss: 0.0459 - mae: 0.2706 - lr: 5.6234e-06\n",
            "Epoch 37/100\n",
            "10/10 [==============================] - 0s 31ms/step - loss: 0.0452 - mae: 0.2683 - lr: 6.3096e-06\n",
            "Epoch 38/100\n",
            "10/10 [==============================] - 0s 33ms/step - loss: 0.0445 - mae: 0.2658 - lr: 7.0795e-06\n",
            "Epoch 39/100\n",
            "10/10 [==============================] - 0s 32ms/step - loss: 0.0437 - mae: 0.2629 - lr: 7.9433e-06\n",
            "Epoch 40/100\n",
            "10/10 [==============================] - 0s 32ms/step - loss: 0.0428 - mae: 0.2597 - lr: 8.9125e-06\n",
            "Epoch 41/100\n",
            "10/10 [==============================] - 0s 31ms/step - loss: 0.0418 - mae: 0.2560 - lr: 1.0000e-05\n",
            "Epoch 42/100\n",
            "10/10 [==============================] - 0s 32ms/step - loss: 0.0407 - mae: 0.2517 - lr: 1.1220e-05\n",
            "Epoch 43/100\n",
            "10/10 [==============================] - 0s 30ms/step - loss: 0.0394 - mae: 0.2467 - lr: 1.2589e-05\n",
            "Epoch 44/100\n",
            "10/10 [==============================] - 0s 32ms/step - loss: 0.0379 - mae: 0.2409 - lr: 1.4125e-05\n",
            "Epoch 45/100\n",
            "10/10 [==============================] - 0s 32ms/step - loss: 0.0362 - mae: 0.2340 - lr: 1.5849e-05\n",
            "Epoch 46/100\n",
            "10/10 [==============================] - 0s 31ms/step - loss: 0.0341 - mae: 0.2257 - lr: 1.7783e-05\n",
            "Epoch 47/100\n",
            "10/10 [==============================] - 0s 30ms/step - loss: 0.0318 - mae: 0.2156 - lr: 1.9953e-05\n",
            "Epoch 48/100\n",
            "10/10 [==============================] - 0s 31ms/step - loss: 0.0292 - mae: 0.2035 - lr: 2.2387e-05\n",
            "Epoch 49/100\n",
            "10/10 [==============================] - 0s 32ms/step - loss: 0.0261 - mae: 0.1885 - lr: 2.5119e-05\n",
            "Epoch 50/100\n",
            "10/10 [==============================] - 0s 31ms/step - loss: 0.0226 - mae: 0.1694 - lr: 2.8184e-05\n",
            "Epoch 51/100\n",
            "10/10 [==============================] - 0s 32ms/step - loss: 0.0186 - mae: 0.1458 - lr: 3.1623e-05\n",
            "Epoch 52/100\n",
            "10/10 [==============================] - 0s 29ms/step - loss: 0.0147 - mae: 0.1220 - lr: 3.5481e-05\n",
            "Epoch 53/100\n",
            "10/10 [==============================] - 0s 32ms/step - loss: 0.0119 - mae: 0.1098 - lr: 3.9811e-05\n",
            "Epoch 54/100\n",
            "10/10 [==============================] - 0s 30ms/step - loss: 0.0113 - mae: 0.1125 - lr: 4.4668e-05\n",
            "Epoch 55/100\n",
            "10/10 [==============================] - 0s 30ms/step - loss: 0.0111 - mae: 0.1128 - lr: 5.0119e-05\n",
            "Epoch 56/100\n",
            "10/10 [==============================] - 0s 31ms/step - loss: 0.0109 - mae: 0.1091 - lr: 5.6234e-05\n",
            "Epoch 57/100\n",
            "10/10 [==============================] - 0s 31ms/step - loss: 0.0107 - mae: 0.1074 - lr: 6.3096e-05\n",
            "Epoch 58/100\n",
            "10/10 [==============================] - 0s 31ms/step - loss: 0.0106 - mae: 0.1072 - lr: 7.0795e-05\n",
            "Epoch 59/100\n",
            "10/10 [==============================] - 0s 32ms/step - loss: 0.0104 - mae: 0.1070 - lr: 7.9433e-05\n",
            "Epoch 60/100\n",
            "10/10 [==============================] - 0s 32ms/step - loss: 0.0102 - mae: 0.1060 - lr: 8.9125e-05\n",
            "Epoch 61/100\n",
            "10/10 [==============================] - 0s 30ms/step - loss: 0.0100 - mae: 0.1049 - lr: 1.0000e-04\n",
            "Epoch 62/100\n",
            "10/10 [==============================] - 0s 30ms/step - loss: 0.0098 - mae: 0.1040 - lr: 1.1220e-04\n",
            "Epoch 63/100\n",
            "10/10 [==============================] - 0s 31ms/step - loss: 0.0096 - mae: 0.1030 - lr: 1.2589e-04\n",
            "Epoch 64/100\n",
            "10/10 [==============================] - 0s 30ms/step - loss: 0.0094 - mae: 0.1020 - lr: 1.4125e-04\n",
            "Epoch 65/100\n",
            "10/10 [==============================] - 0s 31ms/step - loss: 0.0091 - mae: 0.1008 - lr: 1.5849e-04\n",
            "Epoch 66/100\n",
            "10/10 [==============================] - 0s 30ms/step - loss: 0.0089 - mae: 0.0994 - lr: 1.7783e-04\n",
            "Epoch 67/100\n",
            "10/10 [==============================] - 0s 31ms/step - loss: 0.0086 - mae: 0.0980 - lr: 1.9953e-04\n",
            "Epoch 68/100\n",
            "10/10 [==============================] - 0s 31ms/step - loss: 0.0084 - mae: 0.0968 - lr: 2.2387e-04\n",
            "Epoch 69/100\n",
            "10/10 [==============================] - 0s 31ms/step - loss: 0.0081 - mae: 0.0952 - lr: 2.5119e-04\n",
            "Epoch 70/100\n",
            "10/10 [==============================] - 0s 32ms/step - loss: 0.0079 - mae: 0.0935 - lr: 2.8184e-04\n",
            "Epoch 71/100\n",
            "10/10 [==============================] - 0s 32ms/step - loss: 0.0076 - mae: 0.0924 - lr: 3.1623e-04\n",
            "Epoch 72/100\n",
            "10/10 [==============================] - 0s 30ms/step - loss: 0.0074 - mae: 0.0910 - lr: 3.5481e-04\n",
            "Epoch 73/100\n",
            "10/10 [==============================] - 0s 30ms/step - loss: 0.0072 - mae: 0.0897 - lr: 3.9811e-04\n",
            "Epoch 74/100\n",
            "10/10 [==============================] - 0s 29ms/step - loss: 0.0070 - mae: 0.0885 - lr: 4.4668e-04\n",
            "Epoch 75/100\n",
            "10/10 [==============================] - 0s 30ms/step - loss: 0.0068 - mae: 0.0873 - lr: 5.0119e-04\n",
            "Epoch 76/100\n",
            "10/10 [==============================] - 0s 32ms/step - loss: 0.0066 - mae: 0.0861 - lr: 5.6234e-04\n",
            "Epoch 77/100\n",
            "10/10 [==============================] - 0s 31ms/step - loss: 0.0064 - mae: 0.0850 - lr: 6.3096e-04\n",
            "Epoch 78/100\n",
            "10/10 [==============================] - 0s 31ms/step - loss: 0.0062 - mae: 0.0841 - lr: 7.0795e-04\n",
            "Epoch 79/100\n",
            "10/10 [==============================] - 1s 35ms/step - loss: 0.0061 - mae: 0.0830 - lr: 7.9433e-04\n",
            "Epoch 80/100\n",
            "10/10 [==============================] - 0s 33ms/step - loss: 0.0059 - mae: 0.0824 - lr: 8.9125e-04\n",
            "Epoch 81/100\n",
            "10/10 [==============================] - 0s 34ms/step - loss: 0.0058 - mae: 0.0818 - lr: 0.0010\n",
            "Epoch 82/100\n",
            "10/10 [==============================] - 0s 32ms/step - loss: 0.0057 - mae: 0.0811 - lr: 0.0011\n",
            "Epoch 83/100\n",
            "10/10 [==============================] - 1s 55ms/step - loss: 0.0055 - mae: 0.0801 - lr: 0.0013\n",
            "Epoch 84/100\n",
            "10/10 [==============================] - 1s 63ms/step - loss: 0.0054 - mae: 0.0791 - lr: 0.0014\n",
            "Epoch 85/100\n",
            "10/10 [==============================] - 1s 38ms/step - loss: 0.0055 - mae: 0.0796 - lr: 0.0016\n",
            "Epoch 86/100\n",
            "10/10 [==============================] - 1s 66ms/step - loss: 0.0052 - mae: 0.0779 - lr: 0.0018\n",
            "Epoch 87/100\n",
            "10/10 [==============================] - 1s 74ms/step - loss: 0.0048 - mae: 0.0747 - lr: 0.0020\n",
            "Epoch 88/100\n",
            "10/10 [==============================] - 1s 31ms/step - loss: 0.0045 - mae: 0.0716 - lr: 0.0022\n",
            "Epoch 89/100\n",
            "10/10 [==============================] - 0s 32ms/step - loss: 0.0055 - mae: 0.0798 - lr: 0.0025\n",
            "Epoch 90/100\n",
            "10/10 [==============================] - 0s 32ms/step - loss: 0.0048 - mae: 0.0741 - lr: 0.0028\n",
            "Epoch 91/100\n",
            "10/10 [==============================] - 0s 32ms/step - loss: 0.0045 - mae: 0.0715 - lr: 0.0032\n",
            "Epoch 92/100\n",
            "10/10 [==============================] - 0s 32ms/step - loss: 0.0044 - mae: 0.0698 - lr: 0.0035\n",
            "Epoch 93/100\n",
            "10/10 [==============================] - 0s 31ms/step - loss: 0.0043 - mae: 0.0691 - lr: 0.0040\n",
            "Epoch 94/100\n",
            "10/10 [==============================] - 0s 30ms/step - loss: 0.0042 - mae: 0.0686 - lr: 0.0045\n",
            "Epoch 95/100\n",
            "10/10 [==============================] - 1s 31ms/step - loss: 0.0042 - mae: 0.0685 - lr: 0.0050\n",
            "Epoch 96/100\n",
            "10/10 [==============================] - 0s 33ms/step - loss: 0.0042 - mae: 0.0681 - lr: 0.0056\n",
            "Epoch 97/100\n",
            "10/10 [==============================] - 0s 33ms/step - loss: 0.0042 - mae: 0.0679 - lr: 0.0063\n",
            "Epoch 98/100\n",
            "10/10 [==============================] - 0s 32ms/step - loss: 0.0041 - mae: 0.0678 - lr: 0.0071\n",
            "Epoch 99/100\n",
            "10/10 [==============================] - 0s 32ms/step - loss: 0.0041 - mae: 0.0677 - lr: 0.0079\n",
            "Epoch 100/100\n",
            "10/10 [==============================] - 0s 30ms/step - loss: 0.0042 - mae: 0.0681 - lr: 0.0089\n"
          ]
        }
      ]
    },
    {
      "cell_type": "code",
      "source": [
        "plt.figure(figsize=(10,6))\n",
        "plt.semilogx(hist.history[\"lr\"], hist.history[\"loss\"])\n",
        "plt.axis([1e-7, 1e-1, -2, 2])\n",
        "plt.show()"
      ],
      "metadata": {
        "colab": {
          "base_uri": "https://localhost:8080/",
          "height": 382
        },
        "id": "fNOdsFS5YtsL",
        "outputId": "11786ef3-879d-4680-b845-3351bc67434c"
      },
      "execution_count": 37,
      "outputs": [
        {
          "output_type": "display_data",
          "data": {
            "text/plain": [
              "<Figure size 720x432 with 1 Axes>"
            ],
            "image/png": "[encoded data removed]"
          },
          "metadata": {
            "needs_background": "light"
          }
        }
      ]
    },
    {
      "cell_type": "markdown",
      "source": [
        "### Create fixed model"
      ],
      "metadata": {
        "id": "4PV2GNEeY-11"
      }
    },
    {
      "cell_type": "code",
      "source": [
        "def create_model_fix():\n",
        "  model = tf.keras.Sequential()\n",
        "\n",
        "  model.add(tf.keras.layers.Conv1D(filters=60, kernel_size=5,\n",
        "                      strides=1, padding=\"causal\",\n",
        "                      activation=\"relu\",\n",
        "                      input_shape=[None, 1]))\n",
        "  model.add(tf.keras.layers.LSTM(64, return_sequences=True))\n",
        "  model.add(tf.keras.layers.LSTM(64, return_sequences=True))\n",
        "  model.add(tf.keras.layers.Dense(10, activation='relu'))\n",
        "  model.add(tf.keras.layers.Dense(10, activation='relu'))\n",
        "  model.add(tf.keras.layers.Dense(1))\n",
        "\n",
        "  model.compile(\n",
        "        optimizer= tf.keras.optimizers.Adam(learning_rate=1e-1),\n",
        "        loss=tf.keras.losses.Huber(),\n",
        "        metrics=[\"mae\"])\n",
        "  \n",
        "  return model"
      ],
      "metadata": {
        "id": "OCW1m4RMZPfe"
      },
      "execution_count": 38,
      "outputs": []
    },
    {
      "cell_type": "code",
      "source": [
        "model = create_model_fix()\n",
        "print(f\"Model : {model}\")"
      ],
      "metadata": {
        "colab": {
          "base_uri": "https://localhost:8080/"
        },
        "id": "tcFBFEU3ZRX9",
        "outputId": "fbbbead2-a533-407c-c49d-90296501cca0"
      },
      "execution_count": 39,
      "outputs": [
        {
          "output_type": "stream",
          "name": "stdout",
          "text": [
            "Model : <keras.engine.sequential.Sequential object at 0x7f2455345390>\n"
          ]
        }
      ]
    },
    {
      "cell_type": "code",
      "source": [
        "hist = model.fit(train_set ,epochs=100, callbacks=[custom_callback])"
      ],
      "metadata": {
        "colab": {
          "base_uri": "https://localhost:8080/"
        },
        "id": "oJU164l_ZUht",
        "outputId": "85e2b3b1-7ac6-4a91-8242-bda4bf81c1f4"
      },
      "execution_count": 40,
      "outputs": [
        {
          "output_type": "stream",
          "name": "stdout",
          "text": [
            "Epoch 1/100\n",
            "10/10 [==============================] - 4s 25ms/step - loss: 0.3762 - mae: 0.6446\n",
            "Epoch 2/100\n",
            " 8/10 [=======================>......] - ETA: 0s - loss: 0.0199 - mae: 0.1535\n",
            "Training MAE was < 20.0%, stop training...\n",
            "10/10 [==============================] - 0s 31ms/step - loss: 0.0185 - mae: 0.1470\n"
          ]
        }
      ]
    },
    {
      "cell_type": "markdown",
      "source": [
        "# PROBLEM C5\n",
        "\n",
        "- Build and train a neural network model using the Daily Min Temperature.csv dataset.\n",
        "- Use MAE as the metrics of your neural network model.\n",
        "- We provided code for normalizing the data. Please do not change the code.\n",
        "- Do not use lambda layers in your model.\n",
        "\n",
        "- The dataset used in this problem is downloaded from https://github.com/jbrownlee/Datasets\n",
        "\n",
        "- Desired `MAE < 0.19` on the normalized dataset."
      ],
      "metadata": {
        "id": "25u6vo1PaPmu"
      }
    },
    {
      "cell_type": "markdown",
      "source": [
        "### Prepare Data"
      ],
      "metadata": {
        "id": "LEfElxTgaj_n"
      }
    },
    {
      "cell_type": "code",
      "source": [
        "data_url = 'https://raw.githubusercontent.com/jbrownlee/Datasets/master/daily-min-temperatures.csv'\n",
        "name_file = 'daily-min-temperatures.csv'\n",
        "\n",
        "if os.path.isfile(name_file) == False:\n",
        "  urllib.request.urlretrieve(data_url, name_file)\n",
        "  print(f'{name_file} Downloaded')\n",
        "else:\n",
        "  print(f'{name_file} Already exist')"
      ],
      "metadata": {
        "colab": {
          "base_uri": "https://localhost:8080/"
        },
        "id": "yRBR4lF6aJgu",
        "outputId": "0e5cbd7e-a6da-4f44-a82a-a72bd0809c07"
      },
      "execution_count": 41,
      "outputs": [
        {
          "output_type": "stream",
          "name": "stdout",
          "text": [
            "daily-min-temperatures.csv Downloaded\n"
          ]
        }
      ]
    },
    {
      "cell_type": "markdown",
      "source": [
        "### Analysis Data with Pandas"
      ],
      "metadata": {
        "id": "hDbFz0NNauPW"
      }
    },
    {
      "cell_type": "code",
      "source": [
        "df = pd.read_csv(name_file)\n",
        "df.head()"
      ],
      "metadata": {
        "colab": {
          "base_uri": "https://localhost:8080/",
          "height": 206
        },
        "id": "Zrijk4Byayu3",
        "outputId": "a5c65303-b4a7-4c74-85b1-edb933cadfec"
      },
      "execution_count": 42,
      "outputs": [
        {
          "output_type": "execute_result",
          "data": {
            "text/plain": [
              "         Date  Temp\n",
              "0  1981-01-01  20.7\n",
              "1  1981-01-02  17.9\n",
              "2  1981-01-03  18.8\n",
              "3  1981-01-04  14.6\n",
              "4  1981-01-05  15.8"
            ],
            "text/html": [
              "\n",
              "  <div id=\"df-8042bc78-d52d-4c0c-aac5-9cfc016c5b7e\">\n",
              "    <div class=\"colab-df-container\">\n",
              "      <div>\n",
              "<style scoped>\n",
              "    .dataframe tbody tr th:only-of-type {\n",
              "        vertical-align: middle;\n",
              "    }\n",
              "\n",
              "    .dataframe tbody tr th {\n",
              "        vertical-align: top;\n",
              "    }\n",
              "\n",
              "    .dataframe thead th {\n",
              "        text-align: right;\n",
              "    }\n",
              "</style>\n",
              "<table border=\"1\" class=\"dataframe\">\n",
              "  <thead>\n",
              "    <tr style=\"text-align: right;\">\n",
              "      <th></th>\n",
              "      <th>Date</th>\n",
              "      <th>Temp</th>\n",
              "    </tr>\n",
              "  </thead>\n",
              "  <tbody>\n",
              "    <tr>\n",
              "      <th>0</th>\n",
              "      <td>1981-01-01</td>\n",
              "      <td>20.7</td>\n",
              "    </tr>\n",
              "    <tr>\n",
              "      <th>1</th>\n",
              "      <td>1981-01-02</td>\n",
              "      <td>17.9</td>\n",
              "    </tr>\n",
              "    <tr>\n",
              "      <th>2</th>\n",
              "      <td>1981-01-03</td>\n",
              "      <td>18.8</td>\n",
              "    </tr>\n",
              "    <tr>\n",
              "      <th>3</th>\n",
              "      <td>1981-01-04</td>\n",
              "      <td>14.6</td>\n",
              "    </tr>\n",
              "    <tr>\n",
              "      <th>4</th>\n",
              "      <td>1981-01-05</td>\n",
              "      <td>15.8</td>\n",
              "    </tr>\n",
              "  </tbody>\n",
              "</table>\n",
              "</div>\n",
              "      <button class=\"colab-df-convert\" onclick=\"convertToInteractive('df-8042bc78-d52d-4c0c-aac5-9cfc016c5b7e')\"\n",
              "              title=\"Convert this dataframe to an interactive table.\"\n",
              "              style=\"display:none;\">\n",
              "        \n",
              "  <svg xmlns=\"http://www.w3.org/2000/svg\" height=\"24px\"viewBox=\"0 0 24 24\"\n",
              "       width=\"24px\">\n",
              "    <path d=\"M0 0h24v24H0V0z\" fill=\"none\"/>\n",
              "    <path d=\"M18.56 5.44l.94 2.06.94-2.06 2.06-.94-2.06-.94-.94-2.06-.94 2.06-2.06.94zm-11 1L8.5 8.5l.94-2.06 2.06-.94-2.06-.94L8.5 2.5l-.94 2.06-2.06.94zm10 10l.94 2.06.94-2.06 2.06-.94-2.06-.94-.94-2.06-.94 2.06-2.06.94z\"/><path d=\"M17.41 7.96l-1.37-1.37c-.4-.4-.92-.59-1.43-.59-.52 0-1.04.2-1.43.59L10.3 9.45l-7.72 7.72c-.78.78-.78 2.05 0 2.83L4 21.41c.39.39.9.59 1.41.59.51 0 1.02-.2 1.41-.59l7.78-7.78 2.81-2.81c.8-.78.8-2.07 0-2.86zM5.41 20L4 18.59l7.72-7.72 1.47 1.35L5.41 20z\"/>\n",
              "  </svg>\n",
              "      </button>\n",
              "      \n",
              "  <style>\n",
              "    .colab-df-container {\n",
              "      display:flex;\n",
              "      flex-wrap:wrap;\n",
              "      gap: 12px;\n",
              "    }\n",
              "\n",
              "    .colab-df-convert {\n",
              "      background-color: #E8F0FE;\n",
              "      border: none;\n",
              "      border-radius: 50%;\n",
              "      cursor: pointer;\n",
              "      display: none;\n",
              "      fill: #1967D2;\n",
              "      height: 32px;\n",
              "      padding: 0 0 0 0;\n",
              "      width: 32px;\n",
              "    }\n",
              "\n",
              "    .colab-df-convert:hover {\n",
              "      background-color: #E2EBFA;\n",
              "      box-shadow: 0px 1px 2px rgba(60, 64, 67, 0.3), 0px 1px 3px 1px rgba(60, 64, 67, 0.15);\n",
              "      fill: #174EA6;\n",
              "    }\n",
              "\n",
              "    [theme=dark] .colab-df-convert {\n",
              "      background-color: #3B4455;\n",
              "      fill: #D2E3FC;\n",
              "    }\n",
              "\n",
              "    [theme=dark] .colab-df-convert:hover {\n",
              "      background-color: #434B5C;\n",
              "      box-shadow: 0px 1px 3px 1px rgba(0, 0, 0, 0.15);\n",
              "      filter: drop-shadow(0px 1px 2px rgba(0, 0, 0, 0.3));\n",
              "      fill: #FFFFFF;\n",
              "    }\n",
              "  </style>\n",
              "\n",
              "      <script>\n",
              "        const buttonEl =\n",
              "          document.querySelector('#df-8042bc78-d52d-4c0c-aac5-9cfc016c5b7e button.colab-df-convert');\n",
              "        buttonEl.style.display =\n",
              "          google.colab.kernel.accessAllowed ? 'block' : 'none';\n",
              "\n",
              "        async function convertToInteractive(key) {\n",
              "          const element = document.querySelector('#df-8042bc78-d52d-4c0c-aac5-9cfc016c5b7e');\n",
              "          const dataTable =\n",
              "            await google.colab.kernel.invokeFunction('convertToInteractive',\n",
              "                                                     [key], {});\n",
              "          if (!dataTable) return;\n",
              "\n",
              "          const docLinkHtml = 'Like what you see? Visit the ' +\n",
              "            '<a target=\"_blank\" href=https://colab.research.google.com/notebooks/data_table.ipynb>data table notebook</a>'\n",
              "            + ' to learn more about interactive tables.';\n",
              "          element.innerHTML = '';\n",
              "          dataTable['output_type'] = 'display_data';\n",
              "          await google.colab.output.renderOutput(dataTable, element);\n",
              "          const docLink = document.createElement('div');\n",
              "          docLink.innerHTML = docLinkHtml;\n",
              "          element.appendChild(docLink);\n",
              "        }\n",
              "      </script>\n",
              "    </div>\n",
              "  </div>\n",
              "  "
            ]
          },
          "metadata": {},
          "execution_count": 42
        }
      ]
    },
    {
      "cell_type": "code",
      "source": [
        "df.columns = ['date', 'temperature']"
      ],
      "metadata": {
        "id": "bvILNDv6azBY"
      },
      "execution_count": 43,
      "outputs": []
    },
    {
      "cell_type": "code",
      "source": [
        "df['date'] = pd.to_datetime(df['date'])\n",
        "df.info()"
      ],
      "metadata": {
        "colab": {
          "base_uri": "https://localhost:8080/"
        },
        "id": "BJLMwgTMa2AX",
        "outputId": "d9fecbba-490f-4b44-c16b-09651204796e"
      },
      "execution_count": 44,
      "outputs": [
        {
          "output_type": "stream",
          "name": "stdout",
          "text": [
            "<class 'pandas.core.frame.DataFrame'>\n",
            "RangeIndex: 3650 entries, 0 to 3649\n",
            "Data columns (total 2 columns):\n",
            " #   Column       Non-Null Count  Dtype         \n",
            "---  ------       --------------  -----         \n",
            " 0   date         3650 non-null   datetime64[ns]\n",
            " 1   temperature  3650 non-null   float64       \n",
            "dtypes: datetime64[ns](1), float64(1)\n",
            "memory usage: 57.2 KB\n"
          ]
        }
      ]
    },
    {
      "cell_type": "code",
      "source": [
        "plt.figure(figsize=(15,10))\n",
        "plt.plot(df['date'], df['temperature'])\n",
        "plt.show()"
      ],
      "metadata": {
        "colab": {
          "base_uri": "https://localhost:8080/",
          "height": 592
        },
        "id": "MzQtthzya49P",
        "outputId": "46c9f4b4-7dc4-420d-bf06-16c675aa9f2c"
      },
      "execution_count": 45,
      "outputs": [
        {
          "output_type": "display_data",
          "data": {
            "text/plain": [
              "<Figure size 1080x720 with 1 Axes>"
            ],
            "image/png": "[encoded data removed]"
          },
          "metadata": {
            "needs_background": "light"
          }
        }
      ]
    },
    {
      "cell_type": "markdown",
      "source": [
        "### Open with Csv module"
      ],
      "metadata": {
        "id": "1C2x2AFzbDVv"
      }
    },
    {
      "cell_type": "code",
      "source": [
        "time_step = []\n",
        "temps = []\n",
        "\n",
        "with open(name_file, 'r') as csvfile:\n",
        "  reader = csv.reader(csvfile, delimiter=',')\n",
        "  next(reader)\n",
        "  step = 0\n",
        "  for row in reader:\n",
        "    temps.append(float(row[1]))\n",
        "    time_step.append(step)\n",
        "    step +=1\n",
        "\n",
        "series = np.array(temps)\n",
        "time = np.array(time_step)"
      ],
      "metadata": {
        "id": "TM0Ibr17bCpI"
      },
      "execution_count": 46,
      "outputs": []
    },
    {
      "cell_type": "markdown",
      "source": [
        "### Normalization Function"
      ],
      "metadata": {
        "id": "H613Or2xbNOP"
      }
    },
    {
      "cell_type": "code",
      "source": [
        "# DO NOT CHANGE THIS CODE\n",
        "min=np.min(series)\n",
        "max=np.max(series)\n",
        "series -= min\n",
        "series /= max"
      ],
      "metadata": {
        "id": "1zaFgukObKXg"
      },
      "execution_count": 47,
      "outputs": []
    },
    {
      "cell_type": "markdown",
      "source": [
        "### Set Params"
      ],
      "metadata": {
        "id": "nRrCjsEvbNm_"
      }
    },
    {
      "cell_type": "code",
      "source": [
        "# DO NOT CHANGE THIS CODE\n",
        "window_size=64\n",
        "batch_size=256\n",
        "shuffle_buffer_size=1000\n",
        "\n",
        "split_time=2500\n",
        "\n",
        "desired_accuracy = 0.19"
      ],
      "metadata": {
        "id": "3hjPzIB1bOLf"
      },
      "execution_count": 48,
      "outputs": []
    },
    {
      "cell_type": "markdown",
      "source": [
        "### Fixed Partition"
      ],
      "metadata": {
        "id": "5qSiGG4gbayo"
      }
    },
    {
      "cell_type": "code",
      "source": [
        "time_train= time[:split_time]\n",
        "x_train= series[:split_time]\n",
        "time_valid= time[split_time:]\n",
        "x_valid= series[split_time:]"
      ],
      "metadata": {
        "id": "Kq8Pa64TbXk7"
      },
      "execution_count": 49,
      "outputs": []
    },
    {
      "cell_type": "markdown",
      "source": [
        "### Windowing Datasets"
      ],
      "metadata": {
        "id": "SCqFfC3JbgLY"
      }
    },
    {
      "cell_type": "code",
      "source": [
        "def windowed_dataset(series, window_size, batch_size, shuffle_buffer):\n",
        "    series = tf.expand_dims(series, axis=-1)\n",
        "    ds = tf.data.Dataset.from_tensor_slices(series)\n",
        "    ds = ds.window(window_size + 1, shift=1, drop_remainder=True)\n",
        "    ds = ds.flat_map(lambda w: w.batch(window_size + 1))\n",
        "    ds = ds.shuffle(shuffle_buffer)\n",
        "    ds = ds.map(lambda w: (w[:-1], w[1:]))\n",
        "    return ds.batch(batch_size).prefetch(1)"
      ],
      "metadata": {
        "id": "1kq-LhaCbf4I"
      },
      "execution_count": 50,
      "outputs": []
    },
    {
      "cell_type": "code",
      "source": [
        "train_set=windowed_dataset(x_train, window_size, batch_size, shuffle_buffer_size)\n",
        "print(train_set)\n",
        "print(x_train.shape)"
      ],
      "metadata": {
        "colab": {
          "base_uri": "https://localhost:8080/"
        },
        "id": "DjeEf6aPbi8A",
        "outputId": "b98dd202-db60-4046-9b02-69f0d80952a2"
      },
      "execution_count": 51,
      "outputs": [
        {
          "output_type": "stream",
          "name": "stdout",
          "text": [
            "<PrefetchDataset element_spec=(TensorSpec(shape=(None, None, 1), dtype=tf.float64, name=None), TensorSpec(shape=(None, None, 1), dtype=tf.float64, name=None))>\n",
            "(2500,)\n"
          ]
        }
      ]
    },
    {
      "cell_type": "markdown",
      "source": [
        "### Create Custom Callbacks"
      ],
      "metadata": {
        "id": "VUeBWHqcbz0p"
      }
    },
    {
      "cell_type": "code",
      "source": [
        "class MyCallback(tf.keras.callbacks.Callback):\n",
        "        def on_epoch_end(self, epochs, logs):\n",
        "            if logs.get('mae') < desired_accuracy:\n",
        "                print(f'\\nTraining MAE was < {desired_accuracy*100}%, stop training...')\n",
        "                self.model.stop_training = True\n",
        "\n",
        "custom_callback = MyCallback()\n",
        "\n",
        "lr_schedule = tf.keras.callbacks.LearningRateScheduler(lambda epoch: 1e-7 * 10**(epoch / 20))"
      ],
      "metadata": {
        "id": "TVGcYbbYb3Jp"
      },
      "execution_count": 52,
      "outputs": []
    },
    {
      "cell_type": "markdown",
      "source": [
        "### Create Model with Learning rate Schedule"
      ],
      "metadata": {
        "id": "uQ5gk_H3cSd7"
      }
    },
    {
      "cell_type": "code",
      "source": [
        "def create_model():\n",
        "  model = tf.keras.Sequential()\n",
        "\n",
        "  model.add(tf.keras.layers.Conv1D(filters=60, kernel_size=5,\n",
        "                      strides=1, padding=\"causal\",\n",
        "                      activation=\"relu\",\n",
        "                      input_shape=[None, 1]))\n",
        "  model.add(tf.keras.layers.LSTM(64, return_sequences=True))\n",
        "  model.add(tf.keras.layers.LSTM(64, return_sequences=True))\n",
        "  model.add(tf.keras.layers.Dense(10, activation='relu'))\n",
        "  model.add(tf.keras.layers.Dense(10, activation='relu'))\n",
        "  model.add(tf.keras.layers.Dense(1))\n",
        "\n",
        "  model.compile(\n",
        "        optimizer= tf.keras.optimizers.Adam(learning_rate=1e-7),\n",
        "        loss=tf.keras.losses.Huber(),\n",
        "        metrics=[\"mae\"])\n",
        "  \n",
        "  return model"
      ],
      "metadata": {
        "id": "IrW3xtvVb5Ej"
      },
      "execution_count": 53,
      "outputs": []
    },
    {
      "cell_type": "code",
      "source": [
        "model = create_model()\n",
        "print(f\"Model : {model}\")"
      ],
      "metadata": {
        "colab": {
          "base_uri": "https://localhost:8080/"
        },
        "id": "N224NXxrb9QK",
        "outputId": "f5bb07fc-2522-4a0f-fa66-f578fb74bb74"
      },
      "execution_count": 54,
      "outputs": [
        {
          "output_type": "stream",
          "name": "stdout",
          "text": [
            "Model : <keras.engine.sequential.Sequential object at 0x7f2455369690>\n"
          ]
        }
      ]
    },
    {
      "cell_type": "code",
      "source": [
        "hist = model.fit(train_set ,epochs=100, callbacks=[lr_schedule])"
      ],
      "metadata": {
        "colab": {
          "base_uri": "https://localhost:8080/"
        },
        "id": "FLhOBgkdcJqR",
        "outputId": "8d4a5f37-c460-42fa-b642-86a7e9801afb"
      },
      "execution_count": 55,
      "outputs": [
        {
          "output_type": "stream",
          "name": "stdout",
          "text": [
            "Epoch 1/100\n",
            "10/10 [==============================] - 3s 25ms/step - loss: 0.0977 - mae: 0.4141 - lr: 1.0000e-07\n",
            "Epoch 2/100\n",
            "10/10 [==============================] - 0s 29ms/step - loss: 0.0976 - mae: 0.4141 - lr: 1.1220e-07\n",
            "Epoch 3/100\n",
            "10/10 [==============================] - 0s 31ms/step - loss: 0.0976 - mae: 0.4140 - lr: 1.2589e-07\n",
            "Epoch 4/100\n",
            "10/10 [==============================] - 0s 28ms/step - loss: 0.0976 - mae: 0.4140 - lr: 1.4125e-07\n",
            "Epoch 5/100\n",
            "10/10 [==============================] - 0s 30ms/step - loss: 0.0976 - mae: 0.4139 - lr: 1.5849e-07\n",
            "Epoch 6/100\n",
            "10/10 [==============================] - 0s 29ms/step - loss: 0.0976 - mae: 0.4139 - lr: 1.7783e-07\n",
            "Epoch 7/100\n",
            "10/10 [==============================] - 0s 31ms/step - loss: 0.0975 - mae: 0.4138 - lr: 1.9953e-07\n",
            "Epoch 8/100\n",
            "10/10 [==============================] - 0s 30ms/step - loss: 0.0975 - mae: 0.4137 - lr: 2.2387e-07\n",
            "Epoch 9/100\n",
            "10/10 [==============================] - 0s 30ms/step - loss: 0.0975 - mae: 0.4136 - lr: 2.5119e-07\n",
            "Epoch 10/100\n",
            "10/10 [==============================] - 0s 30ms/step - loss: 0.0974 - mae: 0.4135 - lr: 2.8184e-07\n",
            "Epoch 11/100\n",
            "10/10 [==============================] - 0s 32ms/step - loss: 0.0974 - mae: 0.4134 - lr: 3.1623e-07\n",
            "Epoch 12/100\n",
            "10/10 [==============================] - 1s 65ms/step - loss: 0.0973 - mae: 0.4133 - lr: 3.5481e-07\n",
            "Epoch 13/100\n",
            "10/10 [==============================] - 1s 32ms/step - loss: 0.0973 - mae: 0.4132 - lr: 3.9811e-07\n",
            "Epoch 14/100\n",
            "10/10 [==============================] - 0s 31ms/step - loss: 0.0972 - mae: 0.4131 - lr: 4.4668e-07\n",
            "Epoch 15/100\n",
            "10/10 [==============================] - 0s 30ms/step - loss: 0.0971 - mae: 0.4129 - lr: 5.0119e-07\n",
            "Epoch 16/100\n",
            "10/10 [==============================] - 0s 32ms/step - loss: 0.0971 - mae: 0.4128 - lr: 5.6234e-07\n",
            "Epoch 17/100\n",
            "10/10 [==============================] - 0s 31ms/step - loss: 0.0970 - mae: 0.4126 - lr: 6.3096e-07\n",
            "Epoch 18/100\n",
            "10/10 [==============================] - 0s 31ms/step - loss: 0.0969 - mae: 0.4124 - lr: 7.0795e-07\n",
            "Epoch 19/100\n",
            "10/10 [==============================] - 0s 29ms/step - loss: 0.0968 - mae: 0.4123 - lr: 7.9433e-07\n",
            "Epoch 20/100\n",
            "10/10 [==============================] - 0s 29ms/step - loss: 0.0968 - mae: 0.4121 - lr: 8.9125e-07\n",
            "Epoch 21/100\n",
            "10/10 [==============================] - 0s 29ms/step - loss: 0.0967 - mae: 0.4119 - lr: 1.0000e-06\n",
            "Epoch 22/100\n",
            "10/10 [==============================] - 0s 29ms/step - loss: 0.0966 - mae: 0.4118 - lr: 1.1220e-06\n",
            "Epoch 23/100\n",
            "10/10 [==============================] - 0s 32ms/step - loss: 0.0965 - mae: 0.4116 - lr: 1.2589e-06\n",
            "Epoch 24/100\n",
            "10/10 [==============================] - 0s 30ms/step - loss: 0.0965 - mae: 0.4115 - lr: 1.4125e-06\n",
            "Epoch 25/100\n",
            "10/10 [==============================] - 0s 30ms/step - loss: 0.0964 - mae: 0.4114 - lr: 1.5849e-06\n",
            "Epoch 26/100\n",
            "10/10 [==============================] - 0s 31ms/step - loss: 0.0964 - mae: 0.4112 - lr: 1.7783e-06\n",
            "Epoch 27/100\n",
            "10/10 [==============================] - 0s 33ms/step - loss: 0.0963 - mae: 0.4111 - lr: 1.9953e-06\n",
            "Epoch 28/100\n",
            "10/10 [==============================] - 1s 65ms/step - loss: 0.0962 - mae: 0.4110 - lr: 2.2387e-06\n",
            "Epoch 29/100\n",
            "10/10 [==============================] - 1s 64ms/step - loss: 0.0962 - mae: 0.4108 - lr: 2.5119e-06\n",
            "Epoch 30/100\n",
            "10/10 [==============================] - 1s 72ms/step - loss: 0.0961 - mae: 0.4107 - lr: 2.8184e-06\n",
            "Epoch 31/100\n",
            "10/10 [==============================] - 1s 47ms/step - loss: 0.0961 - mae: 0.4106 - lr: 3.1623e-06\n",
            "Epoch 32/100\n",
            "10/10 [==============================] - 0s 31ms/step - loss: 0.0960 - mae: 0.4104 - lr: 3.5481e-06\n",
            "Epoch 33/100\n",
            "10/10 [==============================] - 0s 29ms/step - loss: 0.0959 - mae: 0.4103 - lr: 3.9811e-06\n",
            "Epoch 34/100\n",
            "10/10 [==============================] - 0s 32ms/step - loss: 0.0959 - mae: 0.4101 - lr: 4.4668e-06\n",
            "Epoch 35/100\n",
            "10/10 [==============================] - 0s 32ms/step - loss: 0.0958 - mae: 0.4100 - lr: 5.0119e-06\n",
            "Epoch 36/100\n",
            "10/10 [==============================] - 0s 31ms/step - loss: 0.0957 - mae: 0.4098 - lr: 5.6234e-06\n",
            "Epoch 37/100\n",
            "10/10 [==============================] - 0s 30ms/step - loss: 0.0956 - mae: 0.4095 - lr: 6.3096e-06\n",
            "Epoch 38/100\n",
            "10/10 [==============================] - 0s 32ms/step - loss: 0.0955 - mae: 0.4093 - lr: 7.0795e-06\n",
            "Epoch 39/100\n",
            "10/10 [==============================] - 0s 32ms/step - loss: 0.0954 - mae: 0.4090 - lr: 7.9433e-06\n",
            "Epoch 40/100\n",
            "10/10 [==============================] - 0s 31ms/step - loss: 0.0953 - mae: 0.4087 - lr: 8.9125e-06\n",
            "Epoch 41/100\n",
            "10/10 [==============================] - 0s 32ms/step - loss: 0.0952 - mae: 0.4084 - lr: 1.0000e-05\n",
            "Epoch 42/100\n",
            "10/10 [==============================] - 1s 32ms/step - loss: 0.0950 - mae: 0.4080 - lr: 1.1220e-05\n",
            "Epoch 43/100\n",
            "10/10 [==============================] - 0s 30ms/step - loss: 0.0948 - mae: 0.4076 - lr: 1.2589e-05\n",
            "Epoch 44/100\n",
            "10/10 [==============================] - 0s 31ms/step - loss: 0.0946 - mae: 0.4071 - lr: 1.4125e-05\n",
            "Epoch 45/100\n",
            "10/10 [==============================] - 0s 32ms/step - loss: 0.0944 - mae: 0.4066 - lr: 1.5849e-05\n",
            "Epoch 46/100\n",
            "10/10 [==============================] - 0s 31ms/step - loss: 0.0942 - mae: 0.4060 - lr: 1.7783e-05\n",
            "Epoch 47/100\n",
            "10/10 [==============================] - 0s 33ms/step - loss: 0.0939 - mae: 0.4053 - lr: 1.9953e-05\n",
            "Epoch 48/100\n",
            "10/10 [==============================] - 0s 32ms/step - loss: 0.0936 - mae: 0.4045 - lr: 2.2387e-05\n",
            "Epoch 49/100\n",
            "10/10 [==============================] - 0s 31ms/step - loss: 0.0932 - mae: 0.4036 - lr: 2.5119e-05\n",
            "Epoch 50/100\n",
            "10/10 [==============================] - 1s 34ms/step - loss: 0.0928 - mae: 0.4026 - lr: 2.8184e-05\n",
            "Epoch 51/100\n",
            "10/10 [==============================] - 0s 30ms/step - loss: 0.0923 - mae: 0.4014 - lr: 3.1623e-05\n",
            "Epoch 52/100\n",
            "10/10 [==============================] - 1s 34ms/step - loss: 0.0917 - mae: 0.4000 - lr: 3.5481e-05\n",
            "Epoch 53/100\n",
            "10/10 [==============================] - 0s 32ms/step - loss: 0.0910 - mae: 0.3983 - lr: 3.9811e-05\n",
            "Epoch 54/100\n",
            "10/10 [==============================] - 0s 32ms/step - loss: 0.0902 - mae: 0.3963 - lr: 4.4668e-05\n",
            "Epoch 55/100\n",
            "10/10 [==============================] - 0s 32ms/step - loss: 0.0891 - mae: 0.3937 - lr: 5.0119e-05\n",
            "Epoch 56/100\n",
            "10/10 [==============================] - 1s 31ms/step - loss: 0.0877 - mae: 0.3903 - lr: 5.6234e-05\n",
            "Epoch 57/100\n",
            "10/10 [==============================] - 0s 31ms/step - loss: 0.0857 - mae: 0.3853 - lr: 6.3096e-05\n",
            "Epoch 58/100\n",
            "10/10 [==============================] - 0s 29ms/step - loss: 0.0825 - mae: 0.3771 - lr: 7.0795e-05\n",
            "Epoch 59/100\n",
            "10/10 [==============================] - 0s 32ms/step - loss: 0.0757 - mae: 0.3594 - lr: 7.9433e-05\n",
            "Epoch 60/100\n",
            "10/10 [==============================] - 1s 32ms/step - loss: 0.0576 - mae: 0.3047 - lr: 8.9125e-05\n",
            "Epoch 61/100\n",
            "10/10 [==============================] - 0s 31ms/step - loss: 0.0309 - mae: 0.1985 - lr: 1.0000e-04\n",
            "Epoch 62/100\n",
            "10/10 [==============================] - 0s 30ms/step - loss: 0.0218 - mae: 0.1594 - lr: 1.1220e-04\n",
            "Epoch 63/100\n",
            "10/10 [==============================] - 0s 31ms/step - loss: 0.0197 - mae: 0.1511 - lr: 1.2589e-04\n",
            "Epoch 64/100\n",
            "10/10 [==============================] - 0s 31ms/step - loss: 0.0180 - mae: 0.1427 - lr: 1.4125e-04\n",
            "Epoch 65/100\n",
            "10/10 [==============================] - 0s 32ms/step - loss: 0.0165 - mae: 0.1347 - lr: 1.5849e-04\n",
            "Epoch 66/100\n",
            "10/10 [==============================] - 0s 30ms/step - loss: 0.0146 - mae: 0.1244 - lr: 1.7783e-04\n",
            "Epoch 67/100\n",
            "10/10 [==============================] - 0s 31ms/step - loss: 0.0133 - mae: 0.1182 - lr: 1.9953e-04\n",
            "Epoch 68/100\n",
            "10/10 [==============================] - 0s 31ms/step - loss: 0.0124 - mae: 0.1137 - lr: 2.2387e-04\n",
            "Epoch 69/100\n",
            "10/10 [==============================] - 0s 30ms/step - loss: 0.0116 - mae: 0.1104 - lr: 2.5119e-04\n",
            "Epoch 70/100\n",
            "10/10 [==============================] - 0s 31ms/step - loss: 0.0109 - mae: 0.1077 - lr: 2.8184e-04\n",
            "Epoch 71/100\n",
            "10/10 [==============================] - 0s 31ms/step - loss: 0.0103 - mae: 0.1049 - lr: 3.1623e-04\n",
            "Epoch 72/100\n",
            "10/10 [==============================] - 0s 33ms/step - loss: 0.0098 - mae: 0.1029 - lr: 3.5481e-04\n",
            "Epoch 73/100\n",
            "10/10 [==============================] - 0s 32ms/step - loss: 0.0095 - mae: 0.1022 - lr: 3.9811e-04\n",
            "Epoch 74/100\n",
            "10/10 [==============================] - 1s 35ms/step - loss: 0.0090 - mae: 0.0999 - lr: 4.4668e-04\n",
            "Epoch 75/100\n",
            "10/10 [==============================] - 0s 30ms/step - loss: 0.0086 - mae: 0.0977 - lr: 5.0119e-04\n",
            "Epoch 76/100\n",
            "10/10 [==============================] - 0s 32ms/step - loss: 0.0083 - mae: 0.0963 - lr: 5.6234e-04\n",
            "Epoch 77/100\n",
            "10/10 [==============================] - 0s 33ms/step - loss: 0.0081 - mae: 0.0958 - lr: 6.3096e-04\n",
            "Epoch 78/100\n",
            "10/10 [==============================] - 0s 33ms/step - loss: 0.0078 - mae: 0.0937 - lr: 7.0795e-04\n",
            "Epoch 79/100\n",
            "10/10 [==============================] - 0s 32ms/step - loss: 0.0083 - mae: 0.0980 - lr: 7.9433e-04\n",
            "Epoch 80/100\n",
            "10/10 [==============================] - 0s 32ms/step - loss: 0.0075 - mae: 0.0930 - lr: 8.9125e-04\n",
            "Epoch 81/100\n",
            "10/10 [==============================] - 0s 30ms/step - loss: 0.0073 - mae: 0.0918 - lr: 0.0010\n",
            "Epoch 82/100\n",
            "10/10 [==============================] - 0s 31ms/step - loss: 0.0069 - mae: 0.0893 - lr: 0.0011\n",
            "Epoch 83/100\n",
            "10/10 [==============================] - 1s 35ms/step - loss: 0.0067 - mae: 0.0880 - lr: 0.0013\n",
            "Epoch 84/100\n",
            "10/10 [==============================] - 0s 32ms/step - loss: 0.0066 - mae: 0.0877 - lr: 0.0014\n",
            "Epoch 85/100\n",
            "10/10 [==============================] - 1s 39ms/step - loss: 0.0062 - mae: 0.0852 - lr: 0.0016\n",
            "Epoch 86/100\n",
            "10/10 [==============================] - 1s 35ms/step - loss: 0.0121 - mae: 0.1255 - lr: 0.0018\n",
            "Epoch 87/100\n",
            "10/10 [==============================] - 0s 32ms/step - loss: 0.0080 - mae: 0.0985 - lr: 0.0020\n",
            "Epoch 88/100\n",
            "10/10 [==============================] - 1s 33ms/step - loss: 0.0061 - mae: 0.0846 - lr: 0.0022\n",
            "Epoch 89/100\n",
            "10/10 [==============================] - 0s 32ms/step - loss: 0.0056 - mae: 0.0817 - lr: 0.0025\n",
            "Epoch 90/100\n",
            "10/10 [==============================] - 1s 65ms/step - loss: 0.0053 - mae: 0.0791 - lr: 0.0028\n",
            "Epoch 91/100\n",
            "10/10 [==============================] - 1s 68ms/step - loss: 0.0050 - mae: 0.0776 - lr: 0.0032\n",
            "Epoch 92/100\n",
            "10/10 [==============================] - 1s 70ms/step - loss: 0.0048 - mae: 0.0763 - lr: 0.0035\n",
            "Epoch 93/100\n",
            "10/10 [==============================] - 1s 33ms/step - loss: 0.0050 - mae: 0.0781 - lr: 0.0040\n",
            "Epoch 94/100\n",
            "10/10 [==============================] - 0s 32ms/step - loss: 0.0071 - mae: 0.0950 - lr: 0.0045\n",
            "Epoch 95/100\n",
            "10/10 [==============================] - 0s 32ms/step - loss: 0.0064 - mae: 0.0897 - lr: 0.0050\n",
            "Epoch 96/100\n",
            "10/10 [==============================] - 0s 32ms/step - loss: 0.0056 - mae: 0.0838 - lr: 0.0056\n",
            "Epoch 97/100\n",
            "10/10 [==============================] - 1s 34ms/step - loss: 0.0049 - mae: 0.0778 - lr: 0.0063\n",
            "Epoch 98/100\n",
            "10/10 [==============================] - 0s 33ms/step - loss: 0.0046 - mae: 0.0755 - lr: 0.0071\n",
            "Epoch 99/100\n",
            "10/10 [==============================] - 0s 31ms/step - loss: 0.0045 - mae: 0.0743 - lr: 0.0079\n",
            "Epoch 100/100\n",
            "10/10 [==============================] - 0s 33ms/step - loss: 0.0045 - mae: 0.0745 - lr: 0.0089\n"
          ]
        }
      ]
    },
    {
      "cell_type": "code",
      "source": [
        "plt.figure(figsize=(10,6))\n",
        "plt.semilogx(hist.history[\"lr\"], hist.history[\"loss\"])\n",
        "plt.axis([1e-7, 1e-1, -2, 2])\n",
        "plt.show()"
      ],
      "metadata": {
        "colab": {
          "base_uri": "https://localhost:8080/",
          "height": 382
        },
        "id": "PPbe5CDTcGkp",
        "outputId": "a07fb433-a96a-474d-fed8-eb54bb33c02a"
      },
      "execution_count": 56,
      "outputs": [
        {
          "output_type": "display_data",
          "data": {
            "text/plain": [
              "<Figure size 720x432 with 1 Axes>"
            ],
            "image/png": "[encoded data removed]"
          },
          "metadata": {
            "needs_background": "light"
          }
        }
      ]
    },
    {
      "cell_type": "markdown",
      "source": [
        "### Create fixed model"
      ],
      "metadata": {
        "id": "VOL0z6WwcG_y"
      }
    },
    {
      "cell_type": "code",
      "source": [
        "def create_model_fix():\n",
        "  model = tf.keras.Sequential()\n",
        "\n",
        "  model.add(tf.keras.layers.Conv1D(filters=60, kernel_size=5,\n",
        "                      strides=1, padding=\"causal\",\n",
        "                      activation=\"relu\",\n",
        "                      input_shape=[None, 1]))\n",
        "  model.add(tf.keras.layers.LSTM(64, return_sequences=True))\n",
        "  model.add(tf.keras.layers.LSTM(64, return_sequences=True))\n",
        "  model.add(tf.keras.layers.Dense(10, activation='relu'))\n",
        "  model.add(tf.keras.layers.Dense(10, activation='relu'))\n",
        "  model.add(tf.keras.layers.Dense(1))\n",
        "\n",
        "  model.compile(\n",
        "        optimizer= tf.keras.optimizers.Adam(learning_rate=1e-1),\n",
        "        loss=tf.keras.losses.Huber(),\n",
        "        metrics=[\"mae\"])\n",
        "  \n",
        "  return model"
      ],
      "metadata": {
        "id": "NXaGc_5db8h5"
      },
      "execution_count": 57,
      "outputs": []
    },
    {
      "cell_type": "code",
      "source": [
        "model = create_model_fix()\n",
        "print(f\"Model : {model}\")"
      ],
      "metadata": {
        "colab": {
          "base_uri": "https://localhost:8080/"
        },
        "id": "4Lg-Id5jb_75",
        "outputId": "ab268fdc-9f94-4e3c-807a-a154f76952f0"
      },
      "execution_count": 58,
      "outputs": [
        {
          "output_type": "stream",
          "name": "stdout",
          "text": [
            "Model : <keras.engine.sequential.Sequential object at 0x7f245690e750>\n"
          ]
        }
      ]
    },
    {
      "cell_type": "code",
      "source": [
        "hist = model.fit(train_set ,epochs=100, callbacks=[custom_callback])"
      ],
      "metadata": {
        "colab": {
          "base_uri": "https://localhost:8080/"
        },
        "id": "k6kg074FcD5h",
        "outputId": "d94ace78-6524-4bd3-df46-3a1afc6b1a7f"
      },
      "execution_count": 59,
      "outputs": [
        {
          "output_type": "stream",
          "name": "stdout",
          "text": [
            "Epoch 1/100\n",
            "10/10 [==============================] - 4s 26ms/step - loss: 1.4167 - mae: 1.6921\n",
            "Epoch 2/100\n",
            " 9/10 [==========================>...] - ETA: 0s - loss: 0.0137 - mae: 0.1323\n",
            "Training MAE was < 19.0%, stop training...\n",
            "10/10 [==============================] - 0s 33ms/step - loss: 0.0136 - mae: 0.1316\n"
          ]
        }
      ]
    }
  ]
}